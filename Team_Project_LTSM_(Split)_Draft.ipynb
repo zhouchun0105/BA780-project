{
  "nbformat": 4,
  "nbformat_minor": 0,
  "metadata": {
    "colab": {
      "name": "Team Project LTSM (Split)_Draft.ipynb",
      "provenance": [],
      "collapsed_sections": []
    },
    "kernelspec": {
      "name": "python3",
      "display_name": "Python 3"
    },
    "language_info": {
      "name": "python"
    }
  },
  "cells": [
    {
      "cell_type": "markdown",
      "metadata": {
        "id": "I-lSHY9IbTdB"
      },
      "source": [
        "Overview of what is being done:"
      ]
    },
    {
      "cell_type": "markdown",
      "metadata": {
        "id": "helxPs_7SFa0"
      },
      "source": [
        "Import Nesserry Libraries\n"
      ]
    },
    {
      "cell_type": "code",
      "metadata": {
        "id": "EpqI87XSQM3i"
      },
      "source": [
        "import numpy as np\n",
        "import pandas as pd\n",
        "import matplotlib.pyplot as plt\n",
        "import datetime\n"
      ],
      "execution_count": 1,
      "outputs": []
    },
    {
      "cell_type": "markdown",
      "metadata": {
        "id": "Yox7ikKMSR4r"
      },
      "source": [
        "Import Dataset"
      ]
    },
    {
      "cell_type": "code",
      "metadata": {
        "colab": {
          "base_uri": "https://localhost:8080/"
        },
        "id": "ljB_Lh2USyEu",
        "outputId": "107e2426-d7dd-4ea7-b62e-b0e3652c6f5d"
      },
      "source": [
        "from google.colab import drive\n",
        "drive.mount('/content/drive')"
      ],
      "execution_count": 2,
      "outputs": [
        {
          "output_type": "stream",
          "name": "stdout",
          "text": [
            "Mounted at /content/drive\n"
          ]
        }
      ]
    },
    {
      "cell_type": "code",
      "metadata": {
        "id": "TAh1SR4pTeY8"
      },
      "source": [
        "bitcoin=pd.read_csv(\"bitcoin.csv\")\n"
      ],
      "execution_count": 6,
      "outputs": []
    },
    {
      "cell_type": "markdown",
      "metadata": {
        "id": "CYOQ6KcHTLCg"
      },
      "source": [
        "Overall View of Dataset\n"
      ]
    },
    {
      "cell_type": "code",
      "metadata": {
        "colab": {
          "base_uri": "https://localhost:8080/",
          "height": 206
        },
        "id": "E8U57hy6TPMm",
        "outputId": "36b6034c-46ac-4187-a771-6caf173fc705"
      },
      "source": [
        "bitcoin.head(5)"
      ],
      "execution_count": 15,
      "outputs": [
        {
          "output_type": "execute_result",
          "data": {
            "text/html": [
              "<div>\n",
              "<style scoped>\n",
              "    .dataframe tbody tr th:only-of-type {\n",
              "        vertical-align: middle;\n",
              "    }\n",
              "\n",
              "    .dataframe tbody tr th {\n",
              "        vertical-align: top;\n",
              "    }\n",
              "\n",
              "    .dataframe thead th {\n",
              "        text-align: right;\n",
              "    }\n",
              "</style>\n",
              "<table border=\"1\" class=\"dataframe\">\n",
              "  <thead>\n",
              "    <tr style=\"text-align: right;\">\n",
              "      <th></th>\n",
              "      <th>Timestamp</th>\n",
              "      <th>Open</th>\n",
              "      <th>High</th>\n",
              "      <th>Low</th>\n",
              "      <th>Close</th>\n",
              "      <th>Volume_(BTC)</th>\n",
              "      <th>Volume_(Currency)</th>\n",
              "      <th>Weighted_Price</th>\n",
              "    </tr>\n",
              "  </thead>\n",
              "  <tbody>\n",
              "    <tr>\n",
              "      <th>0</th>\n",
              "      <td>1325317920</td>\n",
              "      <td>4.39</td>\n",
              "      <td>4.39</td>\n",
              "      <td>4.39</td>\n",
              "      <td>4.39</td>\n",
              "      <td>0.455581</td>\n",
              "      <td>2.0</td>\n",
              "      <td>4.39</td>\n",
              "    </tr>\n",
              "    <tr>\n",
              "      <th>1</th>\n",
              "      <td>1325317980</td>\n",
              "      <td>NaN</td>\n",
              "      <td>NaN</td>\n",
              "      <td>NaN</td>\n",
              "      <td>NaN</td>\n",
              "      <td>NaN</td>\n",
              "      <td>NaN</td>\n",
              "      <td>NaN</td>\n",
              "    </tr>\n",
              "    <tr>\n",
              "      <th>2</th>\n",
              "      <td>1325318040</td>\n",
              "      <td>NaN</td>\n",
              "      <td>NaN</td>\n",
              "      <td>NaN</td>\n",
              "      <td>NaN</td>\n",
              "      <td>NaN</td>\n",
              "      <td>NaN</td>\n",
              "      <td>NaN</td>\n",
              "    </tr>\n",
              "    <tr>\n",
              "      <th>3</th>\n",
              "      <td>1325318100</td>\n",
              "      <td>NaN</td>\n",
              "      <td>NaN</td>\n",
              "      <td>NaN</td>\n",
              "      <td>NaN</td>\n",
              "      <td>NaN</td>\n",
              "      <td>NaN</td>\n",
              "      <td>NaN</td>\n",
              "    </tr>\n",
              "    <tr>\n",
              "      <th>4</th>\n",
              "      <td>1325318160</td>\n",
              "      <td>NaN</td>\n",
              "      <td>NaN</td>\n",
              "      <td>NaN</td>\n",
              "      <td>NaN</td>\n",
              "      <td>NaN</td>\n",
              "      <td>NaN</td>\n",
              "      <td>NaN</td>\n",
              "    </tr>\n",
              "  </tbody>\n",
              "</table>\n",
              "</div>"
            ],
            "text/plain": [
              "    Timestamp  Open  High  ...  Volume_(BTC)  Volume_(Currency)  Weighted_Price\n",
              "0  1325317920  4.39  4.39  ...      0.455581                2.0            4.39\n",
              "1  1325317980   NaN   NaN  ...           NaN                NaN             NaN\n",
              "2  1325318040   NaN   NaN  ...           NaN                NaN             NaN\n",
              "3  1325318100   NaN   NaN  ...           NaN                NaN             NaN\n",
              "4  1325318160   NaN   NaN  ...           NaN                NaN             NaN\n",
              "\n",
              "[5 rows x 8 columns]"
            ]
          },
          "metadata": {},
          "execution_count": 15
        }
      ]
    },
    {
      "cell_type": "markdown",
      "metadata": {
        "id": "bLYAKjCcUjKW"
      },
      "source": [
        "Clean up the data and use certain variables such as 'High','Low', and Timestamp. Do note that I am using the average of hight and low, thus the values have been added up and divided by 2\n"
      ]
    },
    {
      "cell_type": "code",
      "metadata": {
        "id": "b8S5MPnPUtAB"
      },
      "source": [
        "bitcoin['price'] = (bitcoin['High']+ bitcoin['Low'])/2\n",
        "bitcoin.drop(['Open','Close','Volume_(BTC)','Volume_(Currency)', 'Weighted_Price','High','Low'],axis=1, inplace=True)\n",
        "\n",
        "bitcoin['Timestamp'] = pd.to_datetime(bitcoin['Timestamp'],unit='s')\n",
        "bitcoin = bitcoin.set_index('Timestamp')\n",
        "bitcoin = bitcoin.resample('6H').mean()\n",
        "bitcoin = bitcoin.dropna()\n",
        "\n"
      ],
      "execution_count": 18,
      "outputs": []
    },
    {
      "cell_type": "markdown",
      "metadata": {
        "id": "0zAkbp6hU_8o"
      },
      "source": [
        "View data after unnesserry data has been dropped"
      ]
    },
    {
      "cell_type": "code",
      "metadata": {
        "colab": {
          "base_uri": "https://localhost:8080/",
          "height": 394
        },
        "id": "DBPgrP8zVFJ8",
        "outputId": "5f824bf1-6610-41f4-87f6-52e277b4302c"
      },
      "source": [
        "bitcoin.head(10)"
      ],
      "execution_count": 20,
      "outputs": [
        {
          "output_type": "execute_result",
          "data": {
            "text/html": [
              "<div>\n",
              "<style scoped>\n",
              "    .dataframe tbody tr th:only-of-type {\n",
              "        vertical-align: middle;\n",
              "    }\n",
              "\n",
              "    .dataframe tbody tr th {\n",
              "        vertical-align: top;\n",
              "    }\n",
              "\n",
              "    .dataframe thead th {\n",
              "        text-align: right;\n",
              "    }\n",
              "</style>\n",
              "<table border=\"1\" class=\"dataframe\">\n",
              "  <thead>\n",
              "    <tr style=\"text-align: right;\">\n",
              "      <th></th>\n",
              "      <th>price</th>\n",
              "    </tr>\n",
              "    <tr>\n",
              "      <th>Timestamp</th>\n",
              "      <th></th>\n",
              "    </tr>\n",
              "  </thead>\n",
              "  <tbody>\n",
              "    <tr>\n",
              "      <th>2011-12-31 06:00:00</th>\n",
              "      <td>4.390000</td>\n",
              "    </tr>\n",
              "    <tr>\n",
              "      <th>2011-12-31 12:00:00</th>\n",
              "      <td>4.501667</td>\n",
              "    </tr>\n",
              "    <tr>\n",
              "      <th>2012-01-01 00:00:00</th>\n",
              "      <td>4.580000</td>\n",
              "    </tr>\n",
              "    <tr>\n",
              "      <th>2012-01-01 12:00:00</th>\n",
              "      <td>4.840000</td>\n",
              "    </tr>\n",
              "    <tr>\n",
              "      <th>2012-01-01 18:00:00</th>\n",
              "      <td>5.000000</td>\n",
              "    </tr>\n",
              "    <tr>\n",
              "      <th>2012-01-02 18:00:00</th>\n",
              "      <td>5.000000</td>\n",
              "    </tr>\n",
              "    <tr>\n",
              "      <th>2012-01-03 06:00:00</th>\n",
              "      <td>5.320000</td>\n",
              "    </tr>\n",
              "    <tr>\n",
              "      <th>2012-01-03 12:00:00</th>\n",
              "      <td>5.242857</td>\n",
              "    </tr>\n",
              "    <tr>\n",
              "      <th>2012-01-04 00:00:00</th>\n",
              "      <td>4.930000</td>\n",
              "    </tr>\n",
              "    <tr>\n",
              "      <th>2012-01-04 12:00:00</th>\n",
              "      <td>5.292143</td>\n",
              "    </tr>\n",
              "  </tbody>\n",
              "</table>\n",
              "</div>"
            ],
            "text/plain": [
              "                        price\n",
              "Timestamp                    \n",
              "2011-12-31 06:00:00  4.390000\n",
              "2011-12-31 12:00:00  4.501667\n",
              "2012-01-01 00:00:00  4.580000\n",
              "2012-01-01 12:00:00  4.840000\n",
              "2012-01-01 18:00:00  5.000000\n",
              "2012-01-02 18:00:00  5.000000\n",
              "2012-01-03 06:00:00  5.320000\n",
              "2012-01-03 12:00:00  5.242857\n",
              "2012-01-04 00:00:00  4.930000\n",
              "2012-01-04 12:00:00  5.292143"
            ]
          },
          "metadata": {},
          "execution_count": 20
        }
      ]
    },
    {
      "cell_type": "markdown",
      "metadata": {
        "id": "KBruxK0GVZMt"
      },
      "source": [
        "View of what the data looks like in plt plot"
      ]
    },
    {
      "cell_type": "code",
      "metadata": {
        "colab": {
          "base_uri": "https://localhost:8080/",
          "height": 467
        },
        "id": "dbh1c0ZKVw54",
        "outputId": "44c47936-5649-43fc-b201-638204fe2095"
      },
      "source": [
        "plt.figure(figsize=(20,10))\n",
        "plt.plot(bitcoin)\n",
        "plt.title('Bitcoin price',fontsize=30)\n",
        "plt.xlabel('year',fontsize=20)\n",
        "plt.ylabel('price',fontsize=20)\n",
        "plt.show()"
      ],
      "execution_count": 23,
      "outputs": [
        {
          "output_type": "display_data",
          "data": {
            "image/png": "[encoded data removed]",
            "text/plain": [
              "<Figure size 1440x720 with 1 Axes>"
            ]
          },
          "metadata": {
            "needs_background": "light"
          }
        }
      ]
    },
    {
      "cell_type": "markdown",
      "metadata": {
        "id": "FkINbYedV9_X"
      },
      "source": [
        "Additional Information about the data for better understanding"
      ]
    },
    {
      "cell_type": "code",
      "metadata": {
        "colab": {
          "base_uri": "https://localhost:8080/"
        },
        "id": "1hnWZg9oWGrw",
        "outputId": "cc0f6ad1-db3d-4525-bf16-24ec0d33cd6e"
      },
      "source": [
        "price = bitcoin['price']\n",
        "max_value = price.max()\n",
        "min_value = price.min()\n",
        "avg_value=price.mean()\n",
        "\n",
        "print(max_value, ' is the maximum  price of bitcoin ')\n",
        "print(min_value,  ' is the minimum price of bitcoin')\n",
        "print(avg_value, 'is the average price of bitcoin')\n",
        "\n",
        "## Facing error when trying to see what days were the highest and lowest\n"
      ],
      "execution_count": 35,
      "outputs": [
        {
          "output_type": "stream",
          "name": "stdout",
          "text": [
            "19396.67961111111  is the maximum  price of bitcoin \n",
            "4.263125  is the minimum price of bitcoin\n",
            "3209.308271575947 is the average price of bitcoin\n"
          ]
        }
      ]
    },
    {
      "cell_type": "markdown",
      "metadata": {
        "id": "PezbQ2GLYYDp"
      },
      "source": [
        "Using Scalar to get values in 0's and 1's for price"
      ]
    },
    {
      "cell_type": "code",
      "metadata": {
        "id": "vFdkehRhZNKV"
      },
      "source": [
        "from sklearn.preprocessing import MinMaxScaler\n",
        "from sklearn.model_selection import train_test_split\n",
        "from keras import models, layers\n"
      ],
      "execution_count": 39,
      "outputs": []
    },
    {
      "cell_type": "code",
      "metadata": {
        "id": "T6rr7rQ-YmNb"
      },
      "source": [
        "scaler = MinMaxScaler()\n",
        "price = scaler.fit_transform(np.array(bitcoin['price']).reshape(-1,1))\n",
        "bitcoin['price'] = price\n"
      ],
      "execution_count": 42,
      "outputs": []
    },
    {
      "cell_type": "markdown",
      "metadata": {
        "id": "Rrnw2Jb-aCeL"
      },
      "source": [
        "Testing 1 date based on what done above to check if code works. In this test I will predict price for 1 date based on price of 100 dates."
      ]
    },
    {
      "cell_type": "code",
      "metadata": {
        "colab": {
          "base_uri": "https://localhost:8080/"
        },
        "id": "WgcaJ2bcaI87",
        "outputId": "6a9e062d-3f6c-4ba0-9be3-aa2c8da62349"
      },
      "source": [
        "X_l = []\n",
        "y_l = []\n",
        "Number = len(bitcoin)\n",
        "Dates = 100\n",
        "for i in range(Number-Dates-1):\n",
        "    X_l.append(bitcoin.iloc[i:i+Dates])\n",
        "    y_l.append(bitcoin.iloc[i+Dates])\n",
        "    \n",
        "X = np.array(X_l)\n",
        "y = np.array(y_l)\n",
        "\n",
        "print(X.shape, y.shape)\n",
        "\n",
        "# 12646 is the price for 1 day based on 100 days"
      ],
      "execution_count": 44,
      "outputs": [
        {
          "output_type": "stream",
          "name": "stdout",
          "text": [
            "(12646, 100, 1) (12646, 1)\n"
          ]
        }
      ]
    },
    {
      "cell_type": "markdown",
      "metadata": {
        "id": "toYgbdJkbBS7"
      },
      "source": [
        "Splitting Data into 2 parts\n",
        "\n",
        "Part A will be data from 2012 to 2016\n",
        "\n",
        "Part B will be data from 2017 to 2022\n"
      ]
    },
    {
      "cell_type": "markdown",
      "metadata": {
        "id": "VJ_gqlR-b71X"
      },
      "source": [
        "Part A"
      ]
    },
    {
      "cell_type": "code",
      "metadata": {
        "colab": {
          "base_uri": "https://localhost:8080/",
          "height": 455
        },
        "id": "wG_4eP9KcC8R",
        "outputId": "b8afdb62-a82c-4ed6-bc97-d2e32d634a68"
      },
      "source": [
        "parta=bitcoin.loc[(bitcoin['Timestamp'] <2017-1-1)]"
      ],
      "execution_count": 62,
      "outputs": [
        {
          "output_type": "execute_result",
          "data": {
            "text/html": [
              "<div>\n",
              "<style scoped>\n",
              "    .dataframe tbody tr th:only-of-type {\n",
              "        vertical-align: middle;\n",
              "    }\n",
              "\n",
              "    .dataframe tbody tr th {\n",
              "        vertical-align: top;\n",
              "    }\n",
              "\n",
              "    .dataframe thead th {\n",
              "        text-align: right;\n",
              "    }\n",
              "</style>\n",
              "<table border=\"1\" class=\"dataframe\">\n",
              "  <thead>\n",
              "    <tr style=\"text-align: right;\">\n",
              "      <th></th>\n",
              "      <th>price</th>\n",
              "    </tr>\n",
              "    <tr>\n",
              "      <th>Timestamp</th>\n",
              "      <th></th>\n",
              "    </tr>\n",
              "  </thead>\n",
              "  <tbody>\n",
              "    <tr>\n",
              "      <th>2011-12-31 06:00:00</th>\n",
              "      <td>0.000007</td>\n",
              "    </tr>\n",
              "    <tr>\n",
              "      <th>2011-12-31 12:00:00</th>\n",
              "      <td>0.000012</td>\n",
              "    </tr>\n",
              "    <tr>\n",
              "      <th>2012-01-01 00:00:00</th>\n",
              "      <td>0.000016</td>\n",
              "    </tr>\n",
              "    <tr>\n",
              "      <th>2012-01-01 12:00:00</th>\n",
              "      <td>0.000030</td>\n",
              "    </tr>\n",
              "    <tr>\n",
              "      <th>2012-01-01 18:00:00</th>\n",
              "      <td>0.000038</td>\n",
              "    </tr>\n",
              "    <tr>\n",
              "      <th>...</th>\n",
              "      <td>...</td>\n",
              "    </tr>\n",
              "    <tr>\n",
              "      <th>2020-10-23 18:00:00</th>\n",
              "      <td>0.665627</td>\n",
              "    </tr>\n",
              "    <tr>\n",
              "      <th>2020-10-24 00:00:00</th>\n",
              "      <td>0.668562</td>\n",
              "    </tr>\n",
              "    <tr>\n",
              "      <th>2020-10-24 06:00:00</th>\n",
              "      <td>0.668557</td>\n",
              "    </tr>\n",
              "    <tr>\n",
              "      <th>2020-10-24 12:00:00</th>\n",
              "      <td>0.673451</td>\n",
              "    </tr>\n",
              "    <tr>\n",
              "      <th>2020-10-24 18:00:00</th>\n",
              "      <td>0.675077</td>\n",
              "    </tr>\n",
              "  </tbody>\n",
              "</table>\n",
              "<p>12747 rows × 1 columns</p>\n",
              "</div>"
            ],
            "text/plain": [
              "                        price\n",
              "Timestamp                    \n",
              "2011-12-31 06:00:00  0.000007\n",
              "2011-12-31 12:00:00  0.000012\n",
              "2012-01-01 00:00:00  0.000016\n",
              "2012-01-01 12:00:00  0.000030\n",
              "2012-01-01 18:00:00  0.000038\n",
              "...                       ...\n",
              "2020-10-23 18:00:00  0.665627\n",
              "2020-10-24 00:00:00  0.668562\n",
              "2020-10-24 06:00:00  0.668557\n",
              "2020-10-24 12:00:00  0.673451\n",
              "2020-10-24 18:00:00  0.675077\n",
              "\n",
              "[12747 rows x 1 columns]"
            ]
          },
          "metadata": {},
          "execution_count": 62
        }
      ]
    }
  ]
}