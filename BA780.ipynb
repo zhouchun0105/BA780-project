{
  "nbformat": 4,
  "nbformat_minor": 0,
  "metadata": {
    "colab": {
      "name": "BA780.ipynb",
      "provenance": [],
      "authorship_tag": "ABX9TyM5dxIV7cCFjk2ZcVJSKh/C",
      "include_colab_link": true
    },
    "kernelspec": {
      "name": "python3",
      "display_name": "Python 3"
    },
    "language_info": {
      "name": "python"
    }
  },
  "cells": [
    {
      "cell_type": "markdown",
      "metadata": {
        "id": "view-in-github",
        "colab_type": "text"
      },
      "source": [
        "<a href=\"https://colab.research.google.com/github/zhouchun0105/Bitcoin-Price-and-Movement-Prediction/blob/main/BA780.ipynb\" target=\"_parent\"><img src=\"https://colab.research.google.com/assets/colab-badge.svg\" alt=\"Open In Colab\"/></a>"
      ]
    },
    {
      "cell_type": "markdown",
      "metadata": {
        "id": "fQvOtDi-S5fr"
      },
      "source": [
        "# **Packages**"
      ]
    },
    {
      "cell_type": "code",
      "metadata": {
        "id": "Do4GQZgETD2e"
      },
      "source": [
        "import numpy as np\n",
        "import pandas as pd\n",
        "\n",
        "import matplotlib.pyplot as plt\n",
        "%matplotlib inline\n",
        "import matplotlib.image as mpimg\n",
        "\n",
        "import seaborn as sns\n",
        "sns.set(rc={'figure.figsize':(10,6)})\n",
        "custom_colors = [\"#4e89ae\", \"#c56183\",\"#ed6663\",\"#ffa372\"]\n",
        "\n",
        "import datetime as datetime\n",
        "import tensorflow as tf\n",
        "from keras.models import Sequential\n",
        "from keras.layers import Dense, LSTM, Dropout"
      ],
      "execution_count": 66,
      "outputs": []
    },
    {
      "cell_type": "markdown",
      "metadata": {
        "id": "SuZfEZ4DTA3h"
      },
      "source": [
        "#**Data Cleaning**"
      ]
    },
    {
      "cell_type": "markdown",
      "metadata": {
        "id": "FmhdQ1V4ZgPP"
      },
      "source": [
        "Import Dataset"
      ]
    },
    {
      "cell_type": "code",
      "metadata": {
        "id": "dWIQQ5rpTDLO"
      },
      "source": [
        "df = pd.read_csv(\"bitcoin.csv\") "
      ],
      "execution_count": 53,
      "outputs": []
    },
    {
      "cell_type": "markdown",
      "metadata": {
        "id": "CgaKjQFYZh_e"
      },
      "source": [
        "Modify Timestamp"
      ]
    },
    {
      "cell_type": "code",
      "metadata": {
        "id": "ikHMd44wWVU0"
      },
      "source": [
        "# Change the Timestamp column attribute to datetime\n",
        "df['Timestamp'] = pd.to_datetime(df['Timestamp'],unit='s')\n",
        "# Enable to refer to the row by index \n",
        "df = df.set_index('Timestamp')"
      ],
      "execution_count": 54,
      "outputs": []
    },
    {
      "cell_type": "markdown",
      "metadata": {
        "id": "mF9du4QNkLhb"
      },
      "source": [
        "Spot the missing values"
      ]
    },
    {
      "cell_type": "code",
      "metadata": {
        "id": "-SWH-4nakM8a"
      },
      "source": [
        "missed = pd.DataFrame()\n",
        "missed['column'] = df.columns\n",
        "\n",
        "missed['percent'] = [round(100* df[col].isnull().sum() / len(df), 2) for col in df.columns]\n",
        "missed = missed.sort_values('percent',ascending=False)\n",
        "missed = missed[missed['percent']>0]\n"
      ],
      "execution_count": 60,
      "outputs": []
    },
    {
      "cell_type": "markdown",
      "metadata": {
        "id": "sB7PF9Rrj1C2"
      },
      "source": [
        "Fill in the missing data"
      ]
    },
    {
      "cell_type": "code",
      "metadata": {
        "id": "_NuOPIn2j2dc"
      },
      "source": [
        "def fill_missing(df):\n",
        "    ### function to impute missing values using interpolation ###\n",
        "    df['Open'] = df['Open'].interpolate()\n",
        "    df['Close'] = df['Close'].interpolate()\n",
        "    df['Weighted_Price'] = df['Weighted_Price'].interpolate()\n",
        "    df['Volume_(BTC)'] = df['Volume_(BTC)'].interpolate()\n",
        "    df['Volume_(Currency)'] = df['Volume_(Currency)'].interpolate()\n",
        "    df['High'] = df['High'].interpolate()\n",
        "    df['Low'] = df['Low'].interpolate()\n",
        "    \n",
        "fill_missing(df)"
      ],
      "execution_count": 62,
      "outputs": []
    },
    {
      "cell_type": "markdown",
      "metadata": {
        "id": "pZPj_wNVZlXf"
      },
      "source": [
        "Remove NA rows"
      ]
    },
    {
      "cell_type": "code",
      "metadata": {
        "id": "AwvJyrudZmo7"
      },
      "source": [
        "df = df.dropna()"
      ],
      "execution_count": 44,
      "outputs": []
    },
    {
      "cell_type": "markdown",
      "metadata": {
        "id": "AlBoclatZraX"
      },
      "source": [
        "Add `Price` column by averaging Low and Close"
      ]
    },
    {
      "cell_type": "code",
      "metadata": {
        "id": "GY7K6R7UZ4zJ"
      },
      "source": [
        "df[\"Price\"] = df[[\"Open\",\"High\",\"Low\",\"Close\"]].mean(axis=1)"
      ],
      "execution_count": 45,
      "outputs": []
    },
    {
      "cell_type": "markdown",
      "metadata": {
        "id": "GZDZzcSsZ-EL"
      },
      "source": [
        "Add `Return` Column by calculating the difference from now to previous second's `Price`"
      ]
    },
    {
      "cell_type": "code",
      "metadata": {
        "id": "QhW_OM8jaNZ3",
        "colab": {
          "base_uri": "https://localhost:8080/",
          "height": 296
        },
        "outputId": "9b6e0476-b548-47ac-9c2f-aacad9b9f089"
      },
      "source": [
        "df[\"Return\"] = df[\"Price\"].diff()\n",
        "df[\"Return\"].plot()"
      ],
      "execution_count": 46,
      "outputs": [
        {
          "output_type": "execute_result",
          "data": {
            "text/plain": [
              "<matplotlib.axes._subplots.AxesSubplot at 0x7f63f8ecbb50>"
            ]
          },
          "metadata": {},
          "execution_count": 46
        },
        {
          "output_type": "display_data",
          "data": {
            "image/png": "[encoded data removed]",
            "text/plain": [
              "<Figure size 432x288 with 1 Axes>"
            ]
          },
          "metadata": {
            "needs_background": "light"
          }
        }
      ]
    },
    {
      "cell_type": "markdown",
      "metadata": {
        "id": "_jvZfBUMbuAX"
      },
      "source": [
        "Add `Direction` column showing if bitcoin price is going up or down."
      ]
    },
    {
      "cell_type": "code",
      "metadata": {
        "id": "m-L1jj0Dbq3n"
      },
      "source": [
        "df[\"Direction\"] = pd.Series(df[\"Return\"] > 0)\n",
        "df[\"Direction\"] = \"Down\"\n",
        "df.loc[(df[\"Return\"] > 0), \"Direction\"] = \"Up\""
      ],
      "execution_count": 47,
      "outputs": []
    },
    {
      "cell_type": "markdown",
      "metadata": {
        "id": "vH7A3pQccPaN"
      },
      "source": [
        "Add `Percentage_Return` column to show the perentage return per seconds"
      ]
    },
    {
      "cell_type": "code",
      "metadata": {
        "id": "W1IFdZxLcQBi",
        "outputId": "25dce04a-b6ff-4d13-b886-e473ad214b9a",
        "colab": {
          "base_uri": "https://localhost:8080/",
          "height": 294
        }
      },
      "source": [
        "df[\"Percentage_Return\"] = ((df[\"Return\"].shift(periods=-1))/ (df[\"Price\"])).shift(periods=1)\n",
        "df[\"Percentage_Return\"].plot()"
      ],
      "execution_count": 48,
      "outputs": [
        {
          "output_type": "execute_result",
          "data": {
            "text/plain": [
              "<matplotlib.axes._subplots.AxesSubplot at 0x7f63f8d350d0>"
            ]
          },
          "metadata": {},
          "execution_count": 48
        },
        {
          "output_type": "display_data",
          "data": {
            "image/png": "[encoded data removed]",
            "text/plain": [
              "<Figure size 432x288 with 1 Axes>"
            ]
          },
          "metadata": {
            "needs_background": "light"
          }
        }
      ]
    },
    {
      "cell_type": "markdown",
      "metadata": {
        "id": "eWxNGeaUc5-s"
      },
      "source": [
        "Add Lag1, Lag2, Lag3, Lag4, Lag5 columns as t-1, t-2, t-3, t-4, and t-5 features to predict bitcoin price at t (in seconds)"
      ]
    },
    {
      "cell_type": "code",
      "metadata": {
        "id": "87BOaCnTdGhG",
        "outputId": "714a216b-cbb6-4746-87be-cbcf6d80c759",
        "colab": {
          "base_uri": "https://localhost:8080/",
          "height": 640
        }
      },
      "source": [
        "df[\"Lag1\"]= df[\"Percentage_Return\"].shift(periods=-1)\n",
        "df[\"Lag2\"]= df[\"Percentage_Return\"].shift(periods=-2)\n",
        "df[\"Lag3\"]= df[\"Percentage_Return\"].shift(periods=-3)\n",
        "df[\"Lag4\"]= df[\"Percentage_Return\"].shift(periods=-4)\n",
        "df[\"Lag5\"]= df[\"Percentage_Return\"].shift(periods=-5)\n",
        "df.dropna()"
      ],
      "execution_count": 49,
      "outputs": [
        {
          "output_type": "execute_result",
          "data": {
            "text/html": [
              "<div>\n",
              "<style scoped>\n",
              "    .dataframe tbody tr th:only-of-type {\n",
              "        vertical-align: middle;\n",
              "    }\n",
              "\n",
              "    .dataframe tbody tr th {\n",
              "        vertical-align: top;\n",
              "    }\n",
              "\n",
              "    .dataframe thead th {\n",
              "        text-align: right;\n",
              "    }\n",
              "</style>\n",
              "<table border=\"1\" class=\"dataframe\">\n",
              "  <thead>\n",
              "    <tr style=\"text-align: right;\">\n",
              "      <th></th>\n",
              "      <th>Open</th>\n",
              "      <th>High</th>\n",
              "      <th>Low</th>\n",
              "      <th>Close</th>\n",
              "      <th>Volume_(BTC)</th>\n",
              "      <th>Volume_(Currency)</th>\n",
              "      <th>Weighted_Price</th>\n",
              "      <th>Price</th>\n",
              "      <th>Return</th>\n",
              "      <th>Direction</th>\n",
              "      <th>Percentage_Return</th>\n",
              "      <th>Lag1</th>\n",
              "      <th>Lag2</th>\n",
              "      <th>Lag3</th>\n",
              "      <th>Lag4</th>\n",
              "      <th>Lag5</th>\n",
              "    </tr>\n",
              "    <tr>\n",
              "      <th>Timestamp</th>\n",
              "      <th></th>\n",
              "      <th></th>\n",
              "      <th></th>\n",
              "      <th></th>\n",
              "      <th></th>\n",
              "      <th></th>\n",
              "      <th></th>\n",
              "      <th></th>\n",
              "      <th></th>\n",
              "      <th></th>\n",
              "      <th></th>\n",
              "      <th></th>\n",
              "      <th></th>\n",
              "      <th></th>\n",
              "      <th></th>\n",
              "      <th></th>\n",
              "    </tr>\n",
              "  </thead>\n",
              "  <tbody>\n",
              "    <tr>\n",
              "      <th>2011-12-31 15:50:00</th>\n",
              "      <td>4.39</td>\n",
              "      <td>4.39</td>\n",
              "      <td>4.39</td>\n",
              "      <td>4.39</td>\n",
              "      <td>48.000000</td>\n",
              "      <td>210.720000</td>\n",
              "      <td>4.390000</td>\n",
              "      <td>4.390</td>\n",
              "      <td>0.000</td>\n",
              "      <td>Down</td>\n",
              "      <td>0.000000</td>\n",
              "      <td>0.033030</td>\n",
              "      <td>0.009923</td>\n",
              "      <td>0.000000</td>\n",
              "      <td>0.056769</td>\n",
              "      <td>0.033058</td>\n",
              "    </tr>\n",
              "    <tr>\n",
              "      <th>2011-12-31 16:59:00</th>\n",
              "      <td>4.50</td>\n",
              "      <td>4.57</td>\n",
              "      <td>4.50</td>\n",
              "      <td>4.57</td>\n",
              "      <td>37.862297</td>\n",
              "      <td>171.380338</td>\n",
              "      <td>4.526411</td>\n",
              "      <td>4.535</td>\n",
              "      <td>0.145</td>\n",
              "      <td>Up</td>\n",
              "      <td>0.033030</td>\n",
              "      <td>0.009923</td>\n",
              "      <td>0.000000</td>\n",
              "      <td>0.056769</td>\n",
              "      <td>0.033058</td>\n",
              "      <td>0.000000</td>\n",
              "    </tr>\n",
              "    <tr>\n",
              "      <th>2011-12-31 17:00:00</th>\n",
              "      <td>4.58</td>\n",
              "      <td>4.58</td>\n",
              "      <td>4.58</td>\n",
              "      <td>4.58</td>\n",
              "      <td>9.000000</td>\n",
              "      <td>41.220000</td>\n",
              "      <td>4.580000</td>\n",
              "      <td>4.580</td>\n",
              "      <td>0.045</td>\n",
              "      <td>Up</td>\n",
              "      <td>0.009923</td>\n",
              "      <td>0.000000</td>\n",
              "      <td>0.056769</td>\n",
              "      <td>0.033058</td>\n",
              "      <td>0.000000</td>\n",
              "      <td>0.064000</td>\n",
              "    </tr>\n",
              "    <tr>\n",
              "      <th>2012-01-01 04:16:00</th>\n",
              "      <td>4.58</td>\n",
              "      <td>4.58</td>\n",
              "      <td>4.58</td>\n",
              "      <td>4.58</td>\n",
              "      <td>1.502000</td>\n",
              "      <td>6.879160</td>\n",
              "      <td>4.580000</td>\n",
              "      <td>4.580</td>\n",
              "      <td>0.000</td>\n",
              "      <td>Down</td>\n",
              "      <td>0.000000</td>\n",
              "      <td>0.056769</td>\n",
              "      <td>0.033058</td>\n",
              "      <td>0.000000</td>\n",
              "      <td>0.064000</td>\n",
              "      <td>-0.033835</td>\n",
              "    </tr>\n",
              "    <tr>\n",
              "      <th>2012-01-01 15:28:00</th>\n",
              "      <td>4.84</td>\n",
              "      <td>4.84</td>\n",
              "      <td>4.84</td>\n",
              "      <td>4.84</td>\n",
              "      <td>10.000000</td>\n",
              "      <td>48.400000</td>\n",
              "      <td>4.840000</td>\n",
              "      <td>4.840</td>\n",
              "      <td>0.260</td>\n",
              "      <td>Up</td>\n",
              "      <td>0.056769</td>\n",
              "      <td>0.033058</td>\n",
              "      <td>0.000000</td>\n",
              "      <td>0.064000</td>\n",
              "      <td>-0.033835</td>\n",
              "      <td>0.023346</td>\n",
              "    </tr>\n",
              "    <tr>\n",
              "      <th>...</th>\n",
              "      <td>...</td>\n",
              "      <td>...</td>\n",
              "      <td>...</td>\n",
              "      <td>...</td>\n",
              "      <td>...</td>\n",
              "      <td>...</td>\n",
              "      <td>...</td>\n",
              "      <td>...</td>\n",
              "      <td>...</td>\n",
              "      <td>...</td>\n",
              "      <td>...</td>\n",
              "      <td>...</td>\n",
              "      <td>...</td>\n",
              "      <td>...</td>\n",
              "      <td>...</td>\n",
              "      <td>...</td>\n",
              "    </tr>\n",
              "    <tr>\n",
              "      <th>2013-07-30 07:04:00</th>\n",
              "      <td>93.62</td>\n",
              "      <td>93.62</td>\n",
              "      <td>93.62</td>\n",
              "      <td>93.62</td>\n",
              "      <td>1.240000</td>\n",
              "      <td>116.088800</td>\n",
              "      <td>93.620000</td>\n",
              "      <td>93.620</td>\n",
              "      <td>-0.010</td>\n",
              "      <td>Down</td>\n",
              "      <td>-0.000107</td>\n",
              "      <td>0.003311</td>\n",
              "      <td>-0.002449</td>\n",
              "      <td>0.000000</td>\n",
              "      <td>0.000000</td>\n",
              "      <td>-0.000854</td>\n",
              "    </tr>\n",
              "    <tr>\n",
              "      <th>2013-07-30 07:05:00</th>\n",
              "      <td>93.93</td>\n",
              "      <td>93.93</td>\n",
              "      <td>93.93</td>\n",
              "      <td>93.93</td>\n",
              "      <td>0.125093</td>\n",
              "      <td>11.750000</td>\n",
              "      <td>93.930000</td>\n",
              "      <td>93.930</td>\n",
              "      <td>0.310</td>\n",
              "      <td>Up</td>\n",
              "      <td>0.003311</td>\n",
              "      <td>-0.002449</td>\n",
              "      <td>0.000000</td>\n",
              "      <td>0.000000</td>\n",
              "      <td>-0.000854</td>\n",
              "      <td>0.000855</td>\n",
              "    </tr>\n",
              "    <tr>\n",
              "      <th>2013-07-30 07:14:00</th>\n",
              "      <td>93.70</td>\n",
              "      <td>93.70</td>\n",
              "      <td>93.70</td>\n",
              "      <td>93.70</td>\n",
              "      <td>0.162669</td>\n",
              "      <td>15.242085</td>\n",
              "      <td>93.700000</td>\n",
              "      <td>93.700</td>\n",
              "      <td>-0.230</td>\n",
              "      <td>Down</td>\n",
              "      <td>-0.002449</td>\n",
              "      <td>0.000000</td>\n",
              "      <td>0.000000</td>\n",
              "      <td>-0.000854</td>\n",
              "      <td>0.000855</td>\n",
              "      <td>-0.001387</td>\n",
              "    </tr>\n",
              "    <tr>\n",
              "      <th>2013-07-30 07:18:00</th>\n",
              "      <td>93.70</td>\n",
              "      <td>93.70</td>\n",
              "      <td>93.70</td>\n",
              "      <td>93.70</td>\n",
              "      <td>1.000000</td>\n",
              "      <td>93.700000</td>\n",
              "      <td>93.700000</td>\n",
              "      <td>93.700</td>\n",
              "      <td>0.000</td>\n",
              "      <td>Down</td>\n",
              "      <td>0.000000</td>\n",
              "      <td>0.000000</td>\n",
              "      <td>-0.000854</td>\n",
              "      <td>0.000855</td>\n",
              "      <td>-0.001387</td>\n",
              "      <td>-0.001229</td>\n",
              "    </tr>\n",
              "    <tr>\n",
              "      <th>2013-07-30 07:19:00</th>\n",
              "      <td>93.70</td>\n",
              "      <td>93.70</td>\n",
              "      <td>93.70</td>\n",
              "      <td>93.70</td>\n",
              "      <td>1.211313</td>\n",
              "      <td>113.500000</td>\n",
              "      <td>93.700000</td>\n",
              "      <td>93.700</td>\n",
              "      <td>0.000</td>\n",
              "      <td>Down</td>\n",
              "      <td>0.000000</td>\n",
              "      <td>-0.000854</td>\n",
              "      <td>0.000855</td>\n",
              "      <td>-0.001387</td>\n",
              "      <td>-0.001229</td>\n",
              "      <td>-0.000589</td>\n",
              "    </tr>\n",
              "  </tbody>\n",
              "</table>\n",
              "<p>175466 rows × 16 columns</p>\n",
              "</div>"
            ],
            "text/plain": [
              "                      Open   High    Low  ...      Lag3      Lag4      Lag5\n",
              "Timestamp                                 ...                              \n",
              "2011-12-31 15:50:00   4.39   4.39   4.39  ...  0.000000  0.056769  0.033058\n",
              "2011-12-31 16:59:00   4.50   4.57   4.50  ...  0.056769  0.033058  0.000000\n",
              "2011-12-31 17:00:00   4.58   4.58   4.58  ...  0.033058  0.000000  0.064000\n",
              "2012-01-01 04:16:00   4.58   4.58   4.58  ...  0.000000  0.064000 -0.033835\n",
              "2012-01-01 15:28:00   4.84   4.84   4.84  ...  0.064000 -0.033835  0.023346\n",
              "...                    ...    ...    ...  ...       ...       ...       ...\n",
              "2013-07-30 07:04:00  93.62  93.62  93.62  ...  0.000000  0.000000 -0.000854\n",
              "2013-07-30 07:05:00  93.93  93.93  93.93  ...  0.000000 -0.000854  0.000855\n",
              "2013-07-30 07:14:00  93.70  93.70  93.70  ... -0.000854  0.000855 -0.001387\n",
              "2013-07-30 07:18:00  93.70  93.70  93.70  ...  0.000855 -0.001387 -0.001229\n",
              "2013-07-30 07:19:00  93.70  93.70  93.70  ... -0.001387 -0.001229 -0.000589\n",
              "\n",
              "[175466 rows x 16 columns]"
            ]
          },
          "metadata": {},
          "execution_count": 49
        }
      ]
    },
    {
      "cell_type": "markdown",
      "metadata": {
        "id": "sblblKX4dck4"
      },
      "source": [
        "Cleaned Dataset Display"
      ]
    },
    {
      "cell_type": "code",
      "metadata": {
        "id": "HpE2A5BVXsgX",
        "colab": {
          "base_uri": "https://localhost:8080/"
        },
        "outputId": "9de94c68-9785-47f0-ea40-0a5c2f107e75"
      },
      "source": [
        "df.shape"
      ],
      "execution_count": 50,
      "outputs": [
        {
          "output_type": "execute_result",
          "data": {
            "text/plain": [
              "(175472, 16)"
            ]
          },
          "metadata": {},
          "execution_count": 50
        }
      ]
    },
    {
      "cell_type": "code",
      "metadata": {
        "id": "181eZ6wOXKEY",
        "colab": {
          "base_uri": "https://localhost:8080/",
          "height": 340
        },
        "outputId": "4d4429e0-0900-424b-8fbb-41c35091a1eb"
      },
      "source": [
        "df.head()"
      ],
      "execution_count": 51,
      "outputs": [
        {
          "output_type": "execute_result",
          "data": {
            "text/html": [
              "<div>\n",
              "<style scoped>\n",
              "    .dataframe tbody tr th:only-of-type {\n",
              "        vertical-align: middle;\n",
              "    }\n",
              "\n",
              "    .dataframe tbody tr th {\n",
              "        vertical-align: top;\n",
              "    }\n",
              "\n",
              "    .dataframe thead th {\n",
              "        text-align: right;\n",
              "    }\n",
              "</style>\n",
              "<table border=\"1\" class=\"dataframe\">\n",
              "  <thead>\n",
              "    <tr style=\"text-align: right;\">\n",
              "      <th></th>\n",
              "      <th>Open</th>\n",
              "      <th>High</th>\n",
              "      <th>Low</th>\n",
              "      <th>Close</th>\n",
              "      <th>Volume_(BTC)</th>\n",
              "      <th>Volume_(Currency)</th>\n",
              "      <th>Weighted_Price</th>\n",
              "      <th>Price</th>\n",
              "      <th>Return</th>\n",
              "      <th>Direction</th>\n",
              "      <th>Percentage_Return</th>\n",
              "      <th>Lag1</th>\n",
              "      <th>Lag2</th>\n",
              "      <th>Lag3</th>\n",
              "      <th>Lag4</th>\n",
              "      <th>Lag5</th>\n",
              "    </tr>\n",
              "    <tr>\n",
              "      <th>Timestamp</th>\n",
              "      <th></th>\n",
              "      <th></th>\n",
              "      <th></th>\n",
              "      <th></th>\n",
              "      <th></th>\n",
              "      <th></th>\n",
              "      <th></th>\n",
              "      <th></th>\n",
              "      <th></th>\n",
              "      <th></th>\n",
              "      <th></th>\n",
              "      <th></th>\n",
              "      <th></th>\n",
              "      <th></th>\n",
              "      <th></th>\n",
              "      <th></th>\n",
              "    </tr>\n",
              "  </thead>\n",
              "  <tbody>\n",
              "    <tr>\n",
              "      <th>2011-12-31 07:52:00</th>\n",
              "      <td>4.39</td>\n",
              "      <td>4.39</td>\n",
              "      <td>4.39</td>\n",
              "      <td>4.39</td>\n",
              "      <td>0.455581</td>\n",
              "      <td>2.000000</td>\n",
              "      <td>4.390000</td>\n",
              "      <td>4.390</td>\n",
              "      <td>NaN</td>\n",
              "      <td>Down</td>\n",
              "      <td>NaN</td>\n",
              "      <td>0.000000</td>\n",
              "      <td>0.033030</td>\n",
              "      <td>0.009923</td>\n",
              "      <td>0.000000</td>\n",
              "      <td>0.056769</td>\n",
              "    </tr>\n",
              "    <tr>\n",
              "      <th>2011-12-31 15:50:00</th>\n",
              "      <td>4.39</td>\n",
              "      <td>4.39</td>\n",
              "      <td>4.39</td>\n",
              "      <td>4.39</td>\n",
              "      <td>48.000000</td>\n",
              "      <td>210.720000</td>\n",
              "      <td>4.390000</td>\n",
              "      <td>4.390</td>\n",
              "      <td>0.000</td>\n",
              "      <td>Down</td>\n",
              "      <td>0.000000</td>\n",
              "      <td>0.033030</td>\n",
              "      <td>0.009923</td>\n",
              "      <td>0.000000</td>\n",
              "      <td>0.056769</td>\n",
              "      <td>0.033058</td>\n",
              "    </tr>\n",
              "    <tr>\n",
              "      <th>2011-12-31 16:59:00</th>\n",
              "      <td>4.50</td>\n",
              "      <td>4.57</td>\n",
              "      <td>4.50</td>\n",
              "      <td>4.57</td>\n",
              "      <td>37.862297</td>\n",
              "      <td>171.380338</td>\n",
              "      <td>4.526411</td>\n",
              "      <td>4.535</td>\n",
              "      <td>0.145</td>\n",
              "      <td>Up</td>\n",
              "      <td>0.033030</td>\n",
              "      <td>0.009923</td>\n",
              "      <td>0.000000</td>\n",
              "      <td>0.056769</td>\n",
              "      <td>0.033058</td>\n",
              "      <td>0.000000</td>\n",
              "    </tr>\n",
              "    <tr>\n",
              "      <th>2011-12-31 17:00:00</th>\n",
              "      <td>4.58</td>\n",
              "      <td>4.58</td>\n",
              "      <td>4.58</td>\n",
              "      <td>4.58</td>\n",
              "      <td>9.000000</td>\n",
              "      <td>41.220000</td>\n",
              "      <td>4.580000</td>\n",
              "      <td>4.580</td>\n",
              "      <td>0.045</td>\n",
              "      <td>Up</td>\n",
              "      <td>0.009923</td>\n",
              "      <td>0.000000</td>\n",
              "      <td>0.056769</td>\n",
              "      <td>0.033058</td>\n",
              "      <td>0.000000</td>\n",
              "      <td>0.064000</td>\n",
              "    </tr>\n",
              "    <tr>\n",
              "      <th>2012-01-01 04:16:00</th>\n",
              "      <td>4.58</td>\n",
              "      <td>4.58</td>\n",
              "      <td>4.58</td>\n",
              "      <td>4.58</td>\n",
              "      <td>1.502000</td>\n",
              "      <td>6.879160</td>\n",
              "      <td>4.580000</td>\n",
              "      <td>4.580</td>\n",
              "      <td>0.000</td>\n",
              "      <td>Down</td>\n",
              "      <td>0.000000</td>\n",
              "      <td>0.056769</td>\n",
              "      <td>0.033058</td>\n",
              "      <td>0.000000</td>\n",
              "      <td>0.064000</td>\n",
              "      <td>-0.033835</td>\n",
              "    </tr>\n",
              "  </tbody>\n",
              "</table>\n",
              "</div>"
            ],
            "text/plain": [
              "                     Open  High   Low  ...      Lag3      Lag4      Lag5\n",
              "Timestamp                              ...                              \n",
              "2011-12-31 07:52:00  4.39  4.39  4.39  ...  0.009923  0.000000  0.056769\n",
              "2011-12-31 15:50:00  4.39  4.39  4.39  ...  0.000000  0.056769  0.033058\n",
              "2011-12-31 16:59:00  4.50  4.57  4.50  ...  0.056769  0.033058  0.000000\n",
              "2011-12-31 17:00:00  4.58  4.58  4.58  ...  0.033058  0.000000  0.064000\n",
              "2012-01-01 04:16:00  4.58  4.58  4.58  ...  0.000000  0.064000 -0.033835\n",
              "\n",
              "[5 rows x 16 columns]"
            ]
          },
          "metadata": {},
          "execution_count": 51
        }
      ]
    },
    {
      "cell_type": "markdown",
      "metadata": {
        "id": "udvKkj9ri4xQ"
      },
      "source": [
        "#**Exploratory Data Analysis**"
      ]
    },
    {
      "cell_type": "code",
      "metadata": {
        "id": "Vw4o3Hxvi7cl"
      },
      "source": [
        "def triple_plot(x, title,c):\n",
        "    fig, ax = plt.subplots(3,1,figsize=(25,10),sharex=True)\n",
        "    sns.distplot(x, ax=ax[0],color=c)\n",
        "    ax[0].set(xlabel=None)\n",
        "    ax[0].set_title('Histogram + KDE')\n",
        "    sns.boxplot(x, ax=ax[1],color=c)\n",
        "    ax[1].set(xlabel=None)\n",
        "    ax[1].set_title('Boxplot')\n",
        "    sns.violinplot(x, ax=ax[2],color=c)\n",
        "    ax[2].set(xlabel=None)\n",
        "    ax[2].set_title('Violin plot')\n",
        "    fig.suptitle(title, fontsize=30)\n",
        "    plt.tight_layout(pad=3.0)\n",
        "    plt.show()"
      ],
      "execution_count": 68,
      "outputs": []
    },
    {
      "cell_type": "code",
      "metadata": {
        "id": "C0w-mibTlsk2",
        "outputId": "80149657-d236-4edc-d2bc-ca5bab63e572",
        "colab": {
          "base_uri": "https://localhost:8080/",
          "height": 593
        }
      },
      "source": [
        "triple_plot(df['Open'],'Distribution of Opening price',custom_colors[0])"
      ],
      "execution_count": 70,
      "outputs": [
        {
          "output_type": "stream",
          "name": "stderr",
          "text": [
            "/usr/local/lib/python3.7/dist-packages/seaborn/distributions.py:2619: FutureWarning: `distplot` is a deprecated function and will be removed in a future version. Please adapt your code to use either `displot` (a figure-level function with similar flexibility) or `histplot` (an axes-level function for histograms).\n",
            "  warnings.warn(msg, FutureWarning)\n",
            "/usr/local/lib/python3.7/dist-packages/seaborn/_decorators.py:43: FutureWarning: Pass the following variable as a keyword arg: x. From version 0.12, the only valid positional argument will be `data`, and passing other arguments without an explicit keyword will result in an error or misinterpretation.\n",
            "  FutureWarning\n",
            "/usr/local/lib/python3.7/dist-packages/seaborn/_decorators.py:43: FutureWarning: Pass the following variable as a keyword arg: x. From version 0.12, the only valid positional argument will be `data`, and passing other arguments without an explicit keyword will result in an error or misinterpretation.\n",
            "  FutureWarning\n"
          ]
        },
        {
          "output_type": "display_data",
          "data": {
            "image/png": "[encoded data removed]",
            "text/plain": [
              "<Figure size 1800x720 with 3 Axes>"
            ]
          },
          "metadata": {}
        }
      ]
    },
    {
      "cell_type": "markdown",
      "metadata": {
        "id": "l9wRmY_zTxC2"
      },
      "source": [
        "# **LSTM Model**"
      ]
    },
    {
      "cell_type": "markdown",
      "metadata": {
        "id": "rxaos00ITzp7"
      },
      "source": [
        "LSTM stands for long short-term memory networks. It is a variety of recurrent neural network (RNN) in the deep learning field. LSTM is effective when predicting sequence of data."
      ]
    },
    {
      "cell_type": "markdown",
      "metadata": {
        "id": "Hfdk69anUlyr"
      },
      "source": [
        "#**References**"
      ]
    },
    {
      "cell_type": "markdown",
      "metadata": {
        "id": "lfZeAU2oUoNG"
      },
      "source": [
        "1. \"Bitcoin Price Prediction with LSTM\". Ansel D'souza. https://www.kaggle.com/anseldsouza/bitcoin-price-prediction-with-lstm"
      ]
    }
  ]
}