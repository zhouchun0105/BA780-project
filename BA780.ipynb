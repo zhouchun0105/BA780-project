{
  "nbformat": 4,
  "nbformat_minor": 0,
  "metadata": {
    "colab": {
      "name": "BA780.ipynb",
      "provenance": [],
      "authorship_tag": "ABX9TyM5dxIV7cCFjk2ZcVJSKh/C",
      "include_colab_link": true
    },
    "kernelspec": {
      "name": "python3",
      "display_name": "Python 3"
    },
    "language_info": {
      "name": "python"
    }
  },
  "cells": [
    {
      "cell_type": "markdown",
      "metadata": {
        "id": "view-in-github",
        "colab_type": "text"
      },
      "source": [
        "<a href=\"https://colab.research.google.com/github/zhouchun0105/Bitcoin-Price-and-Movement-Prediction/blob/main/BA780.ipynb\" target=\"_parent\"><img src=\"https://colab.research.google.com/assets/colab-badge.svg\" alt=\"Open In Colab\"/></a>"
      ]
    },
    {
      "cell_type": "markdown",
      "metadata": {
        "id": "fQvOtDi-S5fr"
      },
      "source": [
        "# **Packages**"
      ]
    },
    {
      "cell_type": "code",
      "metadata": {
        "id": "Do4GQZgETD2e"
      },
      "source": [
        "import numpy as np\n",
        "import pandas as pd\n",
        "\n",
        "import matplotlib.pyplot as plt\n",
        "%matplotlib inline\n",
        "import matplotlib.image as mpimg\n",
        "\n",
        "import seaborn as sns\n",
        "sns.set(rc={'figure.figsize':(10,6)})\n",
        "custom_colors = [\"#4e89ae\", \"#c56183\",\"#ed6663\",\"#ffa372\"]\n",
        "\n",
        "import datetime as datetime\n",
        "import tensorflow as tf\n",
        "from keras.models import Sequential\n",
        "from keras.layers import Dense, LSTM, Dropout"
      ],
      "execution_count": 71,
      "outputs": []
    },
    {
      "cell_type": "markdown",
      "metadata": {
        "id": "SuZfEZ4DTA3h"
      },
      "source": [
        "#**Data Cleaning**"
      ]
    },
    {
      "cell_type": "markdown",
      "metadata": {
        "id": "FmhdQ1V4ZgPP"
      },
      "source": [
        "Import Dataset"
      ]
    },
    {
      "cell_type": "code",
      "metadata": {
        "id": "dWIQQ5rpTDLO"
      },
      "source": [
        "df = pd.read_csv(\"bitcoin.csv\") "
      ],
      "execution_count": 72,
      "outputs": []
    },
    {
      "cell_type": "markdown",
      "metadata": {
        "id": "CgaKjQFYZh_e"
      },
      "source": [
        "Modify Timestamp"
      ]
    },
    {
      "cell_type": "code",
      "metadata": {
        "id": "ikHMd44wWVU0"
      },
      "source": [
        "# Change the Timestamp column attribute to datetime\n",
        "df['Timestamp'] = pd.to_datetime(df['Timestamp'],unit='s')\n",
        "# Enable to refer to the row by index \n",
        "df = df.set_index('Timestamp')"
      ],
      "execution_count": 73,
      "outputs": []
    },
    {
      "cell_type": "markdown",
      "metadata": {
        "id": "mF9du4QNkLhb"
      },
      "source": [
        "Spot the missing values"
      ]
    },
    {
      "cell_type": "code",
      "metadata": {
        "id": "-SWH-4nakM8a"
      },
      "source": [
        "missed = pd.DataFrame()\n",
        "missed['column'] = df.columns\n",
        "\n",
        "missed['percent'] = [round(100* df[col].isnull().sum() / len(df), 2) for col in df.columns]\n",
        "missed = missed.sort_values('percent',ascending=False)\n",
        "missed = missed[missed['percent']>0]\n"
      ],
      "execution_count": 74,
      "outputs": []
    },
    {
      "cell_type": "markdown",
      "metadata": {
        "id": "sB7PF9Rrj1C2"
      },
      "source": [
        "Fill in the missing data"
      ]
    },
    {
      "cell_type": "code",
      "metadata": {
        "id": "_NuOPIn2j2dc"
      },
      "source": [
        "def fill_missing(df):\n",
        "    ### function to impute missing values using interpolation ###\n",
        "    df['Open'] = df['Open'].interpolate()\n",
        "    df['Close'] = df['Close'].interpolate()\n",
        "    df['Weighted_Price'] = df['Weighted_Price'].interpolate()\n",
        "    df['Volume_(BTC)'] = df['Volume_(BTC)'].interpolate()\n",
        "    df['Volume_(Currency)'] = df['Volume_(Currency)'].interpolate()\n",
        "    df['High'] = df['High'].interpolate()\n",
        "    df['Low'] = df['Low'].interpolate()\n",
        "    \n",
        "fill_missing(df)"
      ],
      "execution_count": 75,
      "outputs": []
    },
    {
      "cell_type": "markdown",
      "metadata": {
        "id": "pZPj_wNVZlXf"
      },
      "source": [
        "Remove NA rows"
      ]
    },
    {
      "cell_type": "code",
      "metadata": {
        "id": "AwvJyrudZmo7"
      },
      "source": [
        "df = df.dropna()"
      ],
      "execution_count": 80,
      "outputs": []
    },
    {
      "cell_type": "markdown",
      "metadata": {
        "id": "AlBoclatZraX"
      },
      "source": [
        "Add `Price` column by averaging Low and Close"
      ]
    },
    {
      "cell_type": "code",
      "metadata": {
        "id": "GY7K6R7UZ4zJ"
      },
      "source": [
        "df[\"Price\"] = df[[\"Open\",\"High\",\"Low\",\"Close\"]].mean(axis=1)"
      ],
      "execution_count": 81,
      "outputs": []
    },
    {
      "cell_type": "markdown",
      "metadata": {
        "id": "GZDZzcSsZ-EL"
      },
      "source": [
        "Add `Return` Column by calculating the difference from now to previous second's `Price`"
      ]
    },
    {
      "cell_type": "code",
      "metadata": {
        "id": "QhW_OM8jaNZ3",
        "colab": {
          "base_uri": "https://localhost:8080/",
          "height": 422
        },
        "outputId": "d3f86757-e176-4b01-e0d1-dffd51359eab"
      },
      "source": [
        "df[\"Return\"] = df[\"Price\"].diff()\n",
        "df[\"Return\"].plot()"
      ],
      "execution_count": 82,
      "outputs": [
        {
          "output_type": "execute_result",
          "data": {
            "text/plain": [
              "<matplotlib.axes._subplots.AxesSubplot at 0x7f63ffffb890>"
            ]
          },
          "metadata": {},
          "execution_count": 82
        },
        {
          "output_type": "display_data",
          "data": {
            "image/png": "[encoded data removed]",
            "text/plain": [
              "<Figure size 720x432 with 1 Axes>"
            ]
          },
          "metadata": {}
        }
      ]
    },
    {
      "cell_type": "markdown",
      "metadata": {
        "id": "_jvZfBUMbuAX"
      },
      "source": [
        "Add `Direction` column showing if bitcoin price is going up or down."
      ]
    },
    {
      "cell_type": "code",
      "metadata": {
        "id": "m-L1jj0Dbq3n"
      },
      "source": [
        "df[\"Direction\"] = pd.Series(df[\"Return\"] > 0)\n",
        "df[\"Direction\"] = \"Down\"\n",
        "df.loc[(df[\"Return\"] > 0), \"Direction\"] = \"Up\""
      ],
      "execution_count": 83,
      "outputs": []
    },
    {
      "cell_type": "markdown",
      "metadata": {
        "id": "vH7A3pQccPaN"
      },
      "source": [
        "Add `Percentage_Return` column to show the perentage return per seconds"
      ]
    },
    {
      "cell_type": "code",
      "metadata": {
        "id": "W1IFdZxLcQBi",
        "colab": {
          "base_uri": "https://localhost:8080/",
          "height": 422
        },
        "outputId": "21f86ccd-4265-46b4-ca33-d185d728fe83"
      },
      "source": [
        "df[\"Percentage_Return\"] = ((df[\"Return\"].shift(periods=-1))/ (df[\"Price\"])).shift(periods=1)\n",
        "df[\"Percentage_Return\"].plot()"
      ],
      "execution_count": 84,
      "outputs": [
        {
          "output_type": "execute_result",
          "data": {
            "text/plain": [
              "<matplotlib.axes._subplots.AxesSubplot at 0x7f63f1071f10>"
            ]
          },
          "metadata": {},
          "execution_count": 84
        },
        {
          "output_type": "display_data",
          "data": {
            "image/png": "[encoded data removed]",
            "text/plain": [
              "<Figure size 720x432 with 1 Axes>"
            ]
          },
          "metadata": {}
        }
      ]
    },
    {
      "cell_type": "markdown",
      "metadata": {
        "id": "eWxNGeaUc5-s"
      },
      "source": [
        "Add Lag1, Lag2, Lag3, Lag4, Lag5 columns as t-1, t-2, t-3, t-4, and t-5 features to predict bitcoin price at t (in seconds)"
      ]
    },
    {
      "cell_type": "code",
      "metadata": {
        "id": "87BOaCnTdGhG",
        "colab": {
          "base_uri": "https://localhost:8080/",
          "height": 640
        },
        "outputId": "8636768f-c5ae-4759-836c-f94999075140"
      },
      "source": [
        "df[\"Lag1\"]= df[\"Percentage_Return\"].shift(periods=-1)\n",
        "df[\"Lag2\"]= df[\"Percentage_Return\"].shift(periods=-2)\n",
        "df[\"Lag3\"]= df[\"Percentage_Return\"].shift(periods=-3)\n",
        "df[\"Lag4\"]= df[\"Percentage_Return\"].shift(periods=-4)\n",
        "df[\"Lag5\"]= df[\"Percentage_Return\"].shift(periods=-5)\n",
        "df.dropna()"
      ],
      "execution_count": 85,
      "outputs": [
        {
          "output_type": "execute_result",
          "data": {
            "text/html": [
              "<div>\n",
              "<style scoped>\n",
              "    .dataframe tbody tr th:only-of-type {\n",
              "        vertical-align: middle;\n",
              "    }\n",
              "\n",
              "    .dataframe tbody tr th {\n",
              "        vertical-align: top;\n",
              "    }\n",
              "\n",
              "    .dataframe thead th {\n",
              "        text-align: right;\n",
              "    }\n",
              "</style>\n",
              "<table border=\"1\" class=\"dataframe\">\n",
              "  <thead>\n",
              "    <tr style=\"text-align: right;\">\n",
              "      <th></th>\n",
              "      <th>Open</th>\n",
              "      <th>High</th>\n",
              "      <th>Low</th>\n",
              "      <th>Close</th>\n",
              "      <th>Volume_(BTC)</th>\n",
              "      <th>Volume_(Currency)</th>\n",
              "      <th>Weighted_Price</th>\n",
              "      <th>Price</th>\n",
              "      <th>Return</th>\n",
              "      <th>Direction</th>\n",
              "      <th>Percentage_Return</th>\n",
              "      <th>Lag1</th>\n",
              "      <th>Lag2</th>\n",
              "      <th>Lag3</th>\n",
              "      <th>Lag4</th>\n",
              "      <th>Lag5</th>\n",
              "    </tr>\n",
              "    <tr>\n",
              "      <th>Timestamp</th>\n",
              "      <th></th>\n",
              "      <th></th>\n",
              "      <th></th>\n",
              "      <th></th>\n",
              "      <th></th>\n",
              "      <th></th>\n",
              "      <th></th>\n",
              "      <th></th>\n",
              "      <th></th>\n",
              "      <th></th>\n",
              "      <th></th>\n",
              "      <th></th>\n",
              "      <th></th>\n",
              "      <th></th>\n",
              "      <th></th>\n",
              "      <th></th>\n",
              "    </tr>\n",
              "  </thead>\n",
              "  <tbody>\n",
              "    <tr>\n",
              "      <th>2011-12-31 07:53:00</th>\n",
              "      <td>4.390000</td>\n",
              "      <td>4.390000</td>\n",
              "      <td>4.39</td>\n",
              "      <td>4.39</td>\n",
              "      <td>0.555046</td>\n",
              "      <td>2.436653</td>\n",
              "      <td>4.390000</td>\n",
              "      <td>4.390000</td>\n",
              "      <td>0.000000</td>\n",
              "      <td>Down</td>\n",
              "      <td>0.000000</td>\n",
              "      <td>0.000000</td>\n",
              "      <td>0.000000</td>\n",
              "      <td>0.000000</td>\n",
              "      <td>0.000000</td>\n",
              "      <td>0.000000</td>\n",
              "    </tr>\n",
              "    <tr>\n",
              "      <th>2011-12-31 07:54:00</th>\n",
              "      <td>4.390000</td>\n",
              "      <td>4.390000</td>\n",
              "      <td>4.39</td>\n",
              "      <td>4.39</td>\n",
              "      <td>0.654511</td>\n",
              "      <td>2.873305</td>\n",
              "      <td>4.390000</td>\n",
              "      <td>4.390000</td>\n",
              "      <td>0.000000</td>\n",
              "      <td>Down</td>\n",
              "      <td>0.000000</td>\n",
              "      <td>0.000000</td>\n",
              "      <td>0.000000</td>\n",
              "      <td>0.000000</td>\n",
              "      <td>0.000000</td>\n",
              "      <td>0.000000</td>\n",
              "    </tr>\n",
              "    <tr>\n",
              "      <th>2011-12-31 07:55:00</th>\n",
              "      <td>4.390000</td>\n",
              "      <td>4.390000</td>\n",
              "      <td>4.39</td>\n",
              "      <td>4.39</td>\n",
              "      <td>0.753977</td>\n",
              "      <td>3.309958</td>\n",
              "      <td>4.390000</td>\n",
              "      <td>4.390000</td>\n",
              "      <td>0.000000</td>\n",
              "      <td>Down</td>\n",
              "      <td>0.000000</td>\n",
              "      <td>0.000000</td>\n",
              "      <td>0.000000</td>\n",
              "      <td>0.000000</td>\n",
              "      <td>0.000000</td>\n",
              "      <td>0.000000</td>\n",
              "    </tr>\n",
              "    <tr>\n",
              "      <th>2011-12-31 07:56:00</th>\n",
              "      <td>4.390000</td>\n",
              "      <td>4.390000</td>\n",
              "      <td>4.39</td>\n",
              "      <td>4.39</td>\n",
              "      <td>0.853442</td>\n",
              "      <td>3.746611</td>\n",
              "      <td>4.390000</td>\n",
              "      <td>4.390000</td>\n",
              "      <td>0.000000</td>\n",
              "      <td>Down</td>\n",
              "      <td>0.000000</td>\n",
              "      <td>0.000000</td>\n",
              "      <td>0.000000</td>\n",
              "      <td>0.000000</td>\n",
              "      <td>0.000000</td>\n",
              "      <td>0.000000</td>\n",
              "    </tr>\n",
              "    <tr>\n",
              "      <th>2011-12-31 07:57:00</th>\n",
              "      <td>4.390000</td>\n",
              "      <td>4.390000</td>\n",
              "      <td>4.39</td>\n",
              "      <td>4.39</td>\n",
              "      <td>0.952907</td>\n",
              "      <td>4.183264</td>\n",
              "      <td>4.390000</td>\n",
              "      <td>4.390000</td>\n",
              "      <td>0.000000</td>\n",
              "      <td>Down</td>\n",
              "      <td>0.000000</td>\n",
              "      <td>0.000000</td>\n",
              "      <td>0.000000</td>\n",
              "      <td>0.000000</td>\n",
              "      <td>0.000000</td>\n",
              "      <td>0.000000</td>\n",
              "    </tr>\n",
              "    <tr>\n",
              "      <th>...</th>\n",
              "      <td>...</td>\n",
              "      <td>...</td>\n",
              "      <td>...</td>\n",
              "      <td>...</td>\n",
              "      <td>...</td>\n",
              "      <td>...</td>\n",
              "      <td>...</td>\n",
              "      <td>...</td>\n",
              "      <td>...</td>\n",
              "      <td>...</td>\n",
              "      <td>...</td>\n",
              "      <td>...</td>\n",
              "      <td>...</td>\n",
              "      <td>...</td>\n",
              "      <td>...</td>\n",
              "      <td>...</td>\n",
              "    </tr>\n",
              "    <tr>\n",
              "      <th>2013-07-30 07:32:00</th>\n",
              "      <td>93.491667</td>\n",
              "      <td>93.491667</td>\n",
              "      <td>93.40</td>\n",
              "      <td>93.40</td>\n",
              "      <td>8.715000</td>\n",
              "      <td>814.392666</td>\n",
              "      <td>93.441167</td>\n",
              "      <td>93.445833</td>\n",
              "      <td>-0.009167</td>\n",
              "      <td>Down</td>\n",
              "      <td>-0.000098</td>\n",
              "      <td>-0.000098</td>\n",
              "      <td>-0.000098</td>\n",
              "      <td>-0.000098</td>\n",
              "      <td>-0.000098</td>\n",
              "      <td>-0.000098</td>\n",
              "    </tr>\n",
              "    <tr>\n",
              "      <th>2013-07-30 07:33:00</th>\n",
              "      <td>93.473333</td>\n",
              "      <td>93.473333</td>\n",
              "      <td>93.40</td>\n",
              "      <td>93.40</td>\n",
              "      <td>7.430000</td>\n",
              "      <td>694.291333</td>\n",
              "      <td>93.432933</td>\n",
              "      <td>93.436667</td>\n",
              "      <td>-0.009167</td>\n",
              "      <td>Down</td>\n",
              "      <td>-0.000098</td>\n",
              "      <td>-0.000098</td>\n",
              "      <td>-0.000098</td>\n",
              "      <td>-0.000098</td>\n",
              "      <td>-0.000098</td>\n",
              "      <td>0.000000</td>\n",
              "    </tr>\n",
              "    <tr>\n",
              "      <th>2013-07-30 07:34:00</th>\n",
              "      <td>93.455000</td>\n",
              "      <td>93.455000</td>\n",
              "      <td>93.40</td>\n",
              "      <td>93.40</td>\n",
              "      <td>6.145000</td>\n",
              "      <td>574.190000</td>\n",
              "      <td>93.424700</td>\n",
              "      <td>93.427500</td>\n",
              "      <td>-0.009167</td>\n",
              "      <td>Down</td>\n",
              "      <td>-0.000098</td>\n",
              "      <td>-0.000098</td>\n",
              "      <td>-0.000098</td>\n",
              "      <td>-0.000098</td>\n",
              "      <td>0.000000</td>\n",
              "      <td>0.000000</td>\n",
              "    </tr>\n",
              "    <tr>\n",
              "      <th>2013-07-30 07:35:00</th>\n",
              "      <td>93.436667</td>\n",
              "      <td>93.436667</td>\n",
              "      <td>93.40</td>\n",
              "      <td>93.40</td>\n",
              "      <td>4.860000</td>\n",
              "      <td>454.088666</td>\n",
              "      <td>93.416467</td>\n",
              "      <td>93.418333</td>\n",
              "      <td>-0.009167</td>\n",
              "      <td>Down</td>\n",
              "      <td>-0.000098</td>\n",
              "      <td>-0.000098</td>\n",
              "      <td>-0.000098</td>\n",
              "      <td>0.000000</td>\n",
              "      <td>0.000000</td>\n",
              "      <td>0.000000</td>\n",
              "    </tr>\n",
              "    <tr>\n",
              "      <th>2013-07-30 07:36:00</th>\n",
              "      <td>93.418333</td>\n",
              "      <td>93.418333</td>\n",
              "      <td>93.40</td>\n",
              "      <td>93.40</td>\n",
              "      <td>3.575000</td>\n",
              "      <td>333.987333</td>\n",
              "      <td>93.408233</td>\n",
              "      <td>93.409167</td>\n",
              "      <td>-0.009167</td>\n",
              "      <td>Down</td>\n",
              "      <td>-0.000098</td>\n",
              "      <td>-0.000098</td>\n",
              "      <td>0.000000</td>\n",
              "      <td>0.000000</td>\n",
              "      <td>0.000000</td>\n",
              "      <td>0.000000</td>\n",
              "    </tr>\n",
              "  </tbody>\n",
              "</table>\n",
              "<p>830864 rows × 16 columns</p>\n",
              "</div>"
            ],
            "text/plain": [
              "                          Open       High    Low  ...      Lag3      Lag4      Lag5\n",
              "Timestamp                                         ...                              \n",
              "2011-12-31 07:53:00   4.390000   4.390000   4.39  ...  0.000000  0.000000  0.000000\n",
              "2011-12-31 07:54:00   4.390000   4.390000   4.39  ...  0.000000  0.000000  0.000000\n",
              "2011-12-31 07:55:00   4.390000   4.390000   4.39  ...  0.000000  0.000000  0.000000\n",
              "2011-12-31 07:56:00   4.390000   4.390000   4.39  ...  0.000000  0.000000  0.000000\n",
              "2011-12-31 07:57:00   4.390000   4.390000   4.39  ...  0.000000  0.000000  0.000000\n",
              "...                        ...        ...    ...  ...       ...       ...       ...\n",
              "2013-07-30 07:32:00  93.491667  93.491667  93.40  ... -0.000098 -0.000098 -0.000098\n",
              "2013-07-30 07:33:00  93.473333  93.473333  93.40  ... -0.000098 -0.000098  0.000000\n",
              "2013-07-30 07:34:00  93.455000  93.455000  93.40  ... -0.000098  0.000000  0.000000\n",
              "2013-07-30 07:35:00  93.436667  93.436667  93.40  ...  0.000000  0.000000  0.000000\n",
              "2013-07-30 07:36:00  93.418333  93.418333  93.40  ...  0.000000  0.000000  0.000000\n",
              "\n",
              "[830864 rows x 16 columns]"
            ]
          },
          "metadata": {},
          "execution_count": 85
        }
      ]
    },
    {
      "cell_type": "markdown",
      "metadata": {
        "id": "sblblKX4dck4"
      },
      "source": [
        "Cleaned Dataset Display"
      ]
    },
    {
      "cell_type": "code",
      "metadata": {
        "id": "HpE2A5BVXsgX",
        "colab": {
          "base_uri": "https://localhost:8080/"
        },
        "outputId": "db20ebe5-fc9a-4f61-c4df-8ae67d02ad65"
      },
      "source": [
        "df.shape"
      ],
      "execution_count": 86,
      "outputs": [
        {
          "output_type": "execute_result",
          "data": {
            "text/plain": [
              "(830870, 16)"
            ]
          },
          "metadata": {},
          "execution_count": 86
        }
      ]
    },
    {
      "cell_type": "code",
      "metadata": {
        "id": "181eZ6wOXKEY",
        "colab": {
          "base_uri": "https://localhost:8080/",
          "height": 340
        },
        "outputId": "485bfc69-d03e-4f54-b834-aa730f9427d6"
      },
      "source": [
        "df.head()"
      ],
      "execution_count": 87,
      "outputs": [
        {
          "output_type": "execute_result",
          "data": {
            "text/html": [
              "<div>\n",
              "<style scoped>\n",
              "    .dataframe tbody tr th:only-of-type {\n",
              "        vertical-align: middle;\n",
              "    }\n",
              "\n",
              "    .dataframe tbody tr th {\n",
              "        vertical-align: top;\n",
              "    }\n",
              "\n",
              "    .dataframe thead th {\n",
              "        text-align: right;\n",
              "    }\n",
              "</style>\n",
              "<table border=\"1\" class=\"dataframe\">\n",
              "  <thead>\n",
              "    <tr style=\"text-align: right;\">\n",
              "      <th></th>\n",
              "      <th>Open</th>\n",
              "      <th>High</th>\n",
              "      <th>Low</th>\n",
              "      <th>Close</th>\n",
              "      <th>Volume_(BTC)</th>\n",
              "      <th>Volume_(Currency)</th>\n",
              "      <th>Weighted_Price</th>\n",
              "      <th>Price</th>\n",
              "      <th>Return</th>\n",
              "      <th>Direction</th>\n",
              "      <th>Percentage_Return</th>\n",
              "      <th>Lag1</th>\n",
              "      <th>Lag2</th>\n",
              "      <th>Lag3</th>\n",
              "      <th>Lag4</th>\n",
              "      <th>Lag5</th>\n",
              "    </tr>\n",
              "    <tr>\n",
              "      <th>Timestamp</th>\n",
              "      <th></th>\n",
              "      <th></th>\n",
              "      <th></th>\n",
              "      <th></th>\n",
              "      <th></th>\n",
              "      <th></th>\n",
              "      <th></th>\n",
              "      <th></th>\n",
              "      <th></th>\n",
              "      <th></th>\n",
              "      <th></th>\n",
              "      <th></th>\n",
              "      <th></th>\n",
              "      <th></th>\n",
              "      <th></th>\n",
              "      <th></th>\n",
              "    </tr>\n",
              "  </thead>\n",
              "  <tbody>\n",
              "    <tr>\n",
              "      <th>2011-12-31 07:52:00</th>\n",
              "      <td>4.39</td>\n",
              "      <td>4.39</td>\n",
              "      <td>4.39</td>\n",
              "      <td>4.39</td>\n",
              "      <td>0.455581</td>\n",
              "      <td>2.000000</td>\n",
              "      <td>4.39</td>\n",
              "      <td>4.39</td>\n",
              "      <td>NaN</td>\n",
              "      <td>Down</td>\n",
              "      <td>NaN</td>\n",
              "      <td>0.0</td>\n",
              "      <td>0.0</td>\n",
              "      <td>0.0</td>\n",
              "      <td>0.0</td>\n",
              "      <td>0.0</td>\n",
              "    </tr>\n",
              "    <tr>\n",
              "      <th>2011-12-31 07:53:00</th>\n",
              "      <td>4.39</td>\n",
              "      <td>4.39</td>\n",
              "      <td>4.39</td>\n",
              "      <td>4.39</td>\n",
              "      <td>0.555046</td>\n",
              "      <td>2.436653</td>\n",
              "      <td>4.39</td>\n",
              "      <td>4.39</td>\n",
              "      <td>0.0</td>\n",
              "      <td>Down</td>\n",
              "      <td>0.0</td>\n",
              "      <td>0.0</td>\n",
              "      <td>0.0</td>\n",
              "      <td>0.0</td>\n",
              "      <td>0.0</td>\n",
              "      <td>0.0</td>\n",
              "    </tr>\n",
              "    <tr>\n",
              "      <th>2011-12-31 07:54:00</th>\n",
              "      <td>4.39</td>\n",
              "      <td>4.39</td>\n",
              "      <td>4.39</td>\n",
              "      <td>4.39</td>\n",
              "      <td>0.654511</td>\n",
              "      <td>2.873305</td>\n",
              "      <td>4.39</td>\n",
              "      <td>4.39</td>\n",
              "      <td>0.0</td>\n",
              "      <td>Down</td>\n",
              "      <td>0.0</td>\n",
              "      <td>0.0</td>\n",
              "      <td>0.0</td>\n",
              "      <td>0.0</td>\n",
              "      <td>0.0</td>\n",
              "      <td>0.0</td>\n",
              "    </tr>\n",
              "    <tr>\n",
              "      <th>2011-12-31 07:55:00</th>\n",
              "      <td>4.39</td>\n",
              "      <td>4.39</td>\n",
              "      <td>4.39</td>\n",
              "      <td>4.39</td>\n",
              "      <td>0.753977</td>\n",
              "      <td>3.309958</td>\n",
              "      <td>4.39</td>\n",
              "      <td>4.39</td>\n",
              "      <td>0.0</td>\n",
              "      <td>Down</td>\n",
              "      <td>0.0</td>\n",
              "      <td>0.0</td>\n",
              "      <td>0.0</td>\n",
              "      <td>0.0</td>\n",
              "      <td>0.0</td>\n",
              "      <td>0.0</td>\n",
              "    </tr>\n",
              "    <tr>\n",
              "      <th>2011-12-31 07:56:00</th>\n",
              "      <td>4.39</td>\n",
              "      <td>4.39</td>\n",
              "      <td>4.39</td>\n",
              "      <td>4.39</td>\n",
              "      <td>0.853442</td>\n",
              "      <td>3.746611</td>\n",
              "      <td>4.39</td>\n",
              "      <td>4.39</td>\n",
              "      <td>0.0</td>\n",
              "      <td>Down</td>\n",
              "      <td>0.0</td>\n",
              "      <td>0.0</td>\n",
              "      <td>0.0</td>\n",
              "      <td>0.0</td>\n",
              "      <td>0.0</td>\n",
              "      <td>0.0</td>\n",
              "    </tr>\n",
              "  </tbody>\n",
              "</table>\n",
              "</div>"
            ],
            "text/plain": [
              "                     Open  High   Low  Close  ...  Lag2  Lag3  Lag4  Lag5\n",
              "Timestamp                                     ...                        \n",
              "2011-12-31 07:52:00  4.39  4.39  4.39   4.39  ...   0.0   0.0   0.0   0.0\n",
              "2011-12-31 07:53:00  4.39  4.39  4.39   4.39  ...   0.0   0.0   0.0   0.0\n",
              "2011-12-31 07:54:00  4.39  4.39  4.39   4.39  ...   0.0   0.0   0.0   0.0\n",
              "2011-12-31 07:55:00  4.39  4.39  4.39   4.39  ...   0.0   0.0   0.0   0.0\n",
              "2011-12-31 07:56:00  4.39  4.39  4.39   4.39  ...   0.0   0.0   0.0   0.0\n",
              "\n",
              "[5 rows x 16 columns]"
            ]
          },
          "metadata": {},
          "execution_count": 87
        }
      ]
    },
    {
      "cell_type": "markdown",
      "metadata": {
        "id": "udvKkj9ri4xQ"
      },
      "source": [
        "#**Exploratory Data Analysis**"
      ]
    },
    {
      "cell_type": "code",
      "metadata": {
        "id": "Vw4o3Hxvi7cl"
      },
      "source": [
        "def triple_plot(x, title,c):\n",
        "    fig, ax = plt.subplots(3,1,figsize=(25,10),sharex=True)\n",
        "    sns.distplot(x, ax=ax[0],color=c)\n",
        "    ax[0].set(xlabel=None)\n",
        "    ax[0].set_title('Histogram + KDE')\n",
        "    sns.boxplot(x, ax=ax[1],color=c)\n",
        "    ax[1].set(xlabel=None)\n",
        "    ax[1].set_title('Boxplot')\n",
        "    sns.violinplot(x, ax=ax[2],color=c)\n",
        "    ax[2].set(xlabel=None)\n",
        "    ax[2].set_title('Violin plot')\n",
        "    fig.suptitle(title, fontsize=30)\n",
        "    plt.tight_layout(pad=3.0)\n",
        "    plt.show()"
      ],
      "execution_count": 88,
      "outputs": []
    },
    {
      "cell_type": "code",
      "metadata": {
        "colab": {
          "base_uri": "https://localhost:8080/",
          "height": 593
        },
        "id": "C0w-mibTlsk2",
        "outputId": "fb31c51b-5bcf-49cb-b021-f7ce5dcd1382"
      },
      "source": [
        "triple_plot(df['Open'],'Distribution of Opening price',custom_colors[0])"
      ],
      "execution_count": 89,
      "outputs": [
        {
          "output_type": "stream",
          "name": "stderr",
          "text": [
            "/usr/local/lib/python3.7/dist-packages/seaborn/distributions.py:2619: FutureWarning: `distplot` is a deprecated function and will be removed in a future version. Please adapt your code to use either `displot` (a figure-level function with similar flexibility) or `histplot` (an axes-level function for histograms).\n",
            "  warnings.warn(msg, FutureWarning)\n",
            "/usr/local/lib/python3.7/dist-packages/seaborn/_decorators.py:43: FutureWarning: Pass the following variable as a keyword arg: x. From version 0.12, the only valid positional argument will be `data`, and passing other arguments without an explicit keyword will result in an error or misinterpretation.\n",
            "  FutureWarning\n",
            "/usr/local/lib/python3.7/dist-packages/seaborn/_decorators.py:43: FutureWarning: Pass the following variable as a keyword arg: x. From version 0.12, the only valid positional argument will be `data`, and passing other arguments without an explicit keyword will result in an error or misinterpretation.\n",
            "  FutureWarning\n"
          ]
        },
        {
          "output_type": "display_data",
          "data": {
            "image/png": "[encoded data removed]",
            "text/plain": [
              "<Figure size 1800x720 with 3 Axes>"
            ]
          },
          "metadata": {}
        }
      ]
    },
    {
      "cell_type": "markdown",
      "metadata": {
        "id": "l9wRmY_zTxC2"
      },
      "source": [
        "# **LSTM Model**"
      ]
    },
    {
      "cell_type": "markdown",
      "metadata": {
        "id": "rxaos00ITzp7"
      },
      "source": [
        "LSTM stands for long short-term memory networks. It is a variety of recurrent neural network (RNN) in the deep learning field. LSTM is effective when predicting sequence of data."
      ]
    },
    {
      "cell_type": "markdown",
      "metadata": {
        "id": "Hfdk69anUlyr"
      },
      "source": [
        "#**References**"
      ]
    },
    {
      "cell_type": "markdown",
      "metadata": {
        "id": "lfZeAU2oUoNG"
      },
      "source": [
        "1. \"Bitcoin Price Prediction with LSTM\". Ansel D'souza. https://www.kaggle.com/anseldsouza/bitcoin-price-prediction-with-lstm"
      ]
    }
  ]
}