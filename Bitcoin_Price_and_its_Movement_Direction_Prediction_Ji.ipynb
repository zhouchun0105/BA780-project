{
  "nbformat": 4,
  "nbformat_minor": 0,
  "metadata": {
    "colab": {
      "name": "Bitcoin Price and its Movement Direction Prediction_Ji.ipynb",
      "provenance": [],
      "collapsed_sections": [
        "8v9xCs7j5y-Z",
        "bUGMrROa5374"
      ],
      "toc_visible": true,
      "include_colab_link": true
    },
    "kernelspec": {
      "name": "python3",
      "display_name": "Python 3"
    },
    "language_info": {
      "name": "python"
    }
  },
  "cells": [
    {
      "cell_type": "markdown",
      "metadata": {
        "id": "view-in-github",
        "colab_type": "text"
      },
      "source": [
        "<a href=\"https://colab.research.google.com/github/zhouchun0105/Bitcoin-Price-and-Movement-Prediction/blob/main/Bitcoin_Price_and_its_Movement_Direction_Prediction_Ji.ipynb\" target=\"_parent\"><img src=\"https://colab.research.google.com/assets/colab-badge.svg\" alt=\"Open In Colab\"/></a>"
      ]
    },
    {
      "cell_type": "markdown",
      "metadata": {
        "id": "4lyWH9r-6iJE"
      },
      "source": [
        "#**Bitcoin Price and its Movement Direction Prediction**\n",
        "*Using Linear Regression, Logistics Regression, ARIMA, Simple RNN and LSTM Models.*"
      ]
    },
    {
      "cell_type": "markdown",
      "metadata": {
        "id": "vqkNeZRN62CC"
      },
      "source": [
        ""
      ]
    },
    {
      "cell_type": "markdown",
      "metadata": {
        "id": "fQvOtDi-S5fr"
      },
      "source": [
        "# **Packages**"
      ]
    },
    {
      "cell_type": "code",
      "metadata": {
        "id": "Do4GQZgETD2e"
      },
      "source": [
        "import numpy as np\n",
        "import pandas as pd\n",
        "\n",
        "import matplotlib.pyplot as plt\n",
        "%matplotlib inline\n",
        "import matplotlib.image as mpimg\n",
        "\n",
        "import seaborn as sns\n",
        "sns.set(rc={'figure.figsize':(10,6)})\n",
        "custom_colors = [\"#4e89ae\", \"#c56183\",\"#ed6663\",\"#ffa372\"]\n",
        "\n",
        "import datetime as datetime\n",
        "import tensorflow as tf\n",
        "from keras.models import Sequential\n",
        "from keras.layers import Dense, LSTM, Dropout"
      ],
      "execution_count": 3,
      "outputs": []
    },
    {
      "cell_type": "markdown",
      "metadata": {
        "id": "SuZfEZ4DTA3h"
      },
      "source": [
        "#**Data Cleaning**"
      ]
    },
    {
      "cell_type": "markdown",
      "metadata": {
        "id": "FmhdQ1V4ZgPP"
      },
      "source": [
        "Import Dataset"
      ]
    },
    {
      "cell_type": "code",
      "metadata": {
        "colab": {
          "base_uri": "https://localhost:8080/"
        },
        "id": "KUEE1ieTQMcH",
        "outputId": "15cfcefe-abdf-4d60-83dc-0bdd355f0597"
      },
      "source": [
        "from google.colab import drive\n",
        "drive.mount('/content/drive')"
      ],
      "execution_count": 2,
      "outputs": [
        {
          "output_type": "stream",
          "name": "stdout",
          "text": [
            "Mounted at /content/drive\n"
          ]
        }
      ]
    },
    {
      "cell_type": "code",
      "metadata": {
        "id": "dWIQQ5rpTDLO"
      },
      "source": [
        "df = pd.read_csv(\"/content/drive/MyDrive/BA_780/BA780 Team Project/bitcoin.csv\") "
      ],
      "execution_count": 4,
      "outputs": []
    },
    {
      "cell_type": "code",
      "metadata": {
        "colab": {
          "base_uri": "https://localhost:8080/"
        },
        "id": "lTBxrffjCihh",
        "outputId": "8133ea04-7e63-4210-c130-92769d139c5c"
      },
      "source": [
        "df.info()"
      ],
      "execution_count": 5,
      "outputs": [
        {
          "output_type": "stream",
          "name": "stdout",
          "text": [
            "<class 'pandas.core.frame.DataFrame'>\n",
            "RangeIndex: 4857377 entries, 0 to 4857376\n",
            "Data columns (total 8 columns):\n",
            " #   Column             Dtype  \n",
            "---  ------             -----  \n",
            " 0   Timestamp          int64  \n",
            " 1   Open               float64\n",
            " 2   High               float64\n",
            " 3   Low                float64\n",
            " 4   Close              float64\n",
            " 5   Volume_(BTC)       float64\n",
            " 6   Volume_(Currency)  float64\n",
            " 7   Weighted_Price     float64\n",
            "dtypes: float64(7), int64(1)\n",
            "memory usage: 296.5 MB\n"
          ]
        }
      ]
    },
    {
      "cell_type": "markdown",
      "metadata": {
        "id": "CgaKjQFYZh_e"
      },
      "source": [
        "Modify Timestamp"
      ]
    },
    {
      "cell_type": "code",
      "metadata": {
        "id": "ikHMd44wWVU0"
      },
      "source": [
        "# Change the Timestamp column attribute to datetime\n",
        "df['Timestamp'] = pd.to_datetime(df['Timestamp'],unit='s')\n",
        "# Enable to refer to the row by index \n",
        "df = df.set_index('Timestamp')"
      ],
      "execution_count": 6,
      "outputs": []
    },
    {
      "cell_type": "code",
      "metadata": {
        "colab": {
          "base_uri": "https://localhost:8080/"
        },
        "id": "GjdqE-myCmL5",
        "outputId": "91a2cc24-3f4e-43e8-f8ae-afc8d6a75697"
      },
      "source": [
        "df.info()"
      ],
      "execution_count": 7,
      "outputs": [
        {
          "output_type": "stream",
          "name": "stdout",
          "text": [
            "<class 'pandas.core.frame.DataFrame'>\n",
            "DatetimeIndex: 4857377 entries, 2011-12-31 07:52:00 to 2021-03-31 00:00:00\n",
            "Data columns (total 7 columns):\n",
            " #   Column             Dtype  \n",
            "---  ------             -----  \n",
            " 0   Open               float64\n",
            " 1   High               float64\n",
            " 2   Low                float64\n",
            " 3   Close              float64\n",
            " 4   Volume_(BTC)       float64\n",
            " 5   Volume_(Currency)  float64\n",
            " 6   Weighted_Price     float64\n",
            "dtypes: float64(7)\n",
            "memory usage: 296.5 MB\n"
          ]
        }
      ]
    },
    {
      "cell_type": "markdown",
      "metadata": {
        "id": "mF9du4QNkLhb"
      },
      "source": [
        "Spot the missing values"
      ]
    },
    {
      "cell_type": "code",
      "metadata": {
        "id": "-SWH-4nakM8a"
      },
      "source": [
        "missed = pd.DataFrame()\n",
        "missed['column'] = df.columns\n",
        "\n",
        "missed['percent'] = [round(100* df[col].isnull().sum() / len(df), 2) for col in df.columns]\n",
        "missed = missed.sort_values('percent',ascending=False)\n",
        "missed = missed[missed['percent']>0]\n"
      ],
      "execution_count": 8,
      "outputs": []
    },
    {
      "cell_type": "code",
      "metadata": {
        "colab": {
          "base_uri": "https://localhost:8080/",
          "height": 269
        },
        "id": "Zj1h-G79C4Tn",
        "outputId": "c93e75fd-9ea5-4338-9320-3a08ab22ec8e"
      },
      "source": [
        "missed"
      ],
      "execution_count": 9,
      "outputs": [
        {
          "output_type": "execute_result",
          "data": {
            "text/html": [
              "<div>\n",
              "<style scoped>\n",
              "    .dataframe tbody tr th:only-of-type {\n",
              "        vertical-align: middle;\n",
              "    }\n",
              "\n",
              "    .dataframe tbody tr th {\n",
              "        vertical-align: top;\n",
              "    }\n",
              "\n",
              "    .dataframe thead th {\n",
              "        text-align: right;\n",
              "    }\n",
              "</style>\n",
              "<table border=\"1\" class=\"dataframe\">\n",
              "  <thead>\n",
              "    <tr style=\"text-align: right;\">\n",
              "      <th></th>\n",
              "      <th>column</th>\n",
              "      <th>percent</th>\n",
              "    </tr>\n",
              "  </thead>\n",
              "  <tbody>\n",
              "    <tr>\n",
              "      <th>0</th>\n",
              "      <td>Open</td>\n",
              "      <td>25.6</td>\n",
              "    </tr>\n",
              "    <tr>\n",
              "      <th>1</th>\n",
              "      <td>High</td>\n",
              "      <td>25.6</td>\n",
              "    </tr>\n",
              "    <tr>\n",
              "      <th>2</th>\n",
              "      <td>Low</td>\n",
              "      <td>25.6</td>\n",
              "    </tr>\n",
              "    <tr>\n",
              "      <th>3</th>\n",
              "      <td>Close</td>\n",
              "      <td>25.6</td>\n",
              "    </tr>\n",
              "    <tr>\n",
              "      <th>4</th>\n",
              "      <td>Volume_(BTC)</td>\n",
              "      <td>25.6</td>\n",
              "    </tr>\n",
              "    <tr>\n",
              "      <th>5</th>\n",
              "      <td>Volume_(Currency)</td>\n",
              "      <td>25.6</td>\n",
              "    </tr>\n",
              "    <tr>\n",
              "      <th>6</th>\n",
              "      <td>Weighted_Price</td>\n",
              "      <td>25.6</td>\n",
              "    </tr>\n",
              "  </tbody>\n",
              "</table>\n",
              "</div>"
            ],
            "text/plain": [
              "              column  percent\n",
              "0               Open     25.6\n",
              "1               High     25.6\n",
              "2                Low     25.6\n",
              "3              Close     25.6\n",
              "4       Volume_(BTC)     25.6\n",
              "5  Volume_(Currency)     25.6\n",
              "6     Weighted_Price     25.6"
            ]
          },
          "metadata": {},
          "execution_count": 9
        }
      ]
    },
    {
      "cell_type": "markdown",
      "metadata": {
        "id": "sB7PF9Rrj1C2"
      },
      "source": [
        "Fill in the missing data"
      ]
    },
    {
      "cell_type": "code",
      "metadata": {
        "id": "_NuOPIn2j2dc"
      },
      "source": [
        "def fill_missing(df):\n",
        "    ### function to impute missing values using interpolation ###\n",
        "    df['Open'] = df['Open'].interpolate()\n",
        "    df['Close'] = df['Close'].interpolate()\n",
        "    df['Weighted_Price'] = df['Weighted_Price'].interpolate()\n",
        "    df['Volume_(BTC)'] = df['Volume_(BTC)'].interpolate()\n",
        "    df['Volume_(Currency)'] = df['Volume_(Currency)'].interpolate()\n",
        "    df['High'] = df['High'].interpolate()\n",
        "    df['Low'] = df['Low'].interpolate()\n",
        "    \n",
        "fill_missing(df)"
      ],
      "execution_count": 10,
      "outputs": []
    },
    {
      "cell_type": "code",
      "metadata": {
        "colab": {
          "base_uri": "https://localhost:8080/"
        },
        "id": "AFN-UYxGQ5Vt",
        "outputId": "675fc6b0-5b21-42ba-ee8a-bad37cb91cfa"
      },
      "source": [
        "df.isnull().sum()"
      ],
      "execution_count": 11,
      "outputs": [
        {
          "output_type": "execute_result",
          "data": {
            "text/plain": [
              "Open                 0\n",
              "High                 0\n",
              "Low                  0\n",
              "Close                0\n",
              "Volume_(BTC)         0\n",
              "Volume_(Currency)    0\n",
              "Weighted_Price       0\n",
              "dtype: int64"
            ]
          },
          "metadata": {},
          "execution_count": 11
        }
      ]
    },
    {
      "cell_type": "markdown",
      "metadata": {
        "id": "pZPj_wNVZlXf"
      },
      "source": [
        "Remove NA rows"
      ]
    },
    {
      "cell_type": "code",
      "metadata": {
        "id": "AwvJyrudZmo7"
      },
      "source": [
        "df = df.dropna()"
      ],
      "execution_count": 12,
      "outputs": []
    },
    {
      "cell_type": "code",
      "metadata": {
        "colab": {
          "base_uri": "https://localhost:8080/",
          "height": 237
        },
        "id": "_RDtkinmRCaq",
        "outputId": "cb39fc79-173c-4a9e-f450-98faeaf6cc54"
      },
      "source": [
        "df.head()"
      ],
      "execution_count": 13,
      "outputs": [
        {
          "output_type": "execute_result",
          "data": {
            "text/html": [
              "<div>\n",
              "<style scoped>\n",
              "    .dataframe tbody tr th:only-of-type {\n",
              "        vertical-align: middle;\n",
              "    }\n",
              "\n",
              "    .dataframe tbody tr th {\n",
              "        vertical-align: top;\n",
              "    }\n",
              "\n",
              "    .dataframe thead th {\n",
              "        text-align: right;\n",
              "    }\n",
              "</style>\n",
              "<table border=\"1\" class=\"dataframe\">\n",
              "  <thead>\n",
              "    <tr style=\"text-align: right;\">\n",
              "      <th></th>\n",
              "      <th>Open</th>\n",
              "      <th>High</th>\n",
              "      <th>Low</th>\n",
              "      <th>Close</th>\n",
              "      <th>Volume_(BTC)</th>\n",
              "      <th>Volume_(Currency)</th>\n",
              "      <th>Weighted_Price</th>\n",
              "    </tr>\n",
              "    <tr>\n",
              "      <th>Timestamp</th>\n",
              "      <th></th>\n",
              "      <th></th>\n",
              "      <th></th>\n",
              "      <th></th>\n",
              "      <th></th>\n",
              "      <th></th>\n",
              "      <th></th>\n",
              "    </tr>\n",
              "  </thead>\n",
              "  <tbody>\n",
              "    <tr>\n",
              "      <th>2011-12-31 07:52:00</th>\n",
              "      <td>4.39</td>\n",
              "      <td>4.39</td>\n",
              "      <td>4.39</td>\n",
              "      <td>4.39</td>\n",
              "      <td>0.455581</td>\n",
              "      <td>2.000000</td>\n",
              "      <td>4.39</td>\n",
              "    </tr>\n",
              "    <tr>\n",
              "      <th>2011-12-31 07:53:00</th>\n",
              "      <td>4.39</td>\n",
              "      <td>4.39</td>\n",
              "      <td>4.39</td>\n",
              "      <td>4.39</td>\n",
              "      <td>0.555046</td>\n",
              "      <td>2.436653</td>\n",
              "      <td>4.39</td>\n",
              "    </tr>\n",
              "    <tr>\n",
              "      <th>2011-12-31 07:54:00</th>\n",
              "      <td>4.39</td>\n",
              "      <td>4.39</td>\n",
              "      <td>4.39</td>\n",
              "      <td>4.39</td>\n",
              "      <td>0.654511</td>\n",
              "      <td>2.873305</td>\n",
              "      <td>4.39</td>\n",
              "    </tr>\n",
              "    <tr>\n",
              "      <th>2011-12-31 07:55:00</th>\n",
              "      <td>4.39</td>\n",
              "      <td>4.39</td>\n",
              "      <td>4.39</td>\n",
              "      <td>4.39</td>\n",
              "      <td>0.753977</td>\n",
              "      <td>3.309958</td>\n",
              "      <td>4.39</td>\n",
              "    </tr>\n",
              "    <tr>\n",
              "      <th>2011-12-31 07:56:00</th>\n",
              "      <td>4.39</td>\n",
              "      <td>4.39</td>\n",
              "      <td>4.39</td>\n",
              "      <td>4.39</td>\n",
              "      <td>0.853442</td>\n",
              "      <td>3.746611</td>\n",
              "      <td>4.39</td>\n",
              "    </tr>\n",
              "  </tbody>\n",
              "</table>\n",
              "</div>"
            ],
            "text/plain": [
              "                     Open  High  ...  Volume_(Currency)  Weighted_Price\n",
              "Timestamp                        ...                                   \n",
              "2011-12-31 07:52:00  4.39  4.39  ...           2.000000            4.39\n",
              "2011-12-31 07:53:00  4.39  4.39  ...           2.436653            4.39\n",
              "2011-12-31 07:54:00  4.39  4.39  ...           2.873305            4.39\n",
              "2011-12-31 07:55:00  4.39  4.39  ...           3.309958            4.39\n",
              "2011-12-31 07:56:00  4.39  4.39  ...           3.746611            4.39\n",
              "\n",
              "[5 rows x 7 columns]"
            ]
          },
          "metadata": {},
          "execution_count": 13
        }
      ]
    },
    {
      "cell_type": "markdown",
      "metadata": {
        "id": "lbo8Q4uM5ifC"
      },
      "source": [
        "# **Feature Engineering**"
      ]
    },
    {
      "cell_type": "markdown",
      "metadata": {
        "id": "AlBoclatZraX"
      },
      "source": [
        "Add `Price` column by averaging Low and Close"
      ]
    },
    {
      "cell_type": "code",
      "metadata": {
        "id": "GY7K6R7UZ4zJ"
      },
      "source": [
        "df[\"Price\"] = df[[\"Open\",\"High\",\"Low\",\"Close\"]].mean(axis=1)"
      ],
      "execution_count": 14,
      "outputs": []
    },
    {
      "cell_type": "markdown",
      "metadata": {
        "id": "GZDZzcSsZ-EL"
      },
      "source": [
        "Add `Return` Column by calculating the difference from now to previous second's `Price`"
      ]
    },
    {
      "cell_type": "code",
      "metadata": {
        "colab": {
          "base_uri": "https://localhost:8080/"
        },
        "id": "YbBDUoQ3RslV",
        "outputId": "ef6a0adb-11a9-4c05-a1d0-c27ac4209a21"
      },
      "source": [
        "df[\"Price\"]"
      ],
      "execution_count": 15,
      "outputs": [
        {
          "output_type": "execute_result",
          "data": {
            "text/plain": [
              "Timestamp\n",
              "2011-12-31 07:52:00        4.3900\n",
              "2011-12-31 07:53:00        4.3900\n",
              "2011-12-31 07:54:00        4.3900\n",
              "2011-12-31 07:55:00        4.3900\n",
              "2011-12-31 07:56:00        4.3900\n",
              "                          ...    \n",
              "2021-03-30 23:56:00    58700.1550\n",
              "2021-03-30 23:57:00    58686.7950\n",
              "2021-03-30 23:58:00    58708.6350\n",
              "2021-03-30 23:59:00    58753.8325\n",
              "2021-03-31 00:00:00    58770.0200\n",
              "Name: Price, Length: 4857377, dtype: float64"
            ]
          },
          "metadata": {},
          "execution_count": 15
        }
      ]
    },
    {
      "cell_type": "code",
      "metadata": {
        "colab": {
          "base_uri": "https://localhost:8080/",
          "height": 237
        },
        "id": "V_EtAua0R0eN",
        "outputId": "ecf9bb06-0b2c-4dc2-f0ad-f42495e4bad2"
      },
      "source": [
        "df.head()"
      ],
      "execution_count": 16,
      "outputs": [
        {
          "output_type": "execute_result",
          "data": {
            "text/html": [
              "<div>\n",
              "<style scoped>\n",
              "    .dataframe tbody tr th:only-of-type {\n",
              "        vertical-align: middle;\n",
              "    }\n",
              "\n",
              "    .dataframe tbody tr th {\n",
              "        vertical-align: top;\n",
              "    }\n",
              "\n",
              "    .dataframe thead th {\n",
              "        text-align: right;\n",
              "    }\n",
              "</style>\n",
              "<table border=\"1\" class=\"dataframe\">\n",
              "  <thead>\n",
              "    <tr style=\"text-align: right;\">\n",
              "      <th></th>\n",
              "      <th>Open</th>\n",
              "      <th>High</th>\n",
              "      <th>Low</th>\n",
              "      <th>Close</th>\n",
              "      <th>Volume_(BTC)</th>\n",
              "      <th>Volume_(Currency)</th>\n",
              "      <th>Weighted_Price</th>\n",
              "      <th>Price</th>\n",
              "    </tr>\n",
              "    <tr>\n",
              "      <th>Timestamp</th>\n",
              "      <th></th>\n",
              "      <th></th>\n",
              "      <th></th>\n",
              "      <th></th>\n",
              "      <th></th>\n",
              "      <th></th>\n",
              "      <th></th>\n",
              "      <th></th>\n",
              "    </tr>\n",
              "  </thead>\n",
              "  <tbody>\n",
              "    <tr>\n",
              "      <th>2011-12-31 07:52:00</th>\n",
              "      <td>4.39</td>\n",
              "      <td>4.39</td>\n",
              "      <td>4.39</td>\n",
              "      <td>4.39</td>\n",
              "      <td>0.455581</td>\n",
              "      <td>2.000000</td>\n",
              "      <td>4.39</td>\n",
              "      <td>4.39</td>\n",
              "    </tr>\n",
              "    <tr>\n",
              "      <th>2011-12-31 07:53:00</th>\n",
              "      <td>4.39</td>\n",
              "      <td>4.39</td>\n",
              "      <td>4.39</td>\n",
              "      <td>4.39</td>\n",
              "      <td>0.555046</td>\n",
              "      <td>2.436653</td>\n",
              "      <td>4.39</td>\n",
              "      <td>4.39</td>\n",
              "    </tr>\n",
              "    <tr>\n",
              "      <th>2011-12-31 07:54:00</th>\n",
              "      <td>4.39</td>\n",
              "      <td>4.39</td>\n",
              "      <td>4.39</td>\n",
              "      <td>4.39</td>\n",
              "      <td>0.654511</td>\n",
              "      <td>2.873305</td>\n",
              "      <td>4.39</td>\n",
              "      <td>4.39</td>\n",
              "    </tr>\n",
              "    <tr>\n",
              "      <th>2011-12-31 07:55:00</th>\n",
              "      <td>4.39</td>\n",
              "      <td>4.39</td>\n",
              "      <td>4.39</td>\n",
              "      <td>4.39</td>\n",
              "      <td>0.753977</td>\n",
              "      <td>3.309958</td>\n",
              "      <td>4.39</td>\n",
              "      <td>4.39</td>\n",
              "    </tr>\n",
              "    <tr>\n",
              "      <th>2011-12-31 07:56:00</th>\n",
              "      <td>4.39</td>\n",
              "      <td>4.39</td>\n",
              "      <td>4.39</td>\n",
              "      <td>4.39</td>\n",
              "      <td>0.853442</td>\n",
              "      <td>3.746611</td>\n",
              "      <td>4.39</td>\n",
              "      <td>4.39</td>\n",
              "    </tr>\n",
              "  </tbody>\n",
              "</table>\n",
              "</div>"
            ],
            "text/plain": [
              "                     Open  High   Low  ...  Volume_(Currency)  Weighted_Price  Price\n",
              "Timestamp                              ...                                          \n",
              "2011-12-31 07:52:00  4.39  4.39  4.39  ...           2.000000            4.39   4.39\n",
              "2011-12-31 07:53:00  4.39  4.39  4.39  ...           2.436653            4.39   4.39\n",
              "2011-12-31 07:54:00  4.39  4.39  4.39  ...           2.873305            4.39   4.39\n",
              "2011-12-31 07:55:00  4.39  4.39  4.39  ...           3.309958            4.39   4.39\n",
              "2011-12-31 07:56:00  4.39  4.39  4.39  ...           3.746611            4.39   4.39\n",
              "\n",
              "[5 rows x 8 columns]"
            ]
          },
          "metadata": {},
          "execution_count": 16
        }
      ]
    },
    {
      "cell_type": "code",
      "metadata": {
        "id": "QhW_OM8jaNZ3",
        "colab": {
          "base_uri": "https://localhost:8080/",
          "height": 392
        },
        "outputId": "c3026406-5fe7-4d6a-cef6-8d1784c65c5a"
      },
      "source": [
        "df[\"Return\"] = df[\"Price\"].diff()\n",
        "df[\"Return\"].plot(x=\"Timestamp\", y=\"Return\")"
      ],
      "execution_count": 17,
      "outputs": [
        {
          "output_type": "execute_result",
          "data": {
            "text/plain": [
              "<matplotlib.axes._subplots.AxesSubplot at 0x7f930388a550>"
            ]
          },
          "metadata": {},
          "execution_count": 17
        },
        {
          "output_type": "display_data",
          "data": {
            "image/png": "[encoded data removed]",
            "text/plain": [
              "<Figure size 720x432 with 1 Axes>"
            ]
          },
          "metadata": {}
        }
      ]
    },
    {
      "cell_type": "markdown",
      "metadata": {
        "id": "_jvZfBUMbuAX"
      },
      "source": [
        "Add `Direction` column showing if bitcoin price is going up or down."
      ]
    },
    {
      "cell_type": "code",
      "metadata": {
        "colab": {
          "base_uri": "https://localhost:8080/"
        },
        "id": "60do9MzhSE6C",
        "outputId": "e70f8a30-f08a-449b-a29f-a258141d08aa"
      },
      "source": [
        "df['Return']"
      ],
      "execution_count": 18,
      "outputs": [
        {
          "output_type": "execute_result",
          "data": {
            "text/plain": [
              "Timestamp\n",
              "2011-12-31 07:52:00        NaN\n",
              "2011-12-31 07:53:00     0.0000\n",
              "2011-12-31 07:54:00     0.0000\n",
              "2011-12-31 07:55:00     0.0000\n",
              "2011-12-31 07:56:00     0.0000\n",
              "                        ...   \n",
              "2021-03-30 23:56:00   -28.0900\n",
              "2021-03-30 23:57:00   -13.3600\n",
              "2021-03-30 23:58:00    21.8400\n",
              "2021-03-30 23:59:00    45.1975\n",
              "2021-03-31 00:00:00    16.1875\n",
              "Name: Return, Length: 4857377, dtype: float64"
            ]
          },
          "metadata": {},
          "execution_count": 18
        }
      ]
    },
    {
      "cell_type": "code",
      "metadata": {
        "id": "m-L1jj0Dbq3n"
      },
      "source": [
        "df[\"Direction\"] = pd.Series(df[\"Return\"] > 0)\n",
        "df[\"Direction\"] = \"Down\"\n",
        "df.loc[(df[\"Return\"] == 0), \"Direction\"] = \"stable\"\n",
        "df.loc[(df[\"Return\"] > 0), \"Direction\"] = \"Up\""
      ],
      "execution_count": 19,
      "outputs": []
    },
    {
      "cell_type": "code",
      "metadata": {
        "colab": {
          "base_uri": "https://localhost:8080/",
          "height": 237
        },
        "id": "PTRlm5EZSkjd",
        "outputId": "a0bc2a08-edbc-43f9-e6b0-bc0f14c3de8d"
      },
      "source": [
        "df.head()"
      ],
      "execution_count": 20,
      "outputs": [
        {
          "output_type": "execute_result",
          "data": {
            "text/html": [
              "<div>\n",
              "<style scoped>\n",
              "    .dataframe tbody tr th:only-of-type {\n",
              "        vertical-align: middle;\n",
              "    }\n",
              "\n",
              "    .dataframe tbody tr th {\n",
              "        vertical-align: top;\n",
              "    }\n",
              "\n",
              "    .dataframe thead th {\n",
              "        text-align: right;\n",
              "    }\n",
              "</style>\n",
              "<table border=\"1\" class=\"dataframe\">\n",
              "  <thead>\n",
              "    <tr style=\"text-align: right;\">\n",
              "      <th></th>\n",
              "      <th>Open</th>\n",
              "      <th>High</th>\n",
              "      <th>Low</th>\n",
              "      <th>Close</th>\n",
              "      <th>Volume_(BTC)</th>\n",
              "      <th>Volume_(Currency)</th>\n",
              "      <th>Weighted_Price</th>\n",
              "      <th>Price</th>\n",
              "      <th>Return</th>\n",
              "      <th>Direction</th>\n",
              "    </tr>\n",
              "    <tr>\n",
              "      <th>Timestamp</th>\n",
              "      <th></th>\n",
              "      <th></th>\n",
              "      <th></th>\n",
              "      <th></th>\n",
              "      <th></th>\n",
              "      <th></th>\n",
              "      <th></th>\n",
              "      <th></th>\n",
              "      <th></th>\n",
              "      <th></th>\n",
              "    </tr>\n",
              "  </thead>\n",
              "  <tbody>\n",
              "    <tr>\n",
              "      <th>2011-12-31 07:52:00</th>\n",
              "      <td>4.39</td>\n",
              "      <td>4.39</td>\n",
              "      <td>4.39</td>\n",
              "      <td>4.39</td>\n",
              "      <td>0.455581</td>\n",
              "      <td>2.000000</td>\n",
              "      <td>4.39</td>\n",
              "      <td>4.39</td>\n",
              "      <td>NaN</td>\n",
              "      <td>Down</td>\n",
              "    </tr>\n",
              "    <tr>\n",
              "      <th>2011-12-31 07:53:00</th>\n",
              "      <td>4.39</td>\n",
              "      <td>4.39</td>\n",
              "      <td>4.39</td>\n",
              "      <td>4.39</td>\n",
              "      <td>0.555046</td>\n",
              "      <td>2.436653</td>\n",
              "      <td>4.39</td>\n",
              "      <td>4.39</td>\n",
              "      <td>0.0</td>\n",
              "      <td>stable</td>\n",
              "    </tr>\n",
              "    <tr>\n",
              "      <th>2011-12-31 07:54:00</th>\n",
              "      <td>4.39</td>\n",
              "      <td>4.39</td>\n",
              "      <td>4.39</td>\n",
              "      <td>4.39</td>\n",
              "      <td>0.654511</td>\n",
              "      <td>2.873305</td>\n",
              "      <td>4.39</td>\n",
              "      <td>4.39</td>\n",
              "      <td>0.0</td>\n",
              "      <td>stable</td>\n",
              "    </tr>\n",
              "    <tr>\n",
              "      <th>2011-12-31 07:55:00</th>\n",
              "      <td>4.39</td>\n",
              "      <td>4.39</td>\n",
              "      <td>4.39</td>\n",
              "      <td>4.39</td>\n",
              "      <td>0.753977</td>\n",
              "      <td>3.309958</td>\n",
              "      <td>4.39</td>\n",
              "      <td>4.39</td>\n",
              "      <td>0.0</td>\n",
              "      <td>stable</td>\n",
              "    </tr>\n",
              "    <tr>\n",
              "      <th>2011-12-31 07:56:00</th>\n",
              "      <td>4.39</td>\n",
              "      <td>4.39</td>\n",
              "      <td>4.39</td>\n",
              "      <td>4.39</td>\n",
              "      <td>0.853442</td>\n",
              "      <td>3.746611</td>\n",
              "      <td>4.39</td>\n",
              "      <td>4.39</td>\n",
              "      <td>0.0</td>\n",
              "      <td>stable</td>\n",
              "    </tr>\n",
              "  </tbody>\n",
              "</table>\n",
              "</div>"
            ],
            "text/plain": [
              "                     Open  High   Low  ...  Price  Return  Direction\n",
              "Timestamp                              ...                          \n",
              "2011-12-31 07:52:00  4.39  4.39  4.39  ...   4.39     NaN       Down\n",
              "2011-12-31 07:53:00  4.39  4.39  4.39  ...   4.39     0.0     stable\n",
              "2011-12-31 07:54:00  4.39  4.39  4.39  ...   4.39     0.0     stable\n",
              "2011-12-31 07:55:00  4.39  4.39  4.39  ...   4.39     0.0     stable\n",
              "2011-12-31 07:56:00  4.39  4.39  4.39  ...   4.39     0.0     stable\n",
              "\n",
              "[5 rows x 10 columns]"
            ]
          },
          "metadata": {},
          "execution_count": 20
        }
      ]
    },
    {
      "cell_type": "markdown",
      "metadata": {
        "id": "vH7A3pQccPaN"
      },
      "source": [
        "Add `Percentage_Return` column to show the perentage return per seconds"
      ]
    },
    {
      "cell_type": "code",
      "metadata": {
        "id": "W1IFdZxLcQBi",
        "colab": {
          "base_uri": "https://localhost:8080/",
          "height": 392
        },
        "outputId": "bebe4c5a-121b-4957-f343-4a23b2f260d6"
      },
      "source": [
        "df[\"Percentage_Return\"] = ((df[\"Return\"].shift(periods=-1))/ (df[\"Price\"])).shift(periods=1)\n",
        "df.head()\n",
        "df[\"Percentage_Return\"].plot()"
      ],
      "execution_count": 21,
      "outputs": [
        {
          "output_type": "execute_result",
          "data": {
            "text/plain": [
              "<matplotlib.axes._subplots.AxesSubplot at 0x7f92f7bba9d0>"
            ]
          },
          "metadata": {},
          "execution_count": 21
        },
        {
          "output_type": "display_data",
          "data": {
            "image/png": "[encoded data removed]",
            "text/plain": [
              "<Figure size 720x432 with 1 Axes>"
            ]
          },
          "metadata": {}
        }
      ]
    },
    {
      "cell_type": "markdown",
      "metadata": {
        "id": "eWxNGeaUc5-s"
      },
      "source": [
        "Add Lag1, Lag2, Lag3, Lag4, Lag5 columns as t-1, t-2, t-3, t-4, and t-5 features to predict bitcoin price at t (in seconds)"
      ]
    },
    {
      "cell_type": "code",
      "metadata": {
        "colab": {
          "base_uri": "https://localhost:8080/",
          "height": 237
        },
        "id": "9FUbXWowUWMs",
        "outputId": "ee559665-bf3f-4e9a-fc1d-8d7e54132bcf"
      },
      "source": [
        "df.head()"
      ],
      "execution_count": 22,
      "outputs": [
        {
          "output_type": "execute_result",
          "data": {
            "text/html": [
              "<div>\n",
              "<style scoped>\n",
              "    .dataframe tbody tr th:only-of-type {\n",
              "        vertical-align: middle;\n",
              "    }\n",
              "\n",
              "    .dataframe tbody tr th {\n",
              "        vertical-align: top;\n",
              "    }\n",
              "\n",
              "    .dataframe thead th {\n",
              "        text-align: right;\n",
              "    }\n",
              "</style>\n",
              "<table border=\"1\" class=\"dataframe\">\n",
              "  <thead>\n",
              "    <tr style=\"text-align: right;\">\n",
              "      <th></th>\n",
              "      <th>Open</th>\n",
              "      <th>High</th>\n",
              "      <th>Low</th>\n",
              "      <th>Close</th>\n",
              "      <th>Volume_(BTC)</th>\n",
              "      <th>Volume_(Currency)</th>\n",
              "      <th>Weighted_Price</th>\n",
              "      <th>Price</th>\n",
              "      <th>Return</th>\n",
              "      <th>Direction</th>\n",
              "      <th>Percentage_Return</th>\n",
              "    </tr>\n",
              "    <tr>\n",
              "      <th>Timestamp</th>\n",
              "      <th></th>\n",
              "      <th></th>\n",
              "      <th></th>\n",
              "      <th></th>\n",
              "      <th></th>\n",
              "      <th></th>\n",
              "      <th></th>\n",
              "      <th></th>\n",
              "      <th></th>\n",
              "      <th></th>\n",
              "      <th></th>\n",
              "    </tr>\n",
              "  </thead>\n",
              "  <tbody>\n",
              "    <tr>\n",
              "      <th>2011-12-31 07:52:00</th>\n",
              "      <td>4.39</td>\n",
              "      <td>4.39</td>\n",
              "      <td>4.39</td>\n",
              "      <td>4.39</td>\n",
              "      <td>0.455581</td>\n",
              "      <td>2.000000</td>\n",
              "      <td>4.39</td>\n",
              "      <td>4.39</td>\n",
              "      <td>NaN</td>\n",
              "      <td>Down</td>\n",
              "      <td>NaN</td>\n",
              "    </tr>\n",
              "    <tr>\n",
              "      <th>2011-12-31 07:53:00</th>\n",
              "      <td>4.39</td>\n",
              "      <td>4.39</td>\n",
              "      <td>4.39</td>\n",
              "      <td>4.39</td>\n",
              "      <td>0.555046</td>\n",
              "      <td>2.436653</td>\n",
              "      <td>4.39</td>\n",
              "      <td>4.39</td>\n",
              "      <td>0.0</td>\n",
              "      <td>stable</td>\n",
              "      <td>0.0</td>\n",
              "    </tr>\n",
              "    <tr>\n",
              "      <th>2011-12-31 07:54:00</th>\n",
              "      <td>4.39</td>\n",
              "      <td>4.39</td>\n",
              "      <td>4.39</td>\n",
              "      <td>4.39</td>\n",
              "      <td>0.654511</td>\n",
              "      <td>2.873305</td>\n",
              "      <td>4.39</td>\n",
              "      <td>4.39</td>\n",
              "      <td>0.0</td>\n",
              "      <td>stable</td>\n",
              "      <td>0.0</td>\n",
              "    </tr>\n",
              "    <tr>\n",
              "      <th>2011-12-31 07:55:00</th>\n",
              "      <td>4.39</td>\n",
              "      <td>4.39</td>\n",
              "      <td>4.39</td>\n",
              "      <td>4.39</td>\n",
              "      <td>0.753977</td>\n",
              "      <td>3.309958</td>\n",
              "      <td>4.39</td>\n",
              "      <td>4.39</td>\n",
              "      <td>0.0</td>\n",
              "      <td>stable</td>\n",
              "      <td>0.0</td>\n",
              "    </tr>\n",
              "    <tr>\n",
              "      <th>2011-12-31 07:56:00</th>\n",
              "      <td>4.39</td>\n",
              "      <td>4.39</td>\n",
              "      <td>4.39</td>\n",
              "      <td>4.39</td>\n",
              "      <td>0.853442</td>\n",
              "      <td>3.746611</td>\n",
              "      <td>4.39</td>\n",
              "      <td>4.39</td>\n",
              "      <td>0.0</td>\n",
              "      <td>stable</td>\n",
              "      <td>0.0</td>\n",
              "    </tr>\n",
              "  </tbody>\n",
              "</table>\n",
              "</div>"
            ],
            "text/plain": [
              "                     Open  High   Low  ...  Return  Direction  Percentage_Return\n",
              "Timestamp                              ...                                      \n",
              "2011-12-31 07:52:00  4.39  4.39  4.39  ...     NaN       Down                NaN\n",
              "2011-12-31 07:53:00  4.39  4.39  4.39  ...     0.0     stable                0.0\n",
              "2011-12-31 07:54:00  4.39  4.39  4.39  ...     0.0     stable                0.0\n",
              "2011-12-31 07:55:00  4.39  4.39  4.39  ...     0.0     stable                0.0\n",
              "2011-12-31 07:56:00  4.39  4.39  4.39  ...     0.0     stable                0.0\n",
              "\n",
              "[5 rows x 11 columns]"
            ]
          },
          "metadata": {},
          "execution_count": 22
        }
      ]
    },
    {
      "cell_type": "code",
      "metadata": {
        "id": "87BOaCnTdGhG",
        "colab": {
          "base_uri": "https://localhost:8080/",
          "height": 649
        },
        "outputId": "952329d9-964d-4c4c-d823-53642ca2f8a7"
      },
      "source": [
        "df[\"Lag1\"]= df[\"Percentage_Return\"].shift(periods=-1)\n",
        "df[\"Lag2\"]= df[\"Percentage_Return\"].shift(periods=-2)\n",
        "df[\"Lag3\"]= df[\"Percentage_Return\"].shift(periods=-3)\n",
        "df[\"Lag4\"]= df[\"Percentage_Return\"].shift(periods=-4)\n",
        "df[\"Lag5\"]= df[\"Percentage_Return\"].shift(periods=-5)\n",
        "df.head()\n",
        "df.dropna()"
      ],
      "execution_count": 22,
      "outputs": [
        {
          "output_type": "execute_result",
          "data": {
            "text/html": [
              "<div>\n",
              "<style scoped>\n",
              "    .dataframe tbody tr th:only-of-type {\n",
              "        vertical-align: middle;\n",
              "    }\n",
              "\n",
              "    .dataframe tbody tr th {\n",
              "        vertical-align: top;\n",
              "    }\n",
              "\n",
              "    .dataframe thead th {\n",
              "        text-align: right;\n",
              "    }\n",
              "</style>\n",
              "<table border=\"1\" class=\"dataframe\">\n",
              "  <thead>\n",
              "    <tr style=\"text-align: right;\">\n",
              "      <th></th>\n",
              "      <th>Open</th>\n",
              "      <th>High</th>\n",
              "      <th>Low</th>\n",
              "      <th>Close</th>\n",
              "      <th>Volume_(BTC)</th>\n",
              "      <th>Volume_(Currency)</th>\n",
              "      <th>Weighted_Price</th>\n",
              "      <th>Price</th>\n",
              "      <th>Return</th>\n",
              "      <th>Direction</th>\n",
              "      <th>Percentage_Return</th>\n",
              "      <th>Lag1</th>\n",
              "      <th>Lag2</th>\n",
              "      <th>Lag3</th>\n",
              "      <th>Lag4</th>\n",
              "      <th>Lag5</th>\n",
              "    </tr>\n",
              "    <tr>\n",
              "      <th>Timestamp</th>\n",
              "      <th></th>\n",
              "      <th></th>\n",
              "      <th></th>\n",
              "      <th></th>\n",
              "      <th></th>\n",
              "      <th></th>\n",
              "      <th></th>\n",
              "      <th></th>\n",
              "      <th></th>\n",
              "      <th></th>\n",
              "      <th></th>\n",
              "      <th></th>\n",
              "      <th></th>\n",
              "      <th></th>\n",
              "      <th></th>\n",
              "      <th></th>\n",
              "    </tr>\n",
              "  </thead>\n",
              "  <tbody>\n",
              "    <tr>\n",
              "      <th>2011-12-31 07:53:00</th>\n",
              "      <td>4.390</td>\n",
              "      <td>4.390</td>\n",
              "      <td>4.39</td>\n",
              "      <td>4.39</td>\n",
              "      <td>0.555046</td>\n",
              "      <td>2.436653</td>\n",
              "      <td>4.390000</td>\n",
              "      <td>4.3900</td>\n",
              "      <td>0.0000</td>\n",
              "      <td>stable</td>\n",
              "      <td>0.000000</td>\n",
              "      <td>0.000000</td>\n",
              "      <td>0.000000</td>\n",
              "      <td>0.000000</td>\n",
              "      <td>0.000000</td>\n",
              "      <td>0.000000</td>\n",
              "    </tr>\n",
              "    <tr>\n",
              "      <th>2011-12-31 07:54:00</th>\n",
              "      <td>4.390</td>\n",
              "      <td>4.390</td>\n",
              "      <td>4.39</td>\n",
              "      <td>4.39</td>\n",
              "      <td>0.654511</td>\n",
              "      <td>2.873305</td>\n",
              "      <td>4.390000</td>\n",
              "      <td>4.3900</td>\n",
              "      <td>0.0000</td>\n",
              "      <td>stable</td>\n",
              "      <td>0.000000</td>\n",
              "      <td>0.000000</td>\n",
              "      <td>0.000000</td>\n",
              "      <td>0.000000</td>\n",
              "      <td>0.000000</td>\n",
              "      <td>0.000000</td>\n",
              "    </tr>\n",
              "    <tr>\n",
              "      <th>2011-12-31 07:55:00</th>\n",
              "      <td>4.390</td>\n",
              "      <td>4.390</td>\n",
              "      <td>4.39</td>\n",
              "      <td>4.39</td>\n",
              "      <td>0.753977</td>\n",
              "      <td>3.309958</td>\n",
              "      <td>4.390000</td>\n",
              "      <td>4.3900</td>\n",
              "      <td>0.0000</td>\n",
              "      <td>stable</td>\n",
              "      <td>0.000000</td>\n",
              "      <td>0.000000</td>\n",
              "      <td>0.000000</td>\n",
              "      <td>0.000000</td>\n",
              "      <td>0.000000</td>\n",
              "      <td>0.000000</td>\n",
              "    </tr>\n",
              "    <tr>\n",
              "      <th>2011-12-31 07:56:00</th>\n",
              "      <td>4.390</td>\n",
              "      <td>4.390</td>\n",
              "      <td>4.39</td>\n",
              "      <td>4.39</td>\n",
              "      <td>0.853442</td>\n",
              "      <td>3.746611</td>\n",
              "      <td>4.390000</td>\n",
              "      <td>4.3900</td>\n",
              "      <td>0.0000</td>\n",
              "      <td>stable</td>\n",
              "      <td>0.000000</td>\n",
              "      <td>0.000000</td>\n",
              "      <td>0.000000</td>\n",
              "      <td>0.000000</td>\n",
              "      <td>0.000000</td>\n",
              "      <td>0.000000</td>\n",
              "    </tr>\n",
              "    <tr>\n",
              "      <th>2011-12-31 07:57:00</th>\n",
              "      <td>4.390</td>\n",
              "      <td>4.390</td>\n",
              "      <td>4.39</td>\n",
              "      <td>4.39</td>\n",
              "      <td>0.952907</td>\n",
              "      <td>4.183264</td>\n",
              "      <td>4.390000</td>\n",
              "      <td>4.3900</td>\n",
              "      <td>0.0000</td>\n",
              "      <td>stable</td>\n",
              "      <td>0.000000</td>\n",
              "      <td>0.000000</td>\n",
              "      <td>0.000000</td>\n",
              "      <td>0.000000</td>\n",
              "      <td>0.000000</td>\n",
              "      <td>0.000000</td>\n",
              "    </tr>\n",
              "    <tr>\n",
              "      <th>...</th>\n",
              "      <td>...</td>\n",
              "      <td>...</td>\n",
              "      <td>...</td>\n",
              "      <td>...</td>\n",
              "      <td>...</td>\n",
              "      <td>...</td>\n",
              "      <td>...</td>\n",
              "      <td>...</td>\n",
              "      <td>...</td>\n",
              "      <td>...</td>\n",
              "      <td>...</td>\n",
              "      <td>...</td>\n",
              "      <td>...</td>\n",
              "      <td>...</td>\n",
              "      <td>...</td>\n",
              "      <td>...</td>\n",
              "    </tr>\n",
              "    <tr>\n",
              "      <th>2021-03-30 23:51:00</th>\n",
              "      <td>58677.050</td>\n",
              "      <td>58699.900</td>\n",
              "      <td>58660.00</td>\n",
              "      <td>58699.90</td>\n",
              "      <td>2.672676</td>\n",
              "      <td>156832.692130</td>\n",
              "      <td>58680.021260</td>\n",
              "      <td>58684.2125</td>\n",
              "      <td>2.8925</td>\n",
              "      <td>Up</td>\n",
              "      <td>0.000049</td>\n",
              "      <td>0.000234</td>\n",
              "      <td>0.000234</td>\n",
              "      <td>0.000545</td>\n",
              "      <td>-0.000263</td>\n",
              "      <td>-0.000478</td>\n",
              "    </tr>\n",
              "    <tr>\n",
              "      <th>2021-03-30 23:52:00</th>\n",
              "      <td>58697.865</td>\n",
              "      <td>58715.565</td>\n",
              "      <td>58679.17</td>\n",
              "      <td>58699.20</td>\n",
              "      <td>1.440329</td>\n",
              "      <td>84520.873706</td>\n",
              "      <td>58691.157958</td>\n",
              "      <td>58697.9500</td>\n",
              "      <td>13.7375</td>\n",
              "      <td>Up</td>\n",
              "      <td>0.000234</td>\n",
              "      <td>0.000234</td>\n",
              "      <td>0.000545</td>\n",
              "      <td>-0.000263</td>\n",
              "      <td>-0.000478</td>\n",
              "      <td>-0.000228</td>\n",
              "    </tr>\n",
              "    <tr>\n",
              "      <th>2021-03-30 23:53:00</th>\n",
              "      <td>58718.680</td>\n",
              "      <td>58731.230</td>\n",
              "      <td>58698.34</td>\n",
              "      <td>58698.50</td>\n",
              "      <td>0.207983</td>\n",
              "      <td>12209.055282</td>\n",
              "      <td>58702.294657</td>\n",
              "      <td>58711.6875</td>\n",
              "      <td>13.7375</td>\n",
              "      <td>Up</td>\n",
              "      <td>0.000234</td>\n",
              "      <td>0.000545</td>\n",
              "      <td>-0.000263</td>\n",
              "      <td>-0.000478</td>\n",
              "      <td>-0.000228</td>\n",
              "      <td>0.000372</td>\n",
              "    </tr>\n",
              "    <tr>\n",
              "      <th>2021-03-30 23:54:00</th>\n",
              "      <td>58736.190</td>\n",
              "      <td>58762.430</td>\n",
              "      <td>58736.19</td>\n",
              "      <td>58739.95</td>\n",
              "      <td>0.041559</td>\n",
              "      <td>2441.376572</td>\n",
              "      <td>58745.145351</td>\n",
              "      <td>58743.6900</td>\n",
              "      <td>32.0025</td>\n",
              "      <td>Up</td>\n",
              "      <td>0.000545</td>\n",
              "      <td>-0.000263</td>\n",
              "      <td>-0.000478</td>\n",
              "      <td>-0.000228</td>\n",
              "      <td>0.000372</td>\n",
              "      <td>0.000770</td>\n",
              "    </tr>\n",
              "    <tr>\n",
              "      <th>2021-03-30 23:55:00</th>\n",
              "      <td>58742.180</td>\n",
              "      <td>58742.180</td>\n",
              "      <td>58714.31</td>\n",
              "      <td>58714.31</td>\n",
              "      <td>2.519999</td>\n",
              "      <td>148004.448110</td>\n",
              "      <td>58731.946927</td>\n",
              "      <td>58728.2450</td>\n",
              "      <td>-15.4450</td>\n",
              "      <td>Down</td>\n",
              "      <td>-0.000263</td>\n",
              "      <td>-0.000478</td>\n",
              "      <td>-0.000228</td>\n",
              "      <td>0.000372</td>\n",
              "      <td>0.000770</td>\n",
              "      <td>0.000276</td>\n",
              "    </tr>\n",
              "  </tbody>\n",
              "</table>\n",
              "<p>4857371 rows × 16 columns</p>\n",
              "</div>"
            ],
            "text/plain": [
              "                          Open       High  ...      Lag4      Lag5\n",
              "Timestamp                                  ...                    \n",
              "2011-12-31 07:53:00      4.390      4.390  ...  0.000000  0.000000\n",
              "2011-12-31 07:54:00      4.390      4.390  ...  0.000000  0.000000\n",
              "2011-12-31 07:55:00      4.390      4.390  ...  0.000000  0.000000\n",
              "2011-12-31 07:56:00      4.390      4.390  ...  0.000000  0.000000\n",
              "2011-12-31 07:57:00      4.390      4.390  ...  0.000000  0.000000\n",
              "...                        ...        ...  ...       ...       ...\n",
              "2021-03-30 23:51:00  58677.050  58699.900  ... -0.000263 -0.000478\n",
              "2021-03-30 23:52:00  58697.865  58715.565  ... -0.000478 -0.000228\n",
              "2021-03-30 23:53:00  58718.680  58731.230  ... -0.000228  0.000372\n",
              "2021-03-30 23:54:00  58736.190  58762.430  ...  0.000372  0.000770\n",
              "2021-03-30 23:55:00  58742.180  58742.180  ...  0.000770  0.000276\n",
              "\n",
              "[4857371 rows x 16 columns]"
            ]
          },
          "metadata": {},
          "execution_count": 22
        }
      ]
    },
    {
      "cell_type": "code",
      "metadata": {
        "colab": {
          "base_uri": "https://localhost:8080/"
        },
        "id": "P6T5-pfFYOca",
        "outputId": "3034e4fa-1ca5-4cea-9d19-d4d46116fce1"
      },
      "source": [
        "df.info()"
      ],
      "execution_count": 23,
      "outputs": [
        {
          "output_type": "stream",
          "name": "stdout",
          "text": [
            "<class 'pandas.core.frame.DataFrame'>\n",
            "DatetimeIndex: 4857377 entries, 2011-12-31 07:52:00 to 2021-03-31 00:00:00\n",
            "Data columns (total 16 columns):\n",
            " #   Column             Dtype  \n",
            "---  ------             -----  \n",
            " 0   Open               float64\n",
            " 1   High               float64\n",
            " 2   Low                float64\n",
            " 3   Close              float64\n",
            " 4   Volume_(BTC)       float64\n",
            " 5   Volume_(Currency)  float64\n",
            " 6   Weighted_Price     float64\n",
            " 7   Price              float64\n",
            " 8   Return             float64\n",
            " 9   Direction          object \n",
            " 10  Percentage_Return  float64\n",
            " 11  Lag1               float64\n",
            " 12  Lag2               float64\n",
            " 13  Lag3               float64\n",
            " 14  Lag4               float64\n",
            " 15  Lag5               float64\n",
            "dtypes: float64(15), object(1)\n",
            "memory usage: 630.0+ MB\n"
          ]
        }
      ]
    },
    {
      "cell_type": "markdown",
      "metadata": {
        "id": "sblblKX4dck4"
      },
      "source": [
        "Cleaned Dataset Display"
      ]
    },
    {
      "cell_type": "code",
      "metadata": {
        "id": "HpE2A5BVXsgX",
        "colab": {
          "base_uri": "https://localhost:8080/"
        },
        "outputId": "2732bc5e-e44c-49f9-8547-db79d2788a62"
      },
      "source": [
        "df.shape"
      ],
      "execution_count": 24,
      "outputs": [
        {
          "output_type": "execute_result",
          "data": {
            "text/plain": [
              "(4857377, 16)"
            ]
          },
          "metadata": {},
          "execution_count": 24
        }
      ]
    },
    {
      "cell_type": "code",
      "metadata": {
        "id": "181eZ6wOXKEY",
        "colab": {
          "base_uri": "https://localhost:8080/",
          "height": 237
        },
        "outputId": "4f8f9120-798d-4657-d45c-e4d09aefd336"
      },
      "source": [
        "df.head()"
      ],
      "execution_count": 23,
      "outputs": [
        {
          "output_type": "execute_result",
          "data": {
            "text/html": [
              "<div>\n",
              "<style scoped>\n",
              "    .dataframe tbody tr th:only-of-type {\n",
              "        vertical-align: middle;\n",
              "    }\n",
              "\n",
              "    .dataframe tbody tr th {\n",
              "        vertical-align: top;\n",
              "    }\n",
              "\n",
              "    .dataframe thead th {\n",
              "        text-align: right;\n",
              "    }\n",
              "</style>\n",
              "<table border=\"1\" class=\"dataframe\">\n",
              "  <thead>\n",
              "    <tr style=\"text-align: right;\">\n",
              "      <th></th>\n",
              "      <th>Open</th>\n",
              "      <th>High</th>\n",
              "      <th>Low</th>\n",
              "      <th>Close</th>\n",
              "      <th>Volume_(BTC)</th>\n",
              "      <th>Volume_(Currency)</th>\n",
              "      <th>Weighted_Price</th>\n",
              "      <th>Price</th>\n",
              "      <th>Return</th>\n",
              "      <th>Direction</th>\n",
              "      <th>Percentage_Return</th>\n",
              "    </tr>\n",
              "    <tr>\n",
              "      <th>Timestamp</th>\n",
              "      <th></th>\n",
              "      <th></th>\n",
              "      <th></th>\n",
              "      <th></th>\n",
              "      <th></th>\n",
              "      <th></th>\n",
              "      <th></th>\n",
              "      <th></th>\n",
              "      <th></th>\n",
              "      <th></th>\n",
              "      <th></th>\n",
              "    </tr>\n",
              "  </thead>\n",
              "  <tbody>\n",
              "    <tr>\n",
              "      <th>2011-12-31 07:52:00</th>\n",
              "      <td>4.39</td>\n",
              "      <td>4.39</td>\n",
              "      <td>4.39</td>\n",
              "      <td>4.39</td>\n",
              "      <td>0.455581</td>\n",
              "      <td>2.000000</td>\n",
              "      <td>4.39</td>\n",
              "      <td>4.39</td>\n",
              "      <td>NaN</td>\n",
              "      <td>Down</td>\n",
              "      <td>NaN</td>\n",
              "    </tr>\n",
              "    <tr>\n",
              "      <th>2011-12-31 07:53:00</th>\n",
              "      <td>4.39</td>\n",
              "      <td>4.39</td>\n",
              "      <td>4.39</td>\n",
              "      <td>4.39</td>\n",
              "      <td>0.555046</td>\n",
              "      <td>2.436653</td>\n",
              "      <td>4.39</td>\n",
              "      <td>4.39</td>\n",
              "      <td>0.0</td>\n",
              "      <td>stable</td>\n",
              "      <td>0.0</td>\n",
              "    </tr>\n",
              "    <tr>\n",
              "      <th>2011-12-31 07:54:00</th>\n",
              "      <td>4.39</td>\n",
              "      <td>4.39</td>\n",
              "      <td>4.39</td>\n",
              "      <td>4.39</td>\n",
              "      <td>0.654511</td>\n",
              "      <td>2.873305</td>\n",
              "      <td>4.39</td>\n",
              "      <td>4.39</td>\n",
              "      <td>0.0</td>\n",
              "      <td>stable</td>\n",
              "      <td>0.0</td>\n",
              "    </tr>\n",
              "    <tr>\n",
              "      <th>2011-12-31 07:55:00</th>\n",
              "      <td>4.39</td>\n",
              "      <td>4.39</td>\n",
              "      <td>4.39</td>\n",
              "      <td>4.39</td>\n",
              "      <td>0.753977</td>\n",
              "      <td>3.309958</td>\n",
              "      <td>4.39</td>\n",
              "      <td>4.39</td>\n",
              "      <td>0.0</td>\n",
              "      <td>stable</td>\n",
              "      <td>0.0</td>\n",
              "    </tr>\n",
              "    <tr>\n",
              "      <th>2011-12-31 07:56:00</th>\n",
              "      <td>4.39</td>\n",
              "      <td>4.39</td>\n",
              "      <td>4.39</td>\n",
              "      <td>4.39</td>\n",
              "      <td>0.853442</td>\n",
              "      <td>3.746611</td>\n",
              "      <td>4.39</td>\n",
              "      <td>4.39</td>\n",
              "      <td>0.0</td>\n",
              "      <td>stable</td>\n",
              "      <td>0.0</td>\n",
              "    </tr>\n",
              "  </tbody>\n",
              "</table>\n",
              "</div>"
            ],
            "text/plain": [
              "                     Open  High   Low  ...  Return  Direction  Percentage_Return\n",
              "Timestamp                              ...                                      \n",
              "2011-12-31 07:52:00  4.39  4.39  4.39  ...     NaN       Down                NaN\n",
              "2011-12-31 07:53:00  4.39  4.39  4.39  ...     0.0     stable                0.0\n",
              "2011-12-31 07:54:00  4.39  4.39  4.39  ...     0.0     stable                0.0\n",
              "2011-12-31 07:55:00  4.39  4.39  4.39  ...     0.0     stable                0.0\n",
              "2011-12-31 07:56:00  4.39  4.39  4.39  ...     0.0     stable                0.0\n",
              "\n",
              "[5 rows x 11 columns]"
            ]
          },
          "metadata": {},
          "execution_count": 23
        }
      ]
    },
    {
      "cell_type": "markdown",
      "metadata": {
        "id": "udvKkj9ri4xQ"
      },
      "source": [
        "#**Exploratory Data Analysis**"
      ]
    },
    {
      "cell_type": "markdown",
      "metadata": {
        "id": "zIeWGoia6Kci"
      },
      "source": [
        "Zheming's Part"
      ]
    },
    {
      "cell_type": "markdown",
      "metadata": {
        "id": "k1fHrsuuAbep"
      },
      "source": [
        "Produce a kernal density plot for Price (refer to Lecture 7 02-Exploratory-Data-Analysis.ipynb)"
      ]
    },
    {
      "cell_type": "code",
      "metadata": {
        "id": "JlN1216Q_662"
      },
      "source": [
        "def kdeplot(feature):\n",
        "    plt.figure(figsize=(9, 4))\n",
        "    plt.title(\"KDE for {}\".format(feature))\n",
        "    ax0 = sns.kdeplot(df[df['Direction'] == 'Up'][feature].dropna(), color= 'navy', label= 'Churn: No')\n",
        "    ax1 = sns.kdeplot(df[df['Direction'] == 'Down'][feature].dropna(), color= 'orange', label= 'Churn: Yes')\n",
        "kdeplot('Price')\n"
      ],
      "execution_count": null,
      "outputs": []
    },
    {
      "cell_type": "markdown",
      "metadata": {
        "id": "pqqxoFHG2PXi"
      },
      "source": [
        "Analyze correlations with seaborn heatmap"
      ]
    },
    {
      "cell_type": "code",
      "metadata": {
        "id": "d54dMuVP2OxE",
        "colab": {
          "base_uri": "https://localhost:8080/",
          "height": 693
        },
        "outputId": "b0c8b87c-9188-4cec-ec0a-d2c5ea807170"
      },
      "source": [
        "corr = df.corr()\n",
        "plt.figure(figsize=[10,10])\n",
        "plt.rcParams['font.size']=7\n",
        "sns.heatmap(corr, cmap='PiYG', annot= True, linewidths=0.3 );"
      ],
      "execution_count": 24,
      "outputs": [
        {
          "output_type": "display_data",
          "data": {
            "image/png": "[encoded data removed]",
            "text/plain": [
              "<Figure size 720x720 with 2 Axes>"
            ]
          },
          "metadata": {}
        }
      ]
    },
    {
      "cell_type": "code",
      "metadata": {
        "id": "Vw4o3Hxvi7cl"
      },
      "source": [
        "def triple_plot(x, title,c):\n",
        "    fig, ax = plt.subplots(3,1,figsize=(25,10),sharex=True)\n",
        "    sns.distplot(x, ax=ax[0],color=c)\n",
        "    ax[0].set(xlabel=None)\n",
        "    ax[0].set_title('Histogram + KDE')\n",
        "    sns.boxplot(x, ax=ax[1],color=c)\n",
        "    ax[1].set(xlabel=None)\n",
        "    ax[1].set_title('Boxplot')\n",
        "    sns.violinplot(x, ax=ax[2],color=c)\n",
        "    ax[2].set(xlabel=None)\n",
        "    ax[2].set_title('Violin plot')\n",
        "    fig.suptitle(title, fontsize=30)\n",
        "    plt.tight_layout(pad=3.0)\n",
        "    plt.show()"
      ],
      "execution_count": null,
      "outputs": []
    },
    {
      "cell_type": "code",
      "metadata": {
        "id": "C0w-mibTlsk2"
      },
      "source": [
        "triple_plot(df['Open'],'Distribution of Opening price',custom_colors[0])"
      ],
      "execution_count": null,
      "outputs": []
    },
    {
      "cell_type": "markdown",
      "metadata": {
        "id": "60itOyhi5ok8"
      },
      "source": [
        "# **Linear Regression**"
      ]
    },
    {
      "cell_type": "markdown",
      "metadata": {
        "id": "_XUZ2uCs5sH5"
      },
      "source": [
        "Ji Qi's part here"
      ]
    },
    {
      "cell_type": "markdown",
      "metadata": {
        "id": "2U0n3WAt5uEu"
      },
      "source": [
        "#**Logistics Regression**"
      ]
    },
    {
      "cell_type": "markdown",
      "metadata": {
        "id": "lAvJlZwRpN4x"
      },
      "source": [
        "Ji Qi's part here"
      ]
    },
    {
      "cell_type": "code",
      "metadata": {
        "colab": {
          "base_uri": "https://localhost:8080/",
          "height": 237
        },
        "id": "hlUvHtb3EvoS",
        "outputId": "41342da1-e2ad-4514-dd51-eba5bf294e15"
      },
      "source": [
        "df.head()"
      ],
      "execution_count": 25,
      "outputs": [
        {
          "output_type": "execute_result",
          "data": {
            "text/html": [
              "<div>\n",
              "<style scoped>\n",
              "    .dataframe tbody tr th:only-of-type {\n",
              "        vertical-align: middle;\n",
              "    }\n",
              "\n",
              "    .dataframe tbody tr th {\n",
              "        vertical-align: top;\n",
              "    }\n",
              "\n",
              "    .dataframe thead th {\n",
              "        text-align: right;\n",
              "    }\n",
              "</style>\n",
              "<table border=\"1\" class=\"dataframe\">\n",
              "  <thead>\n",
              "    <tr style=\"text-align: right;\">\n",
              "      <th></th>\n",
              "      <th>Open</th>\n",
              "      <th>High</th>\n",
              "      <th>Low</th>\n",
              "      <th>Close</th>\n",
              "      <th>Volume_(BTC)</th>\n",
              "      <th>Volume_(Currency)</th>\n",
              "      <th>Weighted_Price</th>\n",
              "      <th>Price</th>\n",
              "      <th>Return</th>\n",
              "      <th>Direction</th>\n",
              "      <th>Percentage_Return</th>\n",
              "    </tr>\n",
              "    <tr>\n",
              "      <th>Timestamp</th>\n",
              "      <th></th>\n",
              "      <th></th>\n",
              "      <th></th>\n",
              "      <th></th>\n",
              "      <th></th>\n",
              "      <th></th>\n",
              "      <th></th>\n",
              "      <th></th>\n",
              "      <th></th>\n",
              "      <th></th>\n",
              "      <th></th>\n",
              "    </tr>\n",
              "  </thead>\n",
              "  <tbody>\n",
              "    <tr>\n",
              "      <th>2011-12-31 07:52:00</th>\n",
              "      <td>4.39</td>\n",
              "      <td>4.39</td>\n",
              "      <td>4.39</td>\n",
              "      <td>4.39</td>\n",
              "      <td>0.455581</td>\n",
              "      <td>2.000000</td>\n",
              "      <td>4.39</td>\n",
              "      <td>4.39</td>\n",
              "      <td>NaN</td>\n",
              "      <td>Down</td>\n",
              "      <td>NaN</td>\n",
              "    </tr>\n",
              "    <tr>\n",
              "      <th>2011-12-31 07:53:00</th>\n",
              "      <td>4.39</td>\n",
              "      <td>4.39</td>\n",
              "      <td>4.39</td>\n",
              "      <td>4.39</td>\n",
              "      <td>0.555046</td>\n",
              "      <td>2.436653</td>\n",
              "      <td>4.39</td>\n",
              "      <td>4.39</td>\n",
              "      <td>0.0</td>\n",
              "      <td>stable</td>\n",
              "      <td>0.0</td>\n",
              "    </tr>\n",
              "    <tr>\n",
              "      <th>2011-12-31 07:54:00</th>\n",
              "      <td>4.39</td>\n",
              "      <td>4.39</td>\n",
              "      <td>4.39</td>\n",
              "      <td>4.39</td>\n",
              "      <td>0.654511</td>\n",
              "      <td>2.873305</td>\n",
              "      <td>4.39</td>\n",
              "      <td>4.39</td>\n",
              "      <td>0.0</td>\n",
              "      <td>stable</td>\n",
              "      <td>0.0</td>\n",
              "    </tr>\n",
              "    <tr>\n",
              "      <th>2011-12-31 07:55:00</th>\n",
              "      <td>4.39</td>\n",
              "      <td>4.39</td>\n",
              "      <td>4.39</td>\n",
              "      <td>4.39</td>\n",
              "      <td>0.753977</td>\n",
              "      <td>3.309958</td>\n",
              "      <td>4.39</td>\n",
              "      <td>4.39</td>\n",
              "      <td>0.0</td>\n",
              "      <td>stable</td>\n",
              "      <td>0.0</td>\n",
              "    </tr>\n",
              "    <tr>\n",
              "      <th>2011-12-31 07:56:00</th>\n",
              "      <td>4.39</td>\n",
              "      <td>4.39</td>\n",
              "      <td>4.39</td>\n",
              "      <td>4.39</td>\n",
              "      <td>0.853442</td>\n",
              "      <td>3.746611</td>\n",
              "      <td>4.39</td>\n",
              "      <td>4.39</td>\n",
              "      <td>0.0</td>\n",
              "      <td>stable</td>\n",
              "      <td>0.0</td>\n",
              "    </tr>\n",
              "  </tbody>\n",
              "</table>\n",
              "</div>"
            ],
            "text/plain": [
              "                     Open  High   Low  ...  Return  Direction  Percentage_Return\n",
              "Timestamp                              ...                                      \n",
              "2011-12-31 07:52:00  4.39  4.39  4.39  ...     NaN       Down                NaN\n",
              "2011-12-31 07:53:00  4.39  4.39  4.39  ...     0.0     stable                0.0\n",
              "2011-12-31 07:54:00  4.39  4.39  4.39  ...     0.0     stable                0.0\n",
              "2011-12-31 07:55:00  4.39  4.39  4.39  ...     0.0     stable                0.0\n",
              "2011-12-31 07:56:00  4.39  4.39  4.39  ...     0.0     stable                0.0\n",
              "\n",
              "[5 rows x 11 columns]"
            ]
          },
          "metadata": {},
          "execution_count": 25
        }
      ]
    },
    {
      "cell_type": "code",
      "metadata": {
        "id": "L1fHHT7gFXBs"
      },
      "source": [
        "df_new = df[df.columns[:8]]"
      ],
      "execution_count": 126,
      "outputs": []
    },
    {
      "cell_type": "markdown",
      "metadata": {
        "id": "pVbpVvXXRrig"
      },
      "source": [
        "- Resampling timestamps and Plot price change over different unit of time "
      ]
    },
    {
      "cell_type": "code",
      "metadata": {
        "id": "afcZq4PDEyNu"
      },
      "source": [
        "# Resampling to half day frequency\n",
        "df_D = df_new.resample('12H').mean()\n",
        "\n",
        "# Resampling to weekly frequency\n",
        "df_W = df_new.resample('W').mean()\n",
        "\n",
        "# Resampling to quarterly frequency\n",
        "df_month = df.resample('3M').mean()\n",
        "\n",
        "# Resampling to annual frequency\n",
        "df_year = df.resample('A-DEC').mean()"
      ],
      "execution_count": 127,
      "outputs": []
    },
    {
      "cell_type": "code",
      "metadata": {
        "id": "GJ1cftZes6A6"
      },
      "source": [
        "def fill_missing(df_D):\n",
        "    ### function to impute missing values using interpolation ###\n",
        "    df_D['Open'] = df_D['Open'].interpolate()\n",
        "    df_D['Close'] = df_D['Close'].interpolate()\n",
        "    df_D['High'] = df_D['High'].interpolate()\n",
        "    df_D['Low'] = df_D['Low'].interpolate()\n",
        "    df_D['Weighted_Price'] = df_D['Weighted_Price'].interpolate()\n",
        "    df_D['Price'] = df_D['Price'].interpolate()\n",
        "    df_D['Volume_(BTC)'] = df_D['Volume_(BTC)'].interpolate()\n",
        "    df_D['Volume_(Currency)'] = df_D['Volume_(Currency)'].interpolate()\n",
        "\n",
        "fill_missing(df_D)\n",
        "fill_missing(df_W)\n",
        "fill_missing(df_month)\n",
        "fill_missing(df_year)"
      ],
      "execution_count": 131,
      "outputs": []
    },
    {
      "cell_type": "code",
      "metadata": {
        "colab": {
          "base_uri": "https://localhost:8080/",
          "height": 674
        },
        "id": "8uXatGMKHQsg",
        "outputId": "87d55945-064b-400a-f450-fb74795d74cb"
      },
      "source": [
        "plt.style.use('ggplot')\n",
        "fig, ax = plt.subplots(2, 2, figsize=(15,10))\n",
        "fig.suptitle(\"The Trend of Bitcoin Price over from 2011 to 2021\", va = 'center', size = 20)\n",
        "ax[0][0].set_title(\"Half Day\", fontsize = 15)\n",
        "ax[0][1].set_title(\"Weekly\", fontsize = 15)\n",
        "ax[1][0].set_title(\"Monthly\", fontsize = 15)\n",
        "ax[1][1].set_title(\"Annually\", fontsize = 15)\n",
        "\n",
        "f1 = sns.lineplot(ax=ax[0][0], x = df_D.index, y = 'Price', data = df_D)\n",
        "f1.set(xlabel='')\n",
        "f1.set_ylabel('Price', fontsize = 15)\n",
        "f2 = sns.lineplot(ax=ax[0][1], x = df_W.index, y = 'Price', data = df_W)\n",
        "f2.set(xlabel='')\n",
        "f2.set_ylabel('Price', fontsize = 15)\n",
        "f3 = sns.lineplot(ax=ax[1][0], x = df_month.index, y = 'Price', data = df_month)\n",
        "f3.set(xlabel='')\n",
        "f3.set_ylabel('Price', fontsize = 15)\n",
        "f4 = sns.lineplot(ax=ax[1][1], x = df_year.index, y = 'Price', data = df_year)\n",
        "f4.set(xlabel='');\n",
        "f4.set_ylabel('Price', fontsize = 15);"
      ],
      "execution_count": 132,
      "outputs": [
        {
          "output_type": "display_data",
          "data": {
            "image/png": "[encoded data removed]",
            "text/plain": [
              "<Figure size 1080x720 with 4 Axes>"
            ]
          },
          "metadata": {}
        }
      ]
    },
    {
      "cell_type": "markdown",
      "metadata": {
        "id": "D1yQ1lakPcXe"
      },
      "source": [
        "- From the above graphs, we can see that there was a steep price increase before 2018 followed by a rapid decline. In addition, the second peak occurred near the middle of 2019.\n",
        "\n",
        "- It is much more accurate to detect the price change over a period of time, if we choose a smaller unit of time. For example, \"Day\" trend displays more information than \"Year\" trend.\n",
        "\n"
      ]
    },
    {
      "cell_type": "code",
      "metadata": {
        "colab": {
          "base_uri": "https://localhost:8080/",
          "height": 409
        },
        "id": "gogYtu6_jFuQ",
        "outputId": "b6e6c1a5-2338-4737-e6c2-bf2556ac2c7f"
      },
      "source": [
        "ax = sns.lineplot(y = df_D.loc['2017-07':'2018-09','Price'], x = df_D['2017-07':'2018-09'].index, marker='o', linestyle='-')\n",
        "ax.set_xlabel('Month')\n",
        "ax.set_ylabel('Price')\n",
        "ax.set_title(\"The Trend of Bitcoin Price over from 2017-07 to 2018-07\", va = 'center', size = 20);"
      ],
      "execution_count": 133,
      "outputs": [
        {
          "output_type": "display_data",
          "data": {
            "image/png": "[encoded data removed]",
            "text/plain": [
              "<Figure size 720x432 with 1 Axes>"
            ]
          },
          "metadata": {}
        }
      ]
    },
    {
      "cell_type": "markdown",
      "metadata": {
        "id": "0xgzQtnqld6-"
      },
      "source": [
        "- When we zoom in on the above graph, it would be much more helpful for us to know the accurate trend of the price change. For example, there was a slump near the end of 2017 and a rapid increase at the beginning of 2018 which was ignored in the original graph."
      ]
    },
    {
      "cell_type": "code",
      "metadata": {
        "colab": {
          "base_uri": "https://localhost:8080/",
          "height": 409
        },
        "id": "DucCw9YclE7V",
        "outputId": "0e34e1f4-a18f-48ad-9086-b16d85a91784"
      },
      "source": [
        "ax_1 = sns.lineplot(y = df_D.loc['2019-02':'2019-10','Price'], x = df_D['2019-02':'2019-10'].index, marker='o', linestyle='-')\n",
        "ax_1.set_xlabel('Month')\n",
        "ax_1.set_ylabel('Price')\n",
        "ax_1.set_title(\"The Trend of Bitcoin Price over from 2019-02 to 2019-10\", va = 'center', size = 20);"
      ],
      "execution_count": 134,
      "outputs": [
        {
          "output_type": "display_data",
          "data": {
            "image/png": "[encoded data removed]",
            "text/plain": [
              "<Figure size 720x432 with 1 Axes>"
            ]
          },
          "metadata": {}
        }
      ]
    },
    {
      "cell_type": "code",
      "metadata": {
        "colab": {
          "base_uri": "https://localhost:8080/"
        },
        "id": "qgVK9uqEqWsH",
        "outputId": "43ce34c9-2fc1-46bc-e9d4-862754ee0d9f"
      },
      "source": [
        "df_D.info()"
      ],
      "execution_count": 135,
      "outputs": [
        {
          "output_type": "stream",
          "name": "stdout",
          "text": [
            "<class 'pandas.core.frame.DataFrame'>\n",
            "DatetimeIndex: 6757 entries, 2011-12-31 00:00:00 to 2021-03-31 00:00:00\n",
            "Freq: 12H\n",
            "Data columns (total 8 columns):\n",
            " #   Column             Non-Null Count  Dtype  \n",
            "---  ------             --------------  -----  \n",
            " 0   Open               6757 non-null   float64\n",
            " 1   High               6757 non-null   float64\n",
            " 2   Low                6757 non-null   float64\n",
            " 3   Close              6757 non-null   float64\n",
            " 4   Volume_(BTC)       6757 non-null   float64\n",
            " 5   Volume_(Currency)  6757 non-null   float64\n",
            " 6   Weighted_Price     6757 non-null   float64\n",
            " 7   Price              6757 non-null   float64\n",
            "dtypes: float64(8)\n",
            "memory usage: 795.1 KB\n"
          ]
        }
      ]
    },
    {
      "cell_type": "code",
      "metadata": {
        "colab": {
          "base_uri": "https://localhost:8080/"
        },
        "id": "DX5txCljZjmu",
        "outputId": "22ec771a-2228-4629-8b81-2b5ce70efd0c"
      },
      "source": [
        "df_D[df_D['year'] > 2016].groupby('month').Price.mean().sort_values(ascending = False)"
      ],
      "execution_count": 269,
      "outputs": [
        {
          "output_type": "execute_result",
          "data": {
            "text/plain": [
              "month\n",
              "Mar    14845.677018\n",
              "Feb    13933.569778\n",
              "Jan    12067.198229\n",
              "Dec    11890.942336\n",
              "Nov     9504.273731\n",
              "Aug     8191.854790\n",
              "Oct     7975.827819\n",
              "Sep     7779.921215\n",
              "Jul     7451.216032\n",
              "Jun     7055.526904\n",
              "May     6695.339822\n",
              "Apr     5378.015854\n",
              "Name: Price, dtype: float64"
            ]
          },
          "metadata": {},
          "execution_count": 269
        }
      ]
    },
    {
      "cell_type": "code",
      "metadata": {
        "colab": {
          "base_uri": "https://localhost:8080/",
          "height": 524
        },
        "id": "KI2kFtHrY729",
        "outputId": "af162b95-c125-4e84-a560-e95373765a81"
      },
      "source": [
        "df_D['year'] = [d.year for d in df_D.index]\n",
        "df_D['month'] = [d.strftime('%b') for d in df_D.index]\n",
        "years = df_D['year'].unique()\n",
        "\n",
        "\n",
        "fig, axes = plt.subplots(1, 2, figsize=(20,7), dpi= 80)\n",
        "sns.boxplot(x='year', y='Price', data=df_D, ax = axes[0])  \n",
        "sns.boxplot(x='month', y='Price', data=df_D.loc[df_D.year.isin(list(range(2017,2022)))], ax= axes[1])\n",
        "\n",
        "\n",
        "axes[0].set_title('Yearly Trend', fontsize=18); \n",
        "axes[1].set_title('Monthly Trend', fontsize=18);\n"
      ],
      "execution_count": 268,
      "outputs": [
        {
          "output_type": "display_data",
          "data": {
            "image/png": "[encoded data removed]",
            "text/plain": [
              "<Figure size 1600x560 with 2 Axes>"
            ]
          },
          "metadata": {}
        }
      ]
    },
    {
      "cell_type": "markdown",
      "metadata": {
        "id": "wUrMFttYbewx"
      },
      "source": [
        "- According to the above two boxplots, the left one shows the yearly trend of the bitcoins price, and we can see that from 2011 to 2016, the price almost had no change. Since 2017, the price started to increase and there was a rapid growth from 2020 to 2021. In addition, the maximum fluctutations in prices occurred in 2021.\n",
        "\n",
        "- From the right plot, the highest mean value happened at the first quarter of the year and the lowest mean value appeared at the fourth quarter of each year. In addition, there were more outliers which was way higher than the mean values of each month appeared during the first quarter."
      ]
    },
    {
      "cell_type": "markdown",
      "metadata": {
        "id": "RX5xYBb0Sd_3"
      },
      "source": [
        "- Half Day Price Prediction Using Logistic Regression"
      ]
    },
    {
      "cell_type": "code",
      "metadata": {
        "colab": {
          "base_uri": "https://localhost:8080/",
          "height": 568
        },
        "id": "OyIkORvpV4V1",
        "outputId": "c537245a-0fe3-4184-dfa6-9804434ce707"
      },
      "source": [
        "df_D.loc[:, 'Next_Price'] = df_D['Price'].shift(-1)\n",
        "\n",
        "df_D.loc[(df_D['Price'] > df_D['Next_Price']), 'Trend'] = 0\n",
        "df_D.loc[(df_D['Price'] < df_D['Next_Price']), 'Trend'] = 1\n",
        "\n",
        "df_D.drop(df.index[-1], axis=0, inplace=True) \n",
        "\n",
        "#df_D[['price_trend']] = df[['price_trend']].astype(int)\n",
        "\n",
        "print(df_D.info())\n",
        "df_D.head()"
      ],
      "execution_count": 136,
      "outputs": [
        {
          "output_type": "stream",
          "name": "stdout",
          "text": [
            "<class 'pandas.core.frame.DataFrame'>\n",
            "DatetimeIndex: 6756 entries, 2011-12-31 00:00:00 to 2021-03-30 12:00:00\n",
            "Freq: 12H\n",
            "Data columns (total 10 columns):\n",
            " #   Column             Non-Null Count  Dtype  \n",
            "---  ------             --------------  -----  \n",
            " 0   Open               6756 non-null   float64\n",
            " 1   High               6756 non-null   float64\n",
            " 2   Low                6756 non-null   float64\n",
            " 3   Close              6756 non-null   float64\n",
            " 4   Volume_(BTC)       6756 non-null   float64\n",
            " 5   Volume_(Currency)  6756 non-null   float64\n",
            " 6   Weighted_Price     6756 non-null   float64\n",
            " 7   Price              6756 non-null   float64\n",
            " 8   Next_Price         6756 non-null   float64\n",
            " 9   Trend              6756 non-null   float64\n",
            "dtypes: float64(10)\n",
            "memory usage: 580.6 KB\n",
            "None\n"
          ]
        },
        {
          "output_type": "execute_result",
          "data": {
            "text/html": [
              "<div>\n",
              "<style scoped>\n",
              "    .dataframe tbody tr th:only-of-type {\n",
              "        vertical-align: middle;\n",
              "    }\n",
              "\n",
              "    .dataframe tbody tr th {\n",
              "        vertical-align: top;\n",
              "    }\n",
              "\n",
              "    .dataframe thead th {\n",
              "        text-align: right;\n",
              "    }\n",
              "</style>\n",
              "<table border=\"1\" class=\"dataframe\">\n",
              "  <thead>\n",
              "    <tr style=\"text-align: right;\">\n",
              "      <th></th>\n",
              "      <th>Open</th>\n",
              "      <th>High</th>\n",
              "      <th>Low</th>\n",
              "      <th>Close</th>\n",
              "      <th>Volume_(BTC)</th>\n",
              "      <th>Volume_(Currency)</th>\n",
              "      <th>Weighted_Price</th>\n",
              "      <th>Price</th>\n",
              "      <th>Next_Price</th>\n",
              "      <th>Trend</th>\n",
              "    </tr>\n",
              "    <tr>\n",
              "      <th>Timestamp</th>\n",
              "      <th></th>\n",
              "      <th></th>\n",
              "      <th></th>\n",
              "      <th></th>\n",
              "      <th></th>\n",
              "      <th></th>\n",
              "      <th></th>\n",
              "      <th></th>\n",
              "      <th></th>\n",
              "      <th></th>\n",
              "    </tr>\n",
              "  </thead>\n",
              "  <tbody>\n",
              "    <tr>\n",
              "      <th>2011-12-31 00:00:00</th>\n",
              "      <td>4.390000</td>\n",
              "      <td>4.390000</td>\n",
              "      <td>4.390000</td>\n",
              "      <td>4.390000</td>\n",
              "      <td>12.739547</td>\n",
              "      <td>55.926611</td>\n",
              "      <td>4.390000</td>\n",
              "      <td>4.390000</td>\n",
              "      <td>4.507882</td>\n",
              "      <td>1.0</td>\n",
              "    </tr>\n",
              "    <tr>\n",
              "      <th>2011-12-31 12:00:00</th>\n",
              "      <td>4.506181</td>\n",
              "      <td>4.509583</td>\n",
              "      <td>4.506181</td>\n",
              "      <td>4.509583</td>\n",
              "      <td>19.731839</td>\n",
              "      <td>87.613799</td>\n",
              "      <td>4.507464</td>\n",
              "      <td>4.507882</td>\n",
              "      <td>4.637722</td>\n",
              "      <td>1.0</td>\n",
              "    </tr>\n",
              "    <tr>\n",
              "      <th>2012-01-01 00:00:00</th>\n",
              "      <td>4.637722</td>\n",
              "      <td>4.637722</td>\n",
              "      <td>4.637722</td>\n",
              "      <td>4.637722</td>\n",
              "      <td>3.895386</td>\n",
              "      <td>18.418087</td>\n",
              "      <td>4.637722</td>\n",
              "      <td>4.637722</td>\n",
              "      <td>4.893431</td>\n",
              "      <td>1.0</td>\n",
              "    </tr>\n",
              "    <tr>\n",
              "      <th>2012-01-01 12:00:00</th>\n",
              "      <td>4.893431</td>\n",
              "      <td>4.893431</td>\n",
              "      <td>4.893431</td>\n",
              "      <td>4.893431</td>\n",
              "      <td>9.685895</td>\n",
              "      <td>47.524124</td>\n",
              "      <td>4.893431</td>\n",
              "      <td>4.893431</td>\n",
              "      <td>5.000000</td>\n",
              "      <td>1.0</td>\n",
              "    </tr>\n",
              "    <tr>\n",
              "      <th>2012-01-02 00:00:00</th>\n",
              "      <td>5.000000</td>\n",
              "      <td>5.000000</td>\n",
              "      <td>5.000000</td>\n",
              "      <td>5.000000</td>\n",
              "      <td>13.139801</td>\n",
              "      <td>65.699007</td>\n",
              "      <td>5.000000</td>\n",
              "      <td>5.000000</td>\n",
              "      <td>5.013097</td>\n",
              "      <td>1.0</td>\n",
              "    </tr>\n",
              "  </tbody>\n",
              "</table>\n",
              "</div>"
            ],
            "text/plain": [
              "                         Open      High       Low  ...     Price  Next_Price  Trend\n",
              "Timestamp                                          ...                             \n",
              "2011-12-31 00:00:00  4.390000  4.390000  4.390000  ...  4.390000    4.507882    1.0\n",
              "2011-12-31 12:00:00  4.506181  4.509583  4.506181  ...  4.507882    4.637722    1.0\n",
              "2012-01-01 00:00:00  4.637722  4.637722  4.637722  ...  4.637722    4.893431    1.0\n",
              "2012-01-01 12:00:00  4.893431  4.893431  4.893431  ...  4.893431    5.000000    1.0\n",
              "2012-01-02 00:00:00  5.000000  5.000000  5.000000  ...  5.000000    5.013097    1.0\n",
              "\n",
              "[5 rows x 10 columns]"
            ]
          },
          "metadata": {},
          "execution_count": 136
        }
      ]
    },
    {
      "cell_type": "code",
      "metadata": {
        "id": "XNpEb2aLF6Y9"
      },
      "source": [
        "# plt.style.use('classic')\n",
        "# sns.pairplot(df_D, hue='Trend', height=2.5);"
      ],
      "execution_count": null,
      "outputs": []
    },
    {
      "cell_type": "code",
      "metadata": {
        "id": "0JPGJ6qHcige"
      },
      "source": [
        "df_corr = df_D[list(df_D.columns[:6]) + list(df_D.columns[7:9])]"
      ],
      "execution_count": 137,
      "outputs": []
    },
    {
      "cell_type": "code",
      "metadata": {
        "colab": {
          "base_uri": "https://localhost:8080/",
          "height": 710
        },
        "id": "J4QJw3CDgqer",
        "outputId": "9236391b-be5f-421d-a0e5-e77d42c8365f"
      },
      "source": [
        "corr_heatmap = df_corr.corr()\n",
        "plt.figure(figsize=[10,10])\n",
        "plt.rcParams['font.size']=15\n",
        "sns.heatmap(corr_heatmap, cmap = 'coolwarm', annot = True, linewidths = 0.8)\n",
        "#sns.heatmap(corr, cmap='PiYG', annot= True, linewidths=0.3 );"
      ],
      "execution_count": 138,
      "outputs": [
        {
          "output_type": "execute_result",
          "data": {
            "text/plain": [
              "<matplotlib.axes._subplots.AxesSubplot at 0x7f92d6d97d90>"
            ]
          },
          "metadata": {},
          "execution_count": 138
        },
        {
          "output_type": "display_data",
          "data": {
            "image/png": "[encoded data removed]",
            "text/plain": [
              "<Figure size 720x720 with 2 Axes>"
            ]
          },
          "metadata": {}
        }
      ]
    },
    {
      "cell_type": "code",
      "metadata": {
        "colab": {
          "base_uri": "https://localhost:8080/"
        },
        "id": "ddZcVCAfnPSj",
        "outputId": "6e4a77b0-26c1-479c-ee7a-86e4902eb793"
      },
      "source": [
        "# Predictor X\n",
        "X = df_D.drop([\"Trend\", 'Volume_(BTC)', 'Weighted_Price','Next_Price'],  axis = 1)\n",
        "X.shape"
      ],
      "execution_count": 158,
      "outputs": [
        {
          "output_type": "execute_result",
          "data": {
            "text/plain": [
              "(6756, 6)"
            ]
          },
          "metadata": {},
          "execution_count": 158
        }
      ]
    },
    {
      "cell_type": "code",
      "metadata": {
        "colab": {
          "base_uri": "https://localhost:8080/"
        },
        "id": "y0g1SGgtnuOH",
        "outputId": "71a57a4b-23c1-418d-b949-51df803225a4"
      },
      "source": [
        "# Response y\n",
        "y = df_D['Trend']\n",
        "y.shape"
      ],
      "execution_count": 159,
      "outputs": [
        {
          "output_type": "execute_result",
          "data": {
            "text/plain": [
              "(6756,)"
            ]
          },
          "metadata": {},
          "execution_count": 159
        }
      ]
    },
    {
      "cell_type": "code",
      "metadata": {
        "id": "cQnEudj7n2p_"
      },
      "source": [
        "# Split the text and train sets \n",
        "# Use a 20% split for test.\n",
        "from sklearn.model_selection import train_test_split\n",
        "Xtrain, Xtest, ytrain, ytest = train_test_split(X, y, test_size=0.2, random_state=888)"
      ],
      "execution_count": 160,
      "outputs": []
    },
    {
      "cell_type": "code",
      "metadata": {
        "colab": {
          "base_uri": "https://localhost:8080/"
        },
        "id": "lNOBb8QrvZ9q",
        "outputId": "5eb3addd-7137-44ea-b4cb-8a56519a8c66"
      },
      "source": [
        "len(Xtrain), len(Xtest), len(ytrain), len(ytest)"
      ],
      "execution_count": 161,
      "outputs": [
        {
          "output_type": "execute_result",
          "data": {
            "text/plain": [
              "(5404, 1352, 5404, 1352)"
            ]
          },
          "metadata": {},
          "execution_count": 161
        }
      ]
    },
    {
      "cell_type": "code",
      "metadata": {
        "id": "jFNN8BeYoM_y"
      },
      "source": [
        "from sklearn.linear_model import LogisticRegression   # choose model class\n",
        "model = LogisticRegression(solver='liblinear')       # instantiate model"
      ],
      "execution_count": 162,
      "outputs": []
    },
    {
      "cell_type": "code",
      "metadata": {
        "colab": {
          "base_uri": "https://localhost:8080/"
        },
        "id": "XLb1xL5coRFm",
        "outputId": "e56cdbb4-4894-4056-b09e-2c634fb20ecb"
      },
      "source": [
        "# Fit model to the training data:\n",
        "model.fit(Xtrain, ytrain)"
      ],
      "execution_count": 163,
      "outputs": [
        {
          "output_type": "execute_result",
          "data": {
            "text/plain": [
              "LogisticRegression(C=1.0, class_weight=None, dual=False, fit_intercept=True,\n",
              "                   intercept_scaling=1, l1_ratio=None, max_iter=100,\n",
              "                   multi_class='auto', n_jobs=None, penalty='l2',\n",
              "                   random_state=None, solver='liblinear', tol=0.0001, verbose=0,\n",
              "                   warm_start=False)"
            ]
          },
          "metadata": {},
          "execution_count": 163
        }
      ]
    },
    {
      "cell_type": "code",
      "metadata": {
        "id": "xCyd6erYtUi_"
      },
      "source": [
        "# Predict the test set\n",
        "y_model = model.predict(Xtest)"
      ],
      "execution_count": 164,
      "outputs": []
    },
    {
      "cell_type": "code",
      "metadata": {
        "colab": {
          "base_uri": "https://localhost:8080/",
          "height": 424
        },
        "id": "IC0DH-QqtrMB",
        "outputId": "d269de01-3f8c-4079-e45a-804bc7c5b112"
      },
      "source": [
        "test = Xtest.join(ytest).reset_index()\n",
        "test.join(pd.Series(y_model, name = 'predicted trend')).sort_values('Timestamp').reset_index().drop('index', axis = 1)"
      ],
      "execution_count": 173,
      "outputs": [
        {
          "output_type": "execute_result",
          "data": {
            "text/html": [
              "<div>\n",
              "<style scoped>\n",
              "    .dataframe tbody tr th:only-of-type {\n",
              "        vertical-align: middle;\n",
              "    }\n",
              "\n",
              "    .dataframe tbody tr th {\n",
              "        vertical-align: top;\n",
              "    }\n",
              "\n",
              "    .dataframe thead th {\n",
              "        text-align: right;\n",
              "    }\n",
              "</style>\n",
              "<table border=\"1\" class=\"dataframe\">\n",
              "  <thead>\n",
              "    <tr style=\"text-align: right;\">\n",
              "      <th></th>\n",
              "      <th>Timestamp</th>\n",
              "      <th>Open</th>\n",
              "      <th>High</th>\n",
              "      <th>Low</th>\n",
              "      <th>Close</th>\n",
              "      <th>Volume_(Currency)</th>\n",
              "      <th>Price</th>\n",
              "      <th>Trend</th>\n",
              "      <th>predicted trend</th>\n",
              "    </tr>\n",
              "  </thead>\n",
              "  <tbody>\n",
              "    <tr>\n",
              "      <th>0</th>\n",
              "      <td>2011-12-31 12:00:00</td>\n",
              "      <td>4.506181</td>\n",
              "      <td>4.509583</td>\n",
              "      <td>4.506181</td>\n",
              "      <td>4.509583</td>\n",
              "      <td>87.613799</td>\n",
              "      <td>4.507882</td>\n",
              "      <td>1.0</td>\n",
              "      <td>1.0</td>\n",
              "    </tr>\n",
              "    <tr>\n",
              "      <th>1</th>\n",
              "      <td>2012-01-01 00:00:00</td>\n",
              "      <td>4.637722</td>\n",
              "      <td>4.637722</td>\n",
              "      <td>4.637722</td>\n",
              "      <td>4.637722</td>\n",
              "      <td>18.418087</td>\n",
              "      <td>4.637722</td>\n",
              "      <td>1.0</td>\n",
              "      <td>1.0</td>\n",
              "    </tr>\n",
              "    <tr>\n",
              "      <th>2</th>\n",
              "      <td>2012-01-09 00:00:00</td>\n",
              "      <td>6.964578</td>\n",
              "      <td>6.964578</td>\n",
              "      <td>6.917682</td>\n",
              "      <td>6.917682</td>\n",
              "      <td>34.000604</td>\n",
              "      <td>6.941130</td>\n",
              "      <td>0.0</td>\n",
              "      <td>1.0</td>\n",
              "    </tr>\n",
              "    <tr>\n",
              "      <th>3</th>\n",
              "      <td>2012-01-10 00:00:00</td>\n",
              "      <td>6.288617</td>\n",
              "      <td>6.288617</td>\n",
              "      <td>6.288617</td>\n",
              "      <td>6.288617</td>\n",
              "      <td>12.598508</td>\n",
              "      <td>6.288617</td>\n",
              "      <td>1.0</td>\n",
              "      <td>1.0</td>\n",
              "    </tr>\n",
              "    <tr>\n",
              "      <th>4</th>\n",
              "      <td>2012-01-14 12:00:00</td>\n",
              "      <td>6.359557</td>\n",
              "      <td>6.359557</td>\n",
              "      <td>6.343395</td>\n",
              "      <td>6.343395</td>\n",
              "      <td>8.280054</td>\n",
              "      <td>6.351476</td>\n",
              "      <td>1.0</td>\n",
              "      <td>1.0</td>\n",
              "    </tr>\n",
              "    <tr>\n",
              "      <th>...</th>\n",
              "      <td>...</td>\n",
              "      <td>...</td>\n",
              "      <td>...</td>\n",
              "      <td>...</td>\n",
              "      <td>...</td>\n",
              "      <td>...</td>\n",
              "      <td>...</td>\n",
              "      <td>...</td>\n",
              "      <td>...</td>\n",
              "    </tr>\n",
              "    <tr>\n",
              "      <th>1347</th>\n",
              "      <td>2021-03-22 12:00:00</td>\n",
              "      <td>56183.683319</td>\n",
              "      <td>56228.523264</td>\n",
              "      <td>56133.421514</td>\n",
              "      <td>56180.341861</td>\n",
              "      <td>387817.086917</td>\n",
              "      <td>56181.492490</td>\n",
              "      <td>0.0</td>\n",
              "      <td>0.0</td>\n",
              "    </tr>\n",
              "    <tr>\n",
              "      <th>1348</th>\n",
              "      <td>2021-03-25 00:00:00</td>\n",
              "      <td>52553.899500</td>\n",
              "      <td>52592.720049</td>\n",
              "      <td>52515.332875</td>\n",
              "      <td>52554.748104</td>\n",
              "      <td>183955.728220</td>\n",
              "      <td>52554.175132</td>\n",
              "      <td>0.0</td>\n",
              "      <td>1.0</td>\n",
              "    </tr>\n",
              "    <tr>\n",
              "      <th>1349</th>\n",
              "      <td>2021-03-26 12:00:00</td>\n",
              "      <td>53770.366264</td>\n",
              "      <td>53803.715736</td>\n",
              "      <td>53741.468667</td>\n",
              "      <td>53774.297583</td>\n",
              "      <td>195360.169663</td>\n",
              "      <td>53772.462063</td>\n",
              "      <td>1.0</td>\n",
              "      <td>1.0</td>\n",
              "    </tr>\n",
              "    <tr>\n",
              "      <th>1350</th>\n",
              "      <td>2021-03-28 12:00:00</td>\n",
              "      <td>55593.484910</td>\n",
              "      <td>55621.024493</td>\n",
              "      <td>55567.182479</td>\n",
              "      <td>55595.230937</td>\n",
              "      <td>95539.843663</td>\n",
              "      <td>55594.230705</td>\n",
              "      <td>1.0</td>\n",
              "      <td>1.0</td>\n",
              "    </tr>\n",
              "    <tr>\n",
              "      <th>1351</th>\n",
              "      <td>2021-03-29 12:00:00</td>\n",
              "      <td>57758.664056</td>\n",
              "      <td>57791.219319</td>\n",
              "      <td>57725.168125</td>\n",
              "      <td>57757.188875</td>\n",
              "      <td>238740.451105</td>\n",
              "      <td>57758.060094</td>\n",
              "      <td>1.0</td>\n",
              "      <td>1.0</td>\n",
              "    </tr>\n",
              "  </tbody>\n",
              "</table>\n",
              "<p>1352 rows × 9 columns</p>\n",
              "</div>"
            ],
            "text/plain": [
              "               Timestamp          Open  ...  Trend  predicted trend\n",
              "0    2011-12-31 12:00:00      4.506181  ...    1.0              1.0\n",
              "1    2012-01-01 00:00:00      4.637722  ...    1.0              1.0\n",
              "2    2012-01-09 00:00:00      6.964578  ...    0.0              1.0\n",
              "3    2012-01-10 00:00:00      6.288617  ...    1.0              1.0\n",
              "4    2012-01-14 12:00:00      6.359557  ...    1.0              1.0\n",
              "...                  ...           ...  ...    ...              ...\n",
              "1347 2021-03-22 12:00:00  56183.683319  ...    0.0              0.0\n",
              "1348 2021-03-25 00:00:00  52553.899500  ...    0.0              1.0\n",
              "1349 2021-03-26 12:00:00  53770.366264  ...    1.0              1.0\n",
              "1350 2021-03-28 12:00:00  55593.484910  ...    1.0              1.0\n",
              "1351 2021-03-29 12:00:00  57758.664056  ...    1.0              1.0\n",
              "\n",
              "[1352 rows x 9 columns]"
            ]
          },
          "metadata": {},
          "execution_count": 173
        }
      ]
    },
    {
      "cell_type": "code",
      "metadata": {
        "colab": {
          "base_uri": "https://localhost:8080/"
        },
        "id": "q9hTK8Dst_Ay",
        "outputId": "75a5e8a0-3370-40a5-efb1-4eb5d7d289f6"
      },
      "source": [
        "# Check the accuracy of this model\n",
        "from sklearn.metrics import accuracy_score\n",
        "accuracy_score(ytest, y_model)"
      ],
      "execution_count": 167,
      "outputs": [
        {
          "output_type": "execute_result",
          "data": {
            "text/plain": [
              "0.5421597633136095"
            ]
          },
          "metadata": {},
          "execution_count": 167
        }
      ]
    },
    {
      "cell_type": "code",
      "metadata": {
        "colab": {
          "base_uri": "https://localhost:8080/"
        },
        "id": "-XId8xY3uIlQ",
        "outputId": "82722342-d9d4-42c0-865d-9b8eea59b9fd"
      },
      "source": [
        "sum(y_model == ytest) / len(ytest)"
      ],
      "execution_count": 168,
      "outputs": [
        {
          "output_type": "execute_result",
          "data": {
            "text/plain": [
              "0.5421597633136095"
            ]
          },
          "metadata": {},
          "execution_count": 168
        }
      ]
    },
    {
      "cell_type": "code",
      "metadata": {
        "colab": {
          "base_uri": "https://localhost:8080/"
        },
        "id": "D5StgZ13uVM5",
        "outputId": "3428d76d-a8cf-4686-8116-ec7965377eea"
      },
      "source": [
        "model.score(Xtest, ytest)"
      ],
      "execution_count": 169,
      "outputs": [
        {
          "output_type": "execute_result",
          "data": {
            "text/plain": [
              "0.5421597633136095"
            ]
          },
          "metadata": {},
          "execution_count": 169
        }
      ]
    },
    {
      "cell_type": "markdown",
      "metadata": {
        "id": "LrkzZ9IUd_Fj"
      },
      "source": [
        "- Our Logistic Regression model outputs the model accuracy at 54%"
      ]
    },
    {
      "cell_type": "code",
      "metadata": {
        "id": "QJdUHi1lyEfN"
      },
      "source": [
        "from sklearn.naive_bayes import GaussianNB\n",
        "model_g = GaussianNB()\n",
        "model_g.fit(Xtrain, ytrain)\n",
        "y_model_g = model_g.predict(Xtest)\n"
      ],
      "execution_count": 174,
      "outputs": []
    },
    {
      "cell_type": "code",
      "metadata": {
        "colab": {
          "base_uri": "https://localhost:8080/",
          "height": 424
        },
        "id": "CJ0vq9x5yWNh",
        "outputId": "7f9ed9ea-bd68-42ad-ba8c-6a5a20a29222"
      },
      "source": [
        "Xtest = Xtest.join(ytest, sort = True).reset_index()\n",
        "Xtest.join(pd.Series(y_model_g, name = 'predicted_trend'))"
      ],
      "execution_count": 191,
      "outputs": [
        {
          "output_type": "execute_result",
          "data": {
            "text/html": [
              "<div>\n",
              "<style scoped>\n",
              "    .dataframe tbody tr th:only-of-type {\n",
              "        vertical-align: middle;\n",
              "    }\n",
              "\n",
              "    .dataframe tbody tr th {\n",
              "        vertical-align: top;\n",
              "    }\n",
              "\n",
              "    .dataframe thead th {\n",
              "        text-align: right;\n",
              "    }\n",
              "</style>\n",
              "<table border=\"1\" class=\"dataframe\">\n",
              "  <thead>\n",
              "    <tr style=\"text-align: right;\">\n",
              "      <th></th>\n",
              "      <th>Timestamp</th>\n",
              "      <th>Open</th>\n",
              "      <th>High</th>\n",
              "      <th>Low</th>\n",
              "      <th>Close</th>\n",
              "      <th>Volume_(Currency)</th>\n",
              "      <th>Price</th>\n",
              "      <th>Trend</th>\n",
              "      <th>predicted_trend</th>\n",
              "    </tr>\n",
              "  </thead>\n",
              "  <tbody>\n",
              "    <tr>\n",
              "      <th>0</th>\n",
              "      <td>2011-12-31 12:00:00</td>\n",
              "      <td>4.506181</td>\n",
              "      <td>4.509583</td>\n",
              "      <td>4.506181</td>\n",
              "      <td>4.509583</td>\n",
              "      <td>87.613799</td>\n",
              "      <td>4.507882</td>\n",
              "      <td>1.0</td>\n",
              "      <td>1.0</td>\n",
              "    </tr>\n",
              "    <tr>\n",
              "      <th>1</th>\n",
              "      <td>2012-01-01 00:00:00</td>\n",
              "      <td>4.637722</td>\n",
              "      <td>4.637722</td>\n",
              "      <td>4.637722</td>\n",
              "      <td>4.637722</td>\n",
              "      <td>18.418087</td>\n",
              "      <td>4.637722</td>\n",
              "      <td>1.0</td>\n",
              "      <td>1.0</td>\n",
              "    </tr>\n",
              "    <tr>\n",
              "      <th>2</th>\n",
              "      <td>2012-01-09 00:00:00</td>\n",
              "      <td>6.964578</td>\n",
              "      <td>6.964578</td>\n",
              "      <td>6.917682</td>\n",
              "      <td>6.917682</td>\n",
              "      <td>34.000604</td>\n",
              "      <td>6.941130</td>\n",
              "      <td>0.0</td>\n",
              "      <td>1.0</td>\n",
              "    </tr>\n",
              "    <tr>\n",
              "      <th>3</th>\n",
              "      <td>2012-01-10 00:00:00</td>\n",
              "      <td>6.288617</td>\n",
              "      <td>6.288617</td>\n",
              "      <td>6.288617</td>\n",
              "      <td>6.288617</td>\n",
              "      <td>12.598508</td>\n",
              "      <td>6.288617</td>\n",
              "      <td>1.0</td>\n",
              "      <td>1.0</td>\n",
              "    </tr>\n",
              "    <tr>\n",
              "      <th>4</th>\n",
              "      <td>2012-01-14 12:00:00</td>\n",
              "      <td>6.359557</td>\n",
              "      <td>6.359557</td>\n",
              "      <td>6.343395</td>\n",
              "      <td>6.343395</td>\n",
              "      <td>8.280054</td>\n",
              "      <td>6.351476</td>\n",
              "      <td>1.0</td>\n",
              "      <td>1.0</td>\n",
              "    </tr>\n",
              "    <tr>\n",
              "      <th>...</th>\n",
              "      <td>...</td>\n",
              "      <td>...</td>\n",
              "      <td>...</td>\n",
              "      <td>...</td>\n",
              "      <td>...</td>\n",
              "      <td>...</td>\n",
              "      <td>...</td>\n",
              "      <td>...</td>\n",
              "      <td>...</td>\n",
              "    </tr>\n",
              "    <tr>\n",
              "      <th>1347</th>\n",
              "      <td>2021-03-22 12:00:00</td>\n",
              "      <td>56183.683319</td>\n",
              "      <td>56228.523264</td>\n",
              "      <td>56133.421514</td>\n",
              "      <td>56180.341861</td>\n",
              "      <td>387817.086917</td>\n",
              "      <td>56181.492490</td>\n",
              "      <td>0.0</td>\n",
              "      <td>1.0</td>\n",
              "    </tr>\n",
              "    <tr>\n",
              "      <th>1348</th>\n",
              "      <td>2021-03-25 00:00:00</td>\n",
              "      <td>52553.899500</td>\n",
              "      <td>52592.720049</td>\n",
              "      <td>52515.332875</td>\n",
              "      <td>52554.748104</td>\n",
              "      <td>183955.728220</td>\n",
              "      <td>52554.175132</td>\n",
              "      <td>0.0</td>\n",
              "      <td>1.0</td>\n",
              "    </tr>\n",
              "    <tr>\n",
              "      <th>1349</th>\n",
              "      <td>2021-03-26 12:00:00</td>\n",
              "      <td>53770.366264</td>\n",
              "      <td>53803.715736</td>\n",
              "      <td>53741.468667</td>\n",
              "      <td>53774.297583</td>\n",
              "      <td>195360.169663</td>\n",
              "      <td>53772.462063</td>\n",
              "      <td>1.0</td>\n",
              "      <td>1.0</td>\n",
              "    </tr>\n",
              "    <tr>\n",
              "      <th>1350</th>\n",
              "      <td>2021-03-28 12:00:00</td>\n",
              "      <td>55593.484910</td>\n",
              "      <td>55621.024493</td>\n",
              "      <td>55567.182479</td>\n",
              "      <td>55595.230937</td>\n",
              "      <td>95539.843663</td>\n",
              "      <td>55594.230705</td>\n",
              "      <td>1.0</td>\n",
              "      <td>1.0</td>\n",
              "    </tr>\n",
              "    <tr>\n",
              "      <th>1351</th>\n",
              "      <td>2021-03-29 12:00:00</td>\n",
              "      <td>57758.664056</td>\n",
              "      <td>57791.219319</td>\n",
              "      <td>57725.168125</td>\n",
              "      <td>57757.188875</td>\n",
              "      <td>238740.451105</td>\n",
              "      <td>57758.060094</td>\n",
              "      <td>1.0</td>\n",
              "      <td>1.0</td>\n",
              "    </tr>\n",
              "  </tbody>\n",
              "</table>\n",
              "<p>1352 rows × 9 columns</p>\n",
              "</div>"
            ],
            "text/plain": [
              "               Timestamp          Open  ...  Trend  predicted_trend\n",
              "0    2011-12-31 12:00:00      4.506181  ...    1.0              1.0\n",
              "1    2012-01-01 00:00:00      4.637722  ...    1.0              1.0\n",
              "2    2012-01-09 00:00:00      6.964578  ...    0.0              1.0\n",
              "3    2012-01-10 00:00:00      6.288617  ...    1.0              1.0\n",
              "4    2012-01-14 12:00:00      6.359557  ...    1.0              1.0\n",
              "...                  ...           ...  ...    ...              ...\n",
              "1347 2021-03-22 12:00:00  56183.683319  ...    0.0              1.0\n",
              "1348 2021-03-25 00:00:00  52553.899500  ...    0.0              1.0\n",
              "1349 2021-03-26 12:00:00  53770.366264  ...    1.0              1.0\n",
              "1350 2021-03-28 12:00:00  55593.484910  ...    1.0              1.0\n",
              "1351 2021-03-29 12:00:00  57758.664056  ...    1.0              1.0\n",
              "\n",
              "[1352 rows x 9 columns]"
            ]
          },
          "metadata": {},
          "execution_count": 191
        }
      ]
    },
    {
      "cell_type": "code",
      "metadata": {
        "colab": {
          "base_uri": "https://localhost:8080/"
        },
        "id": "E6-4iy6HyCDw",
        "outputId": "1680b286-2dfa-4804-c613-5f1c9c81323e"
      },
      "source": [
        "sum(y_model_g == ytest) / len(ytest)"
      ],
      "execution_count": 201,
      "outputs": [
        {
          "output_type": "execute_result",
          "data": {
            "text/plain": [
              "0.5318047337278107"
            ]
          },
          "metadata": {},
          "execution_count": 201
        }
      ]
    },
    {
      "cell_type": "markdown",
      "metadata": {
        "id": "lcBmpNSgeQAe"
      },
      "source": [
        "- Our gaussian naive bayes model shows the model accuracy at 53%, which is slightly lower than the Logistic Regression model.\n",
        "\n",
        "- However, these two models are not good enough to predict the bitcoins price, since they don't capture any other impacts such as, seasonality, trend, and intrinsic factors."
      ]
    },
    {
      "cell_type": "markdown",
      "metadata": {
        "id": "8v9xCs7j5y-Z"
      },
      "source": [
        "# **ARIMA Model**"
      ]
    },
    {
      "cell_type": "markdown",
      "metadata": {
        "id": "Nu79K8EM52cZ"
      },
      "source": [
        "Geech's part here"
      ]
    },
    {
      "cell_type": "markdown",
      "metadata": {
        "id": "bUGMrROa5374"
      },
      "source": [
        "# **Simple RNN**"
      ]
    },
    {
      "cell_type": "markdown",
      "metadata": {
        "id": "RNdhYsHr5_hz"
      },
      "source": [
        "Yihan Jia's part here"
      ]
    },
    {
      "cell_type": "markdown",
      "metadata": {
        "id": "l9wRmY_zTxC2"
      },
      "source": [
        "# **LSTM Model**"
      ]
    },
    {
      "cell_type": "markdown",
      "metadata": {
        "id": "cjRBgHks6DIT"
      },
      "source": [
        "Chun Zhou and Vaibhav's part here"
      ]
    },
    {
      "cell_type": "markdown",
      "metadata": {
        "id": "rxaos00ITzp7"
      },
      "source": [
        "LSTM stands for long short-term memory networks. It is a variety of recurrent neural network (RNN) in the deep learning field. LSTM is effective when predicting sequence of data."
      ]
    },
    {
      "cell_type": "code",
      "metadata": {
        "id": "-saK1GDt_IsC"
      },
      "source": [
        ""
      ],
      "execution_count": null,
      "outputs": []
    },
    {
      "cell_type": "markdown",
      "metadata": {
        "id": "Hfdk69anUlyr"
      },
      "source": [
        "#**References**"
      ]
    },
    {
      "cell_type": "markdown",
      "metadata": {
        "id": "lfZeAU2oUoNG"
      },
      "source": [
        "1. \"Bitcoin Price Prediction with LSTM\". Ansel D'souza. https://www.kaggle.com/anseldsouza/bitcoin-price-prediction-with-lstm"
      ]
    },
    {
      "cell_type": "code",
      "metadata": {
        "colab": {
          "base_uri": "https://localhost:8080/",
          "height": 520
        },
        "id": "4NQ9aawB9Pga",
        "outputId": "0ea09756-3dcf-4a32-accc-3ca0cd62d1e2"
      },
      "source": [
        ""
      ],
      "execution_count": 246,
      "outputs": [
        {
          "output_type": "execute_result",
          "data": {
            "text/plain": [
              "<matplotlib.axes._subplots.AxesSubplot at 0x7f92d58bee50>"
            ]
          },
          "metadata": {},
          "execution_count": 246
        },
        {
          "output_type": "display_data",
          "data": {
            "image/png": "[encoded data removed]",
            "text/plain": [
              "<Figure size 1600x560 with 2 Axes>"
            ]
          },
          "metadata": {}
        }
      ]
    }
  ]
}