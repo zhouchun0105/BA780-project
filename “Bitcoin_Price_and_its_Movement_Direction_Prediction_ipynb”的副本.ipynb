{
  "nbformat": 4,
  "nbformat_minor": 0,
  "metadata": {
    "colab": {
      "name": "“Bitcoin Price and its Movement Direction Prediction.ipynb”的副本",
      "provenance": [],
      "include_colab_link": true
    },
    "kernelspec": {
      "name": "python3",
      "display_name": "Python 3"
    },
    "language_info": {
      "name": "python"
    }
  },
  "cells": [
    {
      "cell_type": "markdown",
      "metadata": {
        "id": "view-in-github",
        "colab_type": "text"
      },
      "source": [
        "<a href=\"https://colab.research.google.com/github/zhouchun0105/Bitcoin-Price-and-Movement-Prediction/blob/main/%E2%80%9CBitcoin_Price_and_its_Movement_Direction_Prediction_ipynb%E2%80%9D%E7%9A%84%E5%89%AF%E6%9C%AC.ipynb\" target=\"_parent\"><img src=\"https://colab.research.google.com/assets/colab-badge.svg\" alt=\"Open In Colab\"/></a>"
      ]
    },
    {
      "cell_type": "markdown",
      "metadata": {
        "id": "4lyWH9r-6iJE"
      },
      "source": [
        "#**Bitcoin Price and its Movement Direction Prediction**\n",
        "*Using Linear Regression, Logistics Regression, ARIMA, Simple RNN and LSTM Models.*"
      ]
    },
    {
      "cell_type": "code",
      "metadata": {
        "colab": {
          "base_uri": "https://localhost:8080/"
        },
        "id": "kntX4pElfh8Y",
        "outputId": "69354405-e503-4b23-e2a4-3501d4424795"
      },
      "source": [
        "from google.colab import drive\n",
        "drive.mount('/content/drive')"
      ],
      "execution_count": null,
      "outputs": [
        {
          "output_type": "stream",
          "name": "stdout",
          "text": [
            "Drive already mounted at /content/drive; to attempt to forcibly remount, call drive.mount(\"/content/drive\", force_remount=True).\n"
          ]
        }
      ]
    },
    {
      "cell_type": "markdown",
      "metadata": {
        "id": "vqkNeZRN62CC"
      },
      "source": [
        ""
      ]
    },
    {
      "cell_type": "markdown",
      "metadata": {
        "id": "fQvOtDi-S5fr"
      },
      "source": [
        "# **Packages**"
      ]
    },
    {
      "cell_type": "code",
      "metadata": {
        "id": "Do4GQZgETD2e"
      },
      "source": [
        "import numpy as np\n",
        "import pandas as pd\n",
        "\n",
        "import matplotlib.pyplot as plt\n",
        "%matplotlib inline\n",
        "import matplotlib.image as mpimg\n",
        "\n",
        "import seaborn as sns\n",
        "sns.set(rc={'figure.figsize':(10,6)})\n",
        "custom_colors = [\"#4e89ae\", \"#c56183\",\"#ed6663\",\"#ffa372\"]\n",
        "\n",
        "import datetime as datetime\n",
        "import tensorflow as tf\n",
        "from keras.models import Sequential\n",
        "from keras.layers import Dense, LSTM, Dropout"
      ],
      "execution_count": null,
      "outputs": []
    },
    {
      "cell_type": "markdown",
      "metadata": {
        "id": "SuZfEZ4DTA3h"
      },
      "source": [
        "#**Data Cleaning**"
      ]
    },
    {
      "cell_type": "markdown",
      "metadata": {
        "id": "FmhdQ1V4ZgPP"
      },
      "source": [
        "Import Dataset"
      ]
    },
    {
      "cell_type": "code",
      "metadata": {
        "id": "dWIQQ5rpTDLO"
      },
      "source": [
        "df = pd.read_csv(\"/content/drive/MyDrive/bitcoin.csv\") "
      ],
      "execution_count": null,
      "outputs": []
    },
    {
      "cell_type": "markdown",
      "metadata": {
        "id": "CgaKjQFYZh_e"
      },
      "source": [
        "Modify Timestamp"
      ]
    },
    {
      "cell_type": "code",
      "metadata": {
        "id": "ikHMd44wWVU0"
      },
      "source": [
        "# Change the Timestamp column attribute to datetime\n",
        "df['Timestamp'] = pd.to_datetime(df['Timestamp'],unit='s')\n",
        "# Enable to refer to the row by index \n",
        "df = df.set_index('Timestamp')"
      ],
      "execution_count": null,
      "outputs": []
    },
    {
      "cell_type": "markdown",
      "metadata": {
        "id": "mF9du4QNkLhb"
      },
      "source": [
        "Spot the missing values"
      ]
    },
    {
      "cell_type": "code",
      "metadata": {
        "id": "-SWH-4nakM8a"
      },
      "source": [
        "missed = pd.DataFrame()\n",
        "missed['column'] = df.columns\n",
        "\n",
        "missed['percent'] = [round(100* df[col].isnull().sum() / len(df), 2) for col in df.columns]\n",
        "missed = missed.sort_values('percent',ascending=False)\n",
        "missed = missed[missed['percent']>0]\n"
      ],
      "execution_count": null,
      "outputs": []
    },
    {
      "cell_type": "markdown",
      "metadata": {
        "id": "sB7PF9Rrj1C2"
      },
      "source": [
        "Fill in the missing data"
      ]
    },
    {
      "cell_type": "code",
      "metadata": {
        "id": "_NuOPIn2j2dc"
      },
      "source": [
        "def fill_missing(df):\n",
        "    ### function to impute missing values using interpolation ###\n",
        "    df['Open'] = df['Open'].interpolate()\n",
        "    df['Close'] = df['Close'].interpolate()\n",
        "    df['Weighted_Price'] = df['Weighted_Price'].interpolate()\n",
        "    df['Volume_(BTC)'] = df['Volume_(BTC)'].interpolate()\n",
        "    df['Volume_(Currency)'] = df['Volume_(Currency)'].interpolate()\n",
        "    df['High'] = df['High'].interpolate()\n",
        "    df['Low'] = df['Low'].interpolate()\n",
        "    \n",
        "fill_missing(df)"
      ],
      "execution_count": null,
      "outputs": []
    },
    {
      "cell_type": "markdown",
      "metadata": {
        "id": "pZPj_wNVZlXf"
      },
      "source": [
        "Remove NA rows"
      ]
    },
    {
      "cell_type": "code",
      "metadata": {
        "id": "AwvJyrudZmo7"
      },
      "source": [
        "df = df.dropna()"
      ],
      "execution_count": null,
      "outputs": []
    },
    {
      "cell_type": "markdown",
      "metadata": {
        "id": "lbo8Q4uM5ifC"
      },
      "source": [
        "# **Feature Engineering**"
      ]
    },
    {
      "cell_type": "markdown",
      "metadata": {
        "id": "AlBoclatZraX"
      },
      "source": [
        "Add `Price` column by averaging Low and Close"
      ]
    },
    {
      "cell_type": "code",
      "metadata": {
        "id": "GY7K6R7UZ4zJ"
      },
      "source": [
        "df[\"Price\"] = df[[\"Open\",\"High\",\"Low\",\"Close\"]].mean(axis=1)"
      ],
      "execution_count": 15,
      "outputs": []
    },
    {
      "cell_type": "markdown",
      "metadata": {
        "id": "GZDZzcSsZ-EL"
      },
      "source": [
        "Add `Return` Column by calculating the difference from now to previous second's `Price`"
      ]
    },
    {
      "cell_type": "code",
      "metadata": {
        "id": "QhW_OM8jaNZ3",
        "colab": {
          "base_uri": "https://localhost:8080/",
          "height": 392
        },
        "outputId": "0fe5019a-e11f-4705-fc7f-a7e264de5122"
      },
      "source": [
        "df[\"Return\"] = df[\"Price\"].diff()\n",
        "df[\"Return\"].plot(x=\"Timestamp\", y=\"Return\")"
      ],
      "execution_count": 16,
      "outputs": [
        {
          "output_type": "execute_result",
          "data": {
            "text/plain": [
              "<matplotlib.axes._subplots.AxesSubplot at 0x7f2d1053a4d0>"
            ]
          },
          "metadata": {},
          "execution_count": 16
        },
        {
          "output_type": "display_data",
          "data": {
            "image/png": "[encoded data removed]",
            "text/plain": [
              "<Figure size 720x432 with 1 Axes>"
            ]
          },
          "metadata": {}
        }
      ]
    },
    {
      "cell_type": "markdown",
      "metadata": {
        "id": "_jvZfBUMbuAX"
      },
      "source": [
        "Add `Direction` column showing if bitcoin price is going up or down."
      ]
    },
    {
      "cell_type": "code",
      "metadata": {
        "id": "m-L1jj0Dbq3n"
      },
      "source": [
        "df[\"Direction\"] = pd.Series(df[\"Return\"] > 0)\n",
        "df[\"Direction\"] = \"Down\"\n",
        "df.loc[(df[\"Return\"] > 0), \"Direction\"] = \"Up\""
      ],
      "execution_count": 17,
      "outputs": []
    },
    {
      "cell_type": "markdown",
      "metadata": {
        "id": "vH7A3pQccPaN"
      },
      "source": [
        "Add `Percentage_Return` column to show the perentage return per seconds"
      ]
    },
    {
      "cell_type": "code",
      "metadata": {
        "id": "W1IFdZxLcQBi",
        "colab": {
          "base_uri": "https://localhost:8080/",
          "height": 392
        },
        "outputId": "babffb77-bd17-4e24-c06d-0c5546e8e842"
      },
      "source": [
        "df[\"Percentage_Return\"] = ((df[\"Return\"].shift(periods=-1))/ (df[\"Price\"])).shift(periods=1)\n",
        "df[\"Percentage_Return\"].plot()"
      ],
      "execution_count": 18,
      "outputs": [
        {
          "output_type": "execute_result",
          "data": {
            "text/plain": [
              "<matplotlib.axes._subplots.AxesSubplot at 0x7f2d368f8590>"
            ]
          },
          "metadata": {},
          "execution_count": 18
        },
        {
          "output_type": "display_data",
          "data": {
            "image/png": "[encoded data removed]",
            "text/plain": [
              "<Figure size 720x432 with 1 Axes>"
            ]
          },
          "metadata": {}
        }
      ]
    },
    {
      "cell_type": "markdown",
      "metadata": {
        "id": "eWxNGeaUc5-s"
      },
      "source": [
        "Add Lag1, Lag2, Lag3, Lag4, Lag5 columns as t-1, t-2, t-3, t-4, and t-5 features to predict bitcoin price at t (in seconds)"
      ]
    },
    {
      "cell_type": "code",
      "metadata": {
        "id": "87BOaCnTdGhG",
        "colab": {
          "base_uri": "https://localhost:8080/",
          "height": 628
        },
        "outputId": "db4304fb-0679-40cf-8537-2d6386a34f57"
      },
      "source": [
        "df[\"Lag1\"]= df[\"Percentage_Return\"].shift(periods=-1)\n",
        "df[\"Lag2\"]= df[\"Percentage_Return\"].shift(periods=-2)\n",
        "df[\"Lag3\"]= df[\"Percentage_Return\"].shift(periods=-3)\n",
        "df[\"Lag4\"]= df[\"Percentage_Return\"].shift(periods=-4)\n",
        "df[\"Lag5\"]= df[\"Percentage_Return\"].shift(periods=-5)\n",
        "df.dropna()"
      ],
      "execution_count": 19,
      "outputs": [
        {
          "output_type": "execute_result",
          "data": {
            "text/html": [
              "<div>\n",
              "<style scoped>\n",
              "    .dataframe tbody tr th:only-of-type {\n",
              "        vertical-align: middle;\n",
              "    }\n",
              "\n",
              "    .dataframe tbody tr th {\n",
              "        vertical-align: top;\n",
              "    }\n",
              "\n",
              "    .dataframe thead th {\n",
              "        text-align: right;\n",
              "    }\n",
              "</style>\n",
              "<table border=\"1\" class=\"dataframe\">\n",
              "  <thead>\n",
              "    <tr style=\"text-align: right;\">\n",
              "      <th></th>\n",
              "      <th>Open</th>\n",
              "      <th>High</th>\n",
              "      <th>Low</th>\n",
              "      <th>Close</th>\n",
              "      <th>Volume_(BTC)</th>\n",
              "      <th>Volume_(Currency)</th>\n",
              "      <th>Weighted_Price</th>\n",
              "      <th>Price</th>\n",
              "      <th>Return</th>\n",
              "      <th>Direction</th>\n",
              "      <th>Percentage_Return</th>\n",
              "      <th>Lag1</th>\n",
              "      <th>Lag2</th>\n",
              "      <th>Lag3</th>\n",
              "      <th>Lag4</th>\n",
              "      <th>Lag5</th>\n",
              "    </tr>\n",
              "    <tr>\n",
              "      <th>Timestamp</th>\n",
              "      <th></th>\n",
              "      <th></th>\n",
              "      <th></th>\n",
              "      <th></th>\n",
              "      <th></th>\n",
              "      <th></th>\n",
              "      <th></th>\n",
              "      <th></th>\n",
              "      <th></th>\n",
              "      <th></th>\n",
              "      <th></th>\n",
              "      <th></th>\n",
              "      <th></th>\n",
              "      <th></th>\n",
              "      <th></th>\n",
              "      <th></th>\n",
              "    </tr>\n",
              "  </thead>\n",
              "  <tbody>\n",
              "    <tr>\n",
              "      <th>2011-12-31 07:53:00</th>\n",
              "      <td>4.390</td>\n",
              "      <td>4.390</td>\n",
              "      <td>4.39</td>\n",
              "      <td>4.39</td>\n",
              "      <td>0.555046</td>\n",
              "      <td>2.436653</td>\n",
              "      <td>4.390000</td>\n",
              "      <td>4.3900</td>\n",
              "      <td>0.0000</td>\n",
              "      <td>Down</td>\n",
              "      <td>0.000000</td>\n",
              "      <td>0.000000</td>\n",
              "      <td>0.000000</td>\n",
              "      <td>0.000000</td>\n",
              "      <td>0.000000</td>\n",
              "      <td>0.000000</td>\n",
              "    </tr>\n",
              "    <tr>\n",
              "      <th>2011-12-31 07:54:00</th>\n",
              "      <td>4.390</td>\n",
              "      <td>4.390</td>\n",
              "      <td>4.39</td>\n",
              "      <td>4.39</td>\n",
              "      <td>0.654511</td>\n",
              "      <td>2.873305</td>\n",
              "      <td>4.390000</td>\n",
              "      <td>4.3900</td>\n",
              "      <td>0.0000</td>\n",
              "      <td>Down</td>\n",
              "      <td>0.000000</td>\n",
              "      <td>0.000000</td>\n",
              "      <td>0.000000</td>\n",
              "      <td>0.000000</td>\n",
              "      <td>0.000000</td>\n",
              "      <td>0.000000</td>\n",
              "    </tr>\n",
              "    <tr>\n",
              "      <th>2011-12-31 07:55:00</th>\n",
              "      <td>4.390</td>\n",
              "      <td>4.390</td>\n",
              "      <td>4.39</td>\n",
              "      <td>4.39</td>\n",
              "      <td>0.753977</td>\n",
              "      <td>3.309958</td>\n",
              "      <td>4.390000</td>\n",
              "      <td>4.3900</td>\n",
              "      <td>0.0000</td>\n",
              "      <td>Down</td>\n",
              "      <td>0.000000</td>\n",
              "      <td>0.000000</td>\n",
              "      <td>0.000000</td>\n",
              "      <td>0.000000</td>\n",
              "      <td>0.000000</td>\n",
              "      <td>0.000000</td>\n",
              "    </tr>\n",
              "    <tr>\n",
              "      <th>2011-12-31 07:56:00</th>\n",
              "      <td>4.390</td>\n",
              "      <td>4.390</td>\n",
              "      <td>4.39</td>\n",
              "      <td>4.39</td>\n",
              "      <td>0.853442</td>\n",
              "      <td>3.746611</td>\n",
              "      <td>4.390000</td>\n",
              "      <td>4.3900</td>\n",
              "      <td>0.0000</td>\n",
              "      <td>Down</td>\n",
              "      <td>0.000000</td>\n",
              "      <td>0.000000</td>\n",
              "      <td>0.000000</td>\n",
              "      <td>0.000000</td>\n",
              "      <td>0.000000</td>\n",
              "      <td>0.000000</td>\n",
              "    </tr>\n",
              "    <tr>\n",
              "      <th>2011-12-31 07:57:00</th>\n",
              "      <td>4.390</td>\n",
              "      <td>4.390</td>\n",
              "      <td>4.39</td>\n",
              "      <td>4.39</td>\n",
              "      <td>0.952907</td>\n",
              "      <td>4.183264</td>\n",
              "      <td>4.390000</td>\n",
              "      <td>4.3900</td>\n",
              "      <td>0.0000</td>\n",
              "      <td>Down</td>\n",
              "      <td>0.000000</td>\n",
              "      <td>0.000000</td>\n",
              "      <td>0.000000</td>\n",
              "      <td>0.000000</td>\n",
              "      <td>0.000000</td>\n",
              "      <td>0.000000</td>\n",
              "    </tr>\n",
              "    <tr>\n",
              "      <th>...</th>\n",
              "      <td>...</td>\n",
              "      <td>...</td>\n",
              "      <td>...</td>\n",
              "      <td>...</td>\n",
              "      <td>...</td>\n",
              "      <td>...</td>\n",
              "      <td>...</td>\n",
              "      <td>...</td>\n",
              "      <td>...</td>\n",
              "      <td>...</td>\n",
              "      <td>...</td>\n",
              "      <td>...</td>\n",
              "      <td>...</td>\n",
              "      <td>...</td>\n",
              "      <td>...</td>\n",
              "      <td>...</td>\n",
              "    </tr>\n",
              "    <tr>\n",
              "      <th>2021-03-30 23:51:00</th>\n",
              "      <td>58677.050</td>\n",
              "      <td>58699.900</td>\n",
              "      <td>58660.00</td>\n",
              "      <td>58699.90</td>\n",
              "      <td>2.672676</td>\n",
              "      <td>156832.692130</td>\n",
              "      <td>58680.021260</td>\n",
              "      <td>58684.2125</td>\n",
              "      <td>2.8925</td>\n",
              "      <td>Up</td>\n",
              "      <td>0.000049</td>\n",
              "      <td>0.000234</td>\n",
              "      <td>0.000234</td>\n",
              "      <td>0.000545</td>\n",
              "      <td>-0.000263</td>\n",
              "      <td>-0.000478</td>\n",
              "    </tr>\n",
              "    <tr>\n",
              "      <th>2021-03-30 23:52:00</th>\n",
              "      <td>58697.865</td>\n",
              "      <td>58715.565</td>\n",
              "      <td>58679.17</td>\n",
              "      <td>58699.20</td>\n",
              "      <td>1.440329</td>\n",
              "      <td>84520.873706</td>\n",
              "      <td>58691.157958</td>\n",
              "      <td>58697.9500</td>\n",
              "      <td>13.7375</td>\n",
              "      <td>Up</td>\n",
              "      <td>0.000234</td>\n",
              "      <td>0.000234</td>\n",
              "      <td>0.000545</td>\n",
              "      <td>-0.000263</td>\n",
              "      <td>-0.000478</td>\n",
              "      <td>-0.000228</td>\n",
              "    </tr>\n",
              "    <tr>\n",
              "      <th>2021-03-30 23:53:00</th>\n",
              "      <td>58718.680</td>\n",
              "      <td>58731.230</td>\n",
              "      <td>58698.34</td>\n",
              "      <td>58698.50</td>\n",
              "      <td>0.207983</td>\n",
              "      <td>12209.055282</td>\n",
              "      <td>58702.294657</td>\n",
              "      <td>58711.6875</td>\n",
              "      <td>13.7375</td>\n",
              "      <td>Up</td>\n",
              "      <td>0.000234</td>\n",
              "      <td>0.000545</td>\n",
              "      <td>-0.000263</td>\n",
              "      <td>-0.000478</td>\n",
              "      <td>-0.000228</td>\n",
              "      <td>0.000372</td>\n",
              "    </tr>\n",
              "    <tr>\n",
              "      <th>2021-03-30 23:54:00</th>\n",
              "      <td>58736.190</td>\n",
              "      <td>58762.430</td>\n",
              "      <td>58736.19</td>\n",
              "      <td>58739.95</td>\n",
              "      <td>0.041559</td>\n",
              "      <td>2441.376572</td>\n",
              "      <td>58745.145351</td>\n",
              "      <td>58743.6900</td>\n",
              "      <td>32.0025</td>\n",
              "      <td>Up</td>\n",
              "      <td>0.000545</td>\n",
              "      <td>-0.000263</td>\n",
              "      <td>-0.000478</td>\n",
              "      <td>-0.000228</td>\n",
              "      <td>0.000372</td>\n",
              "      <td>0.000770</td>\n",
              "    </tr>\n",
              "    <tr>\n",
              "      <th>2021-03-30 23:55:00</th>\n",
              "      <td>58742.180</td>\n",
              "      <td>58742.180</td>\n",
              "      <td>58714.31</td>\n",
              "      <td>58714.31</td>\n",
              "      <td>2.519999</td>\n",
              "      <td>148004.448110</td>\n",
              "      <td>58731.946927</td>\n",
              "      <td>58728.2450</td>\n",
              "      <td>-15.4450</td>\n",
              "      <td>Down</td>\n",
              "      <td>-0.000263</td>\n",
              "      <td>-0.000478</td>\n",
              "      <td>-0.000228</td>\n",
              "      <td>0.000372</td>\n",
              "      <td>0.000770</td>\n",
              "      <td>0.000276</td>\n",
              "    </tr>\n",
              "  </tbody>\n",
              "</table>\n",
              "<p>4857371 rows × 16 columns</p>\n",
              "</div>"
            ],
            "text/plain": [
              "                          Open       High  ...      Lag4      Lag5\n",
              "Timestamp                                  ...                    \n",
              "2011-12-31 07:53:00      4.390      4.390  ...  0.000000  0.000000\n",
              "2011-12-31 07:54:00      4.390      4.390  ...  0.000000  0.000000\n",
              "2011-12-31 07:55:00      4.390      4.390  ...  0.000000  0.000000\n",
              "2011-12-31 07:56:00      4.390      4.390  ...  0.000000  0.000000\n",
              "2011-12-31 07:57:00      4.390      4.390  ...  0.000000  0.000000\n",
              "...                        ...        ...  ...       ...       ...\n",
              "2021-03-30 23:51:00  58677.050  58699.900  ... -0.000263 -0.000478\n",
              "2021-03-30 23:52:00  58697.865  58715.565  ... -0.000478 -0.000228\n",
              "2021-03-30 23:53:00  58718.680  58731.230  ... -0.000228  0.000372\n",
              "2021-03-30 23:54:00  58736.190  58762.430  ...  0.000372  0.000770\n",
              "2021-03-30 23:55:00  58742.180  58742.180  ...  0.000770  0.000276\n",
              "\n",
              "[4857371 rows x 16 columns]"
            ]
          },
          "metadata": {},
          "execution_count": 19
        }
      ]
    },
    {
      "cell_type": "markdown",
      "metadata": {
        "id": "sblblKX4dck4"
      },
      "source": [
        "Cleaned Dataset Display"
      ]
    },
    {
      "cell_type": "code",
      "metadata": {
        "id": "HpE2A5BVXsgX",
        "colab": {
          "base_uri": "https://localhost:8080/"
        },
        "outputId": "2188f16c-26f9-46f9-fbb7-a692415f097e"
      },
      "source": [
        "df.shape"
      ],
      "execution_count": null,
      "outputs": [
        {
          "output_type": "execute_result",
          "data": {
            "text/plain": [
              "(4857377, 16)"
            ]
          },
          "metadata": {},
          "execution_count": 16
        }
      ]
    },
    {
      "cell_type": "code",
      "metadata": {
        "id": "181eZ6wOXKEY",
        "colab": {
          "base_uri": "https://localhost:8080/",
          "height": 237
        },
        "outputId": "c094db2d-4ad8-43b9-d394-12b93b5fbf3b"
      },
      "source": [
        "df.head()"
      ],
      "execution_count": null,
      "outputs": [
        {
          "output_type": "execute_result",
          "data": {
            "text/html": [
              "<div>\n",
              "<style scoped>\n",
              "    .dataframe tbody tr th:only-of-type {\n",
              "        vertical-align: middle;\n",
              "    }\n",
              "\n",
              "    .dataframe tbody tr th {\n",
              "        vertical-align: top;\n",
              "    }\n",
              "\n",
              "    .dataframe thead th {\n",
              "        text-align: right;\n",
              "    }\n",
              "</style>\n",
              "<table border=\"1\" class=\"dataframe\">\n",
              "  <thead>\n",
              "    <tr style=\"text-align: right;\">\n",
              "      <th></th>\n",
              "      <th>Open</th>\n",
              "      <th>High</th>\n",
              "      <th>Low</th>\n",
              "      <th>Close</th>\n",
              "      <th>Volume_(BTC)</th>\n",
              "      <th>Volume_(Currency)</th>\n",
              "      <th>Weighted_Price</th>\n",
              "      <th>Price</th>\n",
              "      <th>Return</th>\n",
              "      <th>Direction</th>\n",
              "      <th>Percentage_Return</th>\n",
              "      <th>Lag1</th>\n",
              "      <th>Lag2</th>\n",
              "      <th>Lag3</th>\n",
              "      <th>Lag4</th>\n",
              "      <th>Lag5</th>\n",
              "    </tr>\n",
              "    <tr>\n",
              "      <th>Timestamp</th>\n",
              "      <th></th>\n",
              "      <th></th>\n",
              "      <th></th>\n",
              "      <th></th>\n",
              "      <th></th>\n",
              "      <th></th>\n",
              "      <th></th>\n",
              "      <th></th>\n",
              "      <th></th>\n",
              "      <th></th>\n",
              "      <th></th>\n",
              "      <th></th>\n",
              "      <th></th>\n",
              "      <th></th>\n",
              "      <th></th>\n",
              "      <th></th>\n",
              "    </tr>\n",
              "  </thead>\n",
              "  <tbody>\n",
              "    <tr>\n",
              "      <th>2011-12-31 07:52:00</th>\n",
              "      <td>4.39</td>\n",
              "      <td>4.39</td>\n",
              "      <td>4.39</td>\n",
              "      <td>4.39</td>\n",
              "      <td>0.455581</td>\n",
              "      <td>2.000000</td>\n",
              "      <td>4.39</td>\n",
              "      <td>4.39</td>\n",
              "      <td>NaN</td>\n",
              "      <td>Down</td>\n",
              "      <td>NaN</td>\n",
              "      <td>0.0</td>\n",
              "      <td>0.0</td>\n",
              "      <td>0.0</td>\n",
              "      <td>0.0</td>\n",
              "      <td>0.0</td>\n",
              "    </tr>\n",
              "    <tr>\n",
              "      <th>2011-12-31 07:53:00</th>\n",
              "      <td>4.39</td>\n",
              "      <td>4.39</td>\n",
              "      <td>4.39</td>\n",
              "      <td>4.39</td>\n",
              "      <td>0.555046</td>\n",
              "      <td>2.436653</td>\n",
              "      <td>4.39</td>\n",
              "      <td>4.39</td>\n",
              "      <td>0.0</td>\n",
              "      <td>Down</td>\n",
              "      <td>0.0</td>\n",
              "      <td>0.0</td>\n",
              "      <td>0.0</td>\n",
              "      <td>0.0</td>\n",
              "      <td>0.0</td>\n",
              "      <td>0.0</td>\n",
              "    </tr>\n",
              "    <tr>\n",
              "      <th>2011-12-31 07:54:00</th>\n",
              "      <td>4.39</td>\n",
              "      <td>4.39</td>\n",
              "      <td>4.39</td>\n",
              "      <td>4.39</td>\n",
              "      <td>0.654511</td>\n",
              "      <td>2.873305</td>\n",
              "      <td>4.39</td>\n",
              "      <td>4.39</td>\n",
              "      <td>0.0</td>\n",
              "      <td>Down</td>\n",
              "      <td>0.0</td>\n",
              "      <td>0.0</td>\n",
              "      <td>0.0</td>\n",
              "      <td>0.0</td>\n",
              "      <td>0.0</td>\n",
              "      <td>0.0</td>\n",
              "    </tr>\n",
              "    <tr>\n",
              "      <th>2011-12-31 07:55:00</th>\n",
              "      <td>4.39</td>\n",
              "      <td>4.39</td>\n",
              "      <td>4.39</td>\n",
              "      <td>4.39</td>\n",
              "      <td>0.753977</td>\n",
              "      <td>3.309958</td>\n",
              "      <td>4.39</td>\n",
              "      <td>4.39</td>\n",
              "      <td>0.0</td>\n",
              "      <td>Down</td>\n",
              "      <td>0.0</td>\n",
              "      <td>0.0</td>\n",
              "      <td>0.0</td>\n",
              "      <td>0.0</td>\n",
              "      <td>0.0</td>\n",
              "      <td>0.0</td>\n",
              "    </tr>\n",
              "    <tr>\n",
              "      <th>2011-12-31 07:56:00</th>\n",
              "      <td>4.39</td>\n",
              "      <td>4.39</td>\n",
              "      <td>4.39</td>\n",
              "      <td>4.39</td>\n",
              "      <td>0.853442</td>\n",
              "      <td>3.746611</td>\n",
              "      <td>4.39</td>\n",
              "      <td>4.39</td>\n",
              "      <td>0.0</td>\n",
              "      <td>Down</td>\n",
              "      <td>0.0</td>\n",
              "      <td>0.0</td>\n",
              "      <td>0.0</td>\n",
              "      <td>0.0</td>\n",
              "      <td>0.0</td>\n",
              "      <td>0.0</td>\n",
              "    </tr>\n",
              "  </tbody>\n",
              "</table>\n",
              "</div>"
            ],
            "text/plain": [
              "                     Open  High   Low  Close  ...  Lag2  Lag3  Lag4  Lag5\n",
              "Timestamp                                     ...                        \n",
              "2011-12-31 07:52:00  4.39  4.39  4.39   4.39  ...   0.0   0.0   0.0   0.0\n",
              "2011-12-31 07:53:00  4.39  4.39  4.39   4.39  ...   0.0   0.0   0.0   0.0\n",
              "2011-12-31 07:54:00  4.39  4.39  4.39   4.39  ...   0.0   0.0   0.0   0.0\n",
              "2011-12-31 07:55:00  4.39  4.39  4.39   4.39  ...   0.0   0.0   0.0   0.0\n",
              "2011-12-31 07:56:00  4.39  4.39  4.39   4.39  ...   0.0   0.0   0.0   0.0\n",
              "\n",
              "[5 rows x 16 columns]"
            ]
          },
          "metadata": {},
          "execution_count": 17
        }
      ]
    },
    {
      "cell_type": "markdown",
      "metadata": {
        "id": "udvKkj9ri4xQ"
      },
      "source": [
        "#**Exploratory Data Analysis**"
      ]
    },
    {
      "cell_type": "markdown",
      "metadata": {
        "id": "zIeWGoia6Kci"
      },
      "source": [
        "Zheming's Part"
      ]
    },
    {
      "cell_type": "markdown",
      "metadata": {
        "id": "kNnDIkgvBPK6"
      },
      "source": [
        "bitcoin moving average\n"
      ]
    },
    {
      "cell_type": "code",
      "metadata": {
        "id": "pWzM3Bo-_cPj"
      },
      "source": [
        "import plotly.graph_objects as go\n",
        "trace1 = {\n",
        "    'x': df.index,\n",
        "    'open': df.Open,\n",
        "    'close': df.Close,\n",
        "    'high': df.High,\n",
        "    'low': df.Low,\n",
        "    'type': 'candlestick',\n",
        "    'name': 'MSFT',\n",
        "    'showlegend': False\n",
        "}\n",
        "# Calculate and define moving average of 30 periods\n",
        "avg_30 = df.Close.rolling(window=30, min_periods=1).mean()\n",
        "\n",
        "# Calculate and define moving average of 50 periods\n",
        "avg_50 = df.Close.rolling(window=50, min_periods=1).mean()\n",
        "\n",
        "trace2 = {\n",
        "    'x': df.index,\n",
        "    'y': avg_30,\n",
        "    'type': 'scatter',\n",
        "    'mode': 'lines',\n",
        "    'line': {\n",
        "        'width': 1,\n",
        "        'color': 'blue'\n",
        "            },\n",
        "    'name': 'Moving Average of 30 periods'\n",
        "}\n",
        "\n",
        "trace3 = {\n",
        "    'x': df.index,\n",
        "    'y': avg_50,\n",
        "    'type': 'scatter',\n",
        "    'mode': 'lines',\n",
        "    'line': {\n",
        "        'width': 1,\n",
        "        'color': 'red'\n",
        "    },\n",
        "    'name': 'Moving Average of 50 periods'\n",
        "}\n",
        "data_trace = [trace1, trace2, trace3]\n",
        "# Config graph layout\n",
        "layout = go.Layout({\n",
        "    'title': {\n",
        "        'text': 'Bitcoin Moving Averages',\n",
        "        'font': {\n",
        "            'size': 15\n",
        "        } \n",
        "    }\n",
        "})\n",
        "\n",
        "\n",
        "\n",
        "\n",
        "fig = go.Figure(data=data_trace, layout=layout)\n",
        "fig.write_html(\"Bitcoin Moving Averages.html\")\n",
        "fig.show()\n",
        "\n",
        "\n"
      ],
      "execution_count": null,
      "outputs": []
    },
    {
      "cell_type": "code",
      "metadata": {
        "id": "7GMPtu_Op6LL"
      },
      "source": [
        ""
      ],
      "execution_count": null,
      "outputs": []
    },
    {
      "cell_type": "markdown",
      "metadata": {
        "id": "k1fHrsuuAbep"
      },
      "source": [
        "Produce a kernal density plot for Price (refer to Lecture 7 02-Exploratory-Data-Analysis.ipynb)"
      ]
    },
    {
      "cell_type": "code",
      "metadata": {
        "id": "JlN1216Q_662"
      },
      "source": [
        "def kdeplot(feature):\n",
        "    plt.figure(figsize=(9, 4))\n",
        "    plt.title(\"KDE for {}\".format(feature))\n",
        "    ax0 = sns.kdeplot(df[df['Direction'] == 'Up'][feature].dropna(), color= 'navy', label= 'Churn: No')\n",
        "    ax1 = sns.kdeplot(df[df['Direction'] == 'Down'][feature].dropna(), color= 'orange', label= 'Churn: Yes')\n",
        "kdeplot('Price')\n"
      ],
      "execution_count": null,
      "outputs": []
    },
    {
      "cell_type": "markdown",
      "metadata": {
        "id": "pqqxoFHG2PXi"
      },
      "source": [
        "Analyze correlations with seaborn heatmap"
      ]
    },
    {
      "cell_type": "code",
      "metadata": {
        "id": "d54dMuVP2OxE",
        "colab": {
          "base_uri": "https://localhost:8080/",
          "height": 693
        },
        "outputId": "86b47d27-1d17-4444-dcad-228586c52f5f"
      },
      "source": [
        "corr = df.corr()\n",
        "plt.figure(figsize=[10,10])\n",
        "plt.rcParams['font.size']=7\n",
        "sns.heatmap(corr, cmap='PiYG', annot= True, linewidths=0.3 );"
      ],
      "execution_count": null,
      "outputs": [
        {
          "output_type": "display_data",
          "data": {
            "image/png": "[encoded data removed]",
            "text/plain": [
              "<Figure size 720x720 with 2 Axes>"
            ]
          },
          "metadata": {}
        }
      ]
    },
    {
      "cell_type": "code",
      "metadata": {
        "id": "Vw4o3Hxvi7cl"
      },
      "source": [
        "def triple_plot(x, title,c):\n",
        "    fig, ax = plt.subplots(3,1,figsize=(25,10),sharex=True)\n",
        "    sns.distplot(x, ax=ax[0],color=c)\n",
        "    ax[0].set(xlabel=None)\n",
        "    ax[0].set_title('Histogram + KDE')\n",
        "    sns.boxplot(x, ax=ax[1],color=c)\n",
        "    ax[1].set(xlabel=None)\n",
        "    ax[1].set_title('Boxplot')\n",
        "    sns.violinplot(x, ax=ax[2],color=c)\n",
        "    ax[2].set(xlabel=None)\n",
        "    ax[2].set_title('Violin plot')\n",
        "    fig.suptitle(title, fontsize=30)\n",
        "    plt.tight_layout(pad=3.0)\n",
        "    plt.show()"
      ],
      "execution_count": 21,
      "outputs": []
    },
    {
      "cell_type": "code",
      "metadata": {
        "colab": {
          "base_uri": "https://localhost:8080/",
          "height": 757
        },
        "id": "C0w-mibTlsk2",
        "outputId": "4b0bf4be-d429-4325-9b3c-791c1bef89f3"
      },
      "source": [
        "triple_plot(df['Open'],'Distribution of Opening price',custom_colors[0])"
      ],
      "execution_count": null,
      "outputs": [
        {
          "output_type": "stream",
          "name": "stderr",
          "text": [
            "/usr/local/lib/python3.7/dist-packages/seaborn/distributions.py:2619: FutureWarning:\n",
            "\n",
            "`distplot` is a deprecated function and will be removed in a future version. Please adapt your code to use either `displot` (a figure-level function with similar flexibility) or `histplot` (an axes-level function for histograms).\n",
            "\n",
            "/usr/local/lib/python3.7/dist-packages/seaborn/_decorators.py:43: FutureWarning:\n",
            "\n",
            "Pass the following variable as a keyword arg: x. From version 0.12, the only valid positional argument will be `data`, and passing other arguments without an explicit keyword will result in an error or misinterpretation.\n",
            "\n",
            "/usr/local/lib/python3.7/dist-packages/seaborn/_decorators.py:43: FutureWarning:\n",
            "\n",
            "Pass the following variable as a keyword arg: x. From version 0.12, the only valid positional argument will be `data`, and passing other arguments without an explicit keyword will result in an error or misinterpretation.\n",
            "\n"
          ]
        },
        {
          "output_type": "display_data",
          "data": {
            "image/png": "[encoded data removed]",
            "text/plain": [
              "<Figure size 1800x720 with 3 Axes>"
            ]
          },
          "metadata": {}
        }
      ]
    },
    {
      "cell_type": "markdown",
      "metadata": {
        "id": "60itOyhi5ok8"
      },
      "source": [
        "# **Linear Regression**"
      ]
    },
    {
      "cell_type": "markdown",
      "metadata": {
        "id": "_XUZ2uCs5sH5"
      },
      "source": [
        "Ji Qi's part here"
      ]
    },
    {
      "cell_type": "markdown",
      "metadata": {
        "id": "2U0n3WAt5uEu"
      },
      "source": [
        "#**Logistics Regression**"
      ]
    },
    {
      "cell_type": "markdown",
      "metadata": {
        "id": "_LD4Nv0k5xZQ"
      },
      "source": [
        "Ji Qi's part here"
      ]
    },
    {
      "cell_type": "markdown",
      "metadata": {
        "id": "8v9xCs7j5y-Z"
      },
      "source": [
        "# **ARIMA Model**"
      ]
    },
    {
      "cell_type": "markdown",
      "metadata": {
        "id": "Nu79K8EM52cZ"
      },
      "source": [
        "Geech's part here"
      ]
    },
    {
      "cell_type": "markdown",
      "metadata": {
        "id": "bUGMrROa5374"
      },
      "source": [
        "# **Simple RNN**"
      ]
    },
    {
      "cell_type": "markdown",
      "metadata": {
        "id": "RNdhYsHr5_hz"
      },
      "source": [
        "Yihan Jia's part here"
      ]
    },
    {
      "cell_type": "markdown",
      "metadata": {
        "id": "l9wRmY_zTxC2"
      },
      "source": [
        "# **LSTM Model**"
      ]
    },
    {
      "cell_type": "markdown",
      "metadata": {
        "id": "cjRBgHks6DIT"
      },
      "source": [
        "Chun Zhou and Vaibhav's part here"
      ]
    },
    {
      "cell_type": "markdown",
      "metadata": {
        "id": "rxaos00ITzp7"
      },
      "source": [
        "LSTM stands for long short-term memory networks. It is a variety of recurrent neural network (RNN) in the deep learning field. LSTM is effective when predicting sequence of data."
      ]
    },
    {
      "cell_type": "markdown",
      "metadata": {
        "id": "Hfdk69anUlyr"
      },
      "source": [
        "#**References**"
      ]
    },
    {
      "cell_type": "markdown",
      "metadata": {
        "id": "lfZeAU2oUoNG"
      },
      "source": [
        "1. \"Bitcoin Price Prediction with LSTM\". Ansel D'souza. https://www.kaggle.com/anseldsouza/bitcoin-price-prediction-with-lstm"
      ]
    }
  ]
}