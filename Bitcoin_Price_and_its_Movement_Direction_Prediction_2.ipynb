{
  "nbformat": 4,
  "nbformat_minor": 0,
  "metadata": {
    "colab": {
      "name": "Bitcoin_Price_and_its_Movement_Direction_Prediction-2.ipynb",
      "provenance": [],
      "include_colab_link": true
    },
    "environment": {
      "name": "common-cpu.m79",
      "type": "gcloud",
      "uri": "gcr.io/deeplearning-platform-release/base-cpu:m79"
    },
    "kernelspec": {
      "display_name": "Python 3",
      "language": "python",
      "name": "python3"
    },
    "language_info": {
      "codemirror_mode": {
        "name": "ipython",
        "version": 3
      },
      "file_extension": ".py",
      "mimetype": "text/x-python",
      "name": "python",
      "nbconvert_exporter": "python",
      "pygments_lexer": "ipython3",
      "version": "3.7.10"
    }
  },
  "cells": [
    {
      "cell_type": "markdown",
      "metadata": {
        "id": "view-in-github",
        "colab_type": "text"
      },
      "source": [
        "<a href=\"https://colab.research.google.com/github/zhouchun0105/Bitcoin-Price-and-Movement-Prediction/blob/main/Bitcoin_Price_and_its_Movement_Direction_Prediction_2.ipynb\" target=\"_parent\"><img src=\"https://colab.research.google.com/assets/colab-badge.svg\" alt=\"Open In Colab\"/></a>"
      ]
    },
    {
      "cell_type": "markdown",
      "metadata": {
        "id": "4lyWH9r-6iJE"
      },
      "source": [
        "#**Bitcoin Price and its Movement Direction Prediction**\n",
        "*Using Linear Regression, Logistics Regression, ARIMA, Simple RNN and LSTM Models.*"
      ]
    },
    {
      "cell_type": "markdown",
      "metadata": {
        "id": "fQvOtDi-S5fr"
      },
      "source": [
        "# **Packages**"
      ]
    },
    {
      "cell_type": "code",
      "metadata": {
        "id": "Do4GQZgETD2e"
      },
      "source": [
        "import numpy as np\n",
        "import pandas as pd\n",
        "\n",
        "import matplotlib.pyplot as plt\n",
        "%matplotlib inline\n",
        "import matplotlib.image as mpimg\n",
        "\n",
        "import seaborn as sns\n",
        "sns.set(rc={'figure.figsize':(10,6)})\n",
        "custom_colors = [\"#4e89ae\", \"#c56183\",\"#ed6663\",\"#ffa372\"]\n",
        "\n",
        "import datetime as datetime\n",
        "import tensorflow as tf\n",
        "from keras.models import Sequential\n",
        "from keras.layers import Dense, LSTM, Dropout"
      ],
      "execution_count": 3,
      "outputs": []
    },
    {
      "cell_type": "markdown",
      "metadata": {
        "id": "SuZfEZ4DTA3h"
      },
      "source": [
        "#**Data Cleaning**"
      ]
    },
    {
      "cell_type": "markdown",
      "metadata": {
        "id": "FmhdQ1V4ZgPP"
      },
      "source": [
        "Import Dataset"
      ]
    },
    {
      "cell_type": "code",
      "metadata": {
        "id": "dWIQQ5rpTDLO"
      },
      "source": [
        "df = pd.read_csv(\"/content/bitcoin.csv\")"
      ],
      "execution_count": 4,
      "outputs": []
    },
    {
      "cell_type": "markdown",
      "metadata": {
        "id": "CgaKjQFYZh_e"
      },
      "source": [
        "Modify Timestamp"
      ]
    },
    {
      "cell_type": "code",
      "metadata": {
        "id": "ikHMd44wWVU0"
      },
      "source": [
        "# Change the Timestamp column attribute to datetime\n",
        "df['Timestamp'] = pd.to_datetime(df['Timestamp'],unit='s')\n",
        "# Enable to refer to the row by index \n",
        "df = df.set_index('Timestamp')"
      ],
      "execution_count": 5,
      "outputs": []
    },
    {
      "cell_type": "markdown",
      "metadata": {
        "id": "mF9du4QNkLhb"
      },
      "source": [
        "Spot the missing values"
      ]
    },
    {
      "cell_type": "code",
      "metadata": {
        "id": "-SWH-4nakM8a"
      },
      "source": [
        "missed = pd.DataFrame()\n",
        "missed['column'] = df.columns\n",
        "\n",
        "missed['percent'] = [round(100* df[col].isnull().sum() / len(df), 2) for col in df.columns]\n",
        "missed = missed.sort_values('percent',ascending=False)\n",
        "missed = missed[missed['percent']>0]\n"
      ],
      "execution_count": 6,
      "outputs": []
    },
    {
      "cell_type": "markdown",
      "metadata": {
        "id": "sB7PF9Rrj1C2"
      },
      "source": [
        "Fill in the missing data"
      ]
    },
    {
      "cell_type": "code",
      "metadata": {
        "id": "_NuOPIn2j2dc"
      },
      "source": [
        "def fill_missing(df):\n",
        "    ### function to impute missing values using interpolation ###\n",
        "    df['Open'] = df['Open'].interpolate()\n",
        "    df['Close'] = df['Close'].interpolate()\n",
        "    df['Weighted_Price'] = df['Weighted_Price'].interpolate()\n",
        "    df['Volume_(BTC)'] = df['Volume_(BTC)'].interpolate()\n",
        "    df['Volume_(Currency)'] = df['Volume_(Currency)'].interpolate()\n",
        "    df['High'] = df['High'].interpolate()\n",
        "    df['Low'] = df['Low'].interpolate()\n",
        "    \n",
        "fill_missing(df)"
      ],
      "execution_count": 9,
      "outputs": []
    },
    {
      "cell_type": "markdown",
      "metadata": {
        "id": "pZPj_wNVZlXf"
      },
      "source": [
        "Remove NA rows"
      ]
    },
    {
      "cell_type": "code",
      "metadata": {
        "id": "AwvJyrudZmo7"
      },
      "source": [
        "df = df.dropna()"
      ],
      "execution_count": 10,
      "outputs": []
    },
    {
      "cell_type": "markdown",
      "metadata": {
        "id": "lbo8Q4uM5ifC"
      },
      "source": [
        "# **Feature Engineering**"
      ]
    },
    {
      "cell_type": "markdown",
      "metadata": {
        "id": "AlBoclatZraX"
      },
      "source": [
        "Add `Price` column by averaging Low and Close"
      ]
    },
    {
      "cell_type": "code",
      "metadata": {
        "id": "GY7K6R7UZ4zJ"
      },
      "source": [
        "df[\"Price\"] = df[[\"Open\",\"High\",\"Low\",\"Close\"]].mean(axis=1)"
      ],
      "execution_count": 11,
      "outputs": []
    },
    {
      "cell_type": "markdown",
      "metadata": {
        "id": "GZDZzcSsZ-EL"
      },
      "source": [
        "Add `Return` Column by calculating the difference from now to previous second's `Price`"
      ]
    },
    {
      "cell_type": "code",
      "metadata": {
        "colab": {
          "base_uri": "https://localhost:8080/",
          "height": 391
        },
        "id": "QhW_OM8jaNZ3",
        "outputId": "bf486a1b-2d9d-42d4-8623-06c72666d51f"
      },
      "source": [
        "df[\"Return\"] = df[\"Price\"].diff()\n",
        "df[\"Return\"].plot(x=\"Timestamp\", y=\"Return\")"
      ],
      "execution_count": 12,
      "outputs": [
        {
          "output_type": "execute_result",
          "data": {
            "text/plain": [
              "<matplotlib.axes._subplots.AxesSubplot at 0x7f224c20bfd0>"
            ]
          },
          "metadata": {},
          "execution_count": 12
        },
        {
          "output_type": "display_data",
          "data": {
            "image/png": "[encoded data removed]",
            "text/plain": [
              "<Figure size 720x432 with 1 Axes>"
            ]
          },
          "metadata": {}
        }
      ]
    },
    {
      "cell_type": "markdown",
      "metadata": {
        "id": "_jvZfBUMbuAX"
      },
      "source": [
        "Add `Direction` column showing if bitcoin price is going up or down."
      ]
    },
    {
      "cell_type": "code",
      "metadata": {
        "id": "m-L1jj0Dbq3n"
      },
      "source": [
        "df[\"Direction\"] = pd.Series(df[\"Return\"] > 0)\n",
        "df[\"Direction\"] = \"Down\"\n",
        "df.loc[(df[\"Return\"] > 0), \"Direction\"] = \"Up\""
      ],
      "execution_count": 13,
      "outputs": []
    },
    {
      "cell_type": "markdown",
      "metadata": {
        "id": "vH7A3pQccPaN"
      },
      "source": [
        "Add `Percentage_Return` column to show the perentage return per seconds"
      ]
    },
    {
      "cell_type": "code",
      "metadata": {
        "colab": {
          "base_uri": "https://localhost:8080/",
          "height": 391
        },
        "id": "W1IFdZxLcQBi",
        "outputId": "74818152-29ce-4eb7-90ba-a98668c95a17"
      },
      "source": [
        "df[\"Percentage_Return\"] = ((df[\"Return\"].shift(periods=-1))/ (df[\"Price\"])).shift(periods=1)\n",
        "df[\"Percentage_Return\"].plot()"
      ],
      "execution_count": 14,
      "outputs": [
        {
          "output_type": "execute_result",
          "data": {
            "text/plain": [
              "<matplotlib.axes._subplots.AxesSubplot at 0x7f22403dbfd0>"
            ]
          },
          "metadata": {},
          "execution_count": 14
        },
        {
          "output_type": "display_data",
          "data": {
            "image/png": "[encoded data removed]",
            "text/plain": [
              "<Figure size 720x432 with 1 Axes>"
            ]
          },
          "metadata": {}
        }
      ]
    },
    {
      "cell_type": "markdown",
      "metadata": {
        "id": "eWxNGeaUc5-s"
      },
      "source": [
        "Add Lag1, Lag2, Lag3, Lag4, Lag5 columns as t-1, t-2, t-3, t-4, and t-5 features to predict bitcoin price at t (in seconds)"
      ]
    },
    {
      "cell_type": "code",
      "metadata": {
        "colab": {
          "base_uri": "https://localhost:8080/",
          "height": 640
        },
        "id": "87BOaCnTdGhG",
        "outputId": "34d8d143-8b2d-4d33-da2c-9411b1b64c23"
      },
      "source": [
        "df[\"Lag1\"]= df[\"Percentage_Return\"].shift(periods=-1)\n",
        "df[\"Lag2\"]= df[\"Percentage_Return\"].shift(periods=-2)\n",
        "df[\"Lag3\"]= df[\"Percentage_Return\"].shift(periods=-3)\n",
        "df[\"Lag4\"]= df[\"Percentage_Return\"].shift(periods=-4)\n",
        "df[\"Lag5\"]= df[\"Percentage_Return\"].shift(periods=-5)\n",
        "df.dropna()"
      ],
      "execution_count": 15,
      "outputs": [
        {
          "output_type": "execute_result",
          "data": {
            "text/html": [
              "<div>\n",
              "<style scoped>\n",
              "    .dataframe tbody tr th:only-of-type {\n",
              "        vertical-align: middle;\n",
              "    }\n",
              "\n",
              "    .dataframe tbody tr th {\n",
              "        vertical-align: top;\n",
              "    }\n",
              "\n",
              "    .dataframe thead th {\n",
              "        text-align: right;\n",
              "    }\n",
              "</style>\n",
              "<table border=\"1\" class=\"dataframe\">\n",
              "  <thead>\n",
              "    <tr style=\"text-align: right;\">\n",
              "      <th></th>\n",
              "      <th>Open</th>\n",
              "      <th>High</th>\n",
              "      <th>Low</th>\n",
              "      <th>Close</th>\n",
              "      <th>Volume_(BTC)</th>\n",
              "      <th>Volume_(Currency)</th>\n",
              "      <th>Weighted_Price</th>\n",
              "      <th>Price</th>\n",
              "      <th>Return</th>\n",
              "      <th>Direction</th>\n",
              "      <th>Percentage_Return</th>\n",
              "      <th>Lag1</th>\n",
              "      <th>Lag2</th>\n",
              "      <th>Lag3</th>\n",
              "      <th>Lag4</th>\n",
              "      <th>Lag5</th>\n",
              "    </tr>\n",
              "    <tr>\n",
              "      <th>Timestamp</th>\n",
              "      <th></th>\n",
              "      <th></th>\n",
              "      <th></th>\n",
              "      <th></th>\n",
              "      <th></th>\n",
              "      <th></th>\n",
              "      <th></th>\n",
              "      <th></th>\n",
              "      <th></th>\n",
              "      <th></th>\n",
              "      <th></th>\n",
              "      <th></th>\n",
              "      <th></th>\n",
              "      <th></th>\n",
              "      <th></th>\n",
              "      <th></th>\n",
              "    </tr>\n",
              "  </thead>\n",
              "  <tbody>\n",
              "    <tr>\n",
              "      <th>2011-12-31 07:53:00</th>\n",
              "      <td>4.390</td>\n",
              "      <td>4.390</td>\n",
              "      <td>4.39</td>\n",
              "      <td>4.39</td>\n",
              "      <td>0.555046</td>\n",
              "      <td>2.436653</td>\n",
              "      <td>4.390000</td>\n",
              "      <td>4.3900</td>\n",
              "      <td>0.0000</td>\n",
              "      <td>Down</td>\n",
              "      <td>0.000000</td>\n",
              "      <td>0.000000</td>\n",
              "      <td>0.000000</td>\n",
              "      <td>0.000000</td>\n",
              "      <td>0.000000</td>\n",
              "      <td>0.000000</td>\n",
              "    </tr>\n",
              "    <tr>\n",
              "      <th>2011-12-31 07:54:00</th>\n",
              "      <td>4.390</td>\n",
              "      <td>4.390</td>\n",
              "      <td>4.39</td>\n",
              "      <td>4.39</td>\n",
              "      <td>0.654511</td>\n",
              "      <td>2.873305</td>\n",
              "      <td>4.390000</td>\n",
              "      <td>4.3900</td>\n",
              "      <td>0.0000</td>\n",
              "      <td>Down</td>\n",
              "      <td>0.000000</td>\n",
              "      <td>0.000000</td>\n",
              "      <td>0.000000</td>\n",
              "      <td>0.000000</td>\n",
              "      <td>0.000000</td>\n",
              "      <td>0.000000</td>\n",
              "    </tr>\n",
              "    <tr>\n",
              "      <th>2011-12-31 07:55:00</th>\n",
              "      <td>4.390</td>\n",
              "      <td>4.390</td>\n",
              "      <td>4.39</td>\n",
              "      <td>4.39</td>\n",
              "      <td>0.753977</td>\n",
              "      <td>3.309958</td>\n",
              "      <td>4.390000</td>\n",
              "      <td>4.3900</td>\n",
              "      <td>0.0000</td>\n",
              "      <td>Down</td>\n",
              "      <td>0.000000</td>\n",
              "      <td>0.000000</td>\n",
              "      <td>0.000000</td>\n",
              "      <td>0.000000</td>\n",
              "      <td>0.000000</td>\n",
              "      <td>0.000000</td>\n",
              "    </tr>\n",
              "    <tr>\n",
              "      <th>2011-12-31 07:56:00</th>\n",
              "      <td>4.390</td>\n",
              "      <td>4.390</td>\n",
              "      <td>4.39</td>\n",
              "      <td>4.39</td>\n",
              "      <td>0.853442</td>\n",
              "      <td>3.746611</td>\n",
              "      <td>4.390000</td>\n",
              "      <td>4.3900</td>\n",
              "      <td>0.0000</td>\n",
              "      <td>Down</td>\n",
              "      <td>0.000000</td>\n",
              "      <td>0.000000</td>\n",
              "      <td>0.000000</td>\n",
              "      <td>0.000000</td>\n",
              "      <td>0.000000</td>\n",
              "      <td>0.000000</td>\n",
              "    </tr>\n",
              "    <tr>\n",
              "      <th>2011-12-31 07:57:00</th>\n",
              "      <td>4.390</td>\n",
              "      <td>4.390</td>\n",
              "      <td>4.39</td>\n",
              "      <td>4.39</td>\n",
              "      <td>0.952907</td>\n",
              "      <td>4.183264</td>\n",
              "      <td>4.390000</td>\n",
              "      <td>4.3900</td>\n",
              "      <td>0.0000</td>\n",
              "      <td>Down</td>\n",
              "      <td>0.000000</td>\n",
              "      <td>0.000000</td>\n",
              "      <td>0.000000</td>\n",
              "      <td>0.000000</td>\n",
              "      <td>0.000000</td>\n",
              "      <td>0.000000</td>\n",
              "    </tr>\n",
              "    <tr>\n",
              "      <th>...</th>\n",
              "      <td>...</td>\n",
              "      <td>...</td>\n",
              "      <td>...</td>\n",
              "      <td>...</td>\n",
              "      <td>...</td>\n",
              "      <td>...</td>\n",
              "      <td>...</td>\n",
              "      <td>...</td>\n",
              "      <td>...</td>\n",
              "      <td>...</td>\n",
              "      <td>...</td>\n",
              "      <td>...</td>\n",
              "      <td>...</td>\n",
              "      <td>...</td>\n",
              "      <td>...</td>\n",
              "      <td>...</td>\n",
              "    </tr>\n",
              "    <tr>\n",
              "      <th>2021-03-30 23:51:00</th>\n",
              "      <td>58677.050</td>\n",
              "      <td>58699.900</td>\n",
              "      <td>58660.00</td>\n",
              "      <td>58699.90</td>\n",
              "      <td>2.672676</td>\n",
              "      <td>156832.692130</td>\n",
              "      <td>58680.021260</td>\n",
              "      <td>58684.2125</td>\n",
              "      <td>2.8925</td>\n",
              "      <td>Up</td>\n",
              "      <td>0.000049</td>\n",
              "      <td>0.000234</td>\n",
              "      <td>0.000234</td>\n",
              "      <td>0.000545</td>\n",
              "      <td>-0.000263</td>\n",
              "      <td>-0.000478</td>\n",
              "    </tr>\n",
              "    <tr>\n",
              "      <th>2021-03-30 23:52:00</th>\n",
              "      <td>58697.865</td>\n",
              "      <td>58715.565</td>\n",
              "      <td>58679.17</td>\n",
              "      <td>58699.20</td>\n",
              "      <td>1.440329</td>\n",
              "      <td>84520.873706</td>\n",
              "      <td>58691.157958</td>\n",
              "      <td>58697.9500</td>\n",
              "      <td>13.7375</td>\n",
              "      <td>Up</td>\n",
              "      <td>0.000234</td>\n",
              "      <td>0.000234</td>\n",
              "      <td>0.000545</td>\n",
              "      <td>-0.000263</td>\n",
              "      <td>-0.000478</td>\n",
              "      <td>-0.000228</td>\n",
              "    </tr>\n",
              "    <tr>\n",
              "      <th>2021-03-30 23:53:00</th>\n",
              "      <td>58718.680</td>\n",
              "      <td>58731.230</td>\n",
              "      <td>58698.34</td>\n",
              "      <td>58698.50</td>\n",
              "      <td>0.207983</td>\n",
              "      <td>12209.055282</td>\n",
              "      <td>58702.294657</td>\n",
              "      <td>58711.6875</td>\n",
              "      <td>13.7375</td>\n",
              "      <td>Up</td>\n",
              "      <td>0.000234</td>\n",
              "      <td>0.000545</td>\n",
              "      <td>-0.000263</td>\n",
              "      <td>-0.000478</td>\n",
              "      <td>-0.000228</td>\n",
              "      <td>0.000372</td>\n",
              "    </tr>\n",
              "    <tr>\n",
              "      <th>2021-03-30 23:54:00</th>\n",
              "      <td>58736.190</td>\n",
              "      <td>58762.430</td>\n",
              "      <td>58736.19</td>\n",
              "      <td>58739.95</td>\n",
              "      <td>0.041559</td>\n",
              "      <td>2441.376572</td>\n",
              "      <td>58745.145351</td>\n",
              "      <td>58743.6900</td>\n",
              "      <td>32.0025</td>\n",
              "      <td>Up</td>\n",
              "      <td>0.000545</td>\n",
              "      <td>-0.000263</td>\n",
              "      <td>-0.000478</td>\n",
              "      <td>-0.000228</td>\n",
              "      <td>0.000372</td>\n",
              "      <td>0.000770</td>\n",
              "    </tr>\n",
              "    <tr>\n",
              "      <th>2021-03-30 23:55:00</th>\n",
              "      <td>58742.180</td>\n",
              "      <td>58742.180</td>\n",
              "      <td>58714.31</td>\n",
              "      <td>58714.31</td>\n",
              "      <td>2.519999</td>\n",
              "      <td>148004.448110</td>\n",
              "      <td>58731.946927</td>\n",
              "      <td>58728.2450</td>\n",
              "      <td>-15.4450</td>\n",
              "      <td>Down</td>\n",
              "      <td>-0.000263</td>\n",
              "      <td>-0.000478</td>\n",
              "      <td>-0.000228</td>\n",
              "      <td>0.000372</td>\n",
              "      <td>0.000770</td>\n",
              "      <td>0.000276</td>\n",
              "    </tr>\n",
              "  </tbody>\n",
              "</table>\n",
              "<p>4857371 rows × 16 columns</p>\n",
              "</div>"
            ],
            "text/plain": [
              "                          Open       High  ...      Lag4      Lag5\n",
              "Timestamp                                  ...                    \n",
              "2011-12-31 07:53:00      4.390      4.390  ...  0.000000  0.000000\n",
              "2011-12-31 07:54:00      4.390      4.390  ...  0.000000  0.000000\n",
              "2011-12-31 07:55:00      4.390      4.390  ...  0.000000  0.000000\n",
              "2011-12-31 07:56:00      4.390      4.390  ...  0.000000  0.000000\n",
              "2011-12-31 07:57:00      4.390      4.390  ...  0.000000  0.000000\n",
              "...                        ...        ...  ...       ...       ...\n",
              "2021-03-30 23:51:00  58677.050  58699.900  ... -0.000263 -0.000478\n",
              "2021-03-30 23:52:00  58697.865  58715.565  ... -0.000478 -0.000228\n",
              "2021-03-30 23:53:00  58718.680  58731.230  ... -0.000228  0.000372\n",
              "2021-03-30 23:54:00  58736.190  58762.430  ...  0.000372  0.000770\n",
              "2021-03-30 23:55:00  58742.180  58742.180  ...  0.000770  0.000276\n",
              "\n",
              "[4857371 rows x 16 columns]"
            ]
          },
          "metadata": {},
          "execution_count": 15
        }
      ]
    },
    {
      "cell_type": "markdown",
      "metadata": {
        "id": "sblblKX4dck4"
      },
      "source": [
        "Cleaned Dataset Display"
      ]
    },
    {
      "cell_type": "code",
      "metadata": {
        "colab": {
          "base_uri": "https://localhost:8080/"
        },
        "id": "HpE2A5BVXsgX",
        "outputId": "a543127f-5e76-42fa-a936-5c9192d748ba"
      },
      "source": [
        "df.shape"
      ],
      "execution_count": 16,
      "outputs": [
        {
          "output_type": "execute_result",
          "data": {
            "text/plain": [
              "(4857377, 16)"
            ]
          },
          "metadata": {},
          "execution_count": 16
        }
      ]
    },
    {
      "cell_type": "code",
      "metadata": {
        "colab": {
          "base_uri": "https://localhost:8080/",
          "height": 320
        },
        "id": "181eZ6wOXKEY",
        "outputId": "5baeaa16-55a0-42a2-dc1b-ab6cfc902a23"
      },
      "source": [
        "df.head()"
      ],
      "execution_count": 17,
      "outputs": [
        {
          "output_type": "execute_result",
          "data": {
            "text/html": [
              "<div>\n",
              "<style scoped>\n",
              "    .dataframe tbody tr th:only-of-type {\n",
              "        vertical-align: middle;\n",
              "    }\n",
              "\n",
              "    .dataframe tbody tr th {\n",
              "        vertical-align: top;\n",
              "    }\n",
              "\n",
              "    .dataframe thead th {\n",
              "        text-align: right;\n",
              "    }\n",
              "</style>\n",
              "<table border=\"1\" class=\"dataframe\">\n",
              "  <thead>\n",
              "    <tr style=\"text-align: right;\">\n",
              "      <th></th>\n",
              "      <th>Open</th>\n",
              "      <th>High</th>\n",
              "      <th>Low</th>\n",
              "      <th>Close</th>\n",
              "      <th>Volume_(BTC)</th>\n",
              "      <th>Volume_(Currency)</th>\n",
              "      <th>Weighted_Price</th>\n",
              "      <th>Price</th>\n",
              "      <th>Return</th>\n",
              "      <th>Direction</th>\n",
              "      <th>Percentage_Return</th>\n",
              "      <th>Lag1</th>\n",
              "      <th>Lag2</th>\n",
              "      <th>Lag3</th>\n",
              "      <th>Lag4</th>\n",
              "      <th>Lag5</th>\n",
              "    </tr>\n",
              "    <tr>\n",
              "      <th>Timestamp</th>\n",
              "      <th></th>\n",
              "      <th></th>\n",
              "      <th></th>\n",
              "      <th></th>\n",
              "      <th></th>\n",
              "      <th></th>\n",
              "      <th></th>\n",
              "      <th></th>\n",
              "      <th></th>\n",
              "      <th></th>\n",
              "      <th></th>\n",
              "      <th></th>\n",
              "      <th></th>\n",
              "      <th></th>\n",
              "      <th></th>\n",
              "      <th></th>\n",
              "    </tr>\n",
              "  </thead>\n",
              "  <tbody>\n",
              "    <tr>\n",
              "      <th>2011-12-31 07:52:00</th>\n",
              "      <td>4.39</td>\n",
              "      <td>4.39</td>\n",
              "      <td>4.39</td>\n",
              "      <td>4.39</td>\n",
              "      <td>0.455581</td>\n",
              "      <td>2.000000</td>\n",
              "      <td>4.39</td>\n",
              "      <td>4.39</td>\n",
              "      <td>NaN</td>\n",
              "      <td>Down</td>\n",
              "      <td>NaN</td>\n",
              "      <td>0.0</td>\n",
              "      <td>0.0</td>\n",
              "      <td>0.0</td>\n",
              "      <td>0.0</td>\n",
              "      <td>0.0</td>\n",
              "    </tr>\n",
              "    <tr>\n",
              "      <th>2011-12-31 07:53:00</th>\n",
              "      <td>4.39</td>\n",
              "      <td>4.39</td>\n",
              "      <td>4.39</td>\n",
              "      <td>4.39</td>\n",
              "      <td>0.555046</td>\n",
              "      <td>2.436653</td>\n",
              "      <td>4.39</td>\n",
              "      <td>4.39</td>\n",
              "      <td>0.0</td>\n",
              "      <td>Down</td>\n",
              "      <td>0.0</td>\n",
              "      <td>0.0</td>\n",
              "      <td>0.0</td>\n",
              "      <td>0.0</td>\n",
              "      <td>0.0</td>\n",
              "      <td>0.0</td>\n",
              "    </tr>\n",
              "    <tr>\n",
              "      <th>2011-12-31 07:54:00</th>\n",
              "      <td>4.39</td>\n",
              "      <td>4.39</td>\n",
              "      <td>4.39</td>\n",
              "      <td>4.39</td>\n",
              "      <td>0.654511</td>\n",
              "      <td>2.873305</td>\n",
              "      <td>4.39</td>\n",
              "      <td>4.39</td>\n",
              "      <td>0.0</td>\n",
              "      <td>Down</td>\n",
              "      <td>0.0</td>\n",
              "      <td>0.0</td>\n",
              "      <td>0.0</td>\n",
              "      <td>0.0</td>\n",
              "      <td>0.0</td>\n",
              "      <td>0.0</td>\n",
              "    </tr>\n",
              "    <tr>\n",
              "      <th>2011-12-31 07:55:00</th>\n",
              "      <td>4.39</td>\n",
              "      <td>4.39</td>\n",
              "      <td>4.39</td>\n",
              "      <td>4.39</td>\n",
              "      <td>0.753977</td>\n",
              "      <td>3.309958</td>\n",
              "      <td>4.39</td>\n",
              "      <td>4.39</td>\n",
              "      <td>0.0</td>\n",
              "      <td>Down</td>\n",
              "      <td>0.0</td>\n",
              "      <td>0.0</td>\n",
              "      <td>0.0</td>\n",
              "      <td>0.0</td>\n",
              "      <td>0.0</td>\n",
              "      <td>0.0</td>\n",
              "    </tr>\n",
              "    <tr>\n",
              "      <th>2011-12-31 07:56:00</th>\n",
              "      <td>4.39</td>\n",
              "      <td>4.39</td>\n",
              "      <td>4.39</td>\n",
              "      <td>4.39</td>\n",
              "      <td>0.853442</td>\n",
              "      <td>3.746611</td>\n",
              "      <td>4.39</td>\n",
              "      <td>4.39</td>\n",
              "      <td>0.0</td>\n",
              "      <td>Down</td>\n",
              "      <td>0.0</td>\n",
              "      <td>0.0</td>\n",
              "      <td>0.0</td>\n",
              "      <td>0.0</td>\n",
              "      <td>0.0</td>\n",
              "      <td>0.0</td>\n",
              "    </tr>\n",
              "  </tbody>\n",
              "</table>\n",
              "</div>"
            ],
            "text/plain": [
              "                     Open  High   Low  Close  ...  Lag2  Lag3  Lag4  Lag5\n",
              "Timestamp                                     ...                        \n",
              "2011-12-31 07:52:00  4.39  4.39  4.39   4.39  ...   0.0   0.0   0.0   0.0\n",
              "2011-12-31 07:53:00  4.39  4.39  4.39   4.39  ...   0.0   0.0   0.0   0.0\n",
              "2011-12-31 07:54:00  4.39  4.39  4.39   4.39  ...   0.0   0.0   0.0   0.0\n",
              "2011-12-31 07:55:00  4.39  4.39  4.39   4.39  ...   0.0   0.0   0.0   0.0\n",
              "2011-12-31 07:56:00  4.39  4.39  4.39   4.39  ...   0.0   0.0   0.0   0.0\n",
              "\n",
              "[5 rows x 16 columns]"
            ]
          },
          "metadata": {},
          "execution_count": 17
        }
      ]
    },
    {
      "cell_type": "markdown",
      "metadata": {
        "id": "udvKkj9ri4xQ"
      },
      "source": [
        "#**Exploratory Data Analysis**"
      ]
    },
    {
      "cell_type": "markdown",
      "metadata": {
        "id": "zIeWGoia6Kci"
      },
      "source": [
        "Zheming's Part"
      ]
    },
    {
      "cell_type": "markdown",
      "metadata": {
        "id": "k1fHrsuuAbep"
      },
      "source": [
        "Produce a kernal density plot for Price (refer to Lecture 7 02-Exploratory-Data-Analysis.ipynb)"
      ]
    },
    {
      "cell_type": "code",
      "metadata": {
        "colab": {
          "base_uri": "https://localhost:8080/",
          "height": 301
        },
        "id": "JlN1216Q_662",
        "outputId": "48d9046e-765d-4846-b7a3-cfd164ac25fb"
      },
      "source": [
        "def kdeplot(feature):\n",
        "    plt.figure(figsize=(9, 4))\n",
        "    plt.title(\"KDE for {}\".format(feature))\n",
        "    ax0 = sns.kdeplot(df[df['Direction'] == 'Up'][feature].dropna(), color= 'navy', label= 'Churn: No')\n",
        "    ax1 = sns.kdeplot(df[df['Direction'] == 'Down'][feature].dropna(), color= 'orange', label= 'Churn: Yes')\n",
        "kdeplot('Price')\n"
      ],
      "execution_count": 14,
      "outputs": [
        {
          "output_type": "display_data",
          "data": {
            "image/png": "[encoded data removed]",
            "text/plain": [
              "<Figure size 648x288 with 1 Axes>"
            ]
          },
          "metadata": {
            "needs_background": "light"
          }
        }
      ]
    },
    {
      "cell_type": "markdown",
      "metadata": {
        "id": "pqqxoFHG2PXi"
      },
      "source": [
        "Analyze correlations with seaborn heatmap"
      ]
    },
    {
      "cell_type": "code",
      "metadata": {
        "colab": {
          "base_uri": "https://localhost:8080/",
          "height": 693
        },
        "id": "d54dMuVP2OxE",
        "outputId": "ba6e8742-a254-4461-fb69-2cfd9bcfff33"
      },
      "source": [
        "corr = df.corr()\n",
        "plt.figure(figsize=[10,10])\n",
        "plt.rcParams['font.size']=7\n",
        "sns.heatmap(corr, cmap='PiYG', annot= True, linewidths=0.3 );"
      ],
      "execution_count": 15,
      "outputs": [
        {
          "output_type": "display_data",
          "data": {
            "image/png": "[encoded data removed]",
            "text/plain": [
              "<Figure size 720x720 with 2 Axes>"
            ]
          },
          "metadata": {
            "needs_background": "light"
          }
        }
      ]
    },
    {
      "cell_type": "code",
      "metadata": {
        "id": "Vw4o3Hxvi7cl"
      },
      "source": [
        "def triple_plot(x, title,c):\n",
        "    fig, ax = plt.subplots(3,1,figsize=(25,10),sharex=True)\n",
        "    sns.distplot(x, ax=ax[0],color=c)\n",
        "    ax[0].set(xlabel=None)\n",
        "    ax[0].set_title('Histogram + KDE')\n",
        "    sns.boxplot(x, ax=ax[1],color=c)\n",
        "    ax[1].set(xlabel=None)\n",
        "    ax[1].set_title('Boxplot')\n",
        "    sns.violinplot(x, ax=ax[2],color=c)\n",
        "    ax[2].set(xlabel=None)\n",
        "    ax[2].set_title('Violin plot')\n",
        "    fig.suptitle(title, fontsize=30)\n",
        "    plt.tight_layout(pad=3.0)\n",
        "    plt.show()"
      ],
      "execution_count": 16,
      "outputs": []
    },
    {
      "cell_type": "code",
      "metadata": {
        "colab": {
          "base_uri": "https://localhost:8080/",
          "height": 658
        },
        "id": "C0w-mibTlsk2",
        "outputId": "0741146a-9f9f-47b7-fec6-c87f84ceb5f5"
      },
      "source": [
        "triple_plot(df['Open'],'Distribution of Opening price',custom_colors[0])"
      ],
      "execution_count": 17,
      "outputs": [
        {
          "output_type": "stream",
          "name": "stderr",
          "text": [
            "/usr/local/lib/python3.7/dist-packages/seaborn/distributions.py:2619: FutureWarning: `distplot` is a deprecated function and will be removed in a future version. Please adapt your code to use either `displot` (a figure-level function with similar flexibility) or `histplot` (an axes-level function for histograms).\n",
            "  warnings.warn(msg, FutureWarning)\n",
            "/usr/local/lib/python3.7/dist-packages/seaborn/_decorators.py:43: FutureWarning: Pass the following variable as a keyword arg: x. From version 0.12, the only valid positional argument will be `data`, and passing other arguments without an explicit keyword will result in an error or misinterpretation.\n",
            "  FutureWarning\n",
            "/usr/local/lib/python3.7/dist-packages/seaborn/_decorators.py:43: FutureWarning: Pass the following variable as a keyword arg: x. From version 0.12, the only valid positional argument will be `data`, and passing other arguments without an explicit keyword will result in an error or misinterpretation.\n",
            "  FutureWarning\n"
          ]
        },
        {
          "output_type": "display_data",
          "data": {
            "image/png": "[encoded data removed]",
            "text/plain": [
              "<Figure size 1800x720 with 3 Axes>"
            ]
          },
          "metadata": {
            "needs_background": "light"
          }
        }
      ]
    },
    {
      "cell_type": "markdown",
      "metadata": {
        "id": "60itOyhi5ok8"
      },
      "source": [
        "# **Linear Regression**"
      ]
    },
    {
      "cell_type": "markdown",
      "metadata": {
        "id": "_XUZ2uCs5sH5"
      },
      "source": [
        "Ji Qi's part here"
      ]
    },
    {
      "cell_type": "markdown",
      "metadata": {
        "id": "2U0n3WAt5uEu"
      },
      "source": [
        "#**Logistics Regression**"
      ]
    },
    {
      "cell_type": "markdown",
      "metadata": {
        "id": "_LD4Nv0k5xZQ"
      },
      "source": [
        "Ji Qi's part here"
      ]
    },
    {
      "cell_type": "markdown",
      "metadata": {
        "id": "8v9xCs7j5y-Z"
      },
      "source": [
        "# **ARIMA Model**"
      ]
    },
    {
      "cell_type": "markdown",
      "metadata": {
        "id": "Nu79K8EM52cZ"
      },
      "source": [
        "Geech's part here"
      ]
    },
    {
      "cell_type": "code",
      "metadata": {
        "id": "DdabMycDQkvd"
      },
      "source": [
        "df = df.resample(\"24H\").mean()"
      ],
      "execution_count": 18,
      "outputs": []
    },
    {
      "cell_type": "code",
      "metadata": {
        "colab": {
          "base_uri": "https://localhost:8080/",
          "height": 340
        },
        "id": "PvYBk5mmysXu",
        "outputId": "256d92ca-f4fa-49e9-85d2-ab3b111a8a7b"
      },
      "source": [
        "df.head(5)"
      ],
      "execution_count": 19,
      "outputs": [
        {
          "output_type": "execute_result",
          "data": {
            "text/html": [
              "<div>\n",
              "<style scoped>\n",
              "    .dataframe tbody tr th:only-of-type {\n",
              "        vertical-align: middle;\n",
              "    }\n",
              "\n",
              "    .dataframe tbody tr th {\n",
              "        vertical-align: top;\n",
              "    }\n",
              "\n",
              "    .dataframe thead th {\n",
              "        text-align: right;\n",
              "    }\n",
              "</style>\n",
              "<table border=\"1\" class=\"dataframe\">\n",
              "  <thead>\n",
              "    <tr style=\"text-align: right;\">\n",
              "      <th></th>\n",
              "      <th>Open</th>\n",
              "      <th>High</th>\n",
              "      <th>Low</th>\n",
              "      <th>Close</th>\n",
              "      <th>Volume_(BTC)</th>\n",
              "      <th>Volume_(Currency)</th>\n",
              "      <th>Weighted_Price</th>\n",
              "      <th>Price</th>\n",
              "      <th>Return</th>\n",
              "      <th>Percentage_Return</th>\n",
              "      <th>Lag1</th>\n",
              "      <th>Lag2</th>\n",
              "      <th>Lag3</th>\n",
              "      <th>Lag4</th>\n",
              "      <th>Lag5</th>\n",
              "    </tr>\n",
              "    <tr>\n",
              "      <th>Timestamp</th>\n",
              "      <th></th>\n",
              "      <th></th>\n",
              "      <th></th>\n",
              "      <th></th>\n",
              "      <th></th>\n",
              "      <th></th>\n",
              "      <th></th>\n",
              "      <th></th>\n",
              "      <th></th>\n",
              "      <th></th>\n",
              "      <th></th>\n",
              "      <th></th>\n",
              "      <th></th>\n",
              "      <th></th>\n",
              "      <th></th>\n",
              "    </tr>\n",
              "  </thead>\n",
              "  <tbody>\n",
              "    <tr>\n",
              "      <th>2011-12-31</th>\n",
              "      <td>4.476415</td>\n",
              "      <td>4.478946</td>\n",
              "      <td>4.476415</td>\n",
              "      <td>4.478946</td>\n",
              "      <td>17.940426</td>\n",
              "      <td>79.495594</td>\n",
              "      <td>4.477370</td>\n",
              "      <td>4.477681</td>\n",
              "      <td>0.000196</td>\n",
              "      <td>4.387418e-05</td>\n",
              "      <td>4.382886e-05</td>\n",
              "      <td>0.000044</td>\n",
              "      <td>0.000044</td>\n",
              "      <td>0.000044</td>\n",
              "      <td>0.000044</td>\n",
              "    </tr>\n",
              "    <tr>\n",
              "      <th>2012-01-01</th>\n",
              "      <td>4.765576</td>\n",
              "      <td>4.765576</td>\n",
              "      <td>4.765576</td>\n",
              "      <td>4.765576</td>\n",
              "      <td>6.790640</td>\n",
              "      <td>32.971105</td>\n",
              "      <td>4.765576</td>\n",
              "      <td>4.765576</td>\n",
              "      <td>0.000292</td>\n",
              "      <td>6.093222e-05</td>\n",
              "      <td>6.093222e-05</td>\n",
              "      <td>0.000061</td>\n",
              "      <td>0.000061</td>\n",
              "      <td>0.000061</td>\n",
              "      <td>0.000061</td>\n",
              "    </tr>\n",
              "    <tr>\n",
              "      <th>2012-01-02</th>\n",
              "      <td>5.006549</td>\n",
              "      <td>5.006549</td>\n",
              "      <td>5.006549</td>\n",
              "      <td>5.006549</td>\n",
              "      <td>15.183373</td>\n",
              "      <td>75.932706</td>\n",
              "      <td>5.006549</td>\n",
              "      <td>5.006549</td>\n",
              "      <td>0.000055</td>\n",
              "      <td>1.101191e-05</td>\n",
              "      <td>1.105840e-05</td>\n",
              "      <td>0.000011</td>\n",
              "      <td>0.000011</td>\n",
              "      <td>0.000011</td>\n",
              "      <td>0.000011</td>\n",
              "    </tr>\n",
              "    <tr>\n",
              "      <th>2012-01-03</th>\n",
              "      <td>5.206530</td>\n",
              "      <td>5.206530</td>\n",
              "      <td>5.206530</td>\n",
              "      <td>5.206530</td>\n",
              "      <td>7.917041</td>\n",
              "      <td>40.795994</td>\n",
              "      <td>5.206530</td>\n",
              "      <td>5.206530</td>\n",
              "      <td>-0.000005</td>\n",
              "      <td>-8.537691e-07</td>\n",
              "      <td>-9.760750e-07</td>\n",
              "      <td>-0.000001</td>\n",
              "      <td>-0.000001</td>\n",
              "      <td>-0.000001</td>\n",
              "      <td>-0.000001</td>\n",
              "    </tr>\n",
              "    <tr>\n",
              "      <th>2012-01-04</th>\n",
              "      <td>5.202511</td>\n",
              "      <td>5.241699</td>\n",
              "      <td>5.202511</td>\n",
              "      <td>5.241699</td>\n",
              "      <td>13.659736</td>\n",
              "      <td>72.860096</td>\n",
              "      <td>5.216680</td>\n",
              "      <td>5.222105</td>\n",
              "      <td>0.000412</td>\n",
              "      <td>7.683091e-05</td>\n",
              "      <td>7.697206e-05</td>\n",
              "      <td>0.000077</td>\n",
              "      <td>0.000077</td>\n",
              "      <td>0.000077</td>\n",
              "      <td>0.000078</td>\n",
              "    </tr>\n",
              "  </tbody>\n",
              "</table>\n",
              "</div>"
            ],
            "text/plain": [
              "                Open      High       Low  ...      Lag3      Lag4      Lag5\n",
              "Timestamp                                 ...                              \n",
              "2011-12-31  4.476415  4.478946  4.476415  ...  0.000044  0.000044  0.000044\n",
              "2012-01-01  4.765576  4.765576  4.765576  ...  0.000061  0.000061  0.000061\n",
              "2012-01-02  5.006549  5.006549  5.006549  ...  0.000011  0.000011  0.000011\n",
              "2012-01-03  5.206530  5.206530  5.206530  ... -0.000001 -0.000001 -0.000001\n",
              "2012-01-04  5.202511  5.241699  5.202511  ...  0.000077  0.000077  0.000078\n",
              "\n",
              "[5 rows x 15 columns]"
            ]
          },
          "metadata": {},
          "execution_count": 19
        }
      ]
    },
    {
      "cell_type": "code",
      "metadata": {
        "colab": {
          "base_uri": "https://localhost:8080/"
        },
        "id": "n6eN35q656n1",
        "outputId": "38dd1e62-9550-4969-b5f1-860fb8a544e2"
      },
      "source": [
        "df.shape"
      ],
      "execution_count": 20,
      "outputs": [
        {
          "output_type": "execute_result",
          "data": {
            "text/plain": [
              "(3379, 15)"
            ]
          },
          "metadata": {},
          "execution_count": 20
        }
      ]
    },
    {
      "cell_type": "code",
      "metadata": {
        "id": "ZBVvIArZ0iIK"
      },
      "source": [
        "df= df[[\"Close\"]].copy()"
      ],
      "execution_count": 21,
      "outputs": []
    },
    {
      "cell_type": "code",
      "metadata": {
        "colab": {
          "base_uri": "https://localhost:8080/",
          "height": 297
        },
        "id": "njeOsTyC_Kbo",
        "outputId": "f42e5566-4ef3-434d-f245-c7b76cf71a07"
      },
      "source": [
        "df.describe()"
      ],
      "execution_count": 22,
      "outputs": [
        {
          "output_type": "execute_result",
          "data": {
            "text/html": [
              "<div>\n",
              "<style scoped>\n",
              "    .dataframe tbody tr th:only-of-type {\n",
              "        vertical-align: middle;\n",
              "    }\n",
              "\n",
              "    .dataframe tbody tr th {\n",
              "        vertical-align: top;\n",
              "    }\n",
              "\n",
              "    .dataframe thead th {\n",
              "        text-align: right;\n",
              "    }\n",
              "</style>\n",
              "<table border=\"1\" class=\"dataframe\">\n",
              "  <thead>\n",
              "    <tr style=\"text-align: right;\">\n",
              "      <th></th>\n",
              "      <th>Close</th>\n",
              "    </tr>\n",
              "  </thead>\n",
              "  <tbody>\n",
              "    <tr>\n",
              "      <th>count</th>\n",
              "      <td>3376.000000</td>\n",
              "    </tr>\n",
              "    <tr>\n",
              "      <th>mean</th>\n",
              "      <td>4605.639551</td>\n",
              "    </tr>\n",
              "    <tr>\n",
              "      <th>std</th>\n",
              "      <td>8207.350418</td>\n",
              "    </tr>\n",
              "    <tr>\n",
              "      <th>min</th>\n",
              "      <td>4.360638</td>\n",
              "    </tr>\n",
              "    <tr>\n",
              "      <th>25%</th>\n",
              "      <td>245.230391</td>\n",
              "    </tr>\n",
              "    <tr>\n",
              "      <th>50%</th>\n",
              "      <td>697.703091</td>\n",
              "    </tr>\n",
              "    <tr>\n",
              "      <th>75%</th>\n",
              "      <td>7242.406733</td>\n",
              "    </tr>\n",
              "    <tr>\n",
              "      <th>max</th>\n",
              "      <td>60460.509722</td>\n",
              "    </tr>\n",
              "  </tbody>\n",
              "</table>\n",
              "</div>"
            ],
            "text/plain": [
              "              Close\n",
              "count   3376.000000\n",
              "mean    4605.639551\n",
              "std     8207.350418\n",
              "min        4.360638\n",
              "25%      245.230391\n",
              "50%      697.703091\n",
              "75%     7242.406733\n",
              "max    60460.509722"
            ]
          },
          "metadata": {},
          "execution_count": 22
        }
      ]
    },
    {
      "cell_type": "code",
      "metadata": {
        "colab": {
          "base_uri": "https://localhost:8080/",
          "height": 391
        },
        "id": "jLvhVWzhBzpB",
        "outputId": "a77fb81f-a41b-4ce7-826d-c26fb4652d8c"
      },
      "source": [
        "df.Close.dropna().plot()"
      ],
      "execution_count": 44,
      "outputs": [
        {
          "output_type": "execute_result",
          "data": {
            "text/plain": [
              "<matplotlib.axes._subplots.AxesSubplot at 0x7f2228d62710>"
            ]
          },
          "metadata": {},
          "execution_count": 44
        },
        {
          "output_type": "display_data",
          "data": {
            "image/png": "[encoded data removed]",
            "text/plain": [
              "<Figure size 720x432 with 1 Axes>"
            ]
          },
          "metadata": {}
        }
      ]
    },
    {
      "cell_type": "code",
      "metadata": {
        "id": "CuEcupgHEmNx"
      },
      "source": [
        "from numpy import log"
      ],
      "execution_count": 24,
      "outputs": []
    },
    {
      "cell_type": "code",
      "metadata": {
        "colab": {
          "base_uri": "https://localhost:8080/"
        },
        "id": "lBxKRstLCC1T",
        "outputId": "c3a137cb-7640-4339-d06b-aca8890e5197"
      },
      "source": [
        "#split the time series into two group \n",
        "#calculate the mean and variance of each group of numbers\n",
        "#compare the values. \n",
        "#mean and variance look very different = non-stationary time series\n",
        "#cannot reject null \n",
        "X = df.Close\n",
        "X=log(X)\n",
        "split = round(len(X) / 2)\n",
        "X1, X2 = X[0:split], X[split:]\n",
        "mean1, mean2 = X1.mean(), X2.mean()\n",
        "var1, var2 = X1.var(), X2.var()\n",
        "print('mean1=%f, mean2=%f' % (mean1, mean2))\n",
        "print('variance1=%f, variance2=%f' % (var1, var2))"
      ],
      "execution_count": 25,
      "outputs": [
        {
          "output_type": "stream",
          "name": "stdout",
          "text": [
            "mean1=4.833398, mean2=8.641288\n",
            "variance1=2.801974, variance2=1.048945\n"
          ]
        }
      ]
    },
    {
      "cell_type": "code",
      "metadata": {
        "colab": {
          "base_uri": "https://localhost:8080/",
          "height": 377
        },
        "id": "lfyKUMUmFdoW",
        "outputId": "3fcadd28-6f78-48f4-8fde-67c6d0a7881c"
      },
      "source": [
        "plt.plot(X)\n",
        "plt.show()"
      ],
      "execution_count": 53,
      "outputs": [
        {
          "output_type": "display_data",
          "data": {
            "image/png": "[encoded data removed]",
            "text/plain": [
              "<Figure size 720x432 with 1 Axes>"
            ]
          },
          "metadata": {}
        }
      ]
    },
    {
      "cell_type": "code",
      "metadata": {
        "id": "PUiMgFcL_OmD"
      },
      "source": [
        "#Find out if the time series is stationary\n",
        "#ADF test check if the price is stationary\n",
        "#null hypothesis of ADF is that the time series is not stationary \n",
        "# if P-value < 0.05 then reject null \n",
        "from statsmodels.tsa.stattools import adfuller"
      ],
      "execution_count": 27,
      "outputs": []
    },
    {
      "cell_type": "code",
      "metadata": {
        "id": "TuX1KjKlj1A1",
        "colab": {
          "base_uri": "https://localhost:8080/"
        },
        "outputId": "cd9a0662-7084-4459-c61e-60fe037a85a1"
      },
      "source": [
        "# d=0 if the time series is stationary \n",
        "test_adf = adfuller(df.Close.dropna())\n",
        "\n",
        "print(f\" ADF Statistics: {test_adf[0]}\")\n",
        "print(f\" P-value: {test_adf[1]}\")"
      ],
      "execution_count": 31,
      "outputs": [
        {
          "output_type": "stream",
          "name": "stdout",
          "text": [
            " ADF Statistics: 6.1895129620459315\n",
            " P-value: 1.0\n"
          ]
        }
      ]
    },
    {
      "cell_type": "code",
      "metadata": {
        "id": "1jPpAc6dA2KP"
      },
      "source": [
        "#Autocorrelation Function (ACF)\n",
        "from statsmodels.graphics.tsaplots import plot_acf"
      ],
      "execution_count": 32,
      "outputs": []
    },
    {
      "cell_type": "code",
      "metadata": {
        "id": "6v9bOk-3j1A1",
        "colab": {
          "base_uri": "https://localhost:8080/",
          "height": 284
        },
        "outputId": "ae6ea921-1f10-4867-d83d-35defb4e1f76"
      },
      "source": [
        "#finding d- order of differencing \n",
        "fig, (ax1, ax2)= plt.subplots(1, 2, figsize= (16, 4))\n",
        "\n",
        "ax1.plot(df.Close)\n",
        "ax1.set_title('closing price original')\n",
        "plot_acf(df.Close, ax= ax2);"
      ],
      "execution_count": 45,
      "outputs": [
        {
          "output_type": "display_data",
          "data": {
            "image/png": "[encoded data removed]",
            "text/plain": [
              "<Figure size 1152x288 with 2 Axes>"
            ]
          },
          "metadata": {}
        }
      ]
    },
    {
      "cell_type": "code",
      "metadata": {
        "id": "rnQl9MK7j1A1",
        "colab": {
          "base_uri": "https://localhost:8080/",
          "height": 284
        },
        "outputId": "c9bfc5b5-8ccd-4d0c-f1d9-6ee0c944aabf"
      },
      "source": [
        "diff = df.Close.diff().dropna()\n",
        "\n",
        "fig, (ax1, ax2)= plt.subplots(1, 2, figsize= (16, 4))\n",
        "\n",
        "ax1.plot(df.Close)\n",
        "ax1.set_title('Difference 1')\n",
        "plot_acf(diff, ax= ax2);"
      ],
      "execution_count": 46,
      "outputs": [
        {
          "output_type": "display_data",
          "data": {
            "image/png": "[encoded data removed]",
            "text/plain": [
              "<Figure size 1152x288 with 2 Axes>"
            ]
          },
          "metadata": {}
        }
      ]
    },
    {
      "cell_type": "code",
      "metadata": {
        "id": "J9cEFwtDj1A1",
        "colab": {
          "base_uri": "https://localhost:8080/",
          "height": 284
        },
        "outputId": "d33dd3b5-27ce-4a23-a55d-186142dc3d67"
      },
      "source": [
        "diff = df.Close.diff().diff().dropna()\n",
        "\n",
        "fig, (ax1, ax2)= plt.subplots(1, 2, figsize= (16, 4))\n",
        "\n",
        "ax1.plot(df.Close)\n",
        "ax1.set_title('Difference 2')\n",
        "plot_acf(diff, ax= ax2);"
      ],
      "execution_count": 47,
      "outputs": [
        {
          "output_type": "display_data",
          "data": {
            "image/png": "[encoded data removed]",
            "text/plain": [
              "<Figure size 1152x288 with 2 Axes>"
            ]
          },
          "metadata": {}
        }
      ]
    },
    {
      "cell_type": "code",
      "metadata": {
        "id": "m3Wxisi9j1A2",
        "colab": {
          "base_uri": "https://localhost:8080/",
          "height": 511
        },
        "outputId": "b938b0a0-c307-42dc-f878-5e9d08948e2e"
      },
      "source": [
        "!pip install pmdarima"
      ],
      "execution_count": 56,
      "outputs": [
        {
          "output_type": "stream",
          "name": "stdout",
          "text": [
            "Collecting pmdarima\n",
            "  Downloading pmdarima-1.8.3-cp37-cp37m-manylinux_2_17_x86_64.manylinux2014_x86_64.manylinux_2_24_x86_64.whl (1.4 MB)\n",
            "\u001b[?25l\r\u001b[K     |▎                               | 10 kB 24.9 MB/s eta 0:00:01\r\u001b[K     |▌                               | 20 kB 32.4 MB/s eta 0:00:01\r\u001b[K     |▊                               | 30 kB 37.8 MB/s eta 0:00:01\r\u001b[K     |█                               | 40 kB 36.2 MB/s eta 0:00:01\r\u001b[K     |█▏                              | 51 kB 33.2 MB/s eta 0:00:01\r\u001b[K     |█▍                              | 61 kB 25.1 MB/s eta 0:00:01\r\u001b[K     |█▋                              | 71 kB 23.8 MB/s eta 0:00:01\r\u001b[K     |██                              | 81 kB 25.2 MB/s eta 0:00:01\r\u001b[K     |██▏                             | 92 kB 27.1 MB/s eta 0:00:01\r\u001b[K     |██▍                             | 102 kB 25.3 MB/s eta 0:00:01\r\u001b[K     |██▋                             | 112 kB 25.3 MB/s eta 0:00:01\r\u001b[K     |██▉                             | 122 kB 25.3 MB/s eta 0:00:01\r\u001b[K     |███                             | 133 kB 25.3 MB/s eta 0:00:01\r\u001b[K     |███▎                            | 143 kB 25.3 MB/s eta 0:00:01\r\u001b[K     |███▌                            | 153 kB 25.3 MB/s eta 0:00:01\r\u001b[K     |███▉                            | 163 kB 25.3 MB/s eta 0:00:01\r\u001b[K     |████                            | 174 kB 25.3 MB/s eta 0:00:01\r\u001b[K     |████▎                           | 184 kB 25.3 MB/s eta 0:00:01\r\u001b[K     |████▌                           | 194 kB 25.3 MB/s eta 0:00:01\r\u001b[K     |████▊                           | 204 kB 25.3 MB/s eta 0:00:01\r\u001b[K     |█████                           | 215 kB 25.3 MB/s eta 0:00:01\r\u001b[K     |█████▏                          | 225 kB 25.3 MB/s eta 0:00:01\r\u001b[K     |█████▌                          | 235 kB 25.3 MB/s eta 0:00:01\r\u001b[K     |█████▊                          | 245 kB 25.3 MB/s eta 0:00:01\r\u001b[K     |██████                          | 256 kB 25.3 MB/s eta 0:00:01\r\u001b[K     |██████▏                         | 266 kB 25.3 MB/s eta 0:00:01\r\u001b[K     |██████▍                         | 276 kB 25.3 MB/s eta 0:00:01\r\u001b[K     |██████▋                         | 286 kB 25.3 MB/s eta 0:00:01\r\u001b[K     |██████▉                         | 296 kB 25.3 MB/s eta 0:00:01\r\u001b[K     |███████                         | 307 kB 25.3 MB/s eta 0:00:01\r\u001b[K     |███████▍                        | 317 kB 25.3 MB/s eta 0:00:01\r\u001b[K     |███████▋                        | 327 kB 25.3 MB/s eta 0:00:01\r\u001b[K     |███████▉                        | 337 kB 25.3 MB/s eta 0:00:01\r\u001b[K     |████████                        | 348 kB 25.3 MB/s eta 0:00:01\r\u001b[K     |████████▎                       | 358 kB 25.3 MB/s eta 0:00:01\r\u001b[K     |████████▌                       | 368 kB 25.3 MB/s eta 0:00:01\r\u001b[K     |████████▊                       | 378 kB 25.3 MB/s eta 0:00:01\r\u001b[K     |█████████                       | 389 kB 25.3 MB/s eta 0:00:01\r\u001b[K     |█████████▎                      | 399 kB 25.3 MB/s eta 0:00:01\r\u001b[K     |█████████▌                      | 409 kB 25.3 MB/s eta 0:00:01\r\u001b[K     |█████████▊                      | 419 kB 25.3 MB/s eta 0:00:01\r\u001b[K     |██████████                      | 430 kB 25.3 MB/s eta 0:00:01\r\u001b[K     |██████████▏                     | 440 kB 25.3 MB/s eta 0:00:01\r\u001b[K     |██████████▍                     | 450 kB 25.3 MB/s eta 0:00:01\r\u001b[K     |██████████▋                     | 460 kB 25.3 MB/s eta 0:00:01\r\u001b[K     |███████████                     | 471 kB 25.3 MB/s eta 0:00:01\r\u001b[K     |███████████▏                    | 481 kB 25.3 MB/s eta 0:00:01\r\u001b[K     |███████████▍                    | 491 kB 25.3 MB/s eta 0:00:01\r\u001b[K     |███████████▋                    | 501 kB 25.3 MB/s eta 0:00:01\r\u001b[K     |███████████▉                    | 512 kB 25.3 MB/s eta 0:00:01\r\u001b[K     |████████████                    | 522 kB 25.3 MB/s eta 0:00:01\r\u001b[K     |████████████▎                   | 532 kB 25.3 MB/s eta 0:00:01\r\u001b[K     |████████████▌                   | 542 kB 25.3 MB/s eta 0:00:01\r\u001b[K     |████████████▉                   | 552 kB 25.3 MB/s eta 0:00:01\r\u001b[K     |█████████████                   | 563 kB 25.3 MB/s eta 0:00:01\r\u001b[K     |█████████████▎                  | 573 kB 25.3 MB/s eta 0:00:01\r\u001b[K     |█████████████▌                  | 583 kB 25.3 MB/s eta 0:00:01\r\u001b[K     |█████████████▊                  | 593 kB 25.3 MB/s eta 0:00:01\r\u001b[K     |██████████████                  | 604 kB 25.3 MB/s eta 0:00:01\r\u001b[K     |██████████████▏                 | 614 kB 25.3 MB/s eta 0:00:01\r\u001b[K     |██████████████▌                 | 624 kB 25.3 MB/s eta 0:00:01\r\u001b[K     |██████████████▊                 | 634 kB 25.3 MB/s eta 0:00:01\r\u001b[K     |███████████████                 | 645 kB 25.3 MB/s eta 0:00:01\r\u001b[K     |███████████████▏                | 655 kB 25.3 MB/s eta 0:00:01\r\u001b[K     |███████████████▍                | 665 kB 25.3 MB/s eta 0:00:01\r\u001b[K     |███████████████▋                | 675 kB 25.3 MB/s eta 0:00:01\r\u001b[K     |███████████████▉                | 686 kB 25.3 MB/s eta 0:00:01\r\u001b[K     |████████████████                | 696 kB 25.3 MB/s eta 0:00:01\r\u001b[K     |████████████████▍               | 706 kB 25.3 MB/s eta 0:00:01\r\u001b[K     |████████████████▋               | 716 kB 25.3 MB/s eta 0:00:01\r\u001b[K     |████████████████▉               | 727 kB 25.3 MB/s eta 0:00:01\r\u001b[K     |█████████████████               | 737 kB 25.3 MB/s eta 0:00:01\r\u001b[K     |█████████████████▎              | 747 kB 25.3 MB/s eta 0:00:01\r\u001b[K     |█████████████████▌              | 757 kB 25.3 MB/s eta 0:00:01\r\u001b[K     |█████████████████▊              | 768 kB 25.3 MB/s eta 0:00:01\r\u001b[K     |██████████████████              | 778 kB 25.3 MB/s eta 0:00:01\r\u001b[K     |██████████████████▎             | 788 kB 25.3 MB/s eta 0:00:01\r\u001b[K     |██████████████████▌             | 798 kB 25.3 MB/s eta 0:00:01\r\u001b[K     |██████████████████▊             | 808 kB 25.3 MB/s eta 0:00:01\r\u001b[K     |███████████████████             | 819 kB 25.3 MB/s eta 0:00:01\r\u001b[K     |███████████████████▏            | 829 kB 25.3 MB/s eta 0:00:01\r\u001b[K     |███████████████████▍            | 839 kB 25.3 MB/s eta 0:00:01\r\u001b[K     |███████████████████▋            | 849 kB 25.3 MB/s eta 0:00:01\r\u001b[K     |████████████████████            | 860 kB 25.3 MB/s eta 0:00:01\r\u001b[K     |████████████████████▏           | 870 kB 25.3 MB/s eta 0:00:01\r\u001b[K     |████████████████████▍           | 880 kB 25.3 MB/s eta 0:00:01\r\u001b[K     |████████████████████▋           | 890 kB 25.3 MB/s eta 0:00:01\r\u001b[K     |████████████████████▉           | 901 kB 25.3 MB/s eta 0:00:01\r\u001b[K     |█████████████████████           | 911 kB 25.3 MB/s eta 0:00:01\r\u001b[K     |█████████████████████▎          | 921 kB 25.3 MB/s eta 0:00:01\r\u001b[K     |█████████████████████▌          | 931 kB 25.3 MB/s eta 0:00:01\r\u001b[K     |█████████████████████▉          | 942 kB 25.3 MB/s eta 0:00:01\r\u001b[K     |██████████████████████          | 952 kB 25.3 MB/s eta 0:00:01\r\u001b[K     |██████████████████████▎         | 962 kB 25.3 MB/s eta 0:00:01\r\u001b[K     |██████████████████████▌         | 972 kB 25.3 MB/s eta 0:00:01\r\u001b[K     |██████████████████████▊         | 983 kB 25.3 MB/s eta 0:00:01\r\u001b[K     |███████████████████████         | 993 kB 25.3 MB/s eta 0:00:01\r\u001b[K     |███████████████████████▏        | 1.0 MB 25.3 MB/s eta 0:00:01\r\u001b[K     |███████████████████████▍        | 1.0 MB 25.3 MB/s eta 0:00:01\r\u001b[K     |███████████████████████▊        | 1.0 MB 25.3 MB/s eta 0:00:01\r\u001b[K     |████████████████████████        | 1.0 MB 25.3 MB/s eta 0:00:01\r\u001b[K     |████████████████████████▏       | 1.0 MB 25.3 MB/s eta 0:00:01\r\u001b[K     |████████████████████████▍       | 1.1 MB 25.3 MB/s eta 0:00:01\r\u001b[K     |████████████████████████▋       | 1.1 MB 25.3 MB/s eta 0:00:01\r\u001b[K     |████████████████████████▉       | 1.1 MB 25.3 MB/s eta 0:00:01\r\u001b[K     |█████████████████████████       | 1.1 MB 25.3 MB/s eta 0:00:01\r\u001b[K     |█████████████████████████▍      | 1.1 MB 25.3 MB/s eta 0:00:01\r\u001b[K     |█████████████████████████▋      | 1.1 MB 25.3 MB/s eta 0:00:01\r\u001b[K     |█████████████████████████▉      | 1.1 MB 25.3 MB/s eta 0:00:01\r\u001b[K     |██████████████████████████      | 1.1 MB 25.3 MB/s eta 0:00:01\r\u001b[K     |██████████████████████████▎     | 1.1 MB 25.3 MB/s eta 0:00:01\r\u001b[K     |██████████████████████████▌     | 1.1 MB 25.3 MB/s eta 0:00:01\r\u001b[K     |██████████████████████████▊     | 1.2 MB 25.3 MB/s eta 0:00:01\r\u001b[K     |███████████████████████████     | 1.2 MB 25.3 MB/s eta 0:00:01\r\u001b[K     |███████████████████████████▎    | 1.2 MB 25.3 MB/s eta 0:00:01\r\u001b[K     |███████████████████████████▌    | 1.2 MB 25.3 MB/s eta 0:00:01\r\u001b[K     |███████████████████████████▊    | 1.2 MB 25.3 MB/s eta 0:00:01\r\u001b[K     |████████████████████████████    | 1.2 MB 25.3 MB/s eta 0:00:01\r\u001b[K     |████████████████████████████▏   | 1.2 MB 25.3 MB/s eta 0:00:01\r\u001b[K     |████████████████████████████▍   | 1.2 MB 25.3 MB/s eta 0:00:01\r\u001b[K     |████████████████████████████▋   | 1.2 MB 25.3 MB/s eta 0:00:01\r\u001b[K     |█████████████████████████████   | 1.2 MB 25.3 MB/s eta 0:00:01\r\u001b[K     |█████████████████████████████▏  | 1.3 MB 25.3 MB/s eta 0:00:01\r\u001b[K     |█████████████████████████████▍  | 1.3 MB 25.3 MB/s eta 0:00:01\r\u001b[K     |█████████████████████████████▋  | 1.3 MB 25.3 MB/s eta 0:00:01\r\u001b[K     |█████████████████████████████▉  | 1.3 MB 25.3 MB/s eta 0:00:01\r\u001b[K     |██████████████████████████████  | 1.3 MB 25.3 MB/s eta 0:00:01\r\u001b[K     |██████████████████████████████▎ | 1.3 MB 25.3 MB/s eta 0:00:01\r\u001b[K     |██████████████████████████████▌ | 1.3 MB 25.3 MB/s eta 0:00:01\r\u001b[K     |██████████████████████████████▉ | 1.3 MB 25.3 MB/s eta 0:00:01\r\u001b[K     |███████████████████████████████ | 1.3 MB 25.3 MB/s eta 0:00:01\r\u001b[K     |███████████████████████████████▎| 1.4 MB 25.3 MB/s eta 0:00:01\r\u001b[K     |███████████████████████████████▌| 1.4 MB 25.3 MB/s eta 0:00:01\r\u001b[K     |███████████████████████████████▊| 1.4 MB 25.3 MB/s eta 0:00:01\r\u001b[K     |████████████████████████████████| 1.4 MB 25.3 MB/s eta 0:00:01\r\u001b[K     |████████████████████████████████| 1.4 MB 25.3 MB/s \n",
            "\u001b[?25hRequirement already satisfied: numpy>=1.19.3 in /usr/local/lib/python3.7/dist-packages (from pmdarima) (1.19.5)\n",
            "Requirement already satisfied: pandas>=0.19 in /usr/local/lib/python3.7/dist-packages (from pmdarima) (1.1.5)\n",
            "Requirement already satisfied: urllib3 in /usr/local/lib/python3.7/dist-packages (from pmdarima) (1.24.3)\n",
            "Collecting statsmodels!=0.12.0,>=0.11\n",
            "  Downloading statsmodels-0.12.2-cp37-cp37m-manylinux1_x86_64.whl (9.5 MB)\n",
            "\u001b[K     |████████████████████████████████| 9.5 MB 51.5 MB/s \n",
            "\u001b[?25hRequirement already satisfied: setuptools!=50.0.0,>=38.6.0 in /usr/local/lib/python3.7/dist-packages (from pmdarima) (57.4.0)\n",
            "Requirement already satisfied: Cython!=0.29.18,>=0.29 in /usr/local/lib/python3.7/dist-packages (from pmdarima) (0.29.24)\n",
            "Requirement already satisfied: scikit-learn>=0.22 in /usr/local/lib/python3.7/dist-packages (from pmdarima) (0.22.2.post1)\n",
            "Requirement already satisfied: scipy>=1.3.2 in /usr/local/lib/python3.7/dist-packages (from pmdarima) (1.4.1)\n",
            "Requirement already satisfied: joblib>=0.11 in /usr/local/lib/python3.7/dist-packages (from pmdarima) (1.0.1)\n",
            "Requirement already satisfied: pytz>=2017.2 in /usr/local/lib/python3.7/dist-packages (from pandas>=0.19->pmdarima) (2018.9)\n",
            "Requirement already satisfied: python-dateutil>=2.7.3 in /usr/local/lib/python3.7/dist-packages (from pandas>=0.19->pmdarima) (2.8.2)\n",
            "Requirement already satisfied: six>=1.5 in /usr/local/lib/python3.7/dist-packages (from python-dateutil>=2.7.3->pandas>=0.19->pmdarima) (1.15.0)\n",
            "Requirement already satisfied: patsy>=0.5 in /usr/local/lib/python3.7/dist-packages (from statsmodels!=0.12.0,>=0.11->pmdarima) (0.5.1)\n",
            "Installing collected packages: statsmodels, pmdarima\n",
            "  Attempting uninstall: statsmodels\n",
            "    Found existing installation: statsmodels 0.10.2\n",
            "    Uninstalling statsmodels-0.10.2:\n",
            "      Successfully uninstalled statsmodels-0.10.2\n",
            "Successfully installed pmdarima-1.8.3 statsmodels-0.12.2\n"
          ]
        },
        {
          "output_type": "display_data",
          "data": {
            "application/vnd.colab-display-data+json": {
              "pip_warning": {
                "packages": [
                  "statsmodels"
                ]
              }
            }
          },
          "metadata": {}
        }
      ]
    },
    {
      "cell_type": "code",
      "metadata": {
        "id": "wGsDjjCNj1A2"
      },
      "source": [
        "from pmdarima.arima.utils import ndiffs"
      ],
      "execution_count": 36,
      "outputs": []
    },
    {
      "cell_type": "code",
      "metadata": {
        "id": "by3dZhrlj1A2",
        "colab": {
          "base_uri": "https://localhost:8080/"
        },
        "outputId": "69271942-460e-4668-bb81-16ae73443ab2"
      },
      "source": [
        "ndiffs(df.Close.dropna(), test=\"adf\") #deciding d for order of differencing "
      ],
      "execution_count": 38,
      "outputs": [
        {
          "output_type": "execute_result",
          "data": {
            "text/plain": [
              "1"
            ]
          },
          "metadata": {},
          "execution_count": 38
        }
      ]
    },
    {
      "cell_type": "code",
      "metadata": {
        "id": "wq6tO71Pj1A2"
      },
      "source": [
        "from statsmodels.graphics.tsaplots import plot_pacf"
      ],
      "execution_count": 39,
      "outputs": []
    },
    {
      "cell_type": "code",
      "metadata": {
        "id": "v1BTFz7Xj1A2",
        "colab": {
          "base_uri": "https://localhost:8080/",
          "height": 284
        },
        "outputId": "ec81ff69-1932-4cee-b83e-27185dbd5f46"
      },
      "source": [
        "# Finding P- the order of Auto regressive term in the ARIMA model. It refers to the numbers of lags to be used as predictors. \n",
        "# Inspecting the partial autocorrelation plot (PACF)\n",
        "diff = df.Close.diff().dropna()\n",
        "\n",
        "fig, (ax1, ax2)= plt.subplots(1, 2, figsize= (16, 4))\n",
        "\n",
        "ax1.plot(df.Close)\n",
        "ax1.set_title('Difference 1')\n",
        "ax2.set_ylim(0, 1)\n",
        "plot_pacf(diff, ax= ax2);"
      ],
      "execution_count": 40,
      "outputs": [
        {
          "output_type": "display_data",
          "data": {
            "image/png": "[encoded data removed]",
            "text/plain": [
              "<Figure size 1152x288 with 2 Axes>"
            ]
          },
          "metadata": {}
        }
      ]
    },
    {
      "cell_type": "markdown",
      "metadata": {
        "id": "R6pT4KJkj1A2"
      },
      "source": [
        "Finding q is the order of the moving average (MA)term. \n",
        "the number of lagged forecast errors that should go into the ARIMA model\n",
        "use ACF plot to find q "
      ]
    },
    {
      "cell_type": "code",
      "metadata": {
        "id": "ZEihloW-j1A2",
        "colab": {
          "base_uri": "https://localhost:8080/",
          "height": 284
        },
        "outputId": "2aeb2c3e-fb42-4b14-cbbf-853cb8c2c924"
      },
      "source": [
        "diff = df.Close.diff().dropna()\n",
        "\n",
        "fig, (ax1, ax2)= plt.subplots(1, 2, figsize= (16, 4))\n",
        "\n",
        "ax1.plot(df.Close)\n",
        "ax1.set_title('Difference')\n",
        "ax2.set_ylim(0, 1)\n",
        "plot_acf(diff, ax= ax2);"
      ],
      "execution_count": 75,
      "outputs": [
        {
          "output_type": "display_data",
          "data": {
            "image/png": "[encoded data removed]",
            "text/plain": [
              "<Figure size 1152x288 with 2 Axes>"
            ]
          },
          "metadata": {}
        }
      ]
    },
    {
      "cell_type": "code",
      "metadata": {
        "id": "rdRcCcTaj1A2"
      },
      "source": [
        "from statsmodels.tsa.arima_model import ARIMA"
      ],
      "execution_count": 62,
      "outputs": []
    },
    {
      "cell_type": "code",
      "metadata": {
        "id": "EIiXrA4nj1A3",
        "colab": {
          "base_uri": "https://localhost:8080/"
        },
        "outputId": "7595ccf5-b1c3-4e33-9225-e0f0a11f8879"
      },
      "source": [
        "#fitting the arima model \n",
        "# ARIMA model \n",
        "ari_model = ARIMA(df.Close.dropna(), order=(1,1,1))\n",
        "result= ari_model.fit(disp= False) # disp is False "
      ],
      "execution_count": 76,
      "outputs": [
        {
          "output_type": "stream",
          "name": "stderr",
          "text": [
            "/usr/local/lib/python3.7/dist-packages/statsmodels/tsa/arima_model.py:472: FutureWarning: \n",
            "statsmodels.tsa.arima_model.ARMA and statsmodels.tsa.arima_model.ARIMA have\n",
            "been deprecated in favor of statsmodels.tsa.arima.model.ARIMA (note the .\n",
            "between arima and model) and\n",
            "statsmodels.tsa.SARIMAX. These will be removed after the 0.12 release.\n",
            "\n",
            "statsmodels.tsa.arima.model.ARIMA makes use of the statespace framework and\n",
            "is both well tested and maintained.\n",
            "\n",
            "To silence this warning and continue using ARMA and ARIMA until they are\n",
            "removed, use:\n",
            "\n",
            "import warnings\n",
            "warnings.filterwarnings('ignore', 'statsmodels.tsa.arima_model.ARMA',\n",
            "                        FutureWarning)\n",
            "warnings.filterwarnings('ignore', 'statsmodels.tsa.arima_model.ARIMA',\n",
            "                        FutureWarning)\n",
            "\n",
            "  warnings.warn(ARIMA_DEPRECATION_WARN, FutureWarning)\n",
            "/usr/local/lib/python3.7/dist-packages/statsmodels/tsa/base/tsa_model.py:583: ValueWarning: A date index has been provided, but it has no associated frequency information and so will be ignored when e.g. forecasting.\n",
            "  ' ignored when e.g. forecasting.', ValueWarning)\n",
            "/usr/local/lib/python3.7/dist-packages/statsmodels/tsa/base/tsa_model.py:583: ValueWarning: A date index has been provided, but it has no associated frequency information and so will be ignored when e.g. forecasting.\n",
            "  ' ignored when e.g. forecasting.', ValueWarning)\n",
            "/usr/local/lib/python3.7/dist-packages/statsmodels/tsa/arima_model.py:472: FutureWarning: \n",
            "statsmodels.tsa.arima_model.ARMA and statsmodels.tsa.arima_model.ARIMA have\n",
            "been deprecated in favor of statsmodels.tsa.arima.model.ARIMA (note the .\n",
            "between arima and model) and\n",
            "statsmodels.tsa.SARIMAX. These will be removed after the 0.12 release.\n",
            "\n",
            "statsmodels.tsa.arima.model.ARIMA makes use of the statespace framework and\n",
            "is both well tested and maintained.\n",
            "\n",
            "To silence this warning and continue using ARMA and ARIMA until they are\n",
            "removed, use:\n",
            "\n",
            "import warnings\n",
            "warnings.filterwarnings('ignore', 'statsmodels.tsa.arima_model.ARMA',\n",
            "                        FutureWarning)\n",
            "warnings.filterwarnings('ignore', 'statsmodels.tsa.arima_model.ARIMA',\n",
            "                        FutureWarning)\n",
            "\n",
            "  warnings.warn(ARIMA_DEPRECATION_WARN, FutureWarning)\n"
          ]
        }
      ]
    },
    {
      "cell_type": "code",
      "metadata": {
        "id": "vs5yUHg6j1A3",
        "colab": {
          "base_uri": "https://localhost:8080/"
        },
        "outputId": "081eb985-4f78-4f0e-c245-5ef2917fa795"
      },
      "source": [
        "print(result.summary())"
      ],
      "execution_count": 77,
      "outputs": [
        {
          "output_type": "stream",
          "name": "stdout",
          "text": [
            "                             ARIMA Model Results                              \n",
            "==============================================================================\n",
            "Dep. Variable:                D.Close   No. Observations:                 3375\n",
            "Model:                 ARIMA(1, 1, 1)   Log Likelihood              -24686.547\n",
            "Method:                       css-mle   S.D. of innovations            363.431\n",
            "Date:                Sat, 25 Sep 2021   AIC                          49381.093\n",
            "Time:                        05:22:19   BIC                          49405.590\n",
            "Sample:                             1   HQIC                         49389.852\n",
            "                                                                              \n",
            "=================================================================================\n",
            "                    coef    std err          z      P>|z|      [0.025      0.975]\n",
            "---------------------------------------------------------------------------------\n",
            "const            17.4146      7.496      2.323      0.020       2.723      32.106\n",
            "ar.L1.D.Close     0.0645      0.072      0.896      0.370      -0.077       0.206\n",
            "ma.L1.D.Close     0.1210      0.071      1.710      0.087      -0.018       0.260\n",
            "                                    Roots                                    \n",
            "=============================================================================\n",
            "                  Real          Imaginary           Modulus         Frequency\n",
            "-----------------------------------------------------------------------------\n",
            "AR.1           15.5016           +0.0000j           15.5016            0.0000\n",
            "MA.1           -8.2654           +0.0000j            8.2654            0.5000\n",
            "-----------------------------------------------------------------------------\n"
          ]
        }
      ]
    },
    {
      "cell_type": "code",
      "metadata": {
        "id": "46dM-8PQakVW"
      },
      "source": [
        "import statsmodels.api as sm\n",
        "from statsmodels.stats.outliers_influence import OLSInfluence"
      ],
      "execution_count": 85,
      "outputs": []
    },
    {
      "cell_type": "code",
      "metadata": {
        "id": "EOifp4PVj1A3"
      },
      "source": [
        "#plot residuals \n",
        "# res = pd.DataFrame(test_adf.resid)\n",
        "res = sms.omni_normtest(test_adf.resid)\n",
        "fig, (ax1, ax2)= plt.subplots(1, 2, figsize= (16, 4))\n",
        "\n",
        "ax1.plot(res)\n",
        "ax2.hist(res, density= True);"
      ],
      "execution_count": null,
      "outputs": []
    },
    {
      "cell_type": "code",
      "metadata": {
        "id": "dmblSqdNj1A3"
      },
      "source": [
        "#Actual vs. Fitted \n",
        "test_adf.plot_predict(start= 1, end= 60, dynamic= False);"
      ],
      "execution_count": null,
      "outputs": []
    },
    {
      "cell_type": "code",
      "metadata": {
        "id": "SoaXzIB-j1A3"
      },
      "source": [
        "# Split train set \n",
        "n= int(len(df)*0.8)\n",
        "train_set = df.Close.dropna()[:n]\n",
        "test_set = df.Close.dropna()[n:]"
      ],
      "execution_count": 95,
      "outputs": []
    },
    {
      "cell_type": "code",
      "metadata": {
        "id": "-anAfG5Aj1A3",
        "colab": {
          "base_uri": "https://localhost:8080/"
        },
        "outputId": "5a629d98-0057-46ea-87ed-5c12036afd2c"
      },
      "source": [
        "print(len(train_set))\n",
        "print(len(test_set))"
      ],
      "execution_count": 96,
      "outputs": [
        {
          "output_type": "stream",
          "name": "stdout",
          "text": [
            "2703\n",
            "673\n"
          ]
        }
      ]
    },
    {
      "cell_type": "code",
      "metadata": {
        "id": "mKoIOP2Dj1A3",
        "colab": {
          "base_uri": "https://localhost:8080/"
        },
        "outputId": "3e9e77cb-df8b-468d-b621-4bc47c061918"
      },
      "source": [
        "model= ARIMA(train_set, order= (1,1,1))\n",
        "result_train = model.fit(disp= False)"
      ],
      "execution_count": 97,
      "outputs": [
        {
          "output_type": "stream",
          "name": "stderr",
          "text": [
            "/usr/local/lib/python3.7/dist-packages/statsmodels/tsa/arima_model.py:472: FutureWarning: \n",
            "statsmodels.tsa.arima_model.ARMA and statsmodels.tsa.arima_model.ARIMA have\n",
            "been deprecated in favor of statsmodels.tsa.arima.model.ARIMA (note the .\n",
            "between arima and model) and\n",
            "statsmodels.tsa.SARIMAX. These will be removed after the 0.12 release.\n",
            "\n",
            "statsmodels.tsa.arima.model.ARIMA makes use of the statespace framework and\n",
            "is both well tested and maintained.\n",
            "\n",
            "To silence this warning and continue using ARMA and ARIMA until they are\n",
            "removed, use:\n",
            "\n",
            "import warnings\n",
            "warnings.filterwarnings('ignore', 'statsmodels.tsa.arima_model.ARMA',\n",
            "                        FutureWarning)\n",
            "warnings.filterwarnings('ignore', 'statsmodels.tsa.arima_model.ARIMA',\n",
            "                        FutureWarning)\n",
            "\n",
            "  warnings.warn(ARIMA_DEPRECATION_WARN, FutureWarning)\n",
            "/usr/local/lib/python3.7/dist-packages/statsmodels/tsa/base/tsa_model.py:583: ValueWarning: A date index has been provided, but it has no associated frequency information and so will be ignored when e.g. forecasting.\n",
            "  ' ignored when e.g. forecasting.', ValueWarning)\n",
            "/usr/local/lib/python3.7/dist-packages/statsmodels/tsa/base/tsa_model.py:583: ValueWarning: A date index has been provided, but it has no associated frequency information and so will be ignored when e.g. forecasting.\n",
            "  ' ignored when e.g. forecasting.', ValueWarning)\n",
            "/usr/local/lib/python3.7/dist-packages/statsmodels/tsa/arima_model.py:472: FutureWarning: \n",
            "statsmodels.tsa.arima_model.ARMA and statsmodels.tsa.arima_model.ARIMA have\n",
            "been deprecated in favor of statsmodels.tsa.arima.model.ARIMA (note the .\n",
            "between arima and model) and\n",
            "statsmodels.tsa.SARIMAX. These will be removed after the 0.12 release.\n",
            "\n",
            "statsmodels.tsa.arima.model.ARIMA makes use of the statespace framework and\n",
            "is both well tested and maintained.\n",
            "\n",
            "To silence this warning and continue using ARMA and ARIMA until they are\n",
            "removed, use:\n",
            "\n",
            "import warnings\n",
            "warnings.filterwarnings('ignore', 'statsmodels.tsa.arima_model.ARMA',\n",
            "                        FutureWarning)\n",
            "warnings.filterwarnings('ignore', 'statsmodels.tsa.arima_model.ARIMA',\n",
            "                        FutureWarning)\n",
            "\n",
            "  warnings.warn(ARIMA_DEPRECATION_WARN, FutureWarning)\n"
          ]
        }
      ]
    },
    {
      "cell_type": "code",
      "metadata": {
        "id": "3-Ow0gTyj1A4",
        "colab": {
          "base_uri": "https://localhost:8080/",
          "height": 334
        },
        "outputId": "862e1d2e-877e-427e-bd09-400f3e826bb8"
      },
      "source": [
        "result_train.summary()"
      ],
      "execution_count": 98,
      "outputs": [
        {
          "output_type": "execute_result",
          "data": {
            "text/html": [
              "<table class=\"simpletable\">\n",
              "<caption>ARIMA Model Results</caption>\n",
              "<tr>\n",
              "  <th>Dep. Variable:</th>      <td>D.Close</td>     <th>  No. Observations:  </th>    <td>2702</td>   \n",
              "</tr>\n",
              "<tr>\n",
              "  <th>Model:</th>          <td>ARIMA(1, 1, 1)</td>  <th>  Log Likelihood     </th> <td>-17688.532</td>\n",
              "</tr>\n",
              "<tr>\n",
              "  <th>Method:</th>             <td>css-mle</td>     <th>  S.D. of innovations</th>   <td>168.597</td> \n",
              "</tr>\n",
              "<tr>\n",
              "  <th>Date:</th>          <td>Sat, 25 Sep 2021</td> <th>  AIC                </th>  <td>35385.064</td>\n",
              "</tr>\n",
              "<tr>\n",
              "  <th>Time:</th>              <td>05:31:13</td>     <th>  BIC                </th>  <td>35408.671</td>\n",
              "</tr>\n",
              "<tr>\n",
              "  <th>Sample:</th>                <td>1</td>        <th>  HQIC               </th>  <td>35393.601</td>\n",
              "</tr>\n",
              "<tr>\n",
              "  <th></th>                       <td> </td>        <th>                     </th>      <td> </td>    \n",
              "</tr>\n",
              "</table>\n",
              "<table class=\"simpletable\">\n",
              "<tr>\n",
              "        <td></td>           <th>coef</th>     <th>std err</th>      <th>z</th>      <th>P>|z|</th>  <th>[0.025</th>    <th>0.975]</th>  \n",
              "</tr>\n",
              "<tr>\n",
              "  <th>const</th>         <td>    3.2278</td> <td>    4.107</td> <td>    0.786</td> <td> 0.432</td> <td>   -4.822</td> <td>   11.277</td>\n",
              "</tr>\n",
              "<tr>\n",
              "  <th>ar.L1.D.Close</th> <td>    0.2904</td> <td>    0.079</td> <td>    3.672</td> <td> 0.000</td> <td>    0.135</td> <td>    0.445</td>\n",
              "</tr>\n",
              "<tr>\n",
              "  <th>ma.L1.D.Close</th> <td>   -0.1014</td> <td>    0.082</td> <td>   -1.244</td> <td> 0.214</td> <td>   -0.261</td> <td>    0.058</td>\n",
              "</tr>\n",
              "</table>\n",
              "<table class=\"simpletable\">\n",
              "<caption>Roots</caption>\n",
              "<tr>\n",
              "    <td></td>   <th>            Real</th>  <th>         Imaginary</th> <th>         Modulus</th>  <th>        Frequency</th>\n",
              "</tr>\n",
              "<tr>\n",
              "  <th>AR.1</th> <td>           3.4431</td> <td>          +0.0000j</td> <td>           3.4431</td> <td>           0.0000</td>\n",
              "</tr>\n",
              "<tr>\n",
              "  <th>MA.1</th> <td>           9.8592</td> <td>          +0.0000j</td> <td>           9.8592</td> <td>           0.0000</td>\n",
              "</tr>\n",
              "</table>"
            ],
            "text/plain": [
              "<class 'statsmodels.iolib.summary.Summary'>\n",
              "\"\"\"\n",
              "                             ARIMA Model Results                              \n",
              "==============================================================================\n",
              "Dep. Variable:                D.Close   No. Observations:                 2702\n",
              "Model:                 ARIMA(1, 1, 1)   Log Likelihood              -17688.532\n",
              "Method:                       css-mle   S.D. of innovations            168.597\n",
              "Date:                Sat, 25 Sep 2021   AIC                          35385.064\n",
              "Time:                        05:31:13   BIC                          35408.671\n",
              "Sample:                             1   HQIC                         35393.601\n",
              "                                                                              \n",
              "=================================================================================\n",
              "                    coef    std err          z      P>|z|      [0.025      0.975]\n",
              "---------------------------------------------------------------------------------\n",
              "const             3.2278      4.107      0.786      0.432      -4.822      11.277\n",
              "ar.L1.D.Close     0.2904      0.079      3.672      0.000       0.135       0.445\n",
              "ma.L1.D.Close    -0.1014      0.082     -1.244      0.214      -0.261       0.058\n",
              "                                    Roots                                    \n",
              "=============================================================================\n",
              "                  Real          Imaginary           Modulus         Frequency\n",
              "-----------------------------------------------------------------------------\n",
              "AR.1            3.4431           +0.0000j            3.4431            0.0000\n",
              "MA.1            9.8592           +0.0000j            9.8592            0.0000\n",
              "-----------------------------------------------------------------------------\n",
              "\"\"\""
            ]
          },
          "metadata": {},
          "execution_count": 98
        }
      ]
    },
    {
      "cell_type": "code",
      "metadata": {
        "id": "rbLANNlPj1A4"
      },
      "source": [
        "#forecast 30 steps \n",
        "steps =30 \n",
        "fc, se, conf = result.forecast(steps)"
      ],
      "execution_count": 100,
      "outputs": []
    },
    {
      "cell_type": "code",
      "metadata": {
        "id": "3Gh_PT5Tj1A4",
        "colab": {
          "base_uri": "https://localhost:8080/"
        },
        "outputId": "4a1a696c-c48d-4533-c065-a032a73321b6"
      },
      "source": [
        "# out of sample forecast\n",
        "fc"
      ],
      "execution_count": 101,
      "outputs": [
        {
          "output_type": "execute_result",
          "data": {
            "text/plain": [
              "array([58842.95932232, 58863.42944171, 58881.04119369, 58898.46855363,\n",
              "       58915.88401852, 58933.29871607, 58950.71336411, 58968.12800896,\n",
              "       58985.54265361, 59002.95729824, 59020.37194287, 59037.7865875 ,\n",
              "       59055.20123213, 59072.61587677, 59090.0305214 , 59107.44516603,\n",
              "       59124.85981066, 59142.27445529, 59159.68909992, 59177.10374455,\n",
              "       59194.51838918, 59211.93303381, 59229.34767844, 59246.76232307,\n",
              "       59264.17696771, 59281.59161234, 59299.00625697, 59316.4209016 ,\n",
              "       59333.83554623, 59351.25019086])"
            ]
          },
          "metadata": {},
          "execution_count": 101
        }
      ]
    },
    {
      "cell_type": "code",
      "metadata": {
        "id": "NzlbmvFXj1A4",
        "colab": {
          "base_uri": "https://localhost:8080/"
        },
        "outputId": "b79b9784-77e4-4ea5-bd75-1fc3b6fc5329"
      },
      "source": [
        "# standard error of the forecast \n",
        "se"
      ],
      "execution_count": 102,
      "outputs": [
        {
          "output_type": "execute_result",
          "data": {
            "text/plain": [
              "array([ 363.43070934,  563.65737893,  712.11215036,  834.71075863,\n",
              "        941.48613856, 1037.32890854, 1125.03619741, 1206.38369962,\n",
              "       1282.58208946, 1354.50064663, 1422.78852513, 1487.94568877,\n",
              "       1550.36691085, 1610.37037472, 1668.21699107, 1724.12386875,\n",
              "       1778.27396661, 1830.82317164, 1881.90559576, 1931.63761013,\n",
              "       1980.1209666 , 2027.44524658, 2073.68980645, 2118.92534057,\n",
              "       2163.21514982, 2206.61618093, 2249.17988508, 2290.95293294,\n",
              "       2331.97781432, 2372.29334442])"
            ]
          },
          "metadata": {},
          "execution_count": 102
        }
      ]
    },
    {
      "cell_type": "code",
      "metadata": {
        "id": "WVQnXe5mj1A4",
        "colab": {
          "base_uri": "https://localhost:8080/"
        },
        "outputId": "7e1dbd06-02fc-4620-a237-4ebf889369b1"
      },
      "source": [
        "#upper bound and lower bound confidence level \n",
        "conf"
      ],
      "execution_count": 103,
      "outputs": [
        {
          "output_type": "execute_result",
          "data": {
            "text/plain": [
              "array([[58130.64822115, 59555.27042349],\n",
              "       [57758.6812794 , 59968.17760403],\n",
              "       [57485.32702604, 60276.75536135],\n",
              "       [57262.46552921, 60534.47157806],\n",
              "       [57070.605095  , 60761.16294205],\n",
              "       [56900.1714152 , 60966.42601693],\n",
              "       [56745.68293588, 61155.74379235],\n",
              "       [56603.65940617, 61332.59661176],\n",
              "       [56471.72795105, 61499.35735617],\n",
              "       [56348.18481381, 61657.72978267],\n",
              "       [56231.75767601, 61808.98620974],\n",
              "       [56121.46662655, 61954.10654845],\n",
              "       [56016.53792405, 62093.86454022],\n",
              "       [55916.34794055, 62228.88381298],\n",
              "       [55820.38530051, 62359.67574228],\n",
              "       [55728.22447839, 62486.66585367],\n",
              "       [55639.50688146, 62610.21273985],\n",
              "       [55553.92697681, 62730.62193377],\n",
              "       [55471.22190993, 62848.15628991],\n",
              "       [55391.16359752, 62963.04389158],\n",
              "       [55313.55260962, 63075.48416875],\n",
              "       [55238.21336989, 63185.65269774],\n",
              "       [55164.99034269, 63293.7050142 ],\n",
              "       [55093.74496963, 63399.77967652],\n",
              "       [55024.35318324, 63504.00075217],\n",
              "       [54956.70337002, 63606.47985466],\n",
              "       [54890.69468746, 63707.31782648],\n",
              "       [54826.23566275, 63806.60614044],\n",
              "       [54763.24301742, 63904.42807504],\n",
              "       [54701.64067503, 64000.85970669]])"
            ]
          },
          "metadata": {},
          "execution_count": 103
        }
      ]
    },
    {
      "cell_type": "code",
      "metadata": {
        "id": "bH7cNB9Pj1A4"
      },
      "source": [
        "fc = pd.Series(fc, index= train_set[:step].index)\n",
        "lower = pd.Series(conf[:, 0]), index= train_set[:step].index)\n",
        "upper = pd.Series(conf[:, 1]), index= train_set[:step].index)"
      ],
      "execution_count": null,
      "outputs": []
    },
    {
      "cell_type": "code",
      "metadata": {
        "id": "1HHmb5osj1A4"
      },
      "source": [
        "plt.figure(figsize=(16, 8))\n",
        "plt.plot(train_set[:steps], label= \"actual\")\n",
        "plt.plot(fc, label= \"forecast\")\n",
        "plt.fill_between(lower.index, lower, upper, color= \"k\", alpha= 0.1)\n",
        "plt.title(\"Forecast Vs Actual\")\n",
        "plt.legend(loc= \"Upper Left\")"
      ],
      "execution_count": null,
      "outputs": []
    },
    {
      "cell_type": "code",
      "metadata": {
        "id": "p31X77vLj1A4"
      },
      "source": [
        ""
      ],
      "execution_count": null,
      "outputs": []
    },
    {
      "cell_type": "markdown",
      "metadata": {
        "id": "bUGMrROa5374"
      },
      "source": [
        "# **Simple RNN**"
      ]
    },
    {
      "cell_type": "markdown",
      "metadata": {
        "id": "RNdhYsHr5_hz"
      },
      "source": [
        "Yihan Jia's part here"
      ]
    },
    {
      "cell_type": "markdown",
      "metadata": {
        "id": "l9wRmY_zTxC2"
      },
      "source": [
        "# **LSTM Model**"
      ]
    },
    {
      "cell_type": "markdown",
      "metadata": {
        "id": "cjRBgHks6DIT"
      },
      "source": [
        "Chun Zhou and Vaibhav's part here"
      ]
    },
    {
      "cell_type": "markdown",
      "metadata": {
        "id": "rxaos00ITzp7"
      },
      "source": [
        "LSTM stands for long short-term memory networks. It is a variety of recurrent neural network (RNN) in the deep learning field. LSTM is effective when predicting sequence of data."
      ]
    },
    {
      "cell_type": "markdown",
      "metadata": {
        "id": "Hfdk69anUlyr"
      },
      "source": [
        "#**References**"
      ]
    },
    {
      "cell_type": "markdown",
      "metadata": {
        "id": "lfZeAU2oUoNG"
      },
      "source": [
        "1. \"Bitcoin Price Prediction with LSTM\". Ansel D'souza. https://www.kaggle.com/anseldsouza/bitcoin-price-prediction-with-lstm"
      ]
    },
    {
      "cell_type": "markdown",
      "metadata": {
        "id": "mumZ1HpMj1A5"
      },
      "source": [
        "2. How to Create an ARIMA Model for Time Series Forecasting in Python. https://machinelearningmastery.com/arima-for-time-series-forecasting-with-python/\n",
        "\n",
        "3. How to Grid Search ARIMA Model Hyperparameters with Python. https://machinelearningmastery.com/grid-search-arima-hyperparameters-with-python/"
      ]
    },
    {
      "cell_type": "code",
      "metadata": {
        "id": "MQez-IZqj1A5"
      },
      "source": [
        ""
      ],
      "execution_count": null,
      "outputs": []
    }
  ]
}