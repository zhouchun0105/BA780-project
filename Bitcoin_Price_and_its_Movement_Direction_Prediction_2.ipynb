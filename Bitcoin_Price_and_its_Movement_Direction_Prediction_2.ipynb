{
  "nbformat": 4,
  "nbformat_minor": 0,
  "metadata": {
    "colab": {
      "name": "Bitcoin_Price_and_its_Movement_Direction_Prediction-2.ipynb",
      "provenance": [],
      "include_colab_link": true
    },
    "environment": {
      "name": "common-cpu.m79",
      "type": "gcloud",
      "uri": "gcr.io/deeplearning-platform-release/base-cpu:m79"
    },
    "kernelspec": {
      "display_name": "Python 3",
      "language": "python",
      "name": "python3"
    },
    "language_info": {
      "codemirror_mode": {
        "name": "ipython",
        "version": 3
      },
      "file_extension": ".py",
      "mimetype": "text/x-python",
      "name": "python",
      "nbconvert_exporter": "python",
      "pygments_lexer": "ipython3",
      "version": "3.7.10"
    }
  },
  "cells": [
    {
      "cell_type": "markdown",
      "metadata": {
        "id": "view-in-github",
        "colab_type": "text"
      },
      "source": [
        "<a href=\"https://colab.research.google.com/github/zhouchun0105/Bitcoin-Price-and-Movement-Prediction/blob/main/Bitcoin_Price_and_its_Movement_Direction_Prediction_2.ipynb\" target=\"_parent\"><img src=\"https://colab.research.google.com/assets/colab-badge.svg\" alt=\"Open In Colab\"/></a>"
      ]
    },
    {
      "cell_type": "markdown",
      "metadata": {
        "id": "4lyWH9r-6iJE"
      },
      "source": [
        "#**Bitcoin Price and its Movement Direction Prediction**\n",
        "*Using Linear Regression, Logistics Regression, ARIMA, Simple RNN and LSTM Models.*"
      ]
    },
    {
      "cell_type": "markdown",
      "metadata": {
        "id": "fQvOtDi-S5fr"
      },
      "source": [
        "# **Packages**"
      ]
    },
    {
      "cell_type": "code",
      "metadata": {
        "id": "Do4GQZgETD2e"
      },
      "source": [
        "import numpy as np\n",
        "import pandas as pd\n",
        "\n",
        "import matplotlib.pyplot as plt\n",
        "%matplotlib inline\n",
        "import matplotlib.image as mpimg\n",
        "\n",
        "import seaborn as sns\n",
        "sns.set(rc={'figure.figsize':(10,6)})\n",
        "custom_colors = [\"#4e89ae\", \"#c56183\",\"#ed6663\",\"#ffa372\"]\n",
        "\n",
        "import datetime as datetime\n",
        "import tensorflow as tf\n",
        "from keras.models import Sequential\n",
        "from keras.layers import Dense, LSTM, Dropout"
      ],
      "execution_count": 2,
      "outputs": []
    },
    {
      "cell_type": "markdown",
      "metadata": {
        "id": "SuZfEZ4DTA3h"
      },
      "source": [
        "#**Data Cleaning**"
      ]
    },
    {
      "cell_type": "markdown",
      "metadata": {
        "id": "FmhdQ1V4ZgPP"
      },
      "source": [
        "Import Dataset"
      ]
    },
    {
      "cell_type": "code",
      "metadata": {
        "id": "dWIQQ5rpTDLO"
      },
      "source": [
        "df = pd.read_csv(\"/content/bitcoin.csv\")"
      ],
      "execution_count": null,
      "outputs": []
    },
    {
      "cell_type": "markdown",
      "metadata": {
        "id": "CgaKjQFYZh_e"
      },
      "source": [
        "Modify Timestamp"
      ]
    },
    {
      "cell_type": "code",
      "metadata": {
        "id": "ikHMd44wWVU0"
      },
      "source": [
        "# Change the Timestamp column attribute to datetime\n",
        "df['Timestamp'] = pd.to_datetime(df['Timestamp'],unit='s')\n",
        "# Enable to refer to the row by index \n",
        "df = df.set_index('Timestamp')"
      ],
      "execution_count": 4,
      "outputs": []
    },
    {
      "cell_type": "markdown",
      "metadata": {
        "id": "mF9du4QNkLhb"
      },
      "source": [
        "Spot the missing values"
      ]
    },
    {
      "cell_type": "code",
      "metadata": {
        "id": "-SWH-4nakM8a"
      },
      "source": [
        "missed = pd.DataFrame()\n",
        "missed['column'] = df.columns\n",
        "\n",
        "missed['percent'] = [round(100* df[col].isnull().sum() / len(df), 2) for col in df.columns]\n",
        "missed = missed.sort_values('percent',ascending=False)\n",
        "missed = missed[missed['percent']>0]\n"
      ],
      "execution_count": 5,
      "outputs": []
    },
    {
      "cell_type": "markdown",
      "metadata": {
        "id": "sB7PF9Rrj1C2"
      },
      "source": [
        "Fill in the missing data"
      ]
    },
    {
      "cell_type": "code",
      "metadata": {
        "id": "_NuOPIn2j2dc"
      },
      "source": [
        "def fill_missing(df):\n",
        "    ### function to impute missing values using interpolation ###\n",
        "    df['Open'] = df['Open'].interpolate()\n",
        "    df['Close'] = df['Close'].interpolate()\n",
        "    df['Weighted_Price'] = df['Weighted_Price'].interpolate()\n",
        "    df['Volume_(BTC)'] = df['Volume_(BTC)'].interpolate()\n",
        "    df['Volume_(Currency)'] = df['Volume_(Currency)'].interpolate()\n",
        "    df['High'] = df['High'].interpolate()\n",
        "    df['Low'] = df['Low'].interpolate()\n",
        "    \n",
        "fill_missing(df)"
      ],
      "execution_count": 6,
      "outputs": []
    },
    {
      "cell_type": "markdown",
      "metadata": {
        "id": "pZPj_wNVZlXf"
      },
      "source": [
        "Remove NA rows"
      ]
    },
    {
      "cell_type": "code",
      "metadata": {
        "id": "AwvJyrudZmo7"
      },
      "source": [
        "df = df.dropna()"
      ],
      "execution_count": 7,
      "outputs": []
    },
    {
      "cell_type": "markdown",
      "metadata": {
        "id": "lbo8Q4uM5ifC"
      },
      "source": [
        "# **Feature Engineering**"
      ]
    },
    {
      "cell_type": "markdown",
      "metadata": {
        "id": "AlBoclatZraX"
      },
      "source": [
        "Add `Price` column by averaging Low and Close"
      ]
    },
    {
      "cell_type": "code",
      "metadata": {
        "id": "GY7K6R7UZ4zJ"
      },
      "source": [
        "df[\"Price\"] = df[[\"Open\",\"High\",\"Low\",\"Close\"]].mean(axis=1)"
      ],
      "execution_count": 8,
      "outputs": []
    },
    {
      "cell_type": "markdown",
      "metadata": {
        "id": "GZDZzcSsZ-EL"
      },
      "source": [
        "Add `Return` Column by calculating the difference from now to previous second's `Price`"
      ]
    },
    {
      "cell_type": "code",
      "metadata": {
        "colab": {
          "base_uri": "https://localhost:8080/",
          "height": 391
        },
        "id": "QhW_OM8jaNZ3",
        "outputId": "084f9be3-eb13-4dfd-d76b-2b8b0a8e641a"
      },
      "source": [
        "df[\"Return\"] = df[\"Price\"].diff()\n",
        "df[\"Return\"].plot(x=\"Timestamp\", y=\"Return\")"
      ],
      "execution_count": 9,
      "outputs": [
        {
          "output_type": "execute_result",
          "data": {
            "text/plain": [
              "<matplotlib.axes._subplots.AxesSubplot at 0x7ff7305e3f90>"
            ]
          },
          "metadata": {},
          "execution_count": 9
        },
        {
          "output_type": "display_data",
          "data": {
            "image/png": "[encoded data removed]",
            "text/plain": [
              "<Figure size 720x432 with 1 Axes>"
            ]
          },
          "metadata": {}
        }
      ]
    },
    {
      "cell_type": "markdown",
      "metadata": {
        "id": "_jvZfBUMbuAX"
      },
      "source": [
        "Add `Direction` column showing if bitcoin price is going up or down."
      ]
    },
    {
      "cell_type": "code",
      "metadata": {
        "id": "m-L1jj0Dbq3n"
      },
      "source": [
        "df[\"Direction\"] = pd.Series(df[\"Return\"] > 0)\n",
        "df[\"Direction\"] = \"Down\"\n",
        "df.loc[(df[\"Return\"] > 0), \"Direction\"] = \"Up\""
      ],
      "execution_count": 10,
      "outputs": []
    },
    {
      "cell_type": "markdown",
      "metadata": {
        "id": "vH7A3pQccPaN"
      },
      "source": [
        "Add `Percentage_Return` column to show the perentage return per seconds"
      ]
    },
    {
      "cell_type": "code",
      "metadata": {
        "colab": {
          "base_uri": "https://localhost:8080/",
          "height": 391
        },
        "id": "W1IFdZxLcQBi",
        "outputId": "6b98ddde-d72c-423e-c0a3-466ad14ab465"
      },
      "source": [
        "df[\"Percentage_Return\"] = ((df[\"Return\"].shift(periods=-1))/ (df[\"Price\"])).shift(periods=1)\n",
        "df[\"Percentage_Return\"].plot()"
      ],
      "execution_count": 11,
      "outputs": [
        {
          "output_type": "execute_result",
          "data": {
            "text/plain": [
              "<matplotlib.axes._subplots.AxesSubplot at 0x7ff724445c50>"
            ]
          },
          "metadata": {},
          "execution_count": 11
        },
        {
          "output_type": "display_data",
          "data": {
            "image/png": "[encoded data removed]",
            "text/plain": [
              "<Figure size 720x432 with 1 Axes>"
            ]
          },
          "metadata": {}
        }
      ]
    },
    {
      "cell_type": "markdown",
      "metadata": {
        "id": "eWxNGeaUc5-s"
      },
      "source": [
        "Add Lag1, Lag2, Lag3, Lag4, Lag5 columns as t-1, t-2, t-3, t-4, and t-5 features to predict bitcoin price at t (in seconds)"
      ]
    },
    {
      "cell_type": "code",
      "metadata": {
        "colab": {
          "base_uri": "https://localhost:8080/",
          "height": 640
        },
        "id": "87BOaCnTdGhG",
        "outputId": "079d77be-64a5-4e3c-836b-b8d9f0b8c462"
      },
      "source": [
        "df[\"Lag1\"]= df[\"Percentage_Return\"].shift(periods=-1)\n",
        "df[\"Lag2\"]= df[\"Percentage_Return\"].shift(periods=-2)\n",
        "df[\"Lag3\"]= df[\"Percentage_Return\"].shift(periods=-3)\n",
        "df[\"Lag4\"]= df[\"Percentage_Return\"].shift(periods=-4)\n",
        "df[\"Lag5\"]= df[\"Percentage_Return\"].shift(periods=-5)\n",
        "df.dropna()"
      ],
      "execution_count": 12,
      "outputs": [
        {
          "output_type": "execute_result",
          "data": {
            "text/html": [
              "<div>\n",
              "<style scoped>\n",
              "    .dataframe tbody tr th:only-of-type {\n",
              "        vertical-align: middle;\n",
              "    }\n",
              "\n",
              "    .dataframe tbody tr th {\n",
              "        vertical-align: top;\n",
              "    }\n",
              "\n",
              "    .dataframe thead th {\n",
              "        text-align: right;\n",
              "    }\n",
              "</style>\n",
              "<table border=\"1\" class=\"dataframe\">\n",
              "  <thead>\n",
              "    <tr style=\"text-align: right;\">\n",
              "      <th></th>\n",
              "      <th>Open</th>\n",
              "      <th>High</th>\n",
              "      <th>Low</th>\n",
              "      <th>Close</th>\n",
              "      <th>Volume_(BTC)</th>\n",
              "      <th>Volume_(Currency)</th>\n",
              "      <th>Weighted_Price</th>\n",
              "      <th>Price</th>\n",
              "      <th>Return</th>\n",
              "      <th>Direction</th>\n",
              "      <th>Percentage_Return</th>\n",
              "      <th>Lag1</th>\n",
              "      <th>Lag2</th>\n",
              "      <th>Lag3</th>\n",
              "      <th>Lag4</th>\n",
              "      <th>Lag5</th>\n",
              "    </tr>\n",
              "    <tr>\n",
              "      <th>Timestamp</th>\n",
              "      <th></th>\n",
              "      <th></th>\n",
              "      <th></th>\n",
              "      <th></th>\n",
              "      <th></th>\n",
              "      <th></th>\n",
              "      <th></th>\n",
              "      <th></th>\n",
              "      <th></th>\n",
              "      <th></th>\n",
              "      <th></th>\n",
              "      <th></th>\n",
              "      <th></th>\n",
              "      <th></th>\n",
              "      <th></th>\n",
              "      <th></th>\n",
              "    </tr>\n",
              "  </thead>\n",
              "  <tbody>\n",
              "    <tr>\n",
              "      <th>2011-12-31 07:53:00</th>\n",
              "      <td>4.390</td>\n",
              "      <td>4.390</td>\n",
              "      <td>4.39</td>\n",
              "      <td>4.39</td>\n",
              "      <td>0.555046</td>\n",
              "      <td>2.436653</td>\n",
              "      <td>4.390000</td>\n",
              "      <td>4.3900</td>\n",
              "      <td>0.0000</td>\n",
              "      <td>Down</td>\n",
              "      <td>0.000000</td>\n",
              "      <td>0.000000</td>\n",
              "      <td>0.000000</td>\n",
              "      <td>0.000000</td>\n",
              "      <td>0.000000</td>\n",
              "      <td>0.000000</td>\n",
              "    </tr>\n",
              "    <tr>\n",
              "      <th>2011-12-31 07:54:00</th>\n",
              "      <td>4.390</td>\n",
              "      <td>4.390</td>\n",
              "      <td>4.39</td>\n",
              "      <td>4.39</td>\n",
              "      <td>0.654511</td>\n",
              "      <td>2.873305</td>\n",
              "      <td>4.390000</td>\n",
              "      <td>4.3900</td>\n",
              "      <td>0.0000</td>\n",
              "      <td>Down</td>\n",
              "      <td>0.000000</td>\n",
              "      <td>0.000000</td>\n",
              "      <td>0.000000</td>\n",
              "      <td>0.000000</td>\n",
              "      <td>0.000000</td>\n",
              "      <td>0.000000</td>\n",
              "    </tr>\n",
              "    <tr>\n",
              "      <th>2011-12-31 07:55:00</th>\n",
              "      <td>4.390</td>\n",
              "      <td>4.390</td>\n",
              "      <td>4.39</td>\n",
              "      <td>4.39</td>\n",
              "      <td>0.753977</td>\n",
              "      <td>3.309958</td>\n",
              "      <td>4.390000</td>\n",
              "      <td>4.3900</td>\n",
              "      <td>0.0000</td>\n",
              "      <td>Down</td>\n",
              "      <td>0.000000</td>\n",
              "      <td>0.000000</td>\n",
              "      <td>0.000000</td>\n",
              "      <td>0.000000</td>\n",
              "      <td>0.000000</td>\n",
              "      <td>0.000000</td>\n",
              "    </tr>\n",
              "    <tr>\n",
              "      <th>2011-12-31 07:56:00</th>\n",
              "      <td>4.390</td>\n",
              "      <td>4.390</td>\n",
              "      <td>4.39</td>\n",
              "      <td>4.39</td>\n",
              "      <td>0.853442</td>\n",
              "      <td>3.746611</td>\n",
              "      <td>4.390000</td>\n",
              "      <td>4.3900</td>\n",
              "      <td>0.0000</td>\n",
              "      <td>Down</td>\n",
              "      <td>0.000000</td>\n",
              "      <td>0.000000</td>\n",
              "      <td>0.000000</td>\n",
              "      <td>0.000000</td>\n",
              "      <td>0.000000</td>\n",
              "      <td>0.000000</td>\n",
              "    </tr>\n",
              "    <tr>\n",
              "      <th>2011-12-31 07:57:00</th>\n",
              "      <td>4.390</td>\n",
              "      <td>4.390</td>\n",
              "      <td>4.39</td>\n",
              "      <td>4.39</td>\n",
              "      <td>0.952907</td>\n",
              "      <td>4.183264</td>\n",
              "      <td>4.390000</td>\n",
              "      <td>4.3900</td>\n",
              "      <td>0.0000</td>\n",
              "      <td>Down</td>\n",
              "      <td>0.000000</td>\n",
              "      <td>0.000000</td>\n",
              "      <td>0.000000</td>\n",
              "      <td>0.000000</td>\n",
              "      <td>0.000000</td>\n",
              "      <td>0.000000</td>\n",
              "    </tr>\n",
              "    <tr>\n",
              "      <th>...</th>\n",
              "      <td>...</td>\n",
              "      <td>...</td>\n",
              "      <td>...</td>\n",
              "      <td>...</td>\n",
              "      <td>...</td>\n",
              "      <td>...</td>\n",
              "      <td>...</td>\n",
              "      <td>...</td>\n",
              "      <td>...</td>\n",
              "      <td>...</td>\n",
              "      <td>...</td>\n",
              "      <td>...</td>\n",
              "      <td>...</td>\n",
              "      <td>...</td>\n",
              "      <td>...</td>\n",
              "      <td>...</td>\n",
              "    </tr>\n",
              "    <tr>\n",
              "      <th>2021-03-30 23:51:00</th>\n",
              "      <td>58677.050</td>\n",
              "      <td>58699.900</td>\n",
              "      <td>58660.00</td>\n",
              "      <td>58699.90</td>\n",
              "      <td>2.672676</td>\n",
              "      <td>156832.692130</td>\n",
              "      <td>58680.021260</td>\n",
              "      <td>58684.2125</td>\n",
              "      <td>2.8925</td>\n",
              "      <td>Up</td>\n",
              "      <td>0.000049</td>\n",
              "      <td>0.000234</td>\n",
              "      <td>0.000234</td>\n",
              "      <td>0.000545</td>\n",
              "      <td>-0.000263</td>\n",
              "      <td>-0.000478</td>\n",
              "    </tr>\n",
              "    <tr>\n",
              "      <th>2021-03-30 23:52:00</th>\n",
              "      <td>58697.865</td>\n",
              "      <td>58715.565</td>\n",
              "      <td>58679.17</td>\n",
              "      <td>58699.20</td>\n",
              "      <td>1.440329</td>\n",
              "      <td>84520.873706</td>\n",
              "      <td>58691.157958</td>\n",
              "      <td>58697.9500</td>\n",
              "      <td>13.7375</td>\n",
              "      <td>Up</td>\n",
              "      <td>0.000234</td>\n",
              "      <td>0.000234</td>\n",
              "      <td>0.000545</td>\n",
              "      <td>-0.000263</td>\n",
              "      <td>-0.000478</td>\n",
              "      <td>-0.000228</td>\n",
              "    </tr>\n",
              "    <tr>\n",
              "      <th>2021-03-30 23:53:00</th>\n",
              "      <td>58718.680</td>\n",
              "      <td>58731.230</td>\n",
              "      <td>58698.34</td>\n",
              "      <td>58698.50</td>\n",
              "      <td>0.207983</td>\n",
              "      <td>12209.055282</td>\n",
              "      <td>58702.294657</td>\n",
              "      <td>58711.6875</td>\n",
              "      <td>13.7375</td>\n",
              "      <td>Up</td>\n",
              "      <td>0.000234</td>\n",
              "      <td>0.000545</td>\n",
              "      <td>-0.000263</td>\n",
              "      <td>-0.000478</td>\n",
              "      <td>-0.000228</td>\n",
              "      <td>0.000372</td>\n",
              "    </tr>\n",
              "    <tr>\n",
              "      <th>2021-03-30 23:54:00</th>\n",
              "      <td>58736.190</td>\n",
              "      <td>58762.430</td>\n",
              "      <td>58736.19</td>\n",
              "      <td>58739.95</td>\n",
              "      <td>0.041559</td>\n",
              "      <td>2441.376572</td>\n",
              "      <td>58745.145351</td>\n",
              "      <td>58743.6900</td>\n",
              "      <td>32.0025</td>\n",
              "      <td>Up</td>\n",
              "      <td>0.000545</td>\n",
              "      <td>-0.000263</td>\n",
              "      <td>-0.000478</td>\n",
              "      <td>-0.000228</td>\n",
              "      <td>0.000372</td>\n",
              "      <td>0.000770</td>\n",
              "    </tr>\n",
              "    <tr>\n",
              "      <th>2021-03-30 23:55:00</th>\n",
              "      <td>58742.180</td>\n",
              "      <td>58742.180</td>\n",
              "      <td>58714.31</td>\n",
              "      <td>58714.31</td>\n",
              "      <td>2.519999</td>\n",
              "      <td>148004.448110</td>\n",
              "      <td>58731.946927</td>\n",
              "      <td>58728.2450</td>\n",
              "      <td>-15.4450</td>\n",
              "      <td>Down</td>\n",
              "      <td>-0.000263</td>\n",
              "      <td>-0.000478</td>\n",
              "      <td>-0.000228</td>\n",
              "      <td>0.000372</td>\n",
              "      <td>0.000770</td>\n",
              "      <td>0.000276</td>\n",
              "    </tr>\n",
              "  </tbody>\n",
              "</table>\n",
              "<p>4857371 rows × 16 columns</p>\n",
              "</div>"
            ],
            "text/plain": [
              "                          Open       High  ...      Lag4      Lag5\n",
              "Timestamp                                  ...                    \n",
              "2011-12-31 07:53:00      4.390      4.390  ...  0.000000  0.000000\n",
              "2011-12-31 07:54:00      4.390      4.390  ...  0.000000  0.000000\n",
              "2011-12-31 07:55:00      4.390      4.390  ...  0.000000  0.000000\n",
              "2011-12-31 07:56:00      4.390      4.390  ...  0.000000  0.000000\n",
              "2011-12-31 07:57:00      4.390      4.390  ...  0.000000  0.000000\n",
              "...                        ...        ...  ...       ...       ...\n",
              "2021-03-30 23:51:00  58677.050  58699.900  ... -0.000263 -0.000478\n",
              "2021-03-30 23:52:00  58697.865  58715.565  ... -0.000478 -0.000228\n",
              "2021-03-30 23:53:00  58718.680  58731.230  ... -0.000228  0.000372\n",
              "2021-03-30 23:54:00  58736.190  58762.430  ...  0.000372  0.000770\n",
              "2021-03-30 23:55:00  58742.180  58742.180  ...  0.000770  0.000276\n",
              "\n",
              "[4857371 rows x 16 columns]"
            ]
          },
          "metadata": {},
          "execution_count": 12
        }
      ]
    },
    {
      "cell_type": "markdown",
      "metadata": {
        "id": "sblblKX4dck4"
      },
      "source": [
        "Cleaned Dataset Display"
      ]
    },
    {
      "cell_type": "code",
      "metadata": {
        "colab": {
          "base_uri": "https://localhost:8080/"
        },
        "id": "HpE2A5BVXsgX",
        "outputId": "c52a1dcd-ec1c-4927-c677-ced039406779"
      },
      "source": [
        "df.shape"
      ],
      "execution_count": 13,
      "outputs": [
        {
          "output_type": "execute_result",
          "data": {
            "text/plain": [
              "(4857377, 16)"
            ]
          },
          "metadata": {},
          "execution_count": 13
        }
      ]
    },
    {
      "cell_type": "code",
      "metadata": {
        "colab": {
          "base_uri": "https://localhost:8080/",
          "height": 340
        },
        "id": "181eZ6wOXKEY",
        "outputId": "a48cd018-8b94-410f-a867-02e0f1719e5a"
      },
      "source": [
        "df.head()"
      ],
      "execution_count": 14,
      "outputs": [
        {
          "output_type": "execute_result",
          "data": {
            "text/html": [
              "<div>\n",
              "<style scoped>\n",
              "    .dataframe tbody tr th:only-of-type {\n",
              "        vertical-align: middle;\n",
              "    }\n",
              "\n",
              "    .dataframe tbody tr th {\n",
              "        vertical-align: top;\n",
              "    }\n",
              "\n",
              "    .dataframe thead th {\n",
              "        text-align: right;\n",
              "    }\n",
              "</style>\n",
              "<table border=\"1\" class=\"dataframe\">\n",
              "  <thead>\n",
              "    <tr style=\"text-align: right;\">\n",
              "      <th></th>\n",
              "      <th>Open</th>\n",
              "      <th>High</th>\n",
              "      <th>Low</th>\n",
              "      <th>Close</th>\n",
              "      <th>Volume_(BTC)</th>\n",
              "      <th>Volume_(Currency)</th>\n",
              "      <th>Weighted_Price</th>\n",
              "      <th>Price</th>\n",
              "      <th>Return</th>\n",
              "      <th>Direction</th>\n",
              "      <th>Percentage_Return</th>\n",
              "      <th>Lag1</th>\n",
              "      <th>Lag2</th>\n",
              "      <th>Lag3</th>\n",
              "      <th>Lag4</th>\n",
              "      <th>Lag5</th>\n",
              "    </tr>\n",
              "    <tr>\n",
              "      <th>Timestamp</th>\n",
              "      <th></th>\n",
              "      <th></th>\n",
              "      <th></th>\n",
              "      <th></th>\n",
              "      <th></th>\n",
              "      <th></th>\n",
              "      <th></th>\n",
              "      <th></th>\n",
              "      <th></th>\n",
              "      <th></th>\n",
              "      <th></th>\n",
              "      <th></th>\n",
              "      <th></th>\n",
              "      <th></th>\n",
              "      <th></th>\n",
              "      <th></th>\n",
              "    </tr>\n",
              "  </thead>\n",
              "  <tbody>\n",
              "    <tr>\n",
              "      <th>2011-12-31 07:52:00</th>\n",
              "      <td>4.39</td>\n",
              "      <td>4.39</td>\n",
              "      <td>4.39</td>\n",
              "      <td>4.39</td>\n",
              "      <td>0.455581</td>\n",
              "      <td>2.000000</td>\n",
              "      <td>4.39</td>\n",
              "      <td>4.39</td>\n",
              "      <td>NaN</td>\n",
              "      <td>Down</td>\n",
              "      <td>NaN</td>\n",
              "      <td>0.0</td>\n",
              "      <td>0.0</td>\n",
              "      <td>0.0</td>\n",
              "      <td>0.0</td>\n",
              "      <td>0.0</td>\n",
              "    </tr>\n",
              "    <tr>\n",
              "      <th>2011-12-31 07:53:00</th>\n",
              "      <td>4.39</td>\n",
              "      <td>4.39</td>\n",
              "      <td>4.39</td>\n",
              "      <td>4.39</td>\n",
              "      <td>0.555046</td>\n",
              "      <td>2.436653</td>\n",
              "      <td>4.39</td>\n",
              "      <td>4.39</td>\n",
              "      <td>0.0</td>\n",
              "      <td>Down</td>\n",
              "      <td>0.0</td>\n",
              "      <td>0.0</td>\n",
              "      <td>0.0</td>\n",
              "      <td>0.0</td>\n",
              "      <td>0.0</td>\n",
              "      <td>0.0</td>\n",
              "    </tr>\n",
              "    <tr>\n",
              "      <th>2011-12-31 07:54:00</th>\n",
              "      <td>4.39</td>\n",
              "      <td>4.39</td>\n",
              "      <td>4.39</td>\n",
              "      <td>4.39</td>\n",
              "      <td>0.654511</td>\n",
              "      <td>2.873305</td>\n",
              "      <td>4.39</td>\n",
              "      <td>4.39</td>\n",
              "      <td>0.0</td>\n",
              "      <td>Down</td>\n",
              "      <td>0.0</td>\n",
              "      <td>0.0</td>\n",
              "      <td>0.0</td>\n",
              "      <td>0.0</td>\n",
              "      <td>0.0</td>\n",
              "      <td>0.0</td>\n",
              "    </tr>\n",
              "    <tr>\n",
              "      <th>2011-12-31 07:55:00</th>\n",
              "      <td>4.39</td>\n",
              "      <td>4.39</td>\n",
              "      <td>4.39</td>\n",
              "      <td>4.39</td>\n",
              "      <td>0.753977</td>\n",
              "      <td>3.309958</td>\n",
              "      <td>4.39</td>\n",
              "      <td>4.39</td>\n",
              "      <td>0.0</td>\n",
              "      <td>Down</td>\n",
              "      <td>0.0</td>\n",
              "      <td>0.0</td>\n",
              "      <td>0.0</td>\n",
              "      <td>0.0</td>\n",
              "      <td>0.0</td>\n",
              "      <td>0.0</td>\n",
              "    </tr>\n",
              "    <tr>\n",
              "      <th>2011-12-31 07:56:00</th>\n",
              "      <td>4.39</td>\n",
              "      <td>4.39</td>\n",
              "      <td>4.39</td>\n",
              "      <td>4.39</td>\n",
              "      <td>0.853442</td>\n",
              "      <td>3.746611</td>\n",
              "      <td>4.39</td>\n",
              "      <td>4.39</td>\n",
              "      <td>0.0</td>\n",
              "      <td>Down</td>\n",
              "      <td>0.0</td>\n",
              "      <td>0.0</td>\n",
              "      <td>0.0</td>\n",
              "      <td>0.0</td>\n",
              "      <td>0.0</td>\n",
              "      <td>0.0</td>\n",
              "    </tr>\n",
              "  </tbody>\n",
              "</table>\n",
              "</div>"
            ],
            "text/plain": [
              "                     Open  High   Low  Close  ...  Lag2  Lag3  Lag4  Lag5\n",
              "Timestamp                                     ...                        \n",
              "2011-12-31 07:52:00  4.39  4.39  4.39   4.39  ...   0.0   0.0   0.0   0.0\n",
              "2011-12-31 07:53:00  4.39  4.39  4.39   4.39  ...   0.0   0.0   0.0   0.0\n",
              "2011-12-31 07:54:00  4.39  4.39  4.39   4.39  ...   0.0   0.0   0.0   0.0\n",
              "2011-12-31 07:55:00  4.39  4.39  4.39   4.39  ...   0.0   0.0   0.0   0.0\n",
              "2011-12-31 07:56:00  4.39  4.39  4.39   4.39  ...   0.0   0.0   0.0   0.0\n",
              "\n",
              "[5 rows x 16 columns]"
            ]
          },
          "metadata": {},
          "execution_count": 14
        }
      ]
    },
    {
      "cell_type": "markdown",
      "metadata": {
        "id": "udvKkj9ri4xQ"
      },
      "source": [
        "#**Exploratory Data Analysis**"
      ]
    },
    {
      "cell_type": "markdown",
      "metadata": {
        "id": "zIeWGoia6Kci"
      },
      "source": [
        "Zheming's Part"
      ]
    },
    {
      "cell_type": "markdown",
      "metadata": {
        "id": "k1fHrsuuAbep"
      },
      "source": [
        "Produce a kernal density plot for Price (refer to Lecture 7 02-Exploratory-Data-Analysis.ipynb)"
      ]
    },
    {
      "cell_type": "code",
      "metadata": {
        "colab": {
          "base_uri": "https://localhost:8080/",
          "height": 301
        },
        "id": "JlN1216Q_662",
        "outputId": "48d9046e-765d-4846-b7a3-cfd164ac25fb"
      },
      "source": [
        "def kdeplot(feature):\n",
        "    plt.figure(figsize=(9, 4))\n",
        "    plt.title(\"KDE for {}\".format(feature))\n",
        "    ax0 = sns.kdeplot(df[df['Direction'] == 'Up'][feature].dropna(), color= 'navy', label= 'Churn: No')\n",
        "    ax1 = sns.kdeplot(df[df['Direction'] == 'Down'][feature].dropna(), color= 'orange', label= 'Churn: Yes')\n",
        "kdeplot('Price')\n"
      ],
      "execution_count": 14,
      "outputs": [
        {
          "output_type": "display_data",
          "data": {
            "image/png": "[encoded data removed]",
            "text/plain": [
              "<Figure size 648x288 with 1 Axes>"
            ]
          },
          "metadata": {
            "needs_background": "light"
          }
        }
      ]
    },
    {
      "cell_type": "markdown",
      "metadata": {
        "id": "pqqxoFHG2PXi"
      },
      "source": [
        "Analyze correlations with seaborn heatmap"
      ]
    },
    {
      "cell_type": "code",
      "metadata": {
        "colab": {
          "base_uri": "https://localhost:8080/",
          "height": 693
        },
        "id": "d54dMuVP2OxE",
        "outputId": "ba6e8742-a254-4461-fb69-2cfd9bcfff33"
      },
      "source": [
        "corr = df.corr()\n",
        "plt.figure(figsize=[10,10])\n",
        "plt.rcParams['font.size']=7\n",
        "sns.heatmap(corr, cmap='PiYG', annot= True, linewidths=0.3 );"
      ],
      "execution_count": 15,
      "outputs": [
        {
          "output_type": "display_data",
          "data": {
            "image/png": "[encoded data removed]",
            "text/plain": [
              "<Figure size 720x720 with 2 Axes>"
            ]
          },
          "metadata": {
            "needs_background": "light"
          }
        }
      ]
    },
    {
      "cell_type": "code",
      "metadata": {
        "id": "Vw4o3Hxvi7cl"
      },
      "source": [
        "def triple_plot(x, title,c):\n",
        "    fig, ax = plt.subplots(3,1,figsize=(25,10),sharex=True)\n",
        "    sns.distplot(x, ax=ax[0],color=c)\n",
        "    ax[0].set(xlabel=None)\n",
        "    ax[0].set_title('Histogram + KDE')\n",
        "    sns.boxplot(x, ax=ax[1],color=c)\n",
        "    ax[1].set(xlabel=None)\n",
        "    ax[1].set_title('Boxplot')\n",
        "    sns.violinplot(x, ax=ax[2],color=c)\n",
        "    ax[2].set(xlabel=None)\n",
        "    ax[2].set_title('Violin plot')\n",
        "    fig.suptitle(title, fontsize=30)\n",
        "    plt.tight_layout(pad=3.0)\n",
        "    plt.show()"
      ],
      "execution_count": 16,
      "outputs": []
    },
    {
      "cell_type": "code",
      "metadata": {
        "colab": {
          "base_uri": "https://localhost:8080/",
          "height": 539
        },
        "id": "C0w-mibTlsk2",
        "outputId": "0741146a-9f9f-47b7-fec6-c87f84ceb5f5"
      },
      "source": [
        "triple_plot(df['Open'],'Distribution of Opening price',custom_colors[0])"
      ],
      "execution_count": 17,
      "outputs": [
        {
          "output_type": "stream",
          "name": "stderr",
          "text": [
            "/usr/local/lib/python3.7/dist-packages/seaborn/distributions.py:2619: FutureWarning: `distplot` is a deprecated function and will be removed in a future version. Please adapt your code to use either `displot` (a figure-level function with similar flexibility) or `histplot` (an axes-level function for histograms).\n",
            "  warnings.warn(msg, FutureWarning)\n",
            "/usr/local/lib/python3.7/dist-packages/seaborn/_decorators.py:43: FutureWarning: Pass the following variable as a keyword arg: x. From version 0.12, the only valid positional argument will be `data`, and passing other arguments without an explicit keyword will result in an error or misinterpretation.\n",
            "  FutureWarning\n",
            "/usr/local/lib/python3.7/dist-packages/seaborn/_decorators.py:43: FutureWarning: Pass the following variable as a keyword arg: x. From version 0.12, the only valid positional argument will be `data`, and passing other arguments without an explicit keyword will result in an error or misinterpretation.\n",
            "  FutureWarning\n"
          ]
        },
        {
          "output_type": "display_data",
          "data": {
            "image/png": "[encoded data removed]",
            "text/plain": [
              "<Figure size 1800x720 with 3 Axes>"
            ]
          },
          "metadata": {
            "needs_background": "light"
          }
        }
      ]
    },
    {
      "cell_type": "markdown",
      "metadata": {
        "id": "60itOyhi5ok8"
      },
      "source": [
        "# **Linear Regression**"
      ]
    },
    {
      "cell_type": "markdown",
      "metadata": {
        "id": "_XUZ2uCs5sH5"
      },
      "source": [
        "Ji Qi's part here"
      ]
    },
    {
      "cell_type": "markdown",
      "metadata": {
        "id": "2U0n3WAt5uEu"
      },
      "source": [
        "#**Logistics Regression**"
      ]
    },
    {
      "cell_type": "markdown",
      "metadata": {
        "id": "_LD4Nv0k5xZQ"
      },
      "source": [
        "Ji Qi's part here"
      ]
    },
    {
      "cell_type": "markdown",
      "metadata": {
        "id": "8v9xCs7j5y-Z"
      },
      "source": [
        "# **ARIMA Model**"
      ]
    },
    {
      "cell_type": "markdown",
      "metadata": {
        "id": "Nu79K8EM52cZ"
      },
      "source": [
        "Geech's part here"
      ]
    },
    {
      "cell_type": "code",
      "metadata": {
        "colab": {
          "base_uri": "https://localhost:8080/",
          "height": 340
        },
        "id": "PvYBk5mmysXu",
        "outputId": "76088a5d-b926-42ad-d275-ce0a88b5773d"
      },
      "source": [
        "df.head(5)"
      ],
      "execution_count": 15,
      "outputs": [
        {
          "output_type": "execute_result",
          "data": {
            "text/html": [
              "<div>\n",
              "<style scoped>\n",
              "    .dataframe tbody tr th:only-of-type {\n",
              "        vertical-align: middle;\n",
              "    }\n",
              "\n",
              "    .dataframe tbody tr th {\n",
              "        vertical-align: top;\n",
              "    }\n",
              "\n",
              "    .dataframe thead th {\n",
              "        text-align: right;\n",
              "    }\n",
              "</style>\n",
              "<table border=\"1\" class=\"dataframe\">\n",
              "  <thead>\n",
              "    <tr style=\"text-align: right;\">\n",
              "      <th></th>\n",
              "      <th>Open</th>\n",
              "      <th>High</th>\n",
              "      <th>Low</th>\n",
              "      <th>Close</th>\n",
              "      <th>Volume_(BTC)</th>\n",
              "      <th>Volume_(Currency)</th>\n",
              "      <th>Weighted_Price</th>\n",
              "      <th>Price</th>\n",
              "      <th>Return</th>\n",
              "      <th>Direction</th>\n",
              "      <th>Percentage_Return</th>\n",
              "      <th>Lag1</th>\n",
              "      <th>Lag2</th>\n",
              "      <th>Lag3</th>\n",
              "      <th>Lag4</th>\n",
              "      <th>Lag5</th>\n",
              "    </tr>\n",
              "    <tr>\n",
              "      <th>Timestamp</th>\n",
              "      <th></th>\n",
              "      <th></th>\n",
              "      <th></th>\n",
              "      <th></th>\n",
              "      <th></th>\n",
              "      <th></th>\n",
              "      <th></th>\n",
              "      <th></th>\n",
              "      <th></th>\n",
              "      <th></th>\n",
              "      <th></th>\n",
              "      <th></th>\n",
              "      <th></th>\n",
              "      <th></th>\n",
              "      <th></th>\n",
              "      <th></th>\n",
              "    </tr>\n",
              "  </thead>\n",
              "  <tbody>\n",
              "    <tr>\n",
              "      <th>2011-12-31 07:52:00</th>\n",
              "      <td>4.39</td>\n",
              "      <td>4.39</td>\n",
              "      <td>4.39</td>\n",
              "      <td>4.39</td>\n",
              "      <td>0.455581</td>\n",
              "      <td>2.000000</td>\n",
              "      <td>4.39</td>\n",
              "      <td>4.39</td>\n",
              "      <td>NaN</td>\n",
              "      <td>Down</td>\n",
              "      <td>NaN</td>\n",
              "      <td>0.0</td>\n",
              "      <td>0.0</td>\n",
              "      <td>0.0</td>\n",
              "      <td>0.0</td>\n",
              "      <td>0.0</td>\n",
              "    </tr>\n",
              "    <tr>\n",
              "      <th>2011-12-31 07:53:00</th>\n",
              "      <td>4.39</td>\n",
              "      <td>4.39</td>\n",
              "      <td>4.39</td>\n",
              "      <td>4.39</td>\n",
              "      <td>0.555046</td>\n",
              "      <td>2.436653</td>\n",
              "      <td>4.39</td>\n",
              "      <td>4.39</td>\n",
              "      <td>0.0</td>\n",
              "      <td>Down</td>\n",
              "      <td>0.0</td>\n",
              "      <td>0.0</td>\n",
              "      <td>0.0</td>\n",
              "      <td>0.0</td>\n",
              "      <td>0.0</td>\n",
              "      <td>0.0</td>\n",
              "    </tr>\n",
              "    <tr>\n",
              "      <th>2011-12-31 07:54:00</th>\n",
              "      <td>4.39</td>\n",
              "      <td>4.39</td>\n",
              "      <td>4.39</td>\n",
              "      <td>4.39</td>\n",
              "      <td>0.654511</td>\n",
              "      <td>2.873305</td>\n",
              "      <td>4.39</td>\n",
              "      <td>4.39</td>\n",
              "      <td>0.0</td>\n",
              "      <td>Down</td>\n",
              "      <td>0.0</td>\n",
              "      <td>0.0</td>\n",
              "      <td>0.0</td>\n",
              "      <td>0.0</td>\n",
              "      <td>0.0</td>\n",
              "      <td>0.0</td>\n",
              "    </tr>\n",
              "    <tr>\n",
              "      <th>2011-12-31 07:55:00</th>\n",
              "      <td>4.39</td>\n",
              "      <td>4.39</td>\n",
              "      <td>4.39</td>\n",
              "      <td>4.39</td>\n",
              "      <td>0.753977</td>\n",
              "      <td>3.309958</td>\n",
              "      <td>4.39</td>\n",
              "      <td>4.39</td>\n",
              "      <td>0.0</td>\n",
              "      <td>Down</td>\n",
              "      <td>0.0</td>\n",
              "      <td>0.0</td>\n",
              "      <td>0.0</td>\n",
              "      <td>0.0</td>\n",
              "      <td>0.0</td>\n",
              "      <td>0.0</td>\n",
              "    </tr>\n",
              "    <tr>\n",
              "      <th>2011-12-31 07:56:00</th>\n",
              "      <td>4.39</td>\n",
              "      <td>4.39</td>\n",
              "      <td>4.39</td>\n",
              "      <td>4.39</td>\n",
              "      <td>0.853442</td>\n",
              "      <td>3.746611</td>\n",
              "      <td>4.39</td>\n",
              "      <td>4.39</td>\n",
              "      <td>0.0</td>\n",
              "      <td>Down</td>\n",
              "      <td>0.0</td>\n",
              "      <td>0.0</td>\n",
              "      <td>0.0</td>\n",
              "      <td>0.0</td>\n",
              "      <td>0.0</td>\n",
              "      <td>0.0</td>\n",
              "    </tr>\n",
              "  </tbody>\n",
              "</table>\n",
              "</div>"
            ],
            "text/plain": [
              "                     Open  High   Low  Close  ...  Lag2  Lag3  Lag4  Lag5\n",
              "Timestamp                                     ...                        \n",
              "2011-12-31 07:52:00  4.39  4.39  4.39   4.39  ...   0.0   0.0   0.0   0.0\n",
              "2011-12-31 07:53:00  4.39  4.39  4.39   4.39  ...   0.0   0.0   0.0   0.0\n",
              "2011-12-31 07:54:00  4.39  4.39  4.39   4.39  ...   0.0   0.0   0.0   0.0\n",
              "2011-12-31 07:55:00  4.39  4.39  4.39   4.39  ...   0.0   0.0   0.0   0.0\n",
              "2011-12-31 07:56:00  4.39  4.39  4.39   4.39  ...   0.0   0.0   0.0   0.0\n",
              "\n",
              "[5 rows x 16 columns]"
            ]
          },
          "metadata": {},
          "execution_count": 15
        }
      ]
    },
    {
      "cell_type": "code",
      "metadata": {
        "colab": {
          "base_uri": "https://localhost:8080/"
        },
        "id": "n6eN35q656n1",
        "outputId": "bd2c67ce-15f8-4772-ed4f-ace5455c766a"
      },
      "source": [
        "df.shape"
      ],
      "execution_count": 16,
      "outputs": [
        {
          "output_type": "execute_result",
          "data": {
            "text/plain": [
              "(4857377, 16)"
            ]
          },
          "metadata": {},
          "execution_count": 16
        }
      ]
    },
    {
      "cell_type": "code",
      "metadata": {
        "id": "ZBVvIArZ0iIK"
      },
      "source": [
        "df= df[[\"Close\"]].copy()"
      ],
      "execution_count": 17,
      "outputs": []
    },
    {
      "cell_type": "code",
      "metadata": {
        "colab": {
          "base_uri": "https://localhost:8080/",
          "height": 297
        },
        "id": "njeOsTyC_Kbo",
        "outputId": "79013492-512c-44cd-f216-e55102243388"
      },
      "source": [
        "df.describe()"
      ],
      "execution_count": 18,
      "outputs": [
        {
          "output_type": "execute_result",
          "data": {
            "text/html": [
              "<div>\n",
              "<style scoped>\n",
              "    .dataframe tbody tr th:only-of-type {\n",
              "        vertical-align: middle;\n",
              "    }\n",
              "\n",
              "    .dataframe tbody tr th {\n",
              "        vertical-align: top;\n",
              "    }\n",
              "\n",
              "    .dataframe thead th {\n",
              "        text-align: right;\n",
              "    }\n",
              "</style>\n",
              "<table border=\"1\" class=\"dataframe\">\n",
              "  <thead>\n",
              "    <tr style=\"text-align: right;\">\n",
              "      <th></th>\n",
              "      <th>Close</th>\n",
              "    </tr>\n",
              "  </thead>\n",
              "  <tbody>\n",
              "    <tr>\n",
              "      <th>count</th>\n",
              "      <td>4.857377e+06</td>\n",
              "    </tr>\n",
              "    <tr>\n",
              "      <th>mean</th>\n",
              "      <td>4.591953e+03</td>\n",
              "    </tr>\n",
              "    <tr>\n",
              "      <th>std</th>\n",
              "      <td>8.157843e+03</td>\n",
              "    </tr>\n",
              "    <tr>\n",
              "      <th>min</th>\n",
              "      <td>1.500000e+00</td>\n",
              "    </tr>\n",
              "    <tr>\n",
              "      <th>25%</th>\n",
              "      <td>2.450400e+02</td>\n",
              "    </tr>\n",
              "    <tr>\n",
              "      <th>50%</th>\n",
              "      <td>6.995850e+02</td>\n",
              "    </tr>\n",
              "    <tr>\n",
              "      <th>75%</th>\n",
              "      <td>7.235570e+03</td>\n",
              "    </tr>\n",
              "    <tr>\n",
              "      <th>max</th>\n",
              "      <td>6.178180e+04</td>\n",
              "    </tr>\n",
              "  </tbody>\n",
              "</table>\n",
              "</div>"
            ],
            "text/plain": [
              "              Close\n",
              "count  4.857377e+06\n",
              "mean   4.591953e+03\n",
              "std    8.157843e+03\n",
              "min    1.500000e+00\n",
              "25%    2.450400e+02\n",
              "50%    6.995850e+02\n",
              "75%    7.235570e+03\n",
              "max    6.178180e+04"
            ]
          },
          "metadata": {},
          "execution_count": 18
        }
      ]
    },
    {
      "cell_type": "code",
      "metadata": {
        "colab": {
          "base_uri": "https://localhost:8080/"
        },
        "id": "jLvhVWzhBzpB",
        "outputId": "159d2c15-d1d8-4db9-c1ce-daca87dc66bf"
      },
      "source": [
        "df.Close.dropna()"
      ],
      "execution_count": 19,
      "outputs": [
        {
          "output_type": "execute_result",
          "data": {
            "text/plain": [
              "Timestamp\n",
              "2011-12-31 07:52:00        4.39\n",
              "2011-12-31 07:53:00        4.39\n",
              "2011-12-31 07:54:00        4.39\n",
              "2011-12-31 07:55:00        4.39\n",
              "2011-12-31 07:56:00        4.39\n",
              "                         ...   \n",
              "2021-03-30 23:56:00    58686.00\n",
              "2021-03-30 23:57:00    58685.81\n",
              "2021-03-30 23:58:00    58723.84\n",
              "2021-03-30 23:59:00    58760.59\n",
              "2021-03-31 00:00:00    58778.18\n",
              "Name: Close, Length: 4857377, dtype: float64"
            ]
          },
          "metadata": {},
          "execution_count": 19
        }
      ]
    },
    {
      "cell_type": "code",
      "metadata": {
        "id": "CuEcupgHEmNx"
      },
      "source": [
        "from numpy import log"
      ],
      "execution_count": 20,
      "outputs": []
    },
    {
      "cell_type": "code",
      "metadata": {
        "colab": {
          "base_uri": "https://localhost:8080/"
        },
        "id": "lBxKRstLCC1T",
        "outputId": "27d5d106-3a65-4075-f4e0-097c3106e169"
      },
      "source": [
        "#split the time series into two group \n",
        "#calculate the mean and variance of each group of numbers\n",
        "#compare the values. \n",
        "#mean and variance look very different = non-stationary time series\n",
        "#cannot reject null \n",
        "X = df.Close\n",
        "X=log(X)\n",
        "split = round(len(X) / 2)\n",
        "X1, X2 = X[0:split], X[split:]\n",
        "mean1, mean2 = X1.mean(), X2.mean()\n",
        "var1, var2 = X1.var(), X2.var()\n",
        "print('mean1=%f, mean2=%f' % (mean1, mean2))\n",
        "print('variance1=%f, variance2=%f' % (var1, var2))"
      ],
      "execution_count": 21,
      "outputs": [
        {
          "output_type": "stream",
          "name": "stdout",
          "text": [
            "mean1=4.834348, mean2=8.641669\n",
            "variance1=2.800664, variance2=1.042419\n"
          ]
        }
      ]
    },
    {
      "cell_type": "code",
      "metadata": {
        "colab": {
          "base_uri": "https://localhost:8080/",
          "height": 181
        },
        "id": "lfyKUMUmFdoW",
        "outputId": "f14e686f-cb8e-48e1-b265-4256fa8d951e"
      },
      "source": [
        "plt.hist(X)\n",
        "plt.show()\n",
        "plt.plot(X)\n",
        "plt.show()\n",
        "#the mean and variance values are less meaningful"
      ],
      "execution_count": 1,
      "outputs": [
        {
          "output_type": "error",
          "ename": "NameError",
          "evalue": "ignored",
          "traceback": [
            "\u001b[0;31m---------------------------------------------------------------------------\u001b[0m",
            "\u001b[0;31mNameError\u001b[0m                                 Traceback (most recent call last)",
            "\u001b[0;32m<ipython-input-1-a630aa1412da>\u001b[0m in \u001b[0;36m<module>\u001b[0;34m()\u001b[0m\n\u001b[0;32m----> 1\u001b[0;31m \u001b[0mplt\u001b[0m\u001b[0;34m.\u001b[0m\u001b[0mplot\u001b[0m\u001b[0;34m(\u001b[0m\u001b[0mX\u001b[0m\u001b[0;34m)\u001b[0m\u001b[0;34m\u001b[0m\u001b[0;34m\u001b[0m\u001b[0m\n\u001b[0m\u001b[1;32m      2\u001b[0m \u001b[0mplt\u001b[0m\u001b[0;34m.\u001b[0m\u001b[0mshow\u001b[0m\u001b[0;34m(\u001b[0m\u001b[0;34m)\u001b[0m\u001b[0;34m\u001b[0m\u001b[0;34m\u001b[0m\u001b[0m\n",
            "\u001b[0;31mNameError\u001b[0m: name 'plt' is not defined"
          ]
        }
      ]
    },
    {
      "cell_type": "code",
      "metadata": {
        "id": "PUiMgFcL_OmD",
        "colab": {
          "base_uri": "https://localhost:8080/"
        },
        "outputId": "aa6f6133-da91-4198-c9a6-74d39f506636"
      },
      "source": [
        "#Find out if the time series is stationary\n",
        "#ADF test check if the price is stationary\n",
        "#null hypothesis of ADF is that the time series is not stationary \n",
        "# if P-value < 0.05 then reject null \n",
        "from statsmodels.tsa.stattools import adfuller"
      ],
      "execution_count": 24,
      "outputs": [
        {
          "output_type": "stream",
          "name": "stderr",
          "text": [
            "/usr/local/lib/python3.7/dist-packages/statsmodels/tools/_testing.py:19: FutureWarning: pandas.util.testing is deprecated. Use the functions in the public API at pandas.testing instead.\n",
            "  import pandas.util.testing as tm\n"
          ]
        }
      ]
    },
    {
      "cell_type": "code",
      "metadata": {
        "id": "TuX1KjKlj1A1"
      },
      "source": [
        "# d=0 if the time series is stationary \n",
        "test_adf = adfuller(df.Close)\n",
        "print(f\" ADF Statistics: {test_adf[0]}\")\n",
        "print(f\" P-value: {test_adf[1]}\")"
      ],
      "execution_count": null,
      "outputs": []
    },
    {
      "cell_type": "code",
      "metadata": {
        "id": "1jPpAc6dA2KP",
        "colab": {
          "base_uri": "https://localhost:8080/"
        },
        "outputId": "e6312ce4-b67b-46ba-fbfd-9de192273379"
      },
      "source": [
        "#Autocorrelation Function (ACF)\n",
        "from statsmodels.graphics.tsaplots import plot_acf"
      ],
      "execution_count": 23,
      "outputs": [
        {
          "output_type": "stream",
          "name": "stderr",
          "text": [
            "/usr/local/lib/python3.7/dist-packages/statsmodels/tools/_testing.py:19: FutureWarning: pandas.util.testing is deprecated. Use the functions in the public API at pandas.testing instead.\n",
            "  import pandas.util.testing as tm\n"
          ]
        }
      ]
    },
    {
      "cell_type": "code",
      "metadata": {
        "id": "6v9bOk-3j1A1"
      },
      "source": [
        "#finding d- order of differencing \n",
        "fig, (ax1, ax2)= plt.subplots(1, 2, figsize= (16, 4))\n",
        "\n",
        "ax1.plot(df.Close)\n",
        "ax1.set_title('closing price original')\n",
        "plot_acf(df.Close, ax= ax2);"
      ],
      "execution_count": null,
      "outputs": []
    },
    {
      "cell_type": "code",
      "metadata": {
        "id": "rnQl9MK7j1A1"
      },
      "source": [
        "diff = df.Close.diff().dropna()\n",
        "\n",
        "fig, (ax1, ax2)= plt.subplots(1, 2, figsize= (16, 4))\n",
        "\n",
        "ax1.plot(df.Close)\n",
        "ax1.set_title('Difference 1')\n",
        "plot_acf(diff, ax= ax2);"
      ],
      "execution_count": null,
      "outputs": []
    },
    {
      "cell_type": "code",
      "metadata": {
        "id": "J9cEFwtDj1A1"
      },
      "source": [
        "diff = df.Close.diff().diff().dropna()\n",
        "\n",
        "fig, (ax1, ax2)= plt.subplots(1, 2, figsize= (16, 4))\n",
        "\n",
        "ax1.plot(df.Close)\n",
        "ax1.set_title('Difference 2')\n",
        "plot_acf(diff, ax= ax2);"
      ],
      "execution_count": null,
      "outputs": []
    },
    {
      "cell_type": "code",
      "metadata": {
        "id": "m3Wxisi9j1A2"
      },
      "source": [
        "!pipenv install --skip-lock pmdarima"
      ],
      "execution_count": null,
      "outputs": []
    },
    {
      "cell_type": "code",
      "metadata": {
        "id": "wGsDjjCNj1A2"
      },
      "source": [
        "from pmdarima.arima.utils import ndiffs"
      ],
      "execution_count": null,
      "outputs": []
    },
    {
      "cell_type": "code",
      "metadata": {
        "id": "by3dZhrlj1A2"
      },
      "source": [
        "ndiffs(df.Close, test=\"adf\") #deciding d for order of differencing "
      ],
      "execution_count": null,
      "outputs": []
    },
    {
      "cell_type": "code",
      "metadata": {
        "id": "wq6tO71Pj1A2"
      },
      "source": [
        "from statsmodels.graphics.tsaplots import plot_pacf"
      ],
      "execution_count": null,
      "outputs": []
    },
    {
      "cell_type": "code",
      "metadata": {
        "id": "v1BTFz7Xj1A2"
      },
      "source": [
        "# Finding P- the order of Auto regressive term in the ARIMA model. It refers to the numbers of lags to be used as predictors. \n",
        "# Inspecting the partial autocorrelation plot (PACF)\n",
        "diff = df.Close.diff().dropna()\n",
        "\n",
        "fig, (ax1, ax2)= plt.subplots(1, 2, figsize= (16, 4))\n",
        "\n",
        "ax1.plot(df.Close)\n",
        "ax1.set_title('Difference 1')\n",
        "ax2.set_ylim(0, 1)\n",
        "plot_pacf(diff, ax= ax2);"
      ],
      "execution_count": null,
      "outputs": []
    },
    {
      "cell_type": "markdown",
      "metadata": {
        "id": "R6pT4KJkj1A2"
      },
      "source": [
        "Finding q is the order of the moving average (MA)term. \n",
        "the number of lagged forecast errors that should go into the ARIMA model\n",
        "use ACF plot to find q "
      ]
    },
    {
      "cell_type": "code",
      "metadata": {
        "id": "ZEihloW-j1A2"
      },
      "source": [
        "diff = df.Close.diff().dropna()\n",
        "\n",
        "fig, (ax1, ax2)= plt.subplots(1, 2, figsize= (16, 4))\n",
        "\n",
        "ax1.plot(df.Close)\n",
        "ax1.set_title('Difference')\n",
        "ax2.set_ylim(0, 1)\n",
        "plot_acf(diff, ax= ax2);"
      ],
      "execution_count": null,
      "outputs": []
    },
    {
      "cell_type": "code",
      "metadata": {
        "id": "rdRcCcTaj1A2"
      },
      "source": [
        "from statsmodels.tsa.arima_model import ARIMA"
      ],
      "execution_count": null,
      "outputs": []
    },
    {
      "cell_type": "code",
      "metadata": {
        "id": "EIiXrA4nj1A3"
      },
      "source": [
        "#fitting the arima model \n",
        "\n",
        "# ARIMA model \n",
        "ari_model = ARIMA(df.Close, order=(p,d,q))\n",
        "result= model.fit(disp=0) # disp is False "
      ],
      "execution_count": null,
      "outputs": []
    },
    {
      "cell_type": "code",
      "metadata": {
        "id": "vs5yUHg6j1A3"
      },
      "source": [
        "print(result.summary())"
      ],
      "execution_count": null,
      "outputs": []
    },
    {
      "cell_type": "code",
      "metadata": {
        "id": "EOifp4PVj1A3"
      },
      "source": [
        "#plot residuals \n",
        "res = pd.DataFrame(test_adf.resid)\n",
        "\n",
        "fig, (ax1, ax2)= plt.subplots(1, 2, figsize= (16, 4))\n",
        "\n",
        "ax1.plot(res)\n",
        "ax2.hist(res, density= True);"
      ],
      "execution_count": null,
      "outputs": []
    },
    {
      "cell_type": "code",
      "metadata": {
        "id": "dmblSqdNj1A3"
      },
      "source": [
        "#Actual vs. Fitted \n",
        "test_adf.plot_predict(start= 1, end= 60, dynamic= False);"
      ],
      "execution_count": null,
      "outputs": []
    },
    {
      "cell_type": "code",
      "metadata": {
        "id": "SoaXzIB-j1A3"
      },
      "source": [
        "# Split train set \n",
        "n= int(len(df)*0.8)\n",
        "train_set = df.Close[:n]\n",
        "test_set = df.Close[n:]"
      ],
      "execution_count": null,
      "outputs": []
    },
    {
      "cell_type": "code",
      "metadata": {
        "id": "-anAfG5Aj1A3"
      },
      "source": [
        "print(len(train_set))\n",
        "print(len(test_set))"
      ],
      "execution_count": null,
      "outputs": []
    },
    {
      "cell_type": "code",
      "metadata": {
        "id": "mKoIOP2Dj1A3"
      },
      "source": [
        "model= ARIMA(train_set, order= (p,d,q))\n",
        "result_train = model.fit(disp=0)"
      ],
      "execution_count": null,
      "outputs": []
    },
    {
      "cell_type": "code",
      "metadata": {
        "id": "3-Ow0gTyj1A4"
      },
      "source": [
        "result_train.summary()"
      ],
      "execution_count": null,
      "outputs": []
    },
    {
      "cell_type": "code",
      "metadata": {
        "id": "rbLANNlPj1A4"
      },
      "source": [
        "#forecast 30 steps \n",
        "steps =30 \n",
        "\n",
        "fc, se, conf = result.forecast(step)"
      ],
      "execution_count": null,
      "outputs": []
    },
    {
      "cell_type": "code",
      "metadata": {
        "id": "3Gh_PT5Tj1A4"
      },
      "source": [
        "# out of sample forecast\n",
        "fc"
      ],
      "execution_count": null,
      "outputs": []
    },
    {
      "cell_type": "code",
      "metadata": {
        "id": "NzlbmvFXj1A4"
      },
      "source": [
        "# standard error of the forecast \n",
        "se"
      ],
      "execution_count": null,
      "outputs": []
    },
    {
      "cell_type": "code",
      "metadata": {
        "id": "WVQnXe5mj1A4"
      },
      "source": [
        "#upper bound and lower bound confidence level \n",
        "conf"
      ],
      "execution_count": null,
      "outputs": []
    },
    {
      "cell_type": "code",
      "metadata": {
        "id": "bH7cNB9Pj1A4"
      },
      "source": [
        "fc = pd.Series(fc, index= train_set[:step].index)\n",
        "lower = pd.Series(conf[:, 0]), index= train_set[:step].index)\n",
        "upper = pd.Series(conf[:, 1]), index= train_set[:step].index)"
      ],
      "execution_count": null,
      "outputs": []
    },
    {
      "cell_type": "code",
      "metadata": {
        "id": "1HHmb5osj1A4"
      },
      "source": [
        "plt.figure(figsize=(16, 8))\n",
        "plt.plot(train_set[:step], label= \"actual\")\n",
        "plt.plot(fc, label= \"forecast\")\n",
        "plt.fill_between(lower.index, lower, upper, color= \"k\", alpha= 0.1)\n",
        "plt.title(\"Forecast Vs Actual\")\n",
        "plt.legend(loc= \"Upper Left\")"
      ],
      "execution_count": null,
      "outputs": []
    },
    {
      "cell_type": "code",
      "metadata": {
        "id": "p31X77vLj1A4"
      },
      "source": [
        ""
      ],
      "execution_count": null,
      "outputs": []
    },
    {
      "cell_type": "markdown",
      "metadata": {
        "id": "bUGMrROa5374"
      },
      "source": [
        "# **Simple RNN**"
      ]
    },
    {
      "cell_type": "markdown",
      "metadata": {
        "id": "RNdhYsHr5_hz"
      },
      "source": [
        "Yihan Jia's part here"
      ]
    },
    {
      "cell_type": "markdown",
      "metadata": {
        "id": "l9wRmY_zTxC2"
      },
      "source": [
        "# **LSTM Model**"
      ]
    },
    {
      "cell_type": "markdown",
      "metadata": {
        "id": "cjRBgHks6DIT"
      },
      "source": [
        "Chun Zhou and Vaibhav's part here"
      ]
    },
    {
      "cell_type": "markdown",
      "metadata": {
        "id": "rxaos00ITzp7"
      },
      "source": [
        "LSTM stands for long short-term memory networks. It is a variety of recurrent neural network (RNN) in the deep learning field. LSTM is effective when predicting sequence of data."
      ]
    },
    {
      "cell_type": "markdown",
      "metadata": {
        "id": "Hfdk69anUlyr"
      },
      "source": [
        "#**References**"
      ]
    },
    {
      "cell_type": "markdown",
      "metadata": {
        "id": "lfZeAU2oUoNG"
      },
      "source": [
        "1. \"Bitcoin Price Prediction with LSTM\". Ansel D'souza. https://www.kaggle.com/anseldsouza/bitcoin-price-prediction-with-lstm"
      ]
    },
    {
      "cell_type": "markdown",
      "metadata": {
        "id": "mumZ1HpMj1A5"
      },
      "source": [
        "2. How to Create an ARIMA Model for Time Series Forecasting in Python. https://machinelearningmastery.com/arima-for-time-series-forecasting-with-python/\n",
        "\n",
        "3. How to Grid Search ARIMA Model Hyperparameters with Python. https://machinelearningmastery.com/grid-search-arima-hyperparameters-with-python/"
      ]
    },
    {
      "cell_type": "code",
      "metadata": {
        "id": "MQez-IZqj1A5"
      },
      "source": [
        ""
      ],
      "execution_count": null,
      "outputs": []
    }
  ]
}