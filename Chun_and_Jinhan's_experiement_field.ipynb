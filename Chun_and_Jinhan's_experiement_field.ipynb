{
  "nbformat": 4,
  "nbformat_minor": 0,
  "metadata": {
    "colab": {
      "name": "Chun and Jinhan's experiement field.ipynb",
      "provenance": [],
      "authorship_tag": "ABX9TyNx3tkdEvyM+CXx5s7C7WOr",
      "include_colab_link": true
    },
    "kernelspec": {
      "name": "python3",
      "display_name": "Python 3"
    },
    "language_info": {
      "name": "python"
    }
  },
  "cells": [
    {
      "cell_type": "markdown",
      "metadata": {
        "id": "view-in-github",
        "colab_type": "text"
      },
      "source": [
        "<a href=\"https://colab.research.google.com/github/zhouchun0105/Bitcoin-Price-and-Movement-Prediction/blob/main/Chun_and_Jinhan's_experiement_field.ipynb\" target=\"_parent\"><img src=\"https://colab.research.google.com/assets/colab-badge.svg\" alt=\"Open In Colab\"/></a>"
      ]
    },
    {
      "cell_type": "markdown",
      "metadata": {
        "id": "WqpO6567iGrg"
      },
      "source": [
        "# **Bitcoin Price and its Movement Direction Prediction**\n",
        "Experimental Fields"
      ]
    },
    {
      "cell_type": "markdown",
      "metadata": {
        "id": "78I1jQYhh66k"
      },
      "source": [
        "Author: Chun Zhou, BU Questrom; Jinhan Mei, University of Toronto"
      ]
    },
    {
      "cell_type": "code",
      "metadata": {
        "id": "ks1_h-NxhwIC"
      },
      "source": [
        ""
      ],
      "execution_count": null,
      "outputs": []
    }
  ]
}