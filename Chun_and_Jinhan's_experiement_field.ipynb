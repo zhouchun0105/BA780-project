{
  "nbformat": 4,
  "nbformat_minor": 0,
  "metadata": {
    "colab": {
      "name": "Chun and Jinhan's experiement field.ipynb",
      "provenance": [],
      "mount_file_id": "1VtGynqTP6FmVezIjNO3VnGy7L91uQVeE",
      "authorship_tag": "ABX9TyMXDXHJPWwFYm44pCxAAg2Y",
      "include_colab_link": true
    },
    "kernelspec": {
      "name": "python3",
      "display_name": "Python 3"
    },
    "language_info": {
      "name": "python"
    }
  },
  "cells": [
    {
      "cell_type": "markdown",
      "metadata": {
        "id": "view-in-github",
        "colab_type": "text"
      },
      "source": [
        "<a href=\"https://colab.research.google.com/github/zhouchun0105/Bitcoin-Price-and-Movement-Prediction/blob/main/Chun_and_Jinhan's_experiement_field.ipynb\" target=\"_parent\"><img src=\"https://colab.research.google.com/assets/colab-badge.svg\" alt=\"Open In Colab\"/></a>"
      ]
    },
    {
      "cell_type": "markdown",
      "metadata": {
        "id": "4lyWH9r-6iJE"
      },
      "source": [
        "#**Bitcoin Price and its Movement Direction Prediction**\n",
        "*Using Linear Regression, Logistics Regression, ARIMA, Simple RNN and LSTM Models.*"
      ]
    },
    {
      "cell_type": "markdown",
      "metadata": {
        "id": "vqkNeZRN62CC"
      },
      "source": [
        ""
      ]
    },
    {
      "cell_type": "markdown",
      "metadata": {
        "id": "fQvOtDi-S5fr"
      },
      "source": [
        "# **Packages**"
      ]
    },
    {
      "cell_type": "code",
      "metadata": {
        "colab": {
          "base_uri": "https://localhost:8080/"
        },
        "id": "A5wb5Ciz7kux",
        "outputId": "c82add71-d769-4013-98bf-dd186be9ad9c"
      },
      "source": [
        "pip install keras-tuner --upgrade"
      ],
      "execution_count": 34,
      "outputs": [
        {
          "output_type": "stream",
          "name": "stdout",
          "text": [
            "Collecting keras-tuner\n",
            "  Downloading keras_tuner-1.0.4-py3-none-any.whl (97 kB)\n",
            "\u001b[?25l\r\u001b[K     |███▍                            | 10 kB 23.4 MB/s eta 0:00:01\r\u001b[K     |██████▊                         | 20 kB 26.9 MB/s eta 0:00:01\r\u001b[K     |██████████                      | 30 kB 29.5 MB/s eta 0:00:01\r\u001b[K     |█████████████▍                  | 40 kB 32.7 MB/s eta 0:00:01\r\u001b[K     |████████████████▊               | 51 kB 35.6 MB/s eta 0:00:01\r\u001b[K     |████████████████████            | 61 kB 33.8 MB/s eta 0:00:01\r\u001b[K     |███████████████████████▍        | 71 kB 31.6 MB/s eta 0:00:01\r\u001b[K     |██████████████████████████▊     | 81 kB 32.1 MB/s eta 0:00:01\r\u001b[K     |██████████████████████████████▏ | 92 kB 29.3 MB/s eta 0:00:01\r\u001b[K     |████████████████████████████████| 97 kB 6.2 MB/s \n",
            "\u001b[?25hCollecting kt-legacy\n",
            "  Downloading kt_legacy-1.0.4-py3-none-any.whl (9.6 kB)\n",
            "Requirement already satisfied: requests in /usr/local/lib/python3.7/dist-packages (from keras-tuner) (2.23.0)\n",
            "Requirement already satisfied: tensorboard in /usr/local/lib/python3.7/dist-packages (from keras-tuner) (2.6.0)\n",
            "Requirement already satisfied: packaging in /usr/local/lib/python3.7/dist-packages (from keras-tuner) (21.0)\n",
            "Requirement already satisfied: ipython in /usr/local/lib/python3.7/dist-packages (from keras-tuner) (5.5.0)\n",
            "Requirement already satisfied: numpy in /usr/local/lib/python3.7/dist-packages (from keras-tuner) (1.19.5)\n",
            "Requirement already satisfied: scipy in /usr/local/lib/python3.7/dist-packages (from keras-tuner) (1.4.1)\n",
            "Requirement already satisfied: decorator in /usr/local/lib/python3.7/dist-packages (from ipython->keras-tuner) (4.4.2)\n",
            "Requirement already satisfied: pickleshare in /usr/local/lib/python3.7/dist-packages (from ipython->keras-tuner) (0.7.5)\n",
            "Requirement already satisfied: prompt-toolkit<2.0.0,>=1.0.4 in /usr/local/lib/python3.7/dist-packages (from ipython->keras-tuner) (1.0.18)\n",
            "Requirement already satisfied: setuptools>=18.5 in /usr/local/lib/python3.7/dist-packages (from ipython->keras-tuner) (57.4.0)\n",
            "Requirement already satisfied: simplegeneric>0.8 in /usr/local/lib/python3.7/dist-packages (from ipython->keras-tuner) (0.8.1)\n",
            "Requirement already satisfied: pexpect in /usr/local/lib/python3.7/dist-packages (from ipython->keras-tuner) (4.8.0)\n",
            "Requirement already satisfied: pygments in /usr/local/lib/python3.7/dist-packages (from ipython->keras-tuner) (2.6.1)\n",
            "Requirement already satisfied: traitlets>=4.2 in /usr/local/lib/python3.7/dist-packages (from ipython->keras-tuner) (5.1.0)\n",
            "Requirement already satisfied: wcwidth in /usr/local/lib/python3.7/dist-packages (from prompt-toolkit<2.0.0,>=1.0.4->ipython->keras-tuner) (0.2.5)\n",
            "Requirement already satisfied: six>=1.9.0 in /usr/local/lib/python3.7/dist-packages (from prompt-toolkit<2.0.0,>=1.0.4->ipython->keras-tuner) (1.15.0)\n",
            "Requirement already satisfied: pyparsing>=2.0.2 in /usr/local/lib/python3.7/dist-packages (from packaging->keras-tuner) (2.4.7)\n",
            "Requirement already satisfied: ptyprocess>=0.5 in /usr/local/lib/python3.7/dist-packages (from pexpect->ipython->keras-tuner) (0.7.0)\n",
            "Requirement already satisfied: chardet<4,>=3.0.2 in /usr/local/lib/python3.7/dist-packages (from requests->keras-tuner) (3.0.4)\n",
            "Requirement already satisfied: idna<3,>=2.5 in /usr/local/lib/python3.7/dist-packages (from requests->keras-tuner) (2.10)\n",
            "Requirement already satisfied: urllib3!=1.25.0,!=1.25.1,<1.26,>=1.21.1 in /usr/local/lib/python3.7/dist-packages (from requests->keras-tuner) (1.24.3)\n",
            "Requirement already satisfied: certifi>=2017.4.17 in /usr/local/lib/python3.7/dist-packages (from requests->keras-tuner) (2021.5.30)\n",
            "Requirement already satisfied: absl-py>=0.4 in /usr/local/lib/python3.7/dist-packages (from tensorboard->keras-tuner) (0.12.0)\n",
            "Requirement already satisfied: google-auth-oauthlib<0.5,>=0.4.1 in /usr/local/lib/python3.7/dist-packages (from tensorboard->keras-tuner) (0.4.6)\n",
            "Requirement already satisfied: tensorboard-plugin-wit>=1.6.0 in /usr/local/lib/python3.7/dist-packages (from tensorboard->keras-tuner) (1.8.0)\n",
            "Requirement already satisfied: protobuf>=3.6.0 in /usr/local/lib/python3.7/dist-packages (from tensorboard->keras-tuner) (3.17.3)\n",
            "Requirement already satisfied: google-auth<2,>=1.6.3 in /usr/local/lib/python3.7/dist-packages (from tensorboard->keras-tuner) (1.35.0)\n",
            "Requirement already satisfied: grpcio>=1.24.3 in /usr/local/lib/python3.7/dist-packages (from tensorboard->keras-tuner) (1.40.0)\n",
            "Requirement already satisfied: werkzeug>=0.11.15 in /usr/local/lib/python3.7/dist-packages (from tensorboard->keras-tuner) (1.0.1)\n",
            "Requirement already satisfied: wheel>=0.26 in /usr/local/lib/python3.7/dist-packages (from tensorboard->keras-tuner) (0.37.0)\n",
            "Requirement already satisfied: markdown>=2.6.8 in /usr/local/lib/python3.7/dist-packages (from tensorboard->keras-tuner) (3.3.4)\n",
            "Requirement already satisfied: tensorboard-data-server<0.7.0,>=0.6.0 in /usr/local/lib/python3.7/dist-packages (from tensorboard->keras-tuner) (0.6.1)\n",
            "Requirement already satisfied: pyasn1-modules>=0.2.1 in /usr/local/lib/python3.7/dist-packages (from google-auth<2,>=1.6.3->tensorboard->keras-tuner) (0.2.8)\n",
            "Requirement already satisfied: cachetools<5.0,>=2.0.0 in /usr/local/lib/python3.7/dist-packages (from google-auth<2,>=1.6.3->tensorboard->keras-tuner) (4.2.2)\n",
            "Requirement already satisfied: rsa<5,>=3.1.4 in /usr/local/lib/python3.7/dist-packages (from google-auth<2,>=1.6.3->tensorboard->keras-tuner) (4.7.2)\n",
            "Requirement already satisfied: requests-oauthlib>=0.7.0 in /usr/local/lib/python3.7/dist-packages (from google-auth-oauthlib<0.5,>=0.4.1->tensorboard->keras-tuner) (1.3.0)\n",
            "Requirement already satisfied: importlib-metadata in /usr/local/lib/python3.7/dist-packages (from markdown>=2.6.8->tensorboard->keras-tuner) (4.8.1)\n",
            "Requirement already satisfied: pyasn1<0.5.0,>=0.4.6 in /usr/local/lib/python3.7/dist-packages (from pyasn1-modules>=0.2.1->google-auth<2,>=1.6.3->tensorboard->keras-tuner) (0.4.8)\n",
            "Requirement already satisfied: oauthlib>=3.0.0 in /usr/local/lib/python3.7/dist-packages (from requests-oauthlib>=0.7.0->google-auth-oauthlib<0.5,>=0.4.1->tensorboard->keras-tuner) (3.1.1)\n",
            "Requirement already satisfied: typing-extensions>=3.6.4 in /usr/local/lib/python3.7/dist-packages (from importlib-metadata->markdown>=2.6.8->tensorboard->keras-tuner) (3.7.4.3)\n",
            "Requirement already satisfied: zipp>=0.5 in /usr/local/lib/python3.7/dist-packages (from importlib-metadata->markdown>=2.6.8->tensorboard->keras-tuner) (3.5.0)\n",
            "Installing collected packages: kt-legacy, keras-tuner\n",
            "Successfully installed keras-tuner-1.0.4 kt-legacy-1.0.4\n"
          ]
        }
      ]
    },
    {
      "cell_type": "code",
      "metadata": {
        "id": "Do4GQZgETD2e"
      },
      "source": [
        "import numpy as np\n",
        "import pandas as pd\n",
        "\n",
        "import matplotlib.pyplot as plt\n",
        "%matplotlib inline\n",
        "import matplotlib.image as mpimg\n",
        "\n",
        "import seaborn as sns\n",
        "sns.set(rc={'figure.figsize':(10,6)})\n",
        "custom_colors = [\"#4e89ae\", \"#c56183\",\"#ed6663\",\"#ffa372\"]\n",
        "\n",
        "import datetime as datetime\n",
        "import tensorflow as tf\n",
        "from keras.models import Sequential\n",
        "from keras.layers import Dense, LSTM, Dropout\n",
        "import keras_tuner as kt\n",
        "from tensorflow import keras\n",
        "\n",
        "from sklearn.preprocessing import MinMaxScaler"
      ],
      "execution_count": 35,
      "outputs": []
    },
    {
      "cell_type": "markdown",
      "metadata": {
        "id": "SuZfEZ4DTA3h"
      },
      "source": [
        "#**Data Cleaning**"
      ]
    },
    {
      "cell_type": "markdown",
      "metadata": {
        "id": "FmhdQ1V4ZgPP"
      },
      "source": [
        "Import Dataset"
      ]
    },
    {
      "cell_type": "code",
      "metadata": {
        "id": "dWIQQ5rpTDLO"
      },
      "source": [
        "df = pd.read_csv(\"/content/drive/MyDrive/BA780 Team Project/bitcoin.csv\") "
      ],
      "execution_count": 2,
      "outputs": []
    },
    {
      "cell_type": "markdown",
      "metadata": {
        "id": "CgaKjQFYZh_e"
      },
      "source": [
        "Modify Timestamp"
      ]
    },
    {
      "cell_type": "code",
      "metadata": {
        "id": "ikHMd44wWVU0"
      },
      "source": [
        "# Change the Timestamp column attribute to datetime\n",
        "df['Timestamp'] = pd.to_datetime(df['Timestamp'],unit='s')\n",
        "# Enable to refer to the row by index \n",
        "df = df.set_index('Timestamp')"
      ],
      "execution_count": 3,
      "outputs": []
    },
    {
      "cell_type": "markdown",
      "metadata": {
        "id": "mF9du4QNkLhb"
      },
      "source": [
        "Spot the missing values"
      ]
    },
    {
      "cell_type": "code",
      "metadata": {
        "id": "-SWH-4nakM8a"
      },
      "source": [
        "missed = pd.DataFrame()\n",
        "missed['column'] = df.columns\n",
        "\n",
        "missed['percent'] = [round(100* df[col].isnull().sum() / len(df), 2) for col in df.columns]\n",
        "missed = missed.sort_values('percent',ascending=False)\n",
        "missed = missed[missed['percent']>0]\n"
      ],
      "execution_count": 4,
      "outputs": []
    },
    {
      "cell_type": "markdown",
      "metadata": {
        "id": "sB7PF9Rrj1C2"
      },
      "source": [
        "Fill in the missing data"
      ]
    },
    {
      "cell_type": "code",
      "metadata": {
        "id": "_NuOPIn2j2dc"
      },
      "source": [
        "def fill_missing(df):\n",
        "    ### function to impute missing values using interpolation ###\n",
        "    df['Open'] = df['Open'].interpolate()\n",
        "    df['Close'] = df['Close'].interpolate()\n",
        "    df['Weighted_Price'] = df['Weighted_Price'].interpolate()\n",
        "    df['Volume_(BTC)'] = df['Volume_(BTC)'].interpolate()\n",
        "    df['Volume_(Currency)'] = df['Volume_(Currency)'].interpolate()\n",
        "    df['High'] = df['High'].interpolate()\n",
        "    df['Low'] = df['Low'].interpolate()\n",
        "    \n",
        "fill_missing(df)"
      ],
      "execution_count": 5,
      "outputs": []
    },
    {
      "cell_type": "markdown",
      "metadata": {
        "id": "pZPj_wNVZlXf"
      },
      "source": [
        "Remove NA rows"
      ]
    },
    {
      "cell_type": "code",
      "metadata": {
        "id": "AwvJyrudZmo7"
      },
      "source": [
        "df = df.dropna()"
      ],
      "execution_count": 6,
      "outputs": []
    },
    {
      "cell_type": "markdown",
      "metadata": {
        "id": "lbo8Q4uM5ifC"
      },
      "source": [
        "# **Feature Engineering**"
      ]
    },
    {
      "cell_type": "markdown",
      "metadata": {
        "id": "AlBoclatZraX"
      },
      "source": [
        "Add `Price` column by averaging Low and Close"
      ]
    },
    {
      "cell_type": "code",
      "metadata": {
        "id": "GY7K6R7UZ4zJ"
      },
      "source": [
        "df[\"Price\"] = df[[\"Open\",\"High\",\"Low\",\"Close\"]].mean(axis=1)"
      ],
      "execution_count": 7,
      "outputs": []
    },
    {
      "cell_type": "markdown",
      "metadata": {
        "id": "GZDZzcSsZ-EL"
      },
      "source": [
        "Add `Return` Column by calculating the difference from now to previous second's `Price`"
      ]
    },
    {
      "cell_type": "code",
      "metadata": {
        "id": "QhW_OM8jaNZ3",
        "colab": {
          "base_uri": "https://localhost:8080/",
          "height": 293
        },
        "outputId": "f5891bec-f955-48d8-92b8-3a0a7345aafc"
      },
      "source": [
        "df[\"Return\"] = df[\"Price\"].diff()\n",
        "df[\"Return\"].plot(x=\"Timestamp\", y=\"Return\")"
      ],
      "execution_count": 8,
      "outputs": [
        {
          "output_type": "execute_result",
          "data": {
            "text/plain": [
              "<matplotlib.axes._subplots.AxesSubplot at 0x7f9d3f5b0650>"
            ]
          },
          "metadata": {},
          "execution_count": 8
        },
        {
          "output_type": "display_data",
          "data": {
            "image/png": "[encoded data removed]",
            "text/plain": [
              "<Figure size 432x288 with 1 Axes>"
            ]
          },
          "metadata": {
            "needs_background": "light"
          }
        }
      ]
    },
    {
      "cell_type": "markdown",
      "metadata": {
        "id": "_jvZfBUMbuAX"
      },
      "source": [
        "Add `Direction` column showing if bitcoin price is going up or down."
      ]
    },
    {
      "cell_type": "code",
      "metadata": {
        "id": "m-L1jj0Dbq3n"
      },
      "source": [
        "df[\"Direction\"] = pd.Series(df[\"Return\"] > 0)\n",
        "df[\"Direction\"] = \"Down\"\n",
        "df.loc[(df[\"Return\"] > 0), \"Direction\"] = \"Up\""
      ],
      "execution_count": 9,
      "outputs": []
    },
    {
      "cell_type": "markdown",
      "metadata": {
        "id": "vH7A3pQccPaN"
      },
      "source": [
        "Add `Percentage_Return` column to show the perentage return per seconds"
      ]
    },
    {
      "cell_type": "code",
      "metadata": {
        "id": "W1IFdZxLcQBi",
        "colab": {
          "base_uri": "https://localhost:8080/",
          "height": 293
        },
        "outputId": "16b79c05-4ace-4feb-af53-942c81bcb331"
      },
      "source": [
        "df[\"Percentage_Return\"] = ((df[\"Return\"].shift(periods=-1))/ (df[\"Price\"])).shift(periods=1)\n",
        "df[\"Percentage_Return\"].plot()"
      ],
      "execution_count": 10,
      "outputs": [
        {
          "output_type": "execute_result",
          "data": {
            "text/plain": [
              "<matplotlib.axes._subplots.AxesSubplot at 0x7f9d3132bcd0>"
            ]
          },
          "metadata": {},
          "execution_count": 10
        },
        {
          "output_type": "display_data",
          "data": {
            "image/png": "[encoded data removed]",
            "text/plain": [
              "<Figure size 432x288 with 1 Axes>"
            ]
          },
          "metadata": {
            "needs_background": "light"
          }
        }
      ]
    },
    {
      "cell_type": "markdown",
      "metadata": {
        "id": "eWxNGeaUc5-s"
      },
      "source": [
        "Add Lag1, Lag2, Lag3, Lag4, Lag5 columns as t-1, t-2, t-3, t-4, and t-5 features to predict bitcoin price at t (in seconds)"
      ]
    },
    {
      "cell_type": "code",
      "metadata": {
        "id": "87BOaCnTdGhG",
        "colab": {
          "base_uri": "https://localhost:8080/",
          "height": 640
        },
        "outputId": "44475eb0-7e4d-4c8d-de7e-c0391b52f809"
      },
      "source": [
        "df[\"Lag1\"]= df[\"Percentage_Return\"].shift(periods=-1)\n",
        "df[\"Lag2\"]= df[\"Percentage_Return\"].shift(periods=-2)\n",
        "df[\"Lag3\"]= df[\"Percentage_Return\"].shift(periods=-3)\n",
        "df[\"Lag4\"]= df[\"Percentage_Return\"].shift(periods=-4)\n",
        "df[\"Lag5\"]= df[\"Percentage_Return\"].shift(periods=-5)\n",
        "df.dropna()"
      ],
      "execution_count": 11,
      "outputs": [
        {
          "output_type": "execute_result",
          "data": {
            "text/html": [
              "<div>\n",
              "<style scoped>\n",
              "    .dataframe tbody tr th:only-of-type {\n",
              "        vertical-align: middle;\n",
              "    }\n",
              "\n",
              "    .dataframe tbody tr th {\n",
              "        vertical-align: top;\n",
              "    }\n",
              "\n",
              "    .dataframe thead th {\n",
              "        text-align: right;\n",
              "    }\n",
              "</style>\n",
              "<table border=\"1\" class=\"dataframe\">\n",
              "  <thead>\n",
              "    <tr style=\"text-align: right;\">\n",
              "      <th></th>\n",
              "      <th>Open</th>\n",
              "      <th>High</th>\n",
              "      <th>Low</th>\n",
              "      <th>Close</th>\n",
              "      <th>Volume_(BTC)</th>\n",
              "      <th>Volume_(Currency)</th>\n",
              "      <th>Weighted_Price</th>\n",
              "      <th>Price</th>\n",
              "      <th>Return</th>\n",
              "      <th>Direction</th>\n",
              "      <th>Percentage_Return</th>\n",
              "      <th>Lag1</th>\n",
              "      <th>Lag2</th>\n",
              "      <th>Lag3</th>\n",
              "      <th>Lag4</th>\n",
              "      <th>Lag5</th>\n",
              "    </tr>\n",
              "    <tr>\n",
              "      <th>Timestamp</th>\n",
              "      <th></th>\n",
              "      <th></th>\n",
              "      <th></th>\n",
              "      <th></th>\n",
              "      <th></th>\n",
              "      <th></th>\n",
              "      <th></th>\n",
              "      <th></th>\n",
              "      <th></th>\n",
              "      <th></th>\n",
              "      <th></th>\n",
              "      <th></th>\n",
              "      <th></th>\n",
              "      <th></th>\n",
              "      <th></th>\n",
              "      <th></th>\n",
              "    </tr>\n",
              "  </thead>\n",
              "  <tbody>\n",
              "    <tr>\n",
              "      <th>2011-12-31 07:53:00</th>\n",
              "      <td>4.390</td>\n",
              "      <td>4.390</td>\n",
              "      <td>4.39</td>\n",
              "      <td>4.39</td>\n",
              "      <td>0.555046</td>\n",
              "      <td>2.436653</td>\n",
              "      <td>4.390000</td>\n",
              "      <td>4.3900</td>\n",
              "      <td>0.0000</td>\n",
              "      <td>Down</td>\n",
              "      <td>0.000000</td>\n",
              "      <td>0.000000</td>\n",
              "      <td>0.000000</td>\n",
              "      <td>0.000000</td>\n",
              "      <td>0.000000</td>\n",
              "      <td>0.000000</td>\n",
              "    </tr>\n",
              "    <tr>\n",
              "      <th>2011-12-31 07:54:00</th>\n",
              "      <td>4.390</td>\n",
              "      <td>4.390</td>\n",
              "      <td>4.39</td>\n",
              "      <td>4.39</td>\n",
              "      <td>0.654511</td>\n",
              "      <td>2.873305</td>\n",
              "      <td>4.390000</td>\n",
              "      <td>4.3900</td>\n",
              "      <td>0.0000</td>\n",
              "      <td>Down</td>\n",
              "      <td>0.000000</td>\n",
              "      <td>0.000000</td>\n",
              "      <td>0.000000</td>\n",
              "      <td>0.000000</td>\n",
              "      <td>0.000000</td>\n",
              "      <td>0.000000</td>\n",
              "    </tr>\n",
              "    <tr>\n",
              "      <th>2011-12-31 07:55:00</th>\n",
              "      <td>4.390</td>\n",
              "      <td>4.390</td>\n",
              "      <td>4.39</td>\n",
              "      <td>4.39</td>\n",
              "      <td>0.753977</td>\n",
              "      <td>3.309958</td>\n",
              "      <td>4.390000</td>\n",
              "      <td>4.3900</td>\n",
              "      <td>0.0000</td>\n",
              "      <td>Down</td>\n",
              "      <td>0.000000</td>\n",
              "      <td>0.000000</td>\n",
              "      <td>0.000000</td>\n",
              "      <td>0.000000</td>\n",
              "      <td>0.000000</td>\n",
              "      <td>0.000000</td>\n",
              "    </tr>\n",
              "    <tr>\n",
              "      <th>2011-12-31 07:56:00</th>\n",
              "      <td>4.390</td>\n",
              "      <td>4.390</td>\n",
              "      <td>4.39</td>\n",
              "      <td>4.39</td>\n",
              "      <td>0.853442</td>\n",
              "      <td>3.746611</td>\n",
              "      <td>4.390000</td>\n",
              "      <td>4.3900</td>\n",
              "      <td>0.0000</td>\n",
              "      <td>Down</td>\n",
              "      <td>0.000000</td>\n",
              "      <td>0.000000</td>\n",
              "      <td>0.000000</td>\n",
              "      <td>0.000000</td>\n",
              "      <td>0.000000</td>\n",
              "      <td>0.000000</td>\n",
              "    </tr>\n",
              "    <tr>\n",
              "      <th>2011-12-31 07:57:00</th>\n",
              "      <td>4.390</td>\n",
              "      <td>4.390</td>\n",
              "      <td>4.39</td>\n",
              "      <td>4.39</td>\n",
              "      <td>0.952907</td>\n",
              "      <td>4.183264</td>\n",
              "      <td>4.390000</td>\n",
              "      <td>4.3900</td>\n",
              "      <td>0.0000</td>\n",
              "      <td>Down</td>\n",
              "      <td>0.000000</td>\n",
              "      <td>0.000000</td>\n",
              "      <td>0.000000</td>\n",
              "      <td>0.000000</td>\n",
              "      <td>0.000000</td>\n",
              "      <td>0.000000</td>\n",
              "    </tr>\n",
              "    <tr>\n",
              "      <th>...</th>\n",
              "      <td>...</td>\n",
              "      <td>...</td>\n",
              "      <td>...</td>\n",
              "      <td>...</td>\n",
              "      <td>...</td>\n",
              "      <td>...</td>\n",
              "      <td>...</td>\n",
              "      <td>...</td>\n",
              "      <td>...</td>\n",
              "      <td>...</td>\n",
              "      <td>...</td>\n",
              "      <td>...</td>\n",
              "      <td>...</td>\n",
              "      <td>...</td>\n",
              "      <td>...</td>\n",
              "      <td>...</td>\n",
              "    </tr>\n",
              "    <tr>\n",
              "      <th>2021-03-30 23:51:00</th>\n",
              "      <td>58677.050</td>\n",
              "      <td>58699.900</td>\n",
              "      <td>58660.00</td>\n",
              "      <td>58699.90</td>\n",
              "      <td>2.672676</td>\n",
              "      <td>156832.692130</td>\n",
              "      <td>58680.021260</td>\n",
              "      <td>58684.2125</td>\n",
              "      <td>2.8925</td>\n",
              "      <td>Up</td>\n",
              "      <td>0.000049</td>\n",
              "      <td>0.000234</td>\n",
              "      <td>0.000234</td>\n",
              "      <td>0.000545</td>\n",
              "      <td>-0.000263</td>\n",
              "      <td>-0.000478</td>\n",
              "    </tr>\n",
              "    <tr>\n",
              "      <th>2021-03-30 23:52:00</th>\n",
              "      <td>58697.865</td>\n",
              "      <td>58715.565</td>\n",
              "      <td>58679.17</td>\n",
              "      <td>58699.20</td>\n",
              "      <td>1.440329</td>\n",
              "      <td>84520.873706</td>\n",
              "      <td>58691.157958</td>\n",
              "      <td>58697.9500</td>\n",
              "      <td>13.7375</td>\n",
              "      <td>Up</td>\n",
              "      <td>0.000234</td>\n",
              "      <td>0.000234</td>\n",
              "      <td>0.000545</td>\n",
              "      <td>-0.000263</td>\n",
              "      <td>-0.000478</td>\n",
              "      <td>-0.000228</td>\n",
              "    </tr>\n",
              "    <tr>\n",
              "      <th>2021-03-30 23:53:00</th>\n",
              "      <td>58718.680</td>\n",
              "      <td>58731.230</td>\n",
              "      <td>58698.34</td>\n",
              "      <td>58698.50</td>\n",
              "      <td>0.207983</td>\n",
              "      <td>12209.055282</td>\n",
              "      <td>58702.294657</td>\n",
              "      <td>58711.6875</td>\n",
              "      <td>13.7375</td>\n",
              "      <td>Up</td>\n",
              "      <td>0.000234</td>\n",
              "      <td>0.000545</td>\n",
              "      <td>-0.000263</td>\n",
              "      <td>-0.000478</td>\n",
              "      <td>-0.000228</td>\n",
              "      <td>0.000372</td>\n",
              "    </tr>\n",
              "    <tr>\n",
              "      <th>2021-03-30 23:54:00</th>\n",
              "      <td>58736.190</td>\n",
              "      <td>58762.430</td>\n",
              "      <td>58736.19</td>\n",
              "      <td>58739.95</td>\n",
              "      <td>0.041559</td>\n",
              "      <td>2441.376572</td>\n",
              "      <td>58745.145351</td>\n",
              "      <td>58743.6900</td>\n",
              "      <td>32.0025</td>\n",
              "      <td>Up</td>\n",
              "      <td>0.000545</td>\n",
              "      <td>-0.000263</td>\n",
              "      <td>-0.000478</td>\n",
              "      <td>-0.000228</td>\n",
              "      <td>0.000372</td>\n",
              "      <td>0.000770</td>\n",
              "    </tr>\n",
              "    <tr>\n",
              "      <th>2021-03-30 23:55:00</th>\n",
              "      <td>58742.180</td>\n",
              "      <td>58742.180</td>\n",
              "      <td>58714.31</td>\n",
              "      <td>58714.31</td>\n",
              "      <td>2.519999</td>\n",
              "      <td>148004.448110</td>\n",
              "      <td>58731.946927</td>\n",
              "      <td>58728.2450</td>\n",
              "      <td>-15.4450</td>\n",
              "      <td>Down</td>\n",
              "      <td>-0.000263</td>\n",
              "      <td>-0.000478</td>\n",
              "      <td>-0.000228</td>\n",
              "      <td>0.000372</td>\n",
              "      <td>0.000770</td>\n",
              "      <td>0.000276</td>\n",
              "    </tr>\n",
              "  </tbody>\n",
              "</table>\n",
              "<p>4857371 rows × 16 columns</p>\n",
              "</div>"
            ],
            "text/plain": [
              "                          Open       High  ...      Lag4      Lag5\n",
              "Timestamp                                  ...                    \n",
              "2011-12-31 07:53:00      4.390      4.390  ...  0.000000  0.000000\n",
              "2011-12-31 07:54:00      4.390      4.390  ...  0.000000  0.000000\n",
              "2011-12-31 07:55:00      4.390      4.390  ...  0.000000  0.000000\n",
              "2011-12-31 07:56:00      4.390      4.390  ...  0.000000  0.000000\n",
              "2011-12-31 07:57:00      4.390      4.390  ...  0.000000  0.000000\n",
              "...                        ...        ...  ...       ...       ...\n",
              "2021-03-30 23:51:00  58677.050  58699.900  ... -0.000263 -0.000478\n",
              "2021-03-30 23:52:00  58697.865  58715.565  ... -0.000478 -0.000228\n",
              "2021-03-30 23:53:00  58718.680  58731.230  ... -0.000228  0.000372\n",
              "2021-03-30 23:54:00  58736.190  58762.430  ...  0.000372  0.000770\n",
              "2021-03-30 23:55:00  58742.180  58742.180  ...  0.000770  0.000276\n",
              "\n",
              "[4857371 rows x 16 columns]"
            ]
          },
          "metadata": {},
          "execution_count": 11
        }
      ]
    },
    {
      "cell_type": "markdown",
      "metadata": {
        "id": "sblblKX4dck4"
      },
      "source": [
        "Cleaned Dataset Display"
      ]
    },
    {
      "cell_type": "code",
      "metadata": {
        "id": "HpE2A5BVXsgX",
        "colab": {
          "base_uri": "https://localhost:8080/"
        },
        "outputId": "b28512da-417e-4adb-92c4-9f5c929bdb60"
      },
      "source": [
        "df.shape"
      ],
      "execution_count": 12,
      "outputs": [
        {
          "output_type": "execute_result",
          "data": {
            "text/plain": [
              "(4857377, 16)"
            ]
          },
          "metadata": {},
          "execution_count": 12
        }
      ]
    },
    {
      "cell_type": "code",
      "metadata": {
        "id": "181eZ6wOXKEY",
        "colab": {
          "base_uri": "https://localhost:8080/",
          "height": 340
        },
        "outputId": "9a3c0de5-e5c4-4028-84be-64bbd4e4f81c"
      },
      "source": [
        "df.head()"
      ],
      "execution_count": 13,
      "outputs": [
        {
          "output_type": "execute_result",
          "data": {
            "text/html": [
              "<div>\n",
              "<style scoped>\n",
              "    .dataframe tbody tr th:only-of-type {\n",
              "        vertical-align: middle;\n",
              "    }\n",
              "\n",
              "    .dataframe tbody tr th {\n",
              "        vertical-align: top;\n",
              "    }\n",
              "\n",
              "    .dataframe thead th {\n",
              "        text-align: right;\n",
              "    }\n",
              "</style>\n",
              "<table border=\"1\" class=\"dataframe\">\n",
              "  <thead>\n",
              "    <tr style=\"text-align: right;\">\n",
              "      <th></th>\n",
              "      <th>Open</th>\n",
              "      <th>High</th>\n",
              "      <th>Low</th>\n",
              "      <th>Close</th>\n",
              "      <th>Volume_(BTC)</th>\n",
              "      <th>Volume_(Currency)</th>\n",
              "      <th>Weighted_Price</th>\n",
              "      <th>Price</th>\n",
              "      <th>Return</th>\n",
              "      <th>Direction</th>\n",
              "      <th>Percentage_Return</th>\n",
              "      <th>Lag1</th>\n",
              "      <th>Lag2</th>\n",
              "      <th>Lag3</th>\n",
              "      <th>Lag4</th>\n",
              "      <th>Lag5</th>\n",
              "    </tr>\n",
              "    <tr>\n",
              "      <th>Timestamp</th>\n",
              "      <th></th>\n",
              "      <th></th>\n",
              "      <th></th>\n",
              "      <th></th>\n",
              "      <th></th>\n",
              "      <th></th>\n",
              "      <th></th>\n",
              "      <th></th>\n",
              "      <th></th>\n",
              "      <th></th>\n",
              "      <th></th>\n",
              "      <th></th>\n",
              "      <th></th>\n",
              "      <th></th>\n",
              "      <th></th>\n",
              "      <th></th>\n",
              "    </tr>\n",
              "  </thead>\n",
              "  <tbody>\n",
              "    <tr>\n",
              "      <th>2011-12-31 07:52:00</th>\n",
              "      <td>4.39</td>\n",
              "      <td>4.39</td>\n",
              "      <td>4.39</td>\n",
              "      <td>4.39</td>\n",
              "      <td>0.455581</td>\n",
              "      <td>2.000000</td>\n",
              "      <td>4.39</td>\n",
              "      <td>4.39</td>\n",
              "      <td>NaN</td>\n",
              "      <td>Down</td>\n",
              "      <td>NaN</td>\n",
              "      <td>0.0</td>\n",
              "      <td>0.0</td>\n",
              "      <td>0.0</td>\n",
              "      <td>0.0</td>\n",
              "      <td>0.0</td>\n",
              "    </tr>\n",
              "    <tr>\n",
              "      <th>2011-12-31 07:53:00</th>\n",
              "      <td>4.39</td>\n",
              "      <td>4.39</td>\n",
              "      <td>4.39</td>\n",
              "      <td>4.39</td>\n",
              "      <td>0.555046</td>\n",
              "      <td>2.436653</td>\n",
              "      <td>4.39</td>\n",
              "      <td>4.39</td>\n",
              "      <td>0.0</td>\n",
              "      <td>Down</td>\n",
              "      <td>0.0</td>\n",
              "      <td>0.0</td>\n",
              "      <td>0.0</td>\n",
              "      <td>0.0</td>\n",
              "      <td>0.0</td>\n",
              "      <td>0.0</td>\n",
              "    </tr>\n",
              "    <tr>\n",
              "      <th>2011-12-31 07:54:00</th>\n",
              "      <td>4.39</td>\n",
              "      <td>4.39</td>\n",
              "      <td>4.39</td>\n",
              "      <td>4.39</td>\n",
              "      <td>0.654511</td>\n",
              "      <td>2.873305</td>\n",
              "      <td>4.39</td>\n",
              "      <td>4.39</td>\n",
              "      <td>0.0</td>\n",
              "      <td>Down</td>\n",
              "      <td>0.0</td>\n",
              "      <td>0.0</td>\n",
              "      <td>0.0</td>\n",
              "      <td>0.0</td>\n",
              "      <td>0.0</td>\n",
              "      <td>0.0</td>\n",
              "    </tr>\n",
              "    <tr>\n",
              "      <th>2011-12-31 07:55:00</th>\n",
              "      <td>4.39</td>\n",
              "      <td>4.39</td>\n",
              "      <td>4.39</td>\n",
              "      <td>4.39</td>\n",
              "      <td>0.753977</td>\n",
              "      <td>3.309958</td>\n",
              "      <td>4.39</td>\n",
              "      <td>4.39</td>\n",
              "      <td>0.0</td>\n",
              "      <td>Down</td>\n",
              "      <td>0.0</td>\n",
              "      <td>0.0</td>\n",
              "      <td>0.0</td>\n",
              "      <td>0.0</td>\n",
              "      <td>0.0</td>\n",
              "      <td>0.0</td>\n",
              "    </tr>\n",
              "    <tr>\n",
              "      <th>2011-12-31 07:56:00</th>\n",
              "      <td>4.39</td>\n",
              "      <td>4.39</td>\n",
              "      <td>4.39</td>\n",
              "      <td>4.39</td>\n",
              "      <td>0.853442</td>\n",
              "      <td>3.746611</td>\n",
              "      <td>4.39</td>\n",
              "      <td>4.39</td>\n",
              "      <td>0.0</td>\n",
              "      <td>Down</td>\n",
              "      <td>0.0</td>\n",
              "      <td>0.0</td>\n",
              "      <td>0.0</td>\n",
              "      <td>0.0</td>\n",
              "      <td>0.0</td>\n",
              "      <td>0.0</td>\n",
              "    </tr>\n",
              "  </tbody>\n",
              "</table>\n",
              "</div>"
            ],
            "text/plain": [
              "                     Open  High   Low  Close  ...  Lag2  Lag3  Lag4  Lag5\n",
              "Timestamp                                     ...                        \n",
              "2011-12-31 07:52:00  4.39  4.39  4.39   4.39  ...   0.0   0.0   0.0   0.0\n",
              "2011-12-31 07:53:00  4.39  4.39  4.39   4.39  ...   0.0   0.0   0.0   0.0\n",
              "2011-12-31 07:54:00  4.39  4.39  4.39   4.39  ...   0.0   0.0   0.0   0.0\n",
              "2011-12-31 07:55:00  4.39  4.39  4.39   4.39  ...   0.0   0.0   0.0   0.0\n",
              "2011-12-31 07:56:00  4.39  4.39  4.39   4.39  ...   0.0   0.0   0.0   0.0\n",
              "\n",
              "[5 rows x 16 columns]"
            ]
          },
          "metadata": {},
          "execution_count": 13
        }
      ]
    },
    {
      "cell_type": "code",
      "metadata": {
        "colab": {
          "base_uri": "https://localhost:8080/",
          "height": 284
        },
        "id": "vfWIhsdNt8EG",
        "outputId": "fa58fb3d-9357-4a37-bc9e-68e1e0e03c53"
      },
      "source": [
        "values = df.values\n",
        "# specify columns to plot\n",
        "groups = [0, 1, 2, 3, 5, 6, 7]\n",
        "i = 1\n",
        "# plot each column\n",
        "plt.figure()\n",
        "for group in groups:\n",
        "\tplt.subplot(len(groups), 1, i)\n",
        "\tplt.plot(values[:, group])\n",
        "\tplt.title(df.columns[group], y=0.5, loc='right')\n",
        "\ti += 1\n",
        "plt.show()"
      ],
      "execution_count": 18,
      "outputs": [
        {
          "output_type": "display_data",
          "data": {
            "image/png": "[encoded data removed]",
            "text/plain": [
              "<Figure size 432x288 with 7 Axes>"
            ]
          },
          "metadata": {
            "needs_background": "light"
          }
        }
      ]
    },
    {
      "cell_type": "markdown",
      "metadata": {
        "id": "60itOyhi5ok8"
      },
      "source": [
        "# **Linear Regression**"
      ]
    },
    {
      "cell_type": "markdown",
      "metadata": {
        "id": "2U0n3WAt5uEu"
      },
      "source": [
        "#**Logistics Regression**"
      ]
    },
    {
      "cell_type": "markdown",
      "metadata": {
        "id": "8v9xCs7j5y-Z"
      },
      "source": [
        "# **ARIMA Model**"
      ]
    },
    {
      "cell_type": "markdown",
      "metadata": {
        "id": "bUGMrROa5374"
      },
      "source": [
        "# **Simple RNN**"
      ]
    },
    {
      "cell_type": "markdown",
      "metadata": {
        "id": "l9wRmY_zTxC2"
      },
      "source": [
        "# **LSTM Model**"
      ]
    },
    {
      "cell_type": "markdown",
      "metadata": {
        "id": "cjRBgHks6DIT"
      },
      "source": [
        "Chun Zhou and Vaibhav's part here"
      ]
    },
    {
      "cell_type": "markdown",
      "metadata": {
        "id": "rxaos00ITzp7"
      },
      "source": [
        "LSTM stands for long short-term memory networks. It is a variety of recurrent neural network (RNN) in the deep learning field. LSTM is effective when predicting sequence of data."
      ]
    },
    {
      "cell_type": "markdown",
      "metadata": {
        "id": "Fz6SsG8z6s4h"
      },
      "source": [
        "Prepare training and testing dateset"
      ]
    },
    {
      "cell_type": "code",
      "metadata": {
        "colab": {
          "base_uri": "https://localhost:8080/"
        },
        "id": "kIL--6QZ5ucd",
        "outputId": "4641a7ae-8bfc-4873-e011-6139810217aa"
      },
      "source": [
        "df.shape"
      ],
      "execution_count": 20,
      "outputs": [
        {
          "output_type": "execute_result",
          "data": {
            "text/plain": [
              "(4857377, 16)"
            ]
          },
          "metadata": {},
          "execution_count": 20
        }
      ]
    },
    {
      "cell_type": "code",
      "metadata": {
        "id": "YHC0wzAj6BFG"
      },
      "source": [
        "prediction_days = round(4857377 * 0.2)"
      ],
      "execution_count": 23,
      "outputs": []
    },
    {
      "cell_type": "code",
      "metadata": {
        "id": "bX3Eh1dU5Dsz"
      },
      "source": [
        "df_train= df['Price'][:len(df['Price'])-prediction_days].values.reshape(-1,1)\n",
        "df_test= df['Price'][len(df['Price'])-prediction_days:].values.reshape(-1,1)\n",
        "\n",
        "scaler_train = MinMaxScaler(feature_range=(0, 1))\n",
        "scaled_train = scaler_train.fit_transform(df_train)\n",
        "\n",
        "scaler_test = MinMaxScaler(feature_range=(0, 1))\n",
        "scaled_test = scaler_test.fit_transform(df_test)"
      ],
      "execution_count": 27,
      "outputs": []
    },
    {
      "cell_type": "code",
      "metadata": {
        "id": "35fKRizF6q_f"
      },
      "source": [
        "def create_dataset(dataset, look_back=30):\n",
        "    dataX, dataY = [], []\n",
        "    for i in range(len(dataset) - look_back):\n",
        "        a = dataset[i:(i + look_back), 0]\n",
        "        dataX.append(a)\n",
        "        dataY.append(dataset[i + look_back, 0])\n",
        "    return np.array(dataX), np.array(dataY)\n",
        "\n",
        "trainX, trainY = create_dataset(scaled_train)\n",
        "testX, testY = create_dataset(scaled_test)"
      ],
      "execution_count": 28,
      "outputs": []
    },
    {
      "cell_type": "code",
      "metadata": {
        "colab": {
          "base_uri": "https://localhost:8080/"
        },
        "id": "7azYg4Fu6_Bs",
        "outputId": "d6281974-1f80-451a-c543-fb5a8dfac283"
      },
      "source": [
        "trainX.shape"
      ],
      "execution_count": 29,
      "outputs": [
        {
          "output_type": "execute_result",
          "data": {
            "text/plain": [
              "(3885872, 30)"
            ]
          },
          "metadata": {},
          "execution_count": 29
        }
      ]
    },
    {
      "cell_type": "code",
      "metadata": {
        "colab": {
          "base_uri": "https://localhost:8080/"
        },
        "id": "16ofHpBl7Amn",
        "outputId": "e50ddbae-9421-48eb-80aa-258e62110f4f"
      },
      "source": [
        "testX.shape"
      ],
      "execution_count": 30,
      "outputs": [
        {
          "output_type": "execute_result",
          "data": {
            "text/plain": [
              "(971445, 30)"
            ]
          },
          "metadata": {},
          "execution_count": 30
        }
      ]
    },
    {
      "cell_type": "code",
      "metadata": {
        "id": "rH4Kcx-M7Hpx"
      },
      "source": [
        "trainX = np.reshape(trainX, (trainX.shape[0], 1, trainX.shape[1]))\n",
        "testX = np.reshape(testX, (testX.shape[0], 1, testX.shape[1]))"
      ],
      "execution_count": 31,
      "outputs": []
    },
    {
      "cell_type": "markdown",
      "metadata": {
        "id": "HihSCY6O75u2"
      },
      "source": [
        "Train LSTM Model"
      ]
    },
    {
      "cell_type": "code",
      "metadata": {
        "colab": {
          "base_uri": "https://localhost:8080/"
        },
        "id": "i3aVBcC57uY5",
        "outputId": "c5c22466-b0b5-4416-ca5e-6718697409c2"
      },
      "source": [
        "def model_builder(hp):\n",
        "    model = Sequential()\n",
        "    model.add(LSTM(hp.Int('input_unit',min_value=32,max_value=512,step=32), return_sequences=True, input_shape= ( trainX.shape[1], trainX.shape[2])))\n",
        "    for i in range(hp.Int('n_layers', 1, 4)):\n",
        "        model.add(LSTM(hp.Int(f'lstm_{i}_units',min_value=32,max_value=512,step=32),return_sequences=True))\n",
        "    model.add(LSTM(hp.Int('layer_2_neurons',min_value=32,max_value=512,step=32)))\n",
        "    model.add(Dropout(hp.Float('Dropout_rate',min_value=0,max_value=0.5,step=0.05)))\n",
        "    model.add(Dense(30, activation=hp.Choice('dense_activation',values=['relu', 'sigmoid'],default='relu')))\n",
        "    model.add(Dropout(hp.Float('Dropout_rate',min_value=0,max_value=0.5,step=0.05)))\n",
        "    model.add(Dense(1, activation=hp.Choice('dense_activation',values=['relu', 'sigmoid'],default='relu')))\n",
        "   \n",
        "    model.compile(loss='mean_squared_error', optimizer='adam',metrics = ['mse'])\n",
        "    \n",
        "    return model\n",
        "    \n",
        "tuner = kt.RandomSearch(model_builder, objective=\"mse\", max_trials = 3, executions_per_trial =1,directory = \"./\")\n",
        "\n",
        "tuner.search(x=trainX, y=trainY, epochs = 150, batch_size =128, validation_data=(testX, testY), shuffle=False)"
      ],
      "execution_count": null,
      "outputs": [
        {
          "output_type": "stream",
          "name": "stdout",
          "text": [
            "\n",
            "Search: Running Trial #1\n",
            "\n",
            "Hyperparameter    |Value             |Best Value So Far \n",
            "input_unit        |224               |?                 \n",
            "n_layers          |4                 |?                 \n",
            "lstm_0_units      |96                |?                 \n",
            "layer_2_neurons   |416               |?                 \n",
            "Dropout_rate      |0.4               |?                 \n",
            "dense_activation  |relu              |?                 \n",
            "\n",
            "Epoch 1/150\n",
            "30359/30359 [==============================] - 1695s 55ms/step - loss: 0.0361 - mse: 0.0361 - val_loss: 0.0841 - val_mse: 0.0841\n",
            "Epoch 2/150\n",
            " 8793/30359 [=======>......................] - ETA: 13:28 - loss: 2.1137e-04 - mse: 2.1137e-04"
          ]
        }
      ]
    },
    {
      "cell_type": "code",
      "metadata": {
        "id": "kPP0uuPM79hH"
      },
      "source": [
        "tuner.results_summary()"
      ],
      "execution_count": null,
      "outputs": []
    },
    {
      "cell_type": "code",
      "metadata": {
        "id": "quCdSOGA8FhZ"
      },
      "source": [
        "best_model = tuner.get_best_models(num_models=1)[0]"
      ],
      "execution_count": null,
      "outputs": []
    },
    {
      "cell_type": "code",
      "metadata": {
        "id": "kOLYqISw8USX"
      },
      "source": [
        "predicted_BTC_price = best_model.predict(testX)"
      ],
      "execution_count": null,
      "outputs": []
    },
    {
      "cell_type": "code",
      "metadata": {
        "id": "HOQyBeT38aTK"
      },
      "source": [
        "predicted_BTC_price = scaler_test.inverse_transform(predicted_BTC_price.reshape(-1, 1))"
      ],
      "execution_count": null,
      "outputs": []
    },
    {
      "cell_type": "code",
      "metadata": {
        "id": "M-L4JhB58gCO"
      },
      "source": [
        "true = scaler_test.inverse_transform(testY.reshape(-1, 1))"
      ],
      "execution_count": null,
      "outputs": []
    },
    {
      "cell_type": "code",
      "metadata": {
        "id": "sQrCyXZV8jCK"
      },
      "source": [
        "pyplot.plot(predicted_BTC_price, label='predict')\n",
        "pyplot.plot(true, label='true')\n",
        "pyplot.legend()\n",
        "pyplot.show()"
      ],
      "execution_count": null,
      "outputs": []
    },
    {
      "cell_type": "markdown",
      "metadata": {
        "id": "SJ_nOQeQsQbS"
      },
      "source": [
        "Calculate RMSE of LSTM model"
      ]
    },
    {
      "cell_type": "code",
      "metadata": {
        "id": "cOceCEVtqlLN"
      },
      "source": [
        "rmse = sqrt(mean_squared_error(true, predicted_BTC_price))"
      ],
      "execution_count": null,
      "outputs": []
    },
    {
      "cell_type": "markdown",
      "metadata": {
        "id": "Hfdk69anUlyr"
      },
      "source": [
        "#**References**"
      ]
    },
    {
      "cell_type": "markdown",
      "metadata": {
        "id": "lfZeAU2oUoNG"
      },
      "source": [
        "1. \"Bitcoin Price Prediction with LSTM\". Ansel D'souza. https://www.kaggle.com/anseldsouza/bitcoin-price-prediction-with-lstm"
      ]
    }
  ]
}